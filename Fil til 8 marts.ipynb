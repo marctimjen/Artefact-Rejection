{
 "cells": [
  {
   "cell_type": "code",
   "execution_count": 1,
   "id": "f604f7ff-466b-4112-a3ea-c0f653108d9b",
   "metadata": {},
   "outputs": [],
   "source": [
    "import mne"
   ]
  },
  {
   "cell_type": "code",
   "execution_count": 2,
   "id": "7db7dd54-b957-42ad-a55c-a2b842548bd0",
   "metadata": {},
   "outputs": [
    {
     "name": "stdout",
     "output_type": "stream",
     "text": [
      "Extracting EDF parameters from C:\\Users\\Marc\\Desktop\\data\\v2.1.0\\edf\\01_tcp_ar\\013\\00001355\\s003_2009_12_08\\00001355_s003_t000.edf...\n",
      "EDF file detected\n",
      "Setting channel info structure...\n",
      "Creating raw.info structure...\n",
      "Reading 0 ... 314749  =      0.000 ...  1258.996 secs...\n"
     ]
    }
   ],
   "source": [
    "file_dir = \"C:/Users/Marc/Desktop/data/v2.1.0/edf/01_tcp_ar/013/00001355/s003_2009_12_08/00001355_s003_t000.edf\" \n",
    "#013\n",
    "\n",
    "\n",
    "data = mne.io.read_raw_edf(file_dir, preload=True)"
   ]
  },
  {
   "cell_type": "code",
   "execution_count": 3,
   "id": "2c0af5c2-84ed-4736-ba78-860476ac7d97",
   "metadata": {},
   "outputs": [
    {
     "data": {
      "text/plain": [
       "False"
      ]
     },
     "execution_count": 3,
     "metadata": {},
     "output_type": "execute_result"
    }
   ],
   "source": [
    "data.__len__() < 82000"
   ]
  },
  {
   "cell_type": "code",
   "execution_count": 4,
   "id": "70e4cac8-f363-4557-b426-39fcb37d3b4e",
   "metadata": {},
   "outputs": [
    {
     "data": {
      "text/html": [
       "\n",
       "\n",
       "<table class=\"table table-hover table-striped table-sm table-responsive small\">\n",
       "    <tr>\n",
       "        <th>Measurement date</th>\n",
       "        <td>December 08, 2009  15:44:54 GMT</td>\n",
       "        \n",
       "    </tr>\n",
       "    <tr>\n",
       "        <th>Experimenter</th>\n",
       "<td>Unknown</td>\n",
       "    </tr>\n",
       "        <th>Participant</th>\n",
       "<td>Unknown</td>\n",
       "    </tr>\n",
       "    <tr>\n",
       "        <th>Digitized points</th>\n",
       "        <td>Not available</td>\n",
       "    </tr>\n",
       "    <tr>\n",
       "        <th>Good channels</th>\n",
       "        <td>36 EEG</td>\n",
       "    </tr>\n",
       "    <tr>\n",
       "        <th>Bad channels</th>\n",
       "        <td>None</td>\n",
       "    </tr>\n",
       "    <tr>\n",
       "        <th>EOG channels</th>\n",
       "        <td>Not available</td>\n",
       "    </tr>\n",
       "    <tr>\n",
       "        <th>ECG channels</th>\n",
       "        <td>Not available</td>\n",
       "    <tr>\n",
       "        <th>Sampling frequency</th>\n",
       "        <td>250.00 Hz</td>\n",
       "    </tr>\n",
       "    <tr>\n",
       "        <th>Highpass</th>\n",
       "        <td>0.00 Hz</td>\n",
       "    </tr>\n",
       "    <tr>\n",
       "        <th>Lowpass</th>\n",
       "        <td>125.00 Hz</td>\n",
       "    </tr>\n",
       "\n",
       "    <tr>\n",
       "        <th>Filenames</th>\n",
       "        <td>00001355_s003_t000.edf</td>\n",
       "    </tr>\n",
       "    <tr>\n",
       "        <th>Duration</th>\n",
       "        <td>00:20:58 (HH:MM:SS)</td>\n",
       "    </tr>\n",
       "</table>\n"
      ],
      "text/plain": [
       "<RawEDF | 00001355_s003_t000.edf, 36 x 314750 (1259.0 s), ~86.5 MB, data loaded>"
      ]
     },
     "execution_count": 4,
     "metadata": {},
     "output_type": "execute_result"
    }
   ],
   "source": [
    "data"
   ]
  },
  {
   "cell_type": "code",
   "execution_count": 5,
   "id": "a3b7f682-f1d0-4ac1-9862-1257613b8cfd",
   "metadata": {},
   "outputs": [],
   "source": [
    "import csv\n",
    "f = open('C:/Users/Marc/Desktop/csv_file.csv', 'w')\n",
    "f.close()\n",
    "\n",
    "with open('C:/Users/Marc/Desktop/csv_file.csv', \"a\", newline='') as f:\n",
    "    write = csv.writer(f)\n",
    "    \n",
    "    \n",
    "    for i in range(10):\n",
    "        if i % 2 == 0:\n",
    "            continue\n",
    "        write.writerow([i, i])"
   ]
  },
  {
   "cell_type": "code",
   "execution_count": null,
   "id": "b059952b-4ef0-4054-b68f-bfc69f1b38bf",
   "metadata": {},
   "outputs": [],
   "source": []
  },
  {
   "cell_type": "code",
   "execution_count": null,
   "id": "bd1c7ad1-6f95-4af2-b9b9-c615035c4a28",
   "metadata": {},
   "outputs": [],
   "source": []
  }
 ],
 "metadata": {
  "kernelspec": {
   "display_name": "Python 3 (ipykernel)",
   "language": "python",
   "name": "python3"
  },
  "language_info": {
   "codemirror_mode": {
    "name": "ipython",
    "version": 3
   },
   "file_extension": ".py",
   "mimetype": "text/x-python",
   "name": "python",
   "nbconvert_exporter": "python",
   "pygments_lexer": "ipython3",
   "version": "3.9.6"
  }
 },
 "nbformat": 4,
 "nbformat_minor": 5
}
