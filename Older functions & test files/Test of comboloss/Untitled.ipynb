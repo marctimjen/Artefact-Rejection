{
 "cells": [
  {
   "cell_type": "code",
   "execution_count": 1,
   "id": "961c4ec7-2918-443c-92ff-2e6d4f18e38d",
   "metadata": {},
   "outputs": [],
   "source": [
    "import csv\n",
    "import re\n",
    "import math\n",
    "import matplotlib.pyplot as plt\n",
    "import numpy as np\n",
    "import sys\n",
    "sys.path.append(\"..\") # adds higher directory to python modules path\n",
    "\n",
    "from LoaderPACK.Loader import testload_5min\n",
    "import torch\n",
    "import matplotlib.pyplot as plt\n",
    "\n",
    "from multiprocessing import Process"
   ]
  },
  {
   "cell_type": "code",
   "execution_count": 2,
   "id": "7b98e19d-9603-4748-aa2f-fdc451bdb836",
   "metadata": {},
   "outputs": [],
   "source": [
    "import torch.nn as nn\n",
    "import torch\n",
    "import torch.nn.functional as F\n",
    "\n",
    "class LSTM_net(nn.Module):\n",
    "    \"\"\"\n",
    "    This is a network with the LSTM nodes\n",
    "    \"\"\"\n",
    "    def __init__(self, batch_size, device):\n",
    "        \"\"\"\n",
    "        Args:\n",
    "            out_channels (int): The amount of channels the output tensor gets.\n",
    "        \"\"\"\n",
    "        super(LSTM_net, self).__init__()\n",
    "\n",
    "\n",
    "        self.batch_size = batch_size\n",
    "        self.input_size = 1 # the number of series\n",
    "        hidden_size = 5 # hyper para\n",
    "\n",
    "        D = 2 # bc. bi = True\n",
    "        num_layers = 1 # default (how many cells)\n",
    "\n",
    "\n",
    "        proj_size = 1 # This allows us to rechive two values\n",
    "        hout = proj_size # since proj_size > 0\n",
    "\n",
    "        self.lstm = nn.LSTM(self.input_size, hidden_size, num_layers, \\\n",
    "                            batch_first=True, bidirectional=True, \\\n",
    "                            proj_size = proj_size)\n",
    "                            # (input_size, hidden)\n",
    "\n",
    "\n",
    "        self.soft = nn.Softmax(dim=1) # Using sigmoid instead of softmax\n",
    "\n",
    "    def forward(self, x):\n",
    "        ind = x.view(self.batch_size, -1, self.input_size)\n",
    "        out, _ = self.lstm(ind)\n",
    "\n",
    "        ss = torch.sum(out, 2)\n",
    "        minusss = 1 - ss\n",
    "\n",
    "        out = torch.stack((ss, minusss), dim = 1)\n",
    "\n",
    "        return self.soft(out)"
   ]
  },
  {
   "cell_type": "code",
   "execution_count": 3,
   "id": "d5997ed2-1488-4dff-a76e-4a692902e239",
   "metadata": {},
   "outputs": [],
   "source": [
    "import torch\n",
    "from typing import Callable, Optional\n",
    "import torch.nn.functional as F\n",
    "from torch.nn.modules import Module\n",
    "\n",
    "class _Loss(Module):\n",
    "    reduction: str\n",
    "\n",
    "    def __init__(self, size_average=None, reduce=None, reduction: str = 'mean') -> None:\n",
    "        super(_Loss, self).__init__()\n",
    "        if size_average is not None or reduce is not None:\n",
    "            self.reduction: str = _Reduction.legacy_get_string(size_average, reduce)\n",
    "        else:\n",
    "            self.reduction = reduction\n",
    "\n",
    "\n",
    "class _WeightedLoss(_Loss):\n",
    "    def __init__(self, weight: Optional[torch.Tensor] = None, size_average=None, reduce=None, reduction: str = 'mean') -> None:\n",
    "        super(_WeightedLoss, self).__init__(size_average, reduce, reduction)\n",
    "        self.register_buffer('weight', weight)\n",
    "        self.weight: Optional[Tensor]\n",
    "        \n",
    "class CrossEntropyLoss_jav(_WeightedLoss):\n",
    "    r\"\"\"This criterion computes the cross entropy loss between input and target.\n",
    "\n",
    "    Examples::\n",
    "\n",
    "        >>> # Example of target with class indices\n",
    "        >>> loss = nn.CrossEntropyLoss()\n",
    "        >>> input = torch.randn(3, 5, requires_grad=True)\n",
    "        >>> target = torch.empty(3, dtype=torch.long).random_(5)\n",
    "        >>> output = loss(input, target)\n",
    "        >>> output.backward()\n",
    "        >>>\n",
    "        >>> # Example of target with class probabilities\n",
    "        >>> input = torch.randn(3, 5, requires_grad=True)\n",
    "        >>> target = torch.randn(3, 5).softmax(dim=1)\n",
    "        >>> output = loss(input, target)\n",
    "        >>> output.backward()\n",
    "    \"\"\"\n",
    "    __constants__ = ['ignore_index', 'reduction', 'label_smoothing']\n",
    "    ignore_index: int\n",
    "    label_smoothing: float\n",
    "\n",
    "    def __init__(self, weight: Optional[torch.Tensor] = None, size_average=None, ignore_index: int = -100,\n",
    "                 reduce=None, reduction: str = 'mean', label_smoothing: float = 0.0) -> None:\n",
    "        super(CrossEntropyLoss_jav, self).__init__(weight, size_average, reduce, reduction)\n",
    "        self.ignore_index = ignore_index\n",
    "        self.label_smoothing = label_smoothing\n",
    "\n",
    "    def forward(self, input: torch.Tensor, target: torch.Tensor) -> torch.Tensor:\n",
    "        return F.cross_entropy(input, target, weight=self.weight,\n",
    "                               ignore_index=self.ignore_index, reduction=self.reduction,\n",
    "                               label_smoothing=self.label_smoothing)"
   ]
  },
  {
   "cell_type": "code",
   "execution_count": 4,
   "id": "a222b6d3-fd8e-4645-9f62-37918883bd13",
   "metadata": {},
   "outputs": [],
   "source": [
    "batch_size = 1\n",
    "\n",
    "device = \"cpu\"\n",
    "\n",
    "if str(device) == \"cpu\":\n",
    "    fl = torch.FloatTensor\n",
    "    it = torch.LongTensor\n",
    "else:\n",
    "    fl = torch.cuda.FloatTensor\n",
    "    it = torch.cuda.LongTensor\n",
    "\n",
    "model = LSTM_net(batch_size=batch_size, device=device).to(device)\n",
    "\n",
    "ind = torch.randn(1, 1, 60000)\n",
    "tar = torch.randint(0, 1, (1, 1, 60000))"
   ]
  },
  {
   "cell_type": "code",
   "execution_count": 5,
   "id": "9cdd73ab-05ce-41da-a187-a34d6d2f429b",
   "metadata": {},
   "outputs": [],
   "source": [
    "lossFunc = CrossEntropyLoss_jav(weight = torch.tensor([1., 5.]).to(device), reduction = \"mean\")"
   ]
  },
  {
   "cell_type": "code",
   "execution_count": 6,
   "id": "c7a937df-a7a3-4c08-a8c6-279cf0cd2b92",
   "metadata": {},
   "outputs": [],
   "source": [
    "model.zero_grad()\n",
    "y_pred = model(ind)\n",
    "target = tar.view(-1).type(it)\n",
    "pred = y_pred.transpose(1, 2).reshape(-1, 2).type(fl)"
   ]
  },
  {
   "cell_type": "code",
   "execution_count": 7,
   "id": "a820dda5-1cac-45a5-8bac-07b30af426f5",
   "metadata": {},
   "outputs": [],
   "source": [
    "import time"
   ]
  },
  {
   "cell_type": "code",
   "execution_count": 8,
   "id": "9da0684b-0f90-416d-902c-bb21478e6429",
   "metadata": {},
   "outputs": [
    {
     "name": "stdout",
     "output_type": "stream",
     "text": [
      "0.9765810370445251\n",
      "79.92066240310669\n"
     ]
    }
   ],
   "source": [
    "st = time.time()\n",
    "loss = lossFunc(pred, target)\n",
    "loss.backward()\n",
    "en = time.time()\n",
    "print(loss.item())\n",
    "print(en-st)"
   ]
  },
  {
   "cell_type": "code",
   "execution_count": 9,
   "id": "3f3f079c-9199-438a-af51-1063033010bd",
   "metadata": {},
   "outputs": [],
   "source": [
    "lossFunc = nn.CrossEntropyLoss(weight = torch.tensor([1., 5.]).to(device), reduction = \"mean\")"
   ]
  },
  {
   "cell_type": "code",
   "execution_count": 10,
   "id": "8e3c3c0c-cdd1-4cbe-973c-e75783274ef9",
   "metadata": {},
   "outputs": [],
   "source": [
    "model.zero_grad()\n",
    "y_pred = model(ind)\n",
    "target = tar.view(-1).type(it)\n",
    "pred = y_pred.transpose(1, 2).reshape(-1, 2).type(fl)"
   ]
  },
  {
   "cell_type": "code",
   "execution_count": 11,
   "id": "e7725443-3513-4f01-b7dc-f9e975989424",
   "metadata": {},
   "outputs": [
    {
     "name": "stdout",
     "output_type": "stream",
     "text": [
      "0.9765810370445251\n",
      "78.8082058429718\n"
     ]
    }
   ],
   "source": [
    "st = time.time()\n",
    "loss = lossFunc(pred, target)\n",
    "loss.backward()\n",
    "en = time.time()\n",
    "print(loss.item())\n",
    "print(en-st)"
   ]
  },
  {
   "cell_type": "code",
   "execution_count": null,
   "id": "7ad612f7-94b3-4b8a-b620-a0bddcb635f8",
   "metadata": {},
   "outputs": [],
   "source": []
  },
  {
   "cell_type": "code",
   "execution_count": null,
   "id": "cc2da50e-ddac-4ab4-b934-363a11c7d3f6",
   "metadata": {},
   "outputs": [],
   "source": []
  },
  {
   "cell_type": "code",
   "execution_count": 193,
   "id": "449411ca-d5a5-4566-b14d-934a36db4d97",
   "metadata": {},
   "outputs": [],
   "source": [
    "#PyTorch\n",
    "BETA = 0.5 # < 0.5 penalises FP more, > 0.5 penalises FN more\n",
    "CE_RATIO = 0.5 # weighted contribution of modified CE loss compared to Dice loss\n",
    "\n",
    "class ComboLoss(nn.Module):\n",
    "    def __init__(self):\n",
    "        super(ComboLoss, self).__init__()\n",
    "\n",
    "    def forward(self, inputs, targets, cd_ratio = CE_RATIO, smooth=1, beta=BETA, eps=1e-9):\n",
    "        \n",
    "        #flatten label and prediction tensors\n",
    "        inputs = inputs.view(-1)\n",
    "        targets = targets.view(-1)\n",
    "        \n",
    "        #True Positives, False Positives & False Negatives\n",
    "        intersection = (inputs * targets).sum()    \n",
    "        dice = (2. * intersection + smooth) / (inputs.sum() + targets.sum() + smooth)\n",
    "        \n",
    "        inputs = torch.clamp(inputs, eps, 1.0 - eps)       \n",
    "        out = - (beta * ((targets * torch.log(inputs)) + ((1 - beta) * (1.0 - targets) * torch.log(1.0 - inputs))))\n",
    "        weighted_ce = out.mean(-1)\n",
    "        combo = (cd_ratio * weighted_ce) - ((1 - cd_ratio) * dice)\n",
    "        print(\"dice\", dice)\n",
    "        return combo"
   ]
  },
  {
   "cell_type": "code",
   "execution_count": 208,
   "id": "bd77227c-d466-442b-a7cd-4ece2618bea9",
   "metadata": {},
   "outputs": [
    {
     "name": "stdout",
     "output_type": "stream",
     "text": [
      "tensor([0., 1., 0.])\n",
      "tensor([0., 1., 0.])\n",
      "dice tensor(1.)\n",
      "tensor(nan)\n",
      "dice tensor(1.)\n"
     ]
    }
   ],
   "source": [
    "lossFunc = ComboLoss()\n",
    "\n",
    "lol = torch.Tensor([0, 1, 0])\n",
    "jo = torch.Tensor([0.0, 1, 0.])\n",
    "print(lol)\n",
    "print(jo)\n",
    "print(lossFunc(jo, lol))\n",
    "val = lossFunc(jo, lol)"
   ]
  },
  {
   "cell_type": "code",
   "execution_count": 211,
   "id": "34fe8282-9615-4f7f-9635-3fb318870f96",
   "metadata": {},
   "outputs": [
    {
     "data": {
      "text/plain": [
       "tensor(True)"
      ]
     },
     "execution_count": 211,
     "metadata": {},
     "output_type": "execute_result"
    }
   ],
   "source": [
    "torch.tensor([1, float('nan'), 2])"
   ]
  },
  {
   "cell_type": "code",
   "execution_count": 205,
   "id": "eb3214f7-cb18-4628-ac51-b397079e2a56",
   "metadata": {},
   "outputs": [
    {
     "name": "stdout",
     "output_type": "stream",
     "text": [
      "tensor(nan)\n"
     ]
    }
   ],
   "source": [
    "print(val)"
   ]
  },
  {
   "cell_type": "code",
   "execution_count": 207,
   "id": "6c88fa2f-6558-4dc9-995f-9a45cd326dbc",
   "metadata": {},
   "outputs": [
    {
     "name": "stdout",
     "output_type": "stream",
     "text": [
      "True\n"
     ]
    }
   ],
   "source": [
    "if val:\n",
    "    print(\"True\")"
   ]
  },
  {
   "cell_type": "code",
   "execution_count": 22,
   "id": "a2dad90c-b88a-44b1-a2e5-63b82ff5b1f3",
   "metadata": {},
   "outputs": [
    {
     "data": {
      "text/plain": [
       "tensor(0.5000)"
      ]
     },
     "execution_count": 22,
     "metadata": {},
     "output_type": "execute_result"
    }
   ],
   "source": [
    "l = torch.Tensor([[0, 0], [1, 1]])\n",
    "l.mean()"
   ]
  },
  {
   "cell_type": "code",
   "execution_count": 23,
   "id": "88ea2179-1ea0-4af4-b67c-cc43506e90dd",
   "metadata": {},
   "outputs": [
    {
     "data": {
      "text/plain": [
       "tensor([0., 1.])"
      ]
     },
     "execution_count": 23,
     "metadata": {},
     "output_type": "execute_result"
    }
   ],
   "source": [
    "l.mean(-1)"
   ]
  },
  {
   "cell_type": "code",
   "execution_count": null,
   "id": "80befbdf-7172-4e85-bad2-9e318bde5d27",
   "metadata": {},
   "outputs": [],
   "source": []
  },
  {
   "cell_type": "code",
   "execution_count": 24,
   "id": "68d86878-707c-45e2-9783-dcba14e199f4",
   "metadata": {},
   "outputs": [],
   "source": [
    "model.zero_grad()\n",
    "y_pred = model(ind)\n",
    "target = tar.view(-1).type(it)\n",
    "pred = y_pred[0][1]"
   ]
  },
  {
   "cell_type": "code",
   "execution_count": 57,
   "id": "31339ae8-8600-4c43-abb9-ec8f2e61758b",
   "metadata": {},
   "outputs": [],
   "source": [
    "lossFunc = ComboLoss()"
   ]
  },
  {
   "cell_type": "code",
   "execution_count": 26,
   "id": "499bef44-3e24-4178-8cd5-5324a2f00ead",
   "metadata": {},
   "outputs": [
    {
     "name": "stdout",
     "output_type": "stream",
     "text": [
      "0.17442743480205536\n",
      "82.47842001914978\n"
     ]
    }
   ],
   "source": [
    "st = time.time()\n",
    "loss = lossFunc(pred, target)\n",
    "loss.backward()\n",
    "en = time.time()\n",
    "print(loss.item())\n",
    "print(en-st)"
   ]
  },
  {
   "cell_type": "code",
   "execution_count": null,
   "id": "c54ce23f-3d48-41b7-937e-1f6b37d69153",
   "metadata": {},
   "outputs": [],
   "source": []
  },
  {
   "cell_type": "code",
   "execution_count": 164,
   "id": "feb53719-58c9-4980-872c-e52783f23b0b",
   "metadata": {},
   "outputs": [
    {
     "name": "stdout",
     "output_type": "stream",
     "text": [
      "tensor([[0, 0, 0, 0, 0, 1, 0, 0, 0, 0]])\n",
      "tensor([0.0910, 0.0255, 0.1250, 0.1495, 0.0041, 0.1771, 0.0728, 0.0398, 0.0161,\n",
      "        0.0548])\n",
      "tensor(-0.1948)\n"
     ]
    }
   ],
   "source": [
    "lol = torch.randint(0, 2, (1, 10))\n",
    "jo = torch.randn(10).abs()/10\n",
    "print(lol)\n",
    "print(jo)\n",
    "print(lossFunc(jo, lol))"
   ]
  },
  {
   "cell_type": "code",
   "execution_count": 183,
   "id": "3d818efc-9b57-4d0a-8952-f6d1376ab5b9",
   "metadata": {},
   "outputs": [
    {
     "name": "stdout",
     "output_type": "stream",
     "text": [
      "tensor([0., 1., 0.])\n",
      "tensor([0.0000, 0.9999, 0.0000])\n",
      "tensor(-0.5000)\n"
     ]
    }
   ],
   "source": []
  },
  {
   "cell_type": "code",
   "execution_count": 98,
   "id": "39c954ff-7144-4a7b-9fac-1ba279b9201d",
   "metadata": {},
   "outputs": [
    {
     "data": {
      "text/plain": [
       "tensor(nan)"
      ]
     },
     "execution_count": 98,
     "metadata": {},
     "output_type": "execute_result"
    }
   ],
   "source": []
  },
  {
   "cell_type": "code",
   "execution_count": null,
   "id": "d1543646-fb86-4848-a306-a5db50ac0a84",
   "metadata": {},
   "outputs": [],
   "source": []
  },
  {
   "cell_type": "code",
   "execution_count": 51,
   "id": "a61e0dfe-2109-4478-a016-3648da4c12ad",
   "metadata": {},
   "outputs": [],
   "source": [
    "jav = torch.randn(5, 2, 5)\n"
   ]
  },
  {
   "cell_type": "code",
   "execution_count": 52,
   "id": "8065a1f9-6019-46b6-aa24-45b7a21e6dc5",
   "metadata": {},
   "outputs": [
    {
     "data": {
      "text/plain": [
       "tensor([[[-0.8002, -0.0632, -0.4482, -0.0820,  1.3261],\n",
       "         [-0.3362, -0.2082,  0.5069, -0.0451,  0.2283]],\n",
       "\n",
       "        [[ 0.7799,  1.0527, -1.0746, -1.6134,  0.4359],\n",
       "         [ 0.8401,  2.0553, -0.7265,  1.0813, -0.3151]],\n",
       "\n",
       "        [[ 0.1770,  0.1140,  0.2830, -0.0796,  0.7359],\n",
       "         [-0.2245, -1.1063,  1.3846, -0.5966,  1.1795]],\n",
       "\n",
       "        [[ 0.0573, -0.2319,  0.9246, -1.0776,  1.8473],\n",
       "         [ 2.0416, -0.2872,  0.4917,  0.9460,  1.3541]],\n",
       "\n",
       "        [[ 1.4323, -1.1046,  1.1288,  0.1689,  0.7143],\n",
       "         [-1.6627, -0.0575,  0.8594,  0.4277,  1.2272]]])"
      ]
     },
     "execution_count": 52,
     "metadata": {},
     "output_type": "execute_result"
    }
   ],
   "source": [
    "jav"
   ]
  },
  {
   "cell_type": "code",
   "execution_count": 55,
   "id": "569794cd-6e8b-46ae-834e-b3d25cdd7c4f",
   "metadata": {},
   "outputs": [
    {
     "data": {
      "text/plain": [
       "tensor([-0.3362, -0.2082,  0.5069, -0.0451,  0.2283,  0.8401,  2.0553, -0.7265,\n",
       "         1.0813, -0.3151, -0.2245, -1.1063,  1.3846, -0.5966,  1.1795,  2.0416,\n",
       "        -0.2872,  0.4917,  0.9460,  1.3541, -1.6627, -0.0575,  0.8594,  0.4277,\n",
       "         1.2272])"
      ]
     },
     "execution_count": 55,
     "metadata": {},
     "output_type": "execute_result"
    }
   ],
   "source": [
    "jav[:, 1].reshape(-1)"
   ]
  },
  {
   "cell_type": "code",
   "execution_count": null,
   "id": "4b5e4f68-2eee-413a-b057-3ace204137d7",
   "metadata": {},
   "outputs": [],
   "source": []
  }
 ],
 "metadata": {
  "kernelspec": {
   "display_name": "Python 3 (ipykernel)",
   "language": "python",
   "name": "python3"
  },
  "language_info": {
   "codemirror_mode": {
    "name": "ipython",
    "version": 3
   },
   "file_extension": ".py",
   "mimetype": "text/x-python",
   "name": "python",
   "nbconvert_exporter": "python",
   "pygments_lexer": "ipython3",
   "version": "3.9.6"
  }
 },
 "nbformat": 4,
 "nbformat_minor": 5
}
