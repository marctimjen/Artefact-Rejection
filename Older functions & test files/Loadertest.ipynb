{
 "cells": [
  {
   "cell_type": "code",
   "execution_count": 133,
   "id": "e7fe5bed-a1d7-4b53-bb15-d1337f4b9ce8",
   "metadata": {},
   "outputs": [],
   "source": [
    "from torch.utils.data import Dataset, DataLoader\n",
    "import torch\n",
    "import numpy as np\n",
    "import math\n",
    "\n",
    "class load_whole_data(Dataset): \n",
    "    \"\"\"\n",
    "    This dataloader loads the tensor input and target in whole\n",
    "    \"\"\"\n",
    "    def __init__(self, path: str, ind: list):\n",
    "        \"\"\"\n",
    "        Args:\n",
    "            path (str): path to the input & target folder.\n",
    "            ind (list): list of indices for which pictures to load.\n",
    "            device (class 'torch.device'): which pytorch device the data should\n",
    "            be sent to.\n",
    "        \"\"\"\n",
    "\n",
    "        self.device = \"cpu\"\n",
    "        self.imgs_path = path\n",
    "        self.data = []\n",
    "        for i in ind:\n",
    "            self.data.append([self.imgs_path + f\"/model_input ({i}).pt\",\n",
    "                        self.imgs_path + f\"/model_target ({i}).pt\"])\n",
    "\n",
    "    def __len__(self):\n",
    "        return len(self.data)\n",
    "\n",
    "    def __getitem__(self, idx):\n",
    "        input_path, target_path = self.data[idx] # path for target + input\n",
    "\n",
    "        inp = torch.load(input_path) # load the input data\n",
    "        inp = inp.type(torch.float).to(self.device)\n",
    "\n",
    "        tar = torch.load(target_path) # load the target data\n",
    "        tar = tar.type(torch.float).to(self.device)\n",
    "\n",
    "        return inp, tar\n",
    "\n",
    "\n",
    "\n",
    "        \n",
    "class load_shuffle_5_min(Dataset): \n",
    "    \"\"\"\n",
    "    This dataloader loads the tensor input and target in whole\n",
    "    \"\"\"\n",
    "    def __init__(self, ls: list, device):\n",
    "        \"\"\"\n",
    "        Args:\n",
    "            path (str): path to the input & target folder.\n",
    "            ind (list): list of indices for which pictures to load.\n",
    "            device (class 'torch.device'): which pytorch device the data should\n",
    "            be sent to.\n",
    "        \"\"\"\n",
    "\n",
    "        self.device = device\n",
    "        self.ls = ls # list with the input and target data\n",
    "        self.size = (ls[0][0].shape[0], ls[0][0].shape[1]) # size of target and input\n",
    "        \n",
    "        length = math.floor((self.size[1]/(200*60*5)))*self.size[0] # the amount of total possible cuts\n",
    "        self.length = int(min((75 - 75 % self.size[0]), length))\n",
    "        \n",
    "        self.gen = iter(self.create_data(self.length))\n",
    "        \n",
    "        #print(self.length)\n",
    "\n",
    "    \n",
    "\n",
    "    def create_data(self, nr_of_cuts):       \n",
    "        cut_point = np.random.randint(low = 200*60*0.5, high = self.size[1] - 200*60*5, \n",
    "                          size = nr_of_cuts) # choose the place to cut\n",
    "        \n",
    "        cuts_pr_chan = nr_of_cuts/self.size[0] # the amount of cuts pr channel\n",
    "        \n",
    "        for i in range(nr_of_cuts):\n",
    "            inp = self.ls[0][0][int(i//cuts_pr_chan)][cut_point[i]:cut_point[i]+60*200*5]\n",
    "            tar = self.ls[1][0][int(i//cuts_pr_chan)][cut_point[i]:cut_point[i]+60*200*5]\n",
    "            yield (inp, tar)\n",
    "    \n",
    "    def __len__(self):\n",
    "        return self.length\n",
    "\n",
    "    def __getitem__(self, idx):\n",
    "        inp, tar = next(self.gen)\n",
    "        inp = inp.to(self.device)\n",
    "        tar = tar.to(self.device)\n",
    "        return inp, tar\n",
    "\n",
    "    \n",
    "    \n",
    "class load_shuffle_5_min_all(Dataset): \n",
    "    \"\"\"\n",
    "    This dataloader loads the tensor input and target in whole\n",
    "    \"\"\"\n",
    "    def __init__(self, ls: list, device):\n",
    "        \"\"\"\n",
    "        Args:\n",
    "            path (str): path to the input & target folder.\n",
    "            ind (list): list of indices for which pictures to load.\n",
    "            device (class 'torch.device'): which pytorch device the data should\n",
    "            be sent to.\n",
    "        \"\"\"\n",
    "\n",
    "        self.device = device\n",
    "        self.ls = ls # list with the input and target data\n",
    "        self.size = (ls[0][0].shape[0], ls[0][0].shape[1]) # size of target and input\n",
    "        \n",
    "        self.length = math.floor((self.size[1]/(200*60*5)))*self.size[0] # the amount of total possible cuts\n",
    "\n",
    "        \n",
    "        self.gen = iter(self.create_data(self.length))\n",
    "        #print(self.length)\n",
    "\n",
    "    \n",
    "\n",
    "    def create_data(self, nr_of_cuts):       \n",
    "        cut_point = np.random.randint(low = 200*60*0.5, high = self.size[1] - 200*60*5, \n",
    "                          size = nr_of_cuts) # choose the place to cut\n",
    "        \n",
    "        cuts_pr_chan = nr_of_cuts/self.size[0] # the amount of cuts pr channel\n",
    "        \n",
    "        for i in range(nr_of_cuts):\n",
    "            inp = self.ls[0][0][int(i//cuts_pr_chan)][cut_point[i]:cut_point[i]+60*200*5]\n",
    "            tar = self.ls[1][0][int(i//cuts_pr_chan)][cut_point[i]:cut_point[i]+60*200*5]\n",
    "            yield (inp, tar)\n",
    "    \n",
    "    def __len__(self):\n",
    "        return self.length\n",
    "\n",
    "    def __getitem__(self, idx):\n",
    "        inp, tar = next(self.gen)\n",
    "        inp = inp.to(self.device)\n",
    "        tar = tar.to(self.device)\n",
    "        return inp, tar\n"
   ]
  },
  {
   "cell_type": "code",
   "execution_count": 134,
   "id": "2c3c5579-e116-4d8c-9c1d-70670c8e5232",
   "metadata": {},
   "outputs": [
    {
     "name": "stdout",
     "output_type": "stream",
     "text": [
      "cuda\n",
      "j = 66\n"
     ]
    }
   ],
   "source": [
    "device = torch.device(\"cuda\" if torch.cuda.is_available() else \"cpu\")\n",
    "print(device)\n",
    "\n",
    "trainload = load_whole_data(path = \"C:/Users/Marc/Desktop/model_data/train_model_data\", ind = [i for i in range(1, 195 + 1)])\n",
    "batch_size = 1\n",
    "\n",
    "# Set up the dataloaders:\n",
    "\n",
    "trainloader = torch.utils.data.DataLoader(trainload,\n",
    "                                          batch_size=batch_size,\n",
    "                                          shuffle=True,\n",
    "                                          num_workers=0)\n",
    "load = iter(trainloader)\n",
    "\n",
    "loader2 = load_shuffle_5_min(next(load), \"cpu\")\n",
    "batch_size = 1\n",
    "\n",
    "# Set up the dataloaders:\n",
    "\n",
    "loader2 = torch.utils.data.DataLoader(loader2,\n",
    "                                          batch_size=batch_size,\n",
    "                                          shuffle=True,\n",
    "                                          num_workers=0)\n",
    "\n",
    "load2 = iter(loader2)\n",
    "\n",
    "j = 0\n",
    "for i in loader2:\n",
    "    j += 1\n",
    "\n",
    "print(\"j =\", j)"
   ]
  },
  {
   "cell_type": "code",
   "execution_count": 135,
   "id": "4e5c38b5-0715-4303-88dd-5d5ef980c6db",
   "metadata": {},
   "outputs": [
    {
     "name": "stdout",
     "output_type": "stream",
     "text": [
      "cuda\n",
      "time: 17.621077060699463\n",
      "Number of files loaded in total: 195\n"
     ]
    }
   ],
   "source": [
    "import time\n",
    "\n",
    "\n",
    "device = torch.device(\"cuda\" if torch.cuda.is_available() else \"cpu\")\n",
    "print(device)\n",
    "\n",
    "trainload = load_whole_data(path = \"C:/Users/Marc/Desktop/model_data/train_model_data\", ind = [i for i in range(1, 195 + 1)])\n",
    "\n",
    "# Set up the dataloaders:\n",
    "\n",
    "trainloader = torch.utils.data.DataLoader(trainload,\n",
    "                                          batch_size=1,\n",
    "                                          shuffle=False,\n",
    "                                          num_workers=0)\n",
    "\n",
    "data = []\n",
    "\n",
    "nr_of_files_loaded = 0\n",
    "\n",
    "batch_size = 1\n",
    "\n",
    "start = time.time()\n",
    "\n",
    "for file in trainloader:\n",
    "    loader2 = load_shuffle_5_min(file, device)\n",
    "    loader2 = torch.utils.data.DataLoader(loader2,\n",
    "                                              batch_size=batch_size,\n",
    "                                              shuffle=True,\n",
    "                                              num_workers=0)\n",
    "    nr_of_files_loaded += 1\n",
    "    j = 0\n",
    "    for i in loader2:\n",
    "        j += 1\n",
    "    \n",
    "    data.append(j)\n",
    "\n",
    "print(\"time:\", time.time()-start)\n",
    "    \n",
    "print(\"Number of files loaded in total:\", nr_of_files_loaded)"
   ]
  },
  {
   "cell_type": "code",
   "execution_count": 136,
   "id": "d1a5fd8c-b1f2-401c-b499-2d78400a73ff",
   "metadata": {},
   "outputs": [
    {
     "name": "stdout",
     "output_type": "stream",
     "text": [
      "cpu\n",
      "time: 16.16476821899414\n",
      "Number of files loaded in total: 195\n"
     ]
    }
   ],
   "source": [
    "import time\n",
    "\n",
    "\n",
    "device = \"cpu\"\n",
    "print(device)\n",
    "\n",
    "trainload = load_whole_data(path = \"C:/Users/Marc/Desktop/model_data/train_model_data\", ind = [i for i in range(1, 195 + 1)])\n",
    "\n",
    "# Set up the dataloaders:\n",
    "\n",
    "trainloader = torch.utils.data.DataLoader(trainload,\n",
    "                                          batch_size=1,\n",
    "                                          shuffle=False,\n",
    "                                          num_workers=0)\n",
    "\n",
    "data_before = []\n",
    "\n",
    "nr_of_files_loaded = 0\n",
    "\n",
    "batch_size = 1\n",
    "\n",
    "start = time.time()\n",
    "\n",
    "for file in trainloader:\n",
    "    loader2 = load_shuffle_5_min_all(file, device)\n",
    "    loader2 = torch.utils.data.DataLoader(loader2,\n",
    "                                              batch_size=batch_size,\n",
    "                                              shuffle=True,\n",
    "                                              num_workers=0)\n",
    "    nr_of_files_loaded += 1\n",
    "    j = 0\n",
    "    for i in loader2:\n",
    "        j += 1\n",
    "    \n",
    "    data_before.append(j)\n",
    "\n",
    "print(\"time:\", time.time()-start)\n",
    "    \n",
    "print(\"Number of files loaded in total:\", nr_of_files_loaded)"
   ]
  },
  {
   "cell_type": "code",
   "execution_count": 137,
   "id": "c80c6fc7-5dea-486d-ba73-958c211154bb",
   "metadata": {},
   "outputs": [],
   "source": [
    "import csv\n",
    "import re\n",
    "\n",
    "path = \"C:/Users/Marc/Desktop/model_data/train_model_data\"\n",
    "\n",
    "patient_samples = dict()\n",
    "\n",
    "files = [] # read the old encoding file so that new ones can be made\n",
    "\n",
    "\n",
    "with open(path + '/train_encoding.csv', 'r') as file:\n",
    "    ls = csv.reader(file)\n",
    "    for rows in ls:\n",
    "        files.append(rows)\n",
    "        m = re.match(r\".+/\\d+/(\\d+)/+.\", rows[0])\n",
    "        val_to_dict = patient_samples.get(m.group(1), [])\n",
    "        val_to_dict.append(rows[2])\n",
    "        patient_samples[m.group(1)] = val_to_dict"
   ]
  },
  {
   "cell_type": "code",
   "execution_count": 138,
   "id": "3a4c0267-7fa2-4a2a-89ff-f72bceb60f95",
   "metadata": {},
   "outputs": [],
   "source": [
    "patient_bevore = []\n",
    "\n",
    "for value in patient_samples.values():\n",
    "    vals = 0\n",
    "    for i in value:\n",
    "        vals += data_before[int(i)-1]\n",
    "    \n",
    "    patient_bevore.append(vals)"
   ]
  },
  {
   "cell_type": "code",
   "execution_count": 139,
   "id": "00b20401-6976-4561-a24d-7624c1f4be48",
   "metadata": {},
   "outputs": [
    {
     "name": "stdout",
     "output_type": "stream",
     "text": [
      "110.56551724137931\n",
      "88.0\n"
     ]
    },
    {
     "data": {
      "image/png": "[encoded data removed]",
      "text/plain": [
       "<Figure size 432x288 with 1 Axes>"
      ]
     },
     "metadata": {
      "needs_background": "light"
     },
     "output_type": "display_data"
    }
   ],
   "source": [
    "import matplotlib.pyplot as plt\n",
    "m = plt.hist(patient_bevore, bins = 30)\n",
    "\n",
    "print(np.mean(patient_bevore))\n",
    "print(np.median(patient_bevore))"
   ]
  },
  {
   "cell_type": "code",
   "execution_count": 100,
   "id": "fde7466e-6a71-4030-9e17-f04a6ba72c25",
   "metadata": {},
   "outputs": [
    {
     "data": {
      "text/plain": [
       "0.2620689655172414"
      ]
     },
     "execution_count": 100,
     "metadata": {},
     "output_type": "execute_result"
    }
   ],
   "source": [
    "np.mean(np.array(patient_bevore) > 88)"
   ]
  },
  {
   "cell_type": "code",
   "execution_count": 132,
   "id": "69383c44-2019-43f4-9c8b-8feaac77b4f8",
   "metadata": {},
   "outputs": [
    {
     "name": "stdout",
     "output_type": "stream",
     "text": [
      "82.21538461538462\n",
      "88.0\n"
     ]
    },
    {
     "data": {
      "image/png": "[encoded data removed]",
      "text/plain": [
       "<Figure size 432x288 with 1 Axes>"
      ]
     },
     "metadata": {
      "needs_background": "light"
     },
     "output_type": "display_data"
    }
   ],
   "source": [
    "import matplotlib.pyplot as plt\n",
    "m = plt.hist(data_before, bins = 30)\n",
    "\n",
    "print(np.mean(data_before))\n",
    "print(np.median(data_before))"
   ]
  },
  {
   "cell_type": "code",
   "execution_count": 91,
   "id": "84e0d96f-eea4-4c89-a31e-f335370e484a",
   "metadata": {},
   "outputs": [
    {
     "name": "stdout",
     "output_type": "stream",
     "text": [
      "cpu\n",
      "time: 14.908121109008789\n",
      "Number of files loaded in total: 195\n"
     ]
    }
   ],
   "source": [
    "import time\n",
    "\n",
    "\n",
    "device = \"cpu\"\n",
    "print(device)\n",
    "\n",
    "trainload = load_whole_data(path = \"C:/Users/Marc/Desktop/model_data/train_model_data\", ind = [i for i in range(1, 195 + 1)])\n",
    "\n",
    "# Set up the dataloaders:\n",
    "\n",
    "trainloader = torch.utils.data.DataLoader(trainload,\n",
    "                                          batch_size=1,\n",
    "                                          shuffle=False,\n",
    "                                          num_workers=0)\n",
    "\n",
    "data_after = []\n",
    "\n",
    "nr_of_files_loaded = 0\n",
    "\n",
    "batch_size = 1\n",
    "\n",
    "start = time.time()\n",
    "\n",
    "for file in trainloader:\n",
    "    loader2 = load_shuffle_5_min(file, device)\n",
    "    loader2 = torch.utils.data.DataLoader(loader2,\n",
    "                                              batch_size=batch_size,\n",
    "                                              shuffle=True,\n",
    "                                              num_workers=0)\n",
    "    nr_of_files_loaded += 1\n",
    "    j = 0\n",
    "    for i in loader2:\n",
    "        j += 1\n",
    "    \n",
    "    data_after.append(j)\n",
    "\n",
    "print(\"time:\", time.time()-start)\n",
    "    \n",
    "print(\"Number of files loaded in total:\", nr_of_files_loaded)"
   ]
  },
  {
   "cell_type": "markdown",
   "id": "958bd52d-0ead-4784-80e9-274bc72b1084",
   "metadata": {},
   "source": [
    "Lets do the data analysis before we did the corrections:"
   ]
  },
  {
   "cell_type": "code",
   "execution_count": 92,
   "id": "a06217c9-2fd6-46c2-bfa7-8e6df3d2cbb8",
   "metadata": {},
   "outputs": [],
   "source": [
    "patient_after = []\n",
    "\n",
    "for value in patient_samples.values():\n",
    "    vals = 0\n",
    "    for i in value:\n",
    "        vals += data_after[int(i)-1]\n",
    "    \n",
    "    patient_after.append(vals)"
   ]
  },
  {
   "cell_type": "code",
   "execution_count": 93,
   "id": "6f9ee1ea-efe6-471c-93f6-0ea7b0c87dc9",
   "metadata": {},
   "outputs": [
    {
     "name": "stdout",
     "output_type": "stream",
     "text": [
      "77.78620689655172\n",
      "66.0\n"
     ]
    },
    {
     "data": {
      "image/png": "[encoded data removed]",
      "text/plain": [
       "<Figure size 432x288 with 1 Axes>"
      ]
     },
     "metadata": {
      "needs_background": "light"
     },
     "output_type": "display_data"
    }
   ],
   "source": [
    "import matplotlib.pyplot as plt\n",
    "m = plt.hist(patient_after, bins = 30)\n",
    "\n",
    "print(np.mean(patient_after))\n",
    "print(np.median(patient_after))"
   ]
  },
  {
   "cell_type": "code",
   "execution_count": 101,
   "id": "992fe53a-5103-4c2a-9d6c-65947541ba46",
   "metadata": {},
   "outputs": [
    {
     "data": {
      "text/plain": [
       "0.1724137931034483"
      ]
     },
     "execution_count": 101,
     "metadata": {},
     "output_type": "execute_result"
    }
   ],
   "source": [
    "np.mean(np.array(patient_after) > 66)"
   ]
  },
  {
   "cell_type": "code",
   "execution_count": 95,
   "id": "c24ca77a-d9e6-408c-9f37-223d490fe1da",
   "metadata": {},
   "outputs": [
    {
     "name": "stdout",
     "output_type": "stream",
     "text": [
      "57.84102564102564\n",
      "66.0\n"
     ]
    },
    {
     "data": {
      "image/png": "[encoded data removed]",
      "text/plain": [
       "<Figure size 432x288 with 1 Axes>"
      ]
     },
     "metadata": {
      "needs_background": "light"
     },
     "output_type": "display_data"
    }
   ],
   "source": [
    "import matplotlib.pyplot as plt\n",
    "m = plt.hist(data_after, bins = 30)\n",
    "\n",
    "print(np.mean(data_after))\n",
    "print(np.median(data_after))"
   ]
  },
  {
   "cell_type": "code",
   "execution_count": null,
   "id": "c54b6e67-d620-4f1d-b4b9-bb3bc517f0a8",
   "metadata": {},
   "outputs": [],
   "source": []
  },
  {
   "cell_type": "code",
   "execution_count": null,
   "id": "2f44f8ea-2ce9-4823-b470-6f16d10556c4",
   "metadata": {},
   "outputs": [],
   "source": []
  },
  {
   "cell_type": "code",
   "execution_count": 112,
   "id": "9594bd12-8752-4124-b1ae-706c64b3c26d",
   "metadata": {},
   "outputs": [
    {
     "name": "stdout",
     "output_type": "stream",
     "text": [
      "195\n"
     ]
    }
   ],
   "source": [
    "trainload = load_whole_data(path = \"C:/Users/Marc/Desktop/model_data/train_model_data\", ind = [i for i in range(1, 195 + 1)])\n",
    "\n",
    "trainloader = torch.utils.data.DataLoader(trainload,\n",
    "                                          batch_size=1,\n",
    "                                          shuffle=False,\n",
    "                                          num_workers=0)\n",
    "d = dict()\n",
    "J = 0\n",
    "for file in trainloader:\n",
    "    J += 1\n",
    "    d[J] = file[0].shape[2]\n",
    "   "
   ]
  },
  {
   "cell_type": "code",
   "execution_count": 128,
   "id": "9f927a40-6039-4a17-beaa-9066875d79f3",
   "metadata": {},
   "outputs": [],
   "source": [
    "new_dict = dict()\n",
    "\n",
    "for values in patient_samples.values():\n",
    "    vals = 0\n",
    "    for i in values:\n",
    "        vals += d[int(i)]\n",
    "    \n",
    "    for i in values:\n",
    "        new_dict[int(i)] = [vals, len(values)]"
   ]
  },
  {
   "cell_type": "code",
   "execution_count": 130,
   "id": "4cef9df6-bf22-4297-a5c7-257dc9dea4d0",
   "metadata": {},
   "outputs": [],
   "source": [
    "import pickle\n",
    "\n",
    "with open('train_series_length.pickle', 'wb') as handle:\n",
    "    pickle.dump(new_dict, handle, protocol=pickle.HIGHEST_PROTOCOL)"
   ]
  },
  {
   "cell_type": "code",
   "execution_count": 125,
   "id": "0fa36725-7a21-41c0-9f4d-97765110dca3",
   "metadata": {},
   "outputs": [
    {
     "name": "stdout",
     "output_type": "stream",
     "text": [
      "{1: 290000, 2: 565400, 3: 565400, 4: 565400, 5: 285800, 6: 241400, 7: 280600, 8: 561400, 9: 561400, 10: 561400, 11: 250200, 12: 159800, 13: 120200, 14: 270800, 15: 494800, 16: 494800, 17: 238200, 18: 298200, 19: 534400, 20: 534400, 21: 243400, 22: 241400, 23: 331000, 24: 331000, 25: 282000, 26: 1032400, 27: 1032400, 28: 238200, 29: 239600, 30: 825000, 31: 825000, 32: 825000, 33: 825000, 34: 825000, 35: 236400, 36: 974200, 37: 974200, 38: 974200, 39: 974200, 40: 1079000, 41: 1079000, 42: 1079000, 43: 1079000, 44: 1079000, 45: 251000, 46: 241000, 47: 235600, 48: 243000, 49: 766000, 50: 766000, 51: 766000, 52: 240200, 53: 236000, 54: 241600, 55: 531600, 56: 531600, 57: 241600, 58: 255000, 59: 230400, 60: 256800, 61: 274200, 62: 360800, 63: 143000, 64: 249200, 65: 238200, 66: 252600, 67: 244400, 68: 276800, 69: 287400, 70: 1673800, 71: 1673800, 72: 120200, 73: 480800, 74: 480800, 75: 480800, 76: 480800, 77: 242000, 78: 120200, 79: 1342000, 80: 1342000, 81: 1342000, 82: 1342000, 83: 1342000, 84: 1342000, 85: 1342000, 86: 120200, 87: 239400, 88: 241200, 89: 252400, 90: 240800, 91: 240600, 92: 241600, 93: 241600, 94: 251400, 95: 249600, 96: 260800, 97: 276800, 98: 285200, 99: 741200, 100: 741200, 101: 741200, 102: 741200, 103: 251600, 104: 240200, 105: 278400, 106: 253000, 107: 342400, 108: 367400, 109: 367400, 110: 284200, 111: 245400, 112: 931600, 113: 931600, 114: 931600, 115: 244200, 116: 120200, 117: 242200, 118: 297800, 119: 298400, 120: 193200, 121: 268000, 122: 854600, 123: 854600, 124: 854600, 125: 854600, 126: 854600, 127: 854600, 128: 240600, 129: 240600, 130: 265400, 131: 242400, 132: 317800, 133: 199400, 134: 276400, 135: 385000, 136: 267200, 137: 246400, 138: 344200, 139: 600000, 140: 264600, 141: 273600, 142: 246200, 143: 263600, 144: 196600, 145: 572400, 146: 572400, 147: 254000, 148: 256400, 149: 252200, 150: 252200, 151: 265600, 152: 255200, 153: 537000, 154: 537000, 155: 210400, 156: 256000, 157: 248600, 158: 266200, 159: 293200, 160: 300000, 161: 471600, 162: 313600, 163: 267200, 164: 271400, 165: 120200, 166: 299600, 167: 252600, 168: 247800, 169: 1057200, 170: 1057200, 171: 1057200, 172: 1057200, 173: 1057200, 174: 1057200, 175: 120200, 176: 480600, 177: 409400, 178: 311800, 179: 375800, 180: 213800, 181: 261600, 182: 305000, 183: 120200, 184: 248400, 185: 242200, 186: 296400, 187: 364200, 188: 241600, 189: 260800, 190: 253000, 191: 240800, 192: 254800, 193: 70800, 194: 2060000, 195: 379600}\n"
     ]
    }
   ],
   "source": [
    "with open('train_series_length.pickle', 'rb') as handle:\n",
    "    jo = pickle.load(handle)\n",
    "\n",
    "print(jo)"
   ]
  },
  {
   "cell_type": "code",
   "execution_count": 146,
   "id": "fdca960a-a056-4962-a8a8-7e77beec3469",
   "metadata": {},
   "outputs": [
    {
     "name": "stdout",
     "output_type": "stream",
     "text": [
      "{1: [290000, 1], 2: [565400, 3], 3: [565400, 3], 4: [565400, 3], 5: [285800, 1], 6: [241400, 1], 7: [280600, 1], 8: [561400, 3], 9: [561400, 3], 10: [561400, 3], 11: [250200, 1], 12: [159800, 1], 13: [120200, 1], 14: [270800, 1], 15: [494800, 2], 16: [494800, 2], 17: [238200, 1], 18: [298200, 1], 19: [534400, 2], 20: [534400, 2], 21: [243400, 1], 22: [241400, 1], 23: [331000, 2], 24: [331000, 2], 25: [282000, 1], 26: [1032400, 2], 27: [1032400, 2], 28: [238200, 1], 29: [239600, 1], 30: [825000, 5], 31: [825000, 5], 32: [825000, 5], 33: [825000, 5], 34: [825000, 5], 35: [236400, 1], 36: [974200, 4], 37: [974200, 4], 38: [974200, 4], 39: [974200, 4], 40: [1079000, 5], 41: [1079000, 5], 42: [1079000, 5], 43: [1079000, 5], 44: [1079000, 5], 45: [251000, 1], 46: [241000, 1], 47: [235600, 1], 48: [243000, 1], 49: [766000, 3], 50: [766000, 3], 51: [766000, 3], 52: [240200, 1], 53: [236000, 1], 54: [241600, 1], 55: [531600, 2], 56: [531600, 2], 57: [241600, 1], 58: [255000, 1], 59: [230400, 1], 60: [256800, 1], 61: [274200, 1], 62: [360800, 1], 63: [143000, 1], 64: [249200, 1], 65: [238200, 1], 66: [252600, 1], 67: [244400, 1], 68: [276800, 1], 69: [287400, 1], 70: [1673800, 2], 71: [1673800, 2], 72: [120200, 1], 73: [480800, 4], 74: [480800, 4], 75: [480800, 4], 76: [480800, 4], 77: [242000, 1], 78: [120200, 1], 79: [1342000, 7], 80: [1342000, 7], 81: [1342000, 7], 82: [1342000, 7], 83: [1342000, 7], 84: [1342000, 7], 85: [1342000, 7], 86: [120200, 1], 87: [239400, 1], 88: [241200, 1], 89: [252400, 1], 90: [240800, 1], 91: [240600, 1], 92: [241600, 1], 93: [241600, 1], 94: [251400, 1], 95: [249600, 1], 96: [260800, 1], 97: [276800, 1], 98: [285200, 1], 99: [741200, 4], 100: [741200, 4], 101: [741200, 4], 102: [741200, 4], 103: [251600, 1], 104: [240200, 1], 105: [278400, 1], 106: [253000, 1], 107: [342400, 1], 108: [367400, 2], 109: [367400, 2], 110: [284200, 1], 111: [245400, 1], 112: [931600, 3], 113: [931600, 3], 114: [931600, 3], 115: [244200, 1], 116: [120200, 1], 117: [242200, 1], 118: [297800, 1], 119: [298400, 1], 120: [193200, 1], 121: [268000, 1], 122: [854600, 6], 123: [854600, 6], 124: [854600, 6], 125: [854600, 6], 126: [854600, 6], 127: [854600, 6], 128: [240600, 1], 129: [240600, 1], 130: [265400, 1], 131: [242400, 1], 132: [317800, 1], 133: [199400, 1], 134: [276400, 1], 135: [385000, 1], 136: [267200, 1], 137: [246400, 1], 138: [344200, 1], 139: [600000, 1], 140: [264600, 1], 141: [273600, 1], 142: [246200, 1], 143: [263600, 1], 144: [196600, 1], 145: [572400, 2], 146: [572400, 2], 147: [254000, 1], 148: [256400, 1], 149: [252200, 1], 150: [252200, 1], 151: [265600, 1], 152: [255200, 1], 153: [537000, 2], 154: [537000, 2], 155: [210400, 1], 156: [256000, 1], 157: [248600, 1], 158: [266200, 1], 159: [293200, 1], 160: [300000, 1], 161: [471600, 1], 162: [313600, 1], 163: [267200, 1], 164: [271400, 1], 165: [120200, 1], 166: [299600, 1], 167: [252600, 1], 168: [247800, 1], 169: [1057200, 6], 170: [1057200, 6], 171: [1057200, 6], 172: [1057200, 6], 173: [1057200, 6], 174: [1057200, 6], 175: [120200, 1], 176: [480600, 1], 177: [409400, 1], 178: [311800, 1], 179: [375800, 1], 180: [213800, 1], 181: [261600, 1], 182: [305000, 1], 183: [120200, 1], 184: [248400, 1], 185: [242200, 1], 186: [296400, 1], 187: [364200, 1], 188: [241600, 1], 189: [260800, 1], 190: [253000, 1], 191: [240800, 1], 192: [254800, 1], 193: [70800, 1], 194: [2060000, 1], 195: [379600, 1]}\n"
     ]
    }
   ],
   "source": [
    "import pickle\n",
    "\n",
    "with open('train_series_length.pickle', 'rb') as handle:\n",
    "    to = pickle.load(handle)\n",
    "\n",
    "print(to)"
   ]
  },
  {
   "cell_type": "code",
   "execution_count": 147,
   "id": "2c7b93af-618a-41cc-91bd-b2168bb4dc1c",
   "metadata": {},
   "outputs": [
    {
     "name": "stdout",
     "output_type": "stream",
     "text": [
      "{1: [290000, 1], 2: [565400, 3], 3: [565400, 3], 4: [565400, 3], 5: [285800, 1], 6: [241400, 1], 7: [280600, 1], 8: [561400, 3], 9: [561400, 3], 10: [561400, 3], 11: [250200, 1], 12: [159800, 1], 13: [120200, 1], 14: [270800, 1], 15: [494800, 2], 16: [494800, 2], 17: [238200, 1], 18: [298200, 1], 19: [534400, 2], 20: [534400, 2], 21: [243400, 1], 22: [241400, 1], 23: [331000, 2], 24: [331000, 2], 25: [282000, 1], 26: [1032400, 2], 27: [1032400, 2], 28: [238200, 1], 29: [239600, 1], 30: [825000, 5], 31: [825000, 5], 32: [825000, 5], 33: [825000, 5], 34: [825000, 5], 35: [236400, 1], 36: [974200, 4], 37: [974200, 4], 38: [974200, 4], 39: [974200, 4], 40: [1079000, 5], 41: [1079000, 5], 42: [1079000, 5], 43: [1079000, 5], 44: [1079000, 5], 45: [251000, 1], 46: [241000, 1], 47: [235600, 1], 48: [243000, 1], 49: [766000, 3], 50: [766000, 3], 51: [766000, 3], 52: [240200, 1], 53: [236000, 1], 54: [241600, 1], 55: [531600, 2], 56: [531600, 2], 57: [241600, 1], 58: [255000, 1], 59: [230400, 1], 60: [256800, 1], 61: [274200, 1], 62: [360800, 1], 63: [143000, 1], 64: [249200, 1], 65: [238200, 1], 66: [252600, 1], 67: [244400, 1], 68: [276800, 1], 69: [287400, 1], 70: [1673800, 2], 71: [1673800, 2], 72: [120200, 1], 73: [480800, 4], 74: [480800, 4], 75: [480800, 4], 76: [480800, 4], 77: [242000, 1], 78: [120200, 1], 79: [1342000, 7], 80: [1342000, 7], 81: [1342000, 7], 82: [1342000, 7], 83: [1342000, 7], 84: [1342000, 7], 85: [1342000, 7], 86: [120200, 1], 87: [239400, 1], 88: [241200, 1], 89: [252400, 1], 90: [240800, 1], 91: [240600, 1], 92: [241600, 1], 93: [241600, 1], 94: [251400, 1], 95: [249600, 1], 96: [260800, 1], 97: [276800, 1], 98: [285200, 1], 99: [741200, 4], 100: [741200, 4], 101: [741200, 4], 102: [741200, 4], 103: [251600, 1], 104: [240200, 1], 105: [278400, 1], 106: [253000, 1], 107: [342400, 1], 108: [367400, 2], 109: [367400, 2], 110: [284200, 1], 111: [245400, 1], 112: [931600, 3], 113: [931600, 3], 114: [931600, 3], 115: [244200, 1], 116: [120200, 1], 117: [242200, 1], 118: [297800, 1], 119: [298400, 1], 120: [193200, 1], 121: [268000, 1], 122: [854600, 6], 123: [854600, 6], 124: [854600, 6], 125: [854600, 6], 126: [854600, 6], 127: [854600, 6], 128: [240600, 1], 129: [240600, 1], 130: [265400, 1], 131: [242400, 1], 132: [317800, 1], 133: [199400, 1], 134: [276400, 1], 135: [385000, 1], 136: [267200, 1], 137: [246400, 1], 138: [344200, 1], 139: [600000, 1], 140: [264600, 1], 141: [273600, 1], 142: [246200, 1], 143: [263600, 1], 144: [196600, 1], 145: [572400, 2], 146: [572400, 2], 147: [254000, 1], 148: [256400, 1], 149: [252200, 1], 150: [252200, 1], 151: [265600, 1], 152: [255200, 1], 153: [537000, 2], 154: [537000, 2], 155: [210400, 1], 156: [256000, 1], 157: [248600, 1], 158: [266200, 1], 159: [293200, 1], 160: [300000, 1], 161: [471600, 1], 162: [313600, 1], 163: [267200, 1], 164: [271400, 1], 165: [120200, 1], 166: [299600, 1], 167: [252600, 1], 168: [247800, 1], 169: [1057200, 6], 170: [1057200, 6], 171: [1057200, 6], 172: [1057200, 6], 173: [1057200, 6], 174: [1057200, 6], 175: [120200, 1], 176: [480600, 1], 177: [409400, 1], 178: [311800, 1], 179: [375800, 1], 180: [213800, 1], 181: [261600, 1], 182: [305000, 1], 183: [120200, 1], 184: [248400, 1], 185: [242200, 1], 186: [296400, 1], 187: [364200, 1], 188: [241600, 1], 189: [260800, 1], 190: [253000, 1], 191: [240800, 1], 192: [254800, 1], 193: [70800, 1], 194: [2060000, 1], 195: [379600, 1]}\n"
     ]
    }
   ],
   "source": [
    "with open('C:/Users/Marc/Desktop/model_data/train_model_data/train_series_length.pickle', 'rb') as handle:\n",
    "    jo = pickle.load(handle)\n",
    "\n",
    "print(jo)"
   ]
  },
  {
   "cell_type": "code",
   "execution_count": 148,
   "id": "bbc8ee47-1108-4d6b-9c32-b22dc6eb95e2",
   "metadata": {},
   "outputs": [
    {
     "data": {
      "text/plain": [
       "True"
      ]
     },
     "execution_count": 148,
     "metadata": {},
     "output_type": "execute_result"
    }
   ],
   "source": [
    "jo == to"
   ]
  },
  {
   "cell_type": "code",
   "execution_count": 149,
   "id": "2d39d8ea-f7c6-4f18-9278-cadf3876a97e",
   "metadata": {},
   "outputs": [
    {
     "name": "stdout",
     "output_type": "stream",
     "text": [
      "{1: [537200, 2], 2: [537200, 2], 3: [247800, 1], 4: [110000, 1], 5: [240400, 1], 6: [273800, 1], 7: [236000, 1], 8: [240600, 1], 9: [246200, 1], 10: [243000, 1], 11: [249200, 1], 12: [549200, 1], 13: [238600, 1], 14: [246200, 1], 15: [242200, 1], 16: [945800, 3], 17: [945800, 3], 18: [945800, 3], 19: [234200, 1], 20: [240800, 1], 21: [239400, 1], 22: [238200, 1], 23: [243200, 1], 24: [238000, 1], 25: [446400, 2], 26: [446400, 2], 27: [575000, 2], 28: [575000, 2]}\n"
     ]
    }
   ],
   "source": [
    "with open('C:/Users/Marc/Desktop/model_data/val_model_data/val_series_length.pickle', 'rb') as handle:\n",
    "    jo = pickle.load(handle)\n",
    "\n",
    "print(jo)"
   ]
  },
  {
   "cell_type": "code",
   "execution_count": 158,
   "id": "a1552ec3-3ec4-46a6-b7eb-83e06ffe8c79",
   "metadata": {},
   "outputs": [
    {
     "name": "stdout",
     "output_type": "stream",
     "text": [
      "[[0, 10], [1, 10], [2, 10], [3, 10], [4, 10], [5, 10], [6, 10], [7, 10], [8, 10], [9, 10], [10, 10], [11, 10], [12, 10], [13, 10], [14, 10], [15, 10], [16, 10], [17, 10], [18, 10]]\n"
     ]
    }
   ],
   "source": [
    "ls = []\n",
    "jes = 0\n",
    "for i in range(19):\n",
    "    ls.append([i, jes if jes else 10])\n",
    "\n",
    "print(ls)"
   ]
  },
  {
   "cell_type": "code",
   "execution_count": null,
   "id": "13b4254f-edd0-4497-914e-2ab7f59c4afd",
   "metadata": {},
   "outputs": [],
   "source": []
  },
  {
   "cell_type": "code",
   "execution_count": null,
   "id": "665d2233-cef0-4400-b746-127b1e8a844a",
   "metadata": {},
   "outputs": [],
   "source": []
  },
  {
   "cell_type": "code",
   "execution_count": null,
   "id": "51198177-0fb2-4b1b-971a-a40a19f39fd4",
   "metadata": {},
   "outputs": [],
   "source": []
  },
  {
   "cell_type": "code",
   "execution_count": null,
   "id": "039747ed-44e8-4758-94bb-ffbe45f002b5",
   "metadata": {},
   "outputs": [],
   "source": []
  }
 ],
 "metadata": {
  "kernelspec": {
   "display_name": "Python 3 (ipykernel)",
   "language": "python",
   "name": "python3"
  },
  "language_info": {
   "codemirror_mode": {
    "name": "ipython",
    "version": 3
   },
   "file_extension": ".py",
   "mimetype": "text/x-python",
   "name": "python",
   "nbconvert_exporter": "python",
   "pygments_lexer": "ipython3",
   "version": "3.9.6"
  }
 },
 "nbformat": 4,
 "nbformat_minor": 5
}
