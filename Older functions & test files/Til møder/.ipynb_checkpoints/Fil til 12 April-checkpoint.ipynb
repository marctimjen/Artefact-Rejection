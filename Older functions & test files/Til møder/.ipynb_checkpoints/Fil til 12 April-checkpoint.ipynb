{
 "cells": [
  {
   "cell_type": "code",
   "execution_count": 54,
   "id": "ba1df936-cbb4-4474-bc9b-f0bde7e31c7b",
   "metadata": {},
   "outputs": [],
   "source": [
    "import csv\n",
    "import mne\n",
    "import pandas as pd\n",
    "import matplotlib.pyplot as plt"
   ]
  },
  {
   "cell_type": "code",
   "execution_count": 82,
   "id": "4083973b-773c-4d32-b30a-11f4d3aa3a7d",
   "metadata": {},
   "outputs": [
    {
     "name": "stdout",
     "output_type": "stream",
     "text": [
      "Extracting EDF parameters from C:\\Users\\Marc\\Desktop\\artefact_annotations\\eeg2.edf...\n",
      "EDF file detected\n",
      "Setting channel info structure...\n",
      "Creating raw.info structure...\n",
      "Reading 0 ... 962815  =      0.000 ...  3760.996 secs...\n"
     ]
    }
   ],
   "source": [
    "file_dir = \"C:\\\\Users\\\\Marc\\\\Desktop\\\\artefact_annotations\\\\eeg2.edf\" \n",
    "#1\n",
    "\n",
    "\n",
    "file = mne.io.read_raw_edf(file_dir, preload=True)"
   ]
  },
  {
   "cell_type": "code",
   "execution_count": 83,
   "id": "b7e54aa9-5b90-4c89-b953-d3bdd5d60a55",
   "metadata": {},
   "outputs": [
    {
     "name": "stdout",
     "output_type": "stream",
     "text": [
      "Filtering raw data in 1 contiguous segment\n",
      "Setting up band-pass filter from 0.1 - 1e+02 Hz\n",
      "\n",
      "FIR filter parameters\n",
      "---------------------\n",
      "Designing a one-pass, zero-phase, non-causal bandpass filter:\n",
      "- Windowed time-domain design (firwin) method\n",
      "- Hamming window with 0.0194 passband ripple and 53 dB stopband attenuation\n",
      "- Lower passband edge: 0.10\n",
      "- Lower transition bandwidth: 0.10 Hz (-6 dB cutoff frequency: 0.05 Hz)\n",
      "- Upper passband edge: 100.00 Hz\n",
      "- Upper transition bandwidth: 25.00 Hz (-6 dB cutoff frequency: 112.50 Hz)\n",
      "- Filter length: 8449 samples (33.004 sec)\n",
      "\n",
      "Setting up band-stop filter from 49 - 51 Hz\n",
      "\n",
      "FIR filter parameters\n",
      "---------------------\n",
      "Designing a one-pass, zero-phase, non-causal bandstop filter:\n",
      "- Windowed time-domain design (firwin) method\n",
      "- Hamming window with 0.0194 passband ripple and 53 dB stopband attenuation\n",
      "- Lower passband edge: 49.38\n",
      "- Lower transition bandwidth: 0.50 Hz (-6 dB cutoff frequency: 49.12 Hz)\n",
      "- Upper passband edge: 50.62 Hz\n",
      "- Upper transition bandwidth: 0.50 Hz (-6 dB cutoff frequency: 50.88 Hz)\n",
      "- Filter length: 1691 samples (6.605 sec)\n",
      "\n"
     ]
    }
   ],
   "source": [
    "data = file.filter(0.1, 100) # use filter on data\n",
    "data = data.notch_filter(50) # use filter on data"
   ]
  },
  {
   "cell_type": "code",
   "execution_count": 84,
   "id": "2d53b6e0-7c41-421a-82e5-b95b967e0bf0",
   "metadata": {},
   "outputs": [
    {
     "data": {
      "text/plain": [
       "256.0"
      ]
     },
     "execution_count": 84,
     "metadata": {},
     "output_type": "execute_result"
    }
   ],
   "source": [
    "data.info['sfreq']"
   ]
  },
  {
   "cell_type": "code",
   "execution_count": 85,
   "id": "75f69e2c-f724-49ed-bee4-d34bfb99d112",
   "metadata": {},
   "outputs": [],
   "source": [
    "df = data.to_data_frame()"
   ]
  },
  {
   "cell_type": "code",
   "execution_count": 86,
   "id": "a8414ba7-1de9-4faf-8bc7-f26af3d68c4d",
   "metadata": {},
   "outputs": [
    {
     "name": "stdout",
     "output_type": "stream",
     "text": [
      "time\n",
      "EEG Fp1-Ref\n",
      "EEG Fp2-Ref\n",
      "EEG F3-Ref\n",
      "EEG F4-Ref\n",
      "EEG F7-Ref\n",
      "EEG F8-Ref\n",
      "EEG Fz-Ref\n",
      "EEG C3-Ref\n",
      "EEG C4-Ref\n",
      "EEG Cz-Ref\n",
      "EEG T3-Ref\n",
      "EEG T5-Ref\n",
      "EEG T4-Ref\n",
      "EEG T6-Ref\n",
      "EEG P3-Ref\n",
      "EEG P4-Ref\n",
      "EEG Pz-Ref\n",
      "EEG O1-Ref\n",
      "EEG O2-Ref\n",
      "ECG EKG\n",
      "Resp Effort\n"
     ]
    }
   ],
   "source": [
    "for i in df.columns:\n",
    "    print(i)"
   ]
  },
  {
   "cell_type": "code",
   "execution_count": 120,
   "id": "61f8d74a-2c4f-481a-b32d-05aa6bb93eb7",
   "metadata": {},
   "outputs": [],
   "source": [
    "list1 = df[\"EEG Fp2-Ref\"] # get the first series\n",
    "list2 = df[\"EEG F4-Ref\"] # get the second series\n",
    "df_new = list1 - list2\n",
    "df_new = pd.DataFrame(df_new.rename(\"F3-C3\"))"
   ]
  },
  {
   "cell_type": "code",
   "execution_count": 121,
   "id": "ac7250c2-3d0a-42fa-a172-9a668fc60f40",
   "metadata": {},
   "outputs": [],
   "source": [
    "import numpy as np"
   ]
  },
  {
   "cell_type": "code",
   "execution_count": 122,
   "id": "553b3ba5-c5e3-4316-862b-8e62a5c3df78",
   "metadata": {},
   "outputs": [],
   "source": [
    "target = np.array([0 for _ in range(len(df_new))])"
   ]
  },
  {
   "cell_type": "code",
   "execution_count": 123,
   "id": "712fb4e7-30ca-483a-b7e3-6858bc3d10c5",
   "metadata": {},
   "outputs": [],
   "source": [
    "target[(20)*256:(27*60 + 20)*256] = 1\n",
    "target[(60*12 + 20)*256:(60*12 + 20 + 5*60)*256] = 1\n",
    "target[(20*60 + 39)*256:(20*60 + 39 + 2*60)*256] = 1\n",
    "\n",
    "#target[(18*20 + 3)*256:(18*20 + 3 + 88*60)*256] = 1"
   ]
  },
  {
   "cell_type": "code",
   "execution_count": 124,
   "id": "c1ef307f-9d96-47b1-933b-5d982398f326",
   "metadata": {},
   "outputs": [
    {
     "data": {
      "text/plain": [
       "[<matplotlib.lines.Line2D at 0x2bb9385f8e0>]"
      ]
     },
     "execution_count": 124,
     "metadata": {},
     "output_type": "execute_result"
    },
    {
     "data": {
      "image/png": "[encoded data removed]",
      "text/plain": [
       "<Figure size 432x288 with 2 Axes>"
      ]
     },
     "metadata": {
      "needs_background": "light"
     },
     "output_type": "display_data"
    }
   ],
   "source": [
    "figure, axis = plt.subplots(2, 1)\n",
    "axis[0].plot(df_new)\n",
    "axis[1].plot(target, \"b\")"
   ]
  },
  {
   "cell_type": "code",
   "execution_count": null,
   "id": "5bf212b1-8edd-42dd-811a-1ac7039f7b64",
   "metadata": {},
   "outputs": [],
   "source": []
  }
 ],
 "metadata": {
  "kernelspec": {
   "display_name": "Python 3 (ipykernel)",
   "language": "python",
   "name": "python3"
  },
  "language_info": {
   "codemirror_mode": {
    "name": "ipython",
    "version": 3
   },
   "file_extension": ".py",
   "mimetype": "text/x-python",
   "name": "python",
   "nbconvert_exporter": "python",
   "pygments_lexer": "ipython3",
   "version": "3.9.6"
  }
 },
 "nbformat": 4,
 "nbformat_minor": 5
}
