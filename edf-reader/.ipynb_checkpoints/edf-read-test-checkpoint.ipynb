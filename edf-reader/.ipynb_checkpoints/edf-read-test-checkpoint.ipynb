{
 "cells": [
  {
   "cell_type": "code",
   "execution_count": 16,
   "id": "6b7a94ab-40ea-4839-9038-fbb34702540d",
   "metadata": {},
   "outputs": [],
   "source": [
    "import mne\n",
    "import pyedflib\n",
    "import numpy as np"
   ]
  },
  {
   "cell_type": "code",
   "execution_count": 17,
   "id": "ff0d5d76-e733-4daa-8fa2-60885d693d4b",
   "metadata": {},
   "outputs": [
    {
     "name": "stdout",
     "output_type": "stream",
     "text": [
      "read -1, less than 120000 requested!!!\n",
      "read -1, less than 120000 requested!!!\n",
      "read -1, less than 120000 requested!!!\n",
      "read -1, less than 120000 requested!!!\n",
      "read -1, less than 120000 requested!!!\n",
      "read -1, less than 120000 requested!!!\n",
      "read -1, less than 120000 requested!!!\n",
      "read -1, less than 120000 requested!!!\n",
      "read -1, less than 120000 requested!!!\n",
      "read -1, less than 120000 requested!!!\n",
      "read -1, less than 120000 requested!!!\n"
     ]
    }
   ],
   "source": [
    "file_name = pyedflib.data.get_generator_filename()\n",
    "f = pyedflib.EdfReader(file_name)\n",
    "n = f.signals_in_file\n",
    "signal_labels = f.getSignalLabels()\n",
    "sigbufs = np.zeros((n, f.getNSamples()[0]))\n",
    "for i in np.arange(n):\n",
    "        sigbufs[i, :] = f.readSignal(i)"
   ]
  },
  {
   "cell_type": "code",
   "execution_count": 18,
   "id": "5e62249d-385e-4f91-bdaf-7a4545987f9c",
   "metadata": {},
   "outputs": [
    {
     "name": "stdout",
     "output_type": "stream",
     "text": [
      "Extracting EDF parameters from C:\\Users\\Marc\\Desktop\\data_series\\v2.1.0\\edf\\01_tcp_ar\\004\\00000458\\s004_2003_02_12\\00000458_s004_t001.edf...\n",
      "EDF file detected\n",
      "Setting channel info structure...\n",
      "Creating raw.info structure...\n",
      "Reading 0 ... 495599  =      0.000 ...  1238.997 secs...\n"
     ]
    }
   ],
   "source": [
    "file_dir = \"C:/Users/Marc/Desktop/data_series/v2.1.0/edf/01_tcp_ar/004/00000458/s004_2003_02_12/00000458_s004_t001.edf\" \n",
    "#013\n",
    "\n",
    "file = mne.io.read_raw_edf(file_dir, preload=True)\n",
    "df = file.to_data_frame()"
   ]
  },
  {
   "cell_type": "code",
   "execution_count": null,
   "id": "7292e5ae-d49d-4355-bbe5-bb368a577ad6",
   "metadata": {},
   "outputs": [],
   "source": []
  },
  {
   "cell_type": "code",
   "execution_count": null,
   "id": "4111893a-47bd-4216-8ea8-31622a34bba7",
   "metadata": {},
   "outputs": [],
   "source": []
  },
  {
   "cell_type": "code",
   "execution_count": null,
   "id": "52bba764-4e6e-4a45-b0c0-738ea4129653",
   "metadata": {},
   "outputs": [],
   "source": []
  }
 ],
 "metadata": {
  "kernelspec": {
   "display_name": "Python 3 (ipykernel)",
   "language": "python",
   "name": "python3"
  },
  "language_info": {
   "codemirror_mode": {
    "name": "ipython",
    "version": 3
   },
   "file_extension": ".py",
   "mimetype": "text/x-python",
   "name": "python",
   "nbconvert_exporter": "python",
   "pygments_lexer": "ipython3",
   "version": "3.9.6"
  }
 },
 "nbformat": 4,
 "nbformat_minor": 5
}
