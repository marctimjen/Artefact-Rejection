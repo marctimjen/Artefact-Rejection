{
 "cells": [
  {
   "cell_type": "code",
   "execution_count": 1,
   "id": "a5b8855e-761c-4225-a4db-b851e92ddf6f",
   "metadata": {},
   "outputs": [],
   "source": [
    "import matplotlib.pyplot as plt\n",
    "import numpy as np"
   ]
  },
  {
   "cell_type": "code",
   "execution_count": 4,
   "id": "5aac0b7c-3955-4e42-b3cd-9a6834ea9441",
   "metadata": {},
   "outputs": [],
   "source": [
    "path = r\"C:\\Users\\Marc\\Desktop\\data\\val_model_data\"\n"
   ]
  },
  {
   "cell_type": "code",
   "execution_count": 6,
   "id": "83e3872f-53df-464c-b649-4c9f12026207",
   "metadata": {},
   "outputs": [],
   "source": [
    "ind = np.memmap(path + \"/model_input.dat\", dtype='float32', mode='r', shape=(28, 22, 549200))\n",
    "tar = np.memmap(path + \"/model_target.dat\", dtype='float32', mode='r', shape=(28, 22, 549200))"
   ]
  },
  {
   "cell_type": "code",
   "execution_count": 21,
   "id": "630ba4ce-9c02-4144-a6ba-70869d8e05c2",
   "metadata": {},
   "outputs": [],
   "source": [
    "test = ind[1]"
   ]
  },
  {
   "cell_type": "code",
   "execution_count": 22,
   "id": "6aea644c-b96e-4404-91c2-9ed157e7aab2",
   "metadata": {},
   "outputs": [
    {
     "data": {
      "text/plain": [
       "[<matplotlib.lines.Line2D at 0x2372e17a340>]"
      ]
     },
     "execution_count": 22,
     "metadata": {},
     "output_type": "execute_result"
    },
    {
     "data": {
      "image/png": "[encoded data removed]",
      "text/plain": [
       "<Figure size 432x288 with 1 Axes>"
      ]
     },
     "metadata": {
      "needs_background": "light"
     },
     "output_type": "display_data"
    }
   ],
   "source": [
    "plt.plot(test[4])"
   ]
  },
  {
   "cell_type": "code",
   "execution_count": null,
   "id": "f1a22cad-84e2-4c0e-aa37-c1add8d9fc4e",
   "metadata": {},
   "outputs": [],
   "source": []
  }
 ],
 "metadata": {
  "kernelspec": {
   "display_name": "Python 3 (ipykernel)",
   "language": "python",
   "name": "python3"
  },
  "language_info": {
   "codemirror_mode": {
    "name": "ipython",
    "version": 3
   },
   "file_extension": ".py",
   "mimetype": "text/x-python",
   "name": "python",
   "nbconvert_exporter": "python",
   "pygments_lexer": "ipython3",
   "version": "3.9.6"
  }
 },
 "nbformat": 4,
 "nbformat_minor": 5
}
