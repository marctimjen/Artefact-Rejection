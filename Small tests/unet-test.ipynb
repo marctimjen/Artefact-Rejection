{
 "cells": [
  {
   "cell_type": "code",
   "execution_count": 1,
   "id": "8bc57dea-fc49-43a5-823a-c99b9dd917d5",
   "metadata": {},
   "outputs": [],
   "source": [
    "import os\n",
    "import torch.nn as nn\n",
    "import torch\n",
    "import torch.nn.functional as F\n",
    "from torch.optim import SGD, Adam\n",
    "from torch.utils.data import DataLoader, random_split\n",
    "from torch.optim.lr_scheduler import CyclicLR, LambdaLR\n",
    "import torch.multiprocessing as mp\n",
    "import numpy as np\n",
    "import random\n",
    "import math\n",
    "\n",
    "import sys\n",
    "sys.path.append(\"..\") # adds higher directory to python modules path\n",
    "\n",
    "from LoaderPACK.Unet import Unet\n",
    "from LoaderPACK.Unet_leaky import Unet_leaky, Unet_leaky_lstm"
   ]
  },
  {
   "cell_type": "code",
   "execution_count": 2,
   "id": "833eea70-1d57-48ae-88b9-d1b642639192",
   "metadata": {},
   "outputs": [],
   "source": [
    "nEpoch = 5\n",
    "base_lr = 0.1 # where we start the learning rate\n",
    "\n",
    "device = \"cpu\"\n",
    "\n",
    "model = Unet(n_channels=1, n_classes=10).to(device)\n",
    "# model = Unet_leaky(n_channels=1, n_classes=2).to(device)\n",
    "optimizer = SGD(model.parameters(), lr=base_lr)\n",
    "lossFunc = nn.CrossEntropyLoss(weight = (torch.zeros(10)+1).to(device), reduction = \"mean\")\n",
    "# lossFunc = nn.MSELoss()\n",
    "fl = torch.FloatTensor\n",
    "it = torch.LongTensor\n",
    "l = 60000"
   ]
  },
  {
   "cell_type": "code",
   "execution_count": 3,
   "id": "9c0da1e9-ea19-4624-9834-0b89c675346c",
   "metadata": {},
   "outputs": [],
   "source": [
    "lss = []\n",
    "for i in range(100):\n",
    "    ind = torch.randint(10, (1, 1, l))/10 # use random values\n",
    "    # ind = torch.randn(1, 1, l)\n",
    "    # tar = torch.zeros(1, 1, l) + 1\n",
    "    tar = (ind*10).type(it)\n",
    "    target = tar.view(-1).type(it)\n",
    "    y_pred = model(ind)\n",
    "    model.zero_grad()\n",
    "    optimizer.zero_grad()\n",
    "    pred = y_pred.transpose(1, 2).reshape(-1, 10).type(fl)\n",
    "    loss = lossFunc(pred, target)\n",
    "    # loss = lossFunc(torch.nn.functional.one_hot(tar.to(torch.int64)[0][0], 10).to(torch.float32), pred)\n",
    "    loss.backward()\n",
    "    lss.append(loss.item())\n",
    "    # nn.utils.clip_grad_value_(model.parameters(), clip_value=1.0)\n",
    "    # nn.utils.clip_grad_norm_(model.parameters(), max_norm=10.0, norm_type=2)\n",
    "    optimizer.step()"
   ]
  },
  {
   "cell_type": "code",
   "execution_count": 4,
   "id": "d42664b8-75f4-4f23-96d7-0a9bb18d6caf",
   "metadata": {},
   "outputs": [
    {
     "data": {
      "image/png": "[encoded data removed]",
      "text/plain": [
       "<Figure size 432x288 with 1 Axes>"
      ]
     },
     "metadata": {
      "needs_background": "light"
     },
     "output_type": "display_data"
    }
   ],
   "source": [
    "import matplotlib.pyplot as plt\n",
    "plt.plot(lss)\n",
    "plt.show()"
   ]
  },
  {
   "cell_type": "code",
   "execution_count": 5,
   "id": "d11e4d15-fe17-495b-aaa2-c7a9edba3978",
   "metadata": {},
   "outputs": [],
   "source": [
    "ind = torch.zeros(1, 1, l) + torch.randint(10, (1,))/10\n",
    "# ind = torch.randn(1, 1, l)\n",
    "# tar = torch.zeros(1, 1, l) + 1\n",
    "tar = (ind*10).type(it)\n",
    "# target = tar.view(-1).type(it)\n",
    "y_pred = model(ind)"
   ]
  },
  {
   "cell_type": "code",
   "execution_count": 6,
   "id": "dfb84f0e-fa5f-43e5-b383-630c7c5f1069",
   "metadata": {},
   "outputs": [
    {
     "data": {
      "text/plain": [
       "tensor([0.0851, 0.0936, 0.1151, 0.1172, 0.1021, 0.0766, 0.1102, 0.1000, 0.1121,\n",
       "        0.0881], grad_fn=<SelectBackward0>)"
      ]
     },
     "execution_count": 6,
     "metadata": {},
     "output_type": "execute_result"
    }
   ],
   "source": [
    "y_pred[0][:,50]"
   ]
  },
  {
   "cell_type": "code",
   "execution_count": 7,
   "id": "05288664-179f-4b79-ae33-63056c4fc027",
   "metadata": {},
   "outputs": [
    {
     "data": {
      "text/plain": [
       "tensor([[[0.4000, 0.4000, 0.4000,  ..., 0.4000, 0.4000, 0.4000]]])"
      ]
     },
     "execution_count": 7,
     "metadata": {},
     "output_type": "execute_result"
    }
   ],
   "source": [
    "ind"
   ]
  },
  {
   "cell_type": "code",
   "execution_count": null,
   "id": "01d76cf5-575c-4476-8fb4-ee194c711f02",
   "metadata": {},
   "outputs": [],
   "source": []
  },
  {
   "cell_type": "code",
   "execution_count": null,
   "id": "cb431c2c-e1c9-47f4-82bc-7fd791bf57fe",
   "metadata": {},
   "outputs": [],
   "source": []
  },
  {
   "cell_type": "code",
   "execution_count": 8,
   "id": "32f02849-b76a-4d59-8db4-19c2a82603ec",
   "metadata": {},
   "outputs": [],
   "source": [
    "nEpoch = 5\n",
    "base_lr = 0.1 # where we start the learning rate\n",
    "\n",
    "device = \"cpu\"\n",
    "\n",
    "model = Unet(n_channels=1, n_classes=10).to(device)\n",
    "# model = Unet_leaky(n_channels=1, n_classes=2).to(device)\n",
    "optimizer = SGD(model.parameters(), lr=base_lr)\n",
    "lossFunc = nn.CrossEntropyLoss(weight = (torch.zeros(10)+1).to(device), reduction = \"mean\")\n",
    "# lossFunc = nn.MSELoss()\n",
    "fl = torch.FloatTensor\n",
    "it = torch.LongTensor\n",
    "l = 60000"
   ]
  },
  {
   "cell_type": "code",
   "execution_count": 9,
   "id": "42b7218b-e62a-4d7c-9cfa-b19feb52a8fd",
   "metadata": {},
   "outputs": [],
   "source": [
    "lss = []\n",
    "for i in range(100):\n",
    "    ind = torch.zeros(1, 1, l) + torch.randint(10, (1,))/10\n",
    "    tar = (ind*10).type(it)\n",
    "    target = tar.view(-1).type(it)\n",
    "    y_pred = model(ind)\n",
    "    model.zero_grad()\n",
    "    optimizer.zero_grad()\n",
    "    pred = y_pred.transpose(1, 2).reshape(-1, 10).type(fl)\n",
    "    loss = lossFunc(pred, target)\n",
    "    # loss = lossFunc(torch.nn.functional.one_hot(tar.to(torch.int64)[0][0], 10).to(torch.float32), pred)\n",
    "    loss.backward()\n",
    "    lss.append(loss.item())\n",
    "    # nn.utils.clip_grad_value_(model.parameters(), clip_value=1.0)\n",
    "    # nn.utils.clip_grad_norm_(model.parameters(), max_norm=10.0, norm_type=2)\n",
    "    optimizer.step()"
   ]
  },
  {
   "cell_type": "code",
   "execution_count": 10,
   "id": "d43c4623-bd61-4658-97e7-b20c3d83de27",
   "metadata": {},
   "outputs": [
    {
     "data": {
      "image/png": "[encoded data removed]",
      "text/plain": [
       "<Figure size 432x288 with 1 Axes>"
      ]
     },
     "metadata": {
      "needs_background": "light"
     },
     "output_type": "display_data"
    }
   ],
   "source": [
    "import matplotlib.pyplot as plt\n",
    "plt.plot(lss)\n",
    "plt.show()"
   ]
  },
  {
   "cell_type": "code",
   "execution_count": 11,
   "id": "84425ccd-9286-473f-9d5c-294cdae0ea6a",
   "metadata": {},
   "outputs": [
    {
     "name": "stdout",
     "output_type": "stream",
     "text": [
      "[2.287996768951416, 2.2865841388702393, 2.2951395511627197, nan, nan, nan, nan, nan, nan, nan, nan, nan, nan, nan, nan, nan, nan, nan, nan, nan, nan, nan, nan, nan, nan, nan, nan, nan, nan, nan, nan, nan, nan, nan, nan, nan, nan, nan, nan, nan, nan, nan, nan, nan, nan, nan, nan, nan, nan, nan, nan, nan, nan, nan, nan, nan, nan, nan, nan, nan, nan, nan, nan, nan, nan, nan, nan, nan, nan, nan, nan, nan, nan, nan, nan, nan, nan, nan, nan, nan, nan, nan, nan, nan, nan, nan, nan, nan, nan, nan, nan, nan, nan, nan, nan, nan, nan, nan, nan, nan]\n"
     ]
    }
   ],
   "source": [
    "print(lss)"
   ]
  },
  {
   "cell_type": "code",
   "execution_count": 12,
   "id": "76e7a7b2-a6a9-4a86-8d50-c2089e38065d",
   "metadata": {},
   "outputs": [],
   "source": [
    "nEpoch = 5\n",
    "base_lr = 0.1 # where we start the learning rate\n",
    "\n",
    "device = \"cpu\"\n",
    "\n",
    "model = Unet(n_channels=1, n_classes=10).to(device)\n",
    "# model = Unet_leaky(n_channels=1, n_classes=2).to(device)\n",
    "optimizer = SGD(model.parameters(), lr=base_lr)\n",
    "lossFunc = nn.CrossEntropyLoss(weight = (torch.zeros(10)+1).to(device), reduction = \"mean\")\n",
    "# lossFunc = nn.MSELoss()\n",
    "fl = torch.FloatTensor\n",
    "it = torch.LongTensor\n",
    "l = 60000"
   ]
  },
  {
   "cell_type": "code",
   "execution_count": 13,
   "id": "69ec9956-380a-49cb-9430-513730e2076e",
   "metadata": {},
   "outputs": [],
   "source": [
    "lss = []\n",
    "for i in range(100):\n",
    "    ind = torch.zeros(1, 1, l) + torch.randint(10, (1,))/10\n",
    "    tar = (ind*10).type(it)\n",
    "    target = tar.view(-1).type(it)\n",
    "    y_pred = model(ind)\n",
    "    model.zero_grad()\n",
    "    optimizer.zero_grad()\n",
    "    pred = y_pred.transpose(1, 2).reshape(-1, 10).type(fl)\n",
    "    loss = lossFunc(pred, target)\n",
    "    # loss = lossFunc(torch.nn.functional.one_hot(tar.to(torch.int64)[0][0], 10).to(torch.float32), pred)\n",
    "    loss.backward()\n",
    "    lss.append(loss.item())\n",
    "    nn.utils.clip_grad_value_(model.parameters(), clip_value=1.0)\n",
    "    # nn.utils.clip_grad_norm_(model.parameters(), max_norm=10.0, norm_type=2)\n",
    "    optimizer.step()"
   ]
  },
  {
   "cell_type": "code",
   "execution_count": 14,
   "id": "d959bf65-7457-4cd6-8e8b-780a3fb48f67",
   "metadata": {},
   "outputs": [
    {
     "data": {
      "image/png": "[encoded data removed]",
      "text/plain": [
       "<Figure size 432x288 with 1 Axes>"
      ]
     },
     "metadata": {
      "needs_background": "light"
     },
     "output_type": "display_data"
    }
   ],
   "source": [
    "import matplotlib.pyplot as plt\n",
    "plt.plot(lss)\n",
    "plt.show()"
   ]
  },
  {
   "cell_type": "code",
   "execution_count": null,
   "id": "a0780f30-07e1-4186-818d-86f8106eeb2a",
   "metadata": {},
   "outputs": [],
   "source": []
  },
  {
   "cell_type": "markdown",
   "id": "ea02f27e-0d71-438c-8566-9b42b738012a",
   "metadata": {},
   "source": [
    "# 4 Train the network with constant value"
   ]
  },
  {
   "cell_type": "code",
   "execution_count": 25,
   "id": "f7792150-ed44-425e-8ab7-81e9f43d5658",
   "metadata": {},
   "outputs": [],
   "source": [
    "nEpoch = 5\n",
    "base_lr = 0.1 # where we start the learning rate\n",
    "\n",
    "device = \"cpu\"\n",
    "\n",
    "model = Unet(n_channels=1, n_classes=10).to(device)\n",
    "# model = Unet_leaky(n_channels=1, n_classes=2).to(device)\n",
    "optimizer = SGD(model.parameters(), lr=base_lr)\n",
    "lossFunc = nn.CrossEntropyLoss(weight = (torch.zeros(10)+1).to(device), reduction = \"mean\")\n",
    "# lossFunc = nn.MSELoss()\n",
    "fl = torch.FloatTensor\n",
    "it = torch.LongTensor\n",
    "l = 60000"
   ]
  },
  {
   "cell_type": "code",
   "execution_count": 26,
   "id": "7505a790-7e03-4b3b-ba37-05727f150d60",
   "metadata": {},
   "outputs": [],
   "source": [
    "lss = []\n",
    "for i in range(100):\n",
    "    ind = torch.zeros(1, 1, l) + torch.randint(10, (1,))/10\n",
    "    tar = torch.zeros(1, 1, l) + 1\n",
    "    target = tar.view(-1).type(it)\n",
    "    y_pred = model(ind)\n",
    "    model.zero_grad()\n",
    "    optimizer.zero_grad()\n",
    "    pred = y_pred.transpose(1, 2).reshape(-1, 10).type(fl)\n",
    "    loss = lossFunc(pred, target)\n",
    "    # loss = lossFunc(torch.nn.functional.one_hot(tar.to(torch.int64)[0][0], 10).to(torch.float32), pred)\n",
    "    loss.backward()\n",
    "    lss.append(loss.item())\n",
    "    nn.utils.clip_grad_value_(model.parameters(), clip_value=1.0)\n",
    "    # nn.utils.clip_grad_norm_(model.parameters(), max_norm=10.0, norm_type=2)\n",
    "    optimizer.step()"
   ]
  },
  {
   "cell_type": "code",
   "execution_count": 27,
   "id": "93fa8f03-c274-4daa-a16a-0d8cec3d8c7a",
   "metadata": {},
   "outputs": [
    {
     "data": {
      "image/png": "[encoded data removed]",
      "text/plain": [
       "<Figure size 432x288 with 1 Axes>"
      ]
     },
     "metadata": {
      "needs_background": "light"
     },
     "output_type": "display_data"
    }
   ],
   "source": [
    "import matplotlib.pyplot as plt\n",
    "plt.plot(lss)\n",
    "plt.show()"
   ]
  },
  {
   "cell_type": "code",
   "execution_count": 29,
   "id": "631975dc-089b-41be-81fe-5ae5dee962a1",
   "metadata": {},
   "outputs": [
    {
     "name": "stdout",
     "output_type": "stream",
     "text": [
      "[2.3030896186828613, 2.301814317703247, 2.3006017208099365, 2.29939603805542, 2.2981646060943604, 2.2968666553497314, 2.2955455780029297, 2.294238567352295, 2.292915105819702, 2.2915782928466797, 2.2902348041534424, 2.2888717651367188, 2.287487268447876, 2.286076068878174, 2.2846312522888184, 2.2831826210021973, 2.281717538833618, 2.2802112102508545, 2.2786788940429688, 2.2771191596984863, 2.2755253314971924, 2.2738969326019287, 2.2722270488739014, 2.270472764968872, 2.268688917160034, 2.266861915588379, 2.264957904815674, 2.2630300521850586, 2.261052370071411, 2.2590277194976807, 2.2569408416748047, 2.2548203468322754, 2.2526230812072754, 2.2504003047943115, 2.2480807304382324, 2.2457363605499268, 2.2432892322540283, 2.240797996520996, 2.2382397651672363, 2.2356112003326416, 2.232861280441284, 2.2300679683685303, 2.227173328399658, 2.224214792251587, 2.221163034439087, 2.2179672718048096, 2.2147057056427, 2.211341619491577, 2.2078492641448975, 2.2042388916015625, 2.20050048828125, 2.1966466903686523, 2.192669630050659, 2.188539743423462, 2.1842384338378906, 2.1797893047332764, 2.1751322746276855, 2.170302391052246, 2.1652956008911133, 2.160100221633911, 2.154672384262085, 2.1490001678466797, 2.1431124210357666, 2.136897563934326, 2.130453586578369, 2.1235804557800293, 2.1164798736572266, 2.1090521812438965, 2.101346731185913, 2.093158483505249, 2.0846481323242188, 2.0757834911346436, 2.0665478706359863, 2.056846857070923, 2.0467610359191895, 2.036163091659546, 2.0251216888427734, 2.0136232376098633, 2.001575231552124, 1.9890611171722412, 1.9761085510253906, 1.9627116918563843, 1.9488251209259033, 1.934393048286438, 1.9195865392684937, 1.9043712615966797, 1.8888494968414307, 1.8729912042617798, 1.8570245504379272, 1.8410561084747314, 1.8246897459030151, 1.808383584022522, 1.7922494411468506, 1.7763826847076416, 1.7608739137649536, 1.7459226846694946, 1.7308669090270996, 1.7164781093597412, 1.7026824951171875, 1.6895190477371216]\n"
     ]
    }
   ],
   "source": [
    "print(lss)"
   ]
  }
 ],
 "metadata": {
  "kernelspec": {
   "display_name": "Python 3 (ipykernel)",
   "language": "python",
   "name": "python3"
  },
  "language_info": {
   "codemirror_mode": {
    "name": "ipython",
    "version": 3
   },
   "file_extension": ".py",
   "mimetype": "text/x-python",
   "name": "python",
   "nbconvert_exporter": "python",
   "pygments_lexer": "ipython3",
   "version": "3.9.6"
  }
 },
 "nbformat": 4,
 "nbformat_minor": 5
}
