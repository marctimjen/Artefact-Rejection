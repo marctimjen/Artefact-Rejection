{
 "cells": [
  {
   "cell_type": "code",
   "execution_count": 2,
   "id": "c3ade9db-63bb-4403-bb42-383290639f99",
   "metadata": {},
   "outputs": [],
   "source": [
    "import torch\n",
    "import torch.nn as nn"
   ]
  },
  {
   "cell_type": "code",
   "execution_count": 70,
   "id": "bcaa497c-7cf7-4bdd-ac3c-4f3fe718e4b4",
   "metadata": {},
   "outputs": [
    {
     "name": "stdout",
     "output_type": "stream",
     "text": [
      "tensor([[0.0707, 0.9293],\n",
      "        [0.1997, 0.8003],\n",
      "        [0.1423, 0.8577]], grad_fn=<SoftmaxBackward>)\n",
      "\n",
      "tensor([1, 0, 1])\n",
      "\n",
      "tensor([3.5331, 1.0378, 3.9810], grad_fn=<NllLossBackward>)\n"
     ]
    }
   ],
   "source": [
    "loss_function = nn.CrossEntropyLoss(weight = torch.tensor([1., 10.]), reduction = \"none\")\n",
    "\n",
    "input = torch.randn(3, 2, requires_grad = True).softmax(dim=1)\n",
    "print(input)\n",
    "print()\n",
    "\n",
    "target = torch.tensor([1, 0, 1])\n",
    "print(target)\n",
    "print()\n",
    "\n",
    "loss = loss_function(input, target)\n",
    "\n",
    "print(loss)"
   ]
  },
  {
   "cell_type": "code",
   "execution_count": 1,
   "id": "9b919f32-e24c-40e1-ad27-1768fe8d7e65",
   "metadata": {},
   "outputs": [
    {
     "ename": "NameError",
     "evalue": "name 'nn' is not defined",
     "output_type": "error",
     "traceback": [
      "\u001b[1;31m---------------------------------------------------------------------------\u001b[0m",
      "\u001b[1;31mNameError\u001b[0m                                 Traceback (most recent call last)",
      "Input \u001b[1;32mIn [1]\u001b[0m, in \u001b[0;36m<cell line: 1>\u001b[1;34m()\u001b[0m\n\u001b[1;32m----> 1\u001b[0m loss_function \u001b[38;5;241m=\u001b[39m \u001b[43mnn\u001b[49m\u001b[38;5;241m.\u001b[39mCrossEntropyLoss(weight \u001b[38;5;241m=\u001b[39m torch\u001b[38;5;241m.\u001b[39mtensor([\u001b[38;5;241m1.\u001b[39m, \u001b[38;5;241m10.\u001b[39m]), reduction \u001b[38;5;241m=\u001b[39m \u001b[38;5;124m\"\u001b[39m\u001b[38;5;124mmean\u001b[39m\u001b[38;5;124m\"\u001b[39m)\n\u001b[0;32m      3\u001b[0m \u001b[38;5;28minput\u001b[39m \u001b[38;5;241m=\u001b[39m torch\u001b[38;5;241m.\u001b[39mrandn(\u001b[38;5;241m2\u001b[39m, \u001b[38;5;241m3\u001b[39m, \u001b[38;5;241m2\u001b[39m, requires_grad \u001b[38;5;241m=\u001b[39m \u001b[38;5;28;01mTrue\u001b[39;00m)\u001b[38;5;241m.\u001b[39msoftmax(dim\u001b[38;5;241m=\u001b[39m\u001b[38;5;241m1\u001b[39m)\u001b[38;5;241m.\u001b[39mview(\u001b[38;5;241m6\u001b[39m, \u001b[38;5;241m2\u001b[39m)\n\u001b[0;32m      4\u001b[0m \u001b[38;5;28mprint\u001b[39m(\u001b[38;5;28minput\u001b[39m)\n",
      "\u001b[1;31mNameError\u001b[0m: name 'nn' is not defined"
     ]
    }
   ],
   "source": [
    "loss_function = nn.CrossEntropyLoss(weight = torch.tensor([1., 10.]), reduction = \"mean\")\n",
    "\n",
    "input = torch.randn(2, 3, 2, requires_grad = True).softmax(dim=1).view(6, 2)\n",
    "print(input)\n",
    "print()\n",
    "\n",
    "target = torch.tensor([[0, 1, 0], [0, 1, 0]]).view(6)\n",
    "print(target)\n",
    "print()\n",
    "\n",
    "loss = loss_function(input, target)\n",
    "\n",
    "print(loss)\n",
    "\n",
    "# Precision - recall kurver (tage arealet under) - AU PRC\n",
    "# Kohens kappa.\n",
    "# Confusion matrix.\n",
    "# Adam/ASGD => Weight decay - L2 regularisation."
   ]
  },
  {
   "cell_type": "code",
   "execution_count": 82,
   "id": "3a6440c8-2d19-4f0c-80bf-83e8e82ce443",
   "metadata": {},
   "outputs": [
    {
     "name": "stdout",
     "output_type": "stream",
     "text": [
      "torch.Size([750000, 2])\n",
      "<class 'torch.Tensor'>\n",
      "\n",
      "torch.Size([750000])\n",
      "\n",
      "tensor(0.7268, grad_fn=<NllLossBackward0>)\n"
     ]
    }
   ],
   "source": [
    "loss_function = nn.CrossEntropyLoss(weight = torch.tensor([1., 10.]), reduction = \"mean\")\n",
    "\n",
    "input = torch.randn(10, 2, 75000, requires_grad = True).softmax(dim=1)\n",
    "print(input.transpose(1, 2).reshape(-1, 2).shape)\n",
    "print(type(input))\n",
    "print()\n",
    "\n",
    "target = torch.randint(0, 2, (75000*10,))\n",
    "print(target.shape)\n",
    "print()\n",
    "\n",
    "loss = loss_function(input.transpose(1, 2).reshape(-1, 2), target)\n",
    "print(loss)"
   ]
  },
  {
   "cell_type": "code",
   "execution_count": 84,
   "id": "35dcc9b0-9e20-4eeb-8a55-ecc34fec28de",
   "metadata": {},
   "outputs": [
    {
     "data": {
      "text/plain": [
       "torch.int64"
      ]
     },
     "execution_count": 84,
     "metadata": {},
     "output_type": "execute_result"
    }
   ],
   "source": [
    "target.dtype"
   ]
  },
  {
   "cell_type": "code",
   "execution_count": null,
   "id": "9de18246-b5b8-462c-9d8d-1e40174fe3eb",
   "metadata": {},
   "outputs": [],
   "source": []
  }
 ],
 "metadata": {
  "kernelspec": {
   "display_name": "Python 3 (ipykernel)",
   "language": "python",
   "name": "python3"
  },
  "language_info": {
   "codemirror_mode": {
    "name": "ipython",
    "version": 3
   },
   "file_extension": ".py",
   "mimetype": "text/x-python",
   "name": "python",
   "nbconvert_exporter": "python",
   "pygments_lexer": "ipython3",
   "version": "3.9.6"
  }
 },
 "nbformat": 4,
 "nbformat_minor": 5
}
