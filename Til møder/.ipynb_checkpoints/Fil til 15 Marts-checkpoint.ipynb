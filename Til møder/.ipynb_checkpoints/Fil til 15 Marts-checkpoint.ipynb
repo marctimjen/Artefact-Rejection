{
 "cells": [
  {
   "cell_type": "code",
   "execution_count": 12,
   "id": "c3ade9db-63bb-4403-bb42-383290639f99",
   "metadata": {},
   "outputs": [],
   "source": [
    "import torch\n",
    "import torch.nn as nn"
   ]
  },
  {
   "cell_type": "code",
   "execution_count": 70,
   "id": "bcaa497c-7cf7-4bdd-ac3c-4f3fe718e4b4",
   "metadata": {},
   "outputs": [
    {
     "name": "stdout",
     "output_type": "stream",
     "text": [
      "tensor([[0.0707, 0.9293],\n",
      "        [0.1997, 0.8003],\n",
      "        [0.1423, 0.8577]], grad_fn=<SoftmaxBackward>)\n",
      "\n",
      "tensor([1, 0, 1])\n",
      "\n",
      "tensor([3.5331, 1.0378, 3.9810], grad_fn=<NllLossBackward>)\n"
     ]
    }
   ],
   "source": [
    "loss_function = nn.CrossEntropyLoss(weight = torch.tensor([1., 10.]), reduction = \"none\")\n",
    "\n",
    "input = torch.randn(3, 2, requires_grad = True).softmax(dim=1)\n",
    "print(input)\n",
    "print()\n",
    "\n",
    "target = torch.tensor([1, 0, 1])\n",
    "print(target)\n",
    "print()\n",
    "\n",
    "loss = loss_function(input, target)\n",
    "\n",
    "print(loss)"
   ]
  },
  {
   "cell_type": "code",
   "execution_count": 77,
   "id": "9b919f32-e24c-40e1-ad27-1768fe8d7e65",
   "metadata": {},
   "outputs": [
    {
     "name": "stdout",
     "output_type": "stream",
     "text": [
      "tensor([[0.1352, 0.2393],\n",
      "        [0.3406, 0.4191],\n",
      "        [0.5242, 0.3416],\n",
      "        [0.0903, 0.1703],\n",
      "        [0.7632, 0.0665],\n",
      "        [0.1465, 0.7633]], grad_fn=<ViewBackward>)\n",
      "\n",
      "tensor([0, 1, 0, 0, 1, 0])\n",
      "\n",
      "tensor(0.8621, grad_fn=<NllLossBackward>)\n"
     ]
    }
   ],
   "source": [
    "loss_function = nn.CrossEntropyLoss(weight = torch.tensor([1., 10.]), reduction = \"mean\")\n",
    "\n",
    "input = torch.randn(2, 3, 2, requires_grad = True).softmax(dim=1).view(6, 2)\n",
    "print(input)\n",
    "print()\n",
    "\n",
    "target = torch.tensor([[0, 1, 0], [0, 1, 0]]).view(6)\n",
    "print(target)\n",
    "print()\n",
    "\n",
    "loss = loss_function(input, target)\n",
    "\n",
    "print(loss)\n",
    "\n",
    "# Precision - recall kurver (tage arealet under) - AU PRC\n",
    "# Kohens kappa.\n",
    "# Confusion matrix.\n",
    "# Adam/ASGD => Weight decay - L2 regularisation."
   ]
  },
  {
   "cell_type": "code",
   "execution_count": null,
   "id": "3a6440c8-2d19-4f0c-80bf-83e8e82ce443",
   "metadata": {},
   "outputs": [],
   "source": []
  }
 ],
 "metadata": {
  "kernelspec": {
   "display_name": "Python 3 (ipykernel)",
   "language": "python",
   "name": "python3"
  },
  "language_info": {
   "codemirror_mode": {
    "name": "ipython",
    "version": 3
   },
   "file_extension": ".py",
   "mimetype": "text/x-python",
   "name": "python",
   "nbconvert_exporter": "python",
   "pygments_lexer": "ipython3",
   "version": "3.9.6"
  }
 },
 "nbformat": 4,
 "nbformat_minor": 5
}
