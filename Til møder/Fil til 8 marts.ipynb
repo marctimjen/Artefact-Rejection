{
 "cells": [
  {
   "cell_type": "code",
   "execution_count": 1,
   "id": "f604f7ff-466b-4112-a3ea-c0f653108d9b",
   "metadata": {},
   "outputs": [],
   "source": [
    "import mne"
   ]
  },
  {
   "cell_type": "code",
   "execution_count": 2,
   "id": "7db7dd54-b957-42ad-a55c-a2b842548bd0",
   "metadata": {},
   "outputs": [
    {
     "name": "stdout",
     "output_type": "stream",
     "text": [
      "Extracting EDF parameters from C:\\Users\\Marc\\Desktop\\data\\v2.1.0\\edf\\01_tcp_ar\\013\\00001355\\s003_2009_12_08\\00001355_s003_t000.edf...\n",
      "EDF file detected\n",
      "Setting channel info structure...\n",
      "Creating raw.info structure...\n",
      "Reading 0 ... 314749  =      0.000 ...  1258.996 secs...\n"
     ]
    }
   ],
   "source": [
    "file_dir = \"C:/Users/Marc/Desktop/data/v2.1.0/edf/01_tcp_ar/013/00001355/s003_2009_12_08/00001355_s003_t000.edf\" \n",
    "#013\n",
    "\n",
    "\n",
    "data = mne.io.read_raw_edf(file_dir, preload=True)"
   ]
  },
  {
   "cell_type": "code",
   "execution_count": 3,
   "id": "2c0af5c2-84ed-4736-ba78-860476ac7d97",
   "metadata": {},
   "outputs": [
    {
     "data": {
      "text/plain": [
       "False"
      ]
     },
     "execution_count": 3,
     "metadata": {},
     "output_type": "execute_result"
    }
   ],
   "source": [
    "data.__len__() < 82000"
   ]
  },
  {
   "cell_type": "code",
   "execution_count": 4,
   "id": "70e4cac8-f363-4557-b426-39fcb37d3b4e",
   "metadata": {},
   "outputs": [
    {
     "data": {
      "text/html": [
       "\n",
       "\n",
       "<table class=\"table table-hover table-striped table-sm table-responsive small\">\n",
       "    <tr>\n",
       "        <th>Measurement date</th>\n",
       "        <td>December 08, 2009  15:44:54 GMT</td>\n",
       "        \n",
       "    </tr>\n",
       "    <tr>\n",
       "        <th>Experimenter</th>\n",
       "<td>Unknown</td>\n",
       "    </tr>\n",
       "        <th>Participant</th>\n",
       "<td>Unknown</td>\n",
       "    </tr>\n",
       "    <tr>\n",
       "        <th>Digitized points</th>\n",
       "        <td>Not available</td>\n",
       "    </tr>\n",
       "    <tr>\n",
       "        <th>Good channels</th>\n",
       "        <td>36 EEG</td>\n",
       "    </tr>\n",
       "    <tr>\n",
       "        <th>Bad channels</th>\n",
       "        <td>None</td>\n",
       "    </tr>\n",
       "    <tr>\n",
       "        <th>EOG channels</th>\n",
       "        <td>Not available</td>\n",
       "    </tr>\n",
       "    <tr>\n",
       "        <th>ECG channels</th>\n",
       "        <td>Not available</td>\n",
       "    <tr>\n",
       "        <th>Sampling frequency</th>\n",
       "        <td>250.00 Hz</td>\n",
       "    </tr>\n",
       "    <tr>\n",
       "        <th>Highpass</th>\n",
       "        <td>0.00 Hz</td>\n",
       "    </tr>\n",
       "    <tr>\n",
       "        <th>Lowpass</th>\n",
       "        <td>125.00 Hz</td>\n",
       "    </tr>\n",
       "\n",
       "    <tr>\n",
       "        <th>Filenames</th>\n",
       "        <td>00001355_s003_t000.edf</td>\n",
       "    </tr>\n",
       "    <tr>\n",
       "        <th>Duration</th>\n",
       "        <td>00:20:58 (HH:MM:SS)</td>\n",
       "    </tr>\n",
       "</table>\n"
      ],
      "text/plain": [
       "<RawEDF | 00001355_s003_t000.edf, 36 x 314750 (1259.0 s), ~86.5 MB, data loaded>"
      ]
     },
     "execution_count": 4,
     "metadata": {},
     "output_type": "execute_result"
    }
   ],
   "source": [
    "data"
   ]
  },
  {
   "cell_type": "code",
   "execution_count": 5,
   "id": "a3b7f682-f1d0-4ac1-9862-1257613b8cfd",
   "metadata": {},
   "outputs": [],
   "source": [
    "import csv\n",
    "f = open('C:/Users/Marc/Desktop/csv_file.csv', 'w')\n",
    "f.close()\n",
    "\n",
    "with open('C:/Users/Marc/Desktop/csv_file.csv', \"a\", newline='') as f:\n",
    "    write = csv.writer(f)\n",
    "    \n",
    "    \n",
    "    for i in range(10):\n",
    "        if i % 2 == 0:\n",
    "            continue\n",
    "        write.writerow([i, i])"
   ]
  },
  {
   "cell_type": "code",
   "execution_count": null,
   "id": "bd1c7ad1-6f95-4af2-b9b9-c615035c4a28",
   "metadata": {},
   "outputs": [],
   "source": []
  },
  {
   "cell_type": "code",
   "execution_count": null,
   "id": "ae3b6271-9cb0-41bb-9543-fc1207dc81cb",
   "metadata": {},
   "outputs": [],
   "source": []
  },
  {
   "cell_type": "code",
   "execution_count": null,
   "id": "0f7e487c-7641-4568-a4f5-b7c895328418",
   "metadata": {},
   "outputs": [],
   "source": []
  },
  {
   "cell_type": "code",
   "execution_count": 15,
   "id": "5d457e86-1072-4be3-aa8c-4adc2359fdf8",
   "metadata": {},
   "outputs": [
    {
     "name": "stdout",
     "output_type": "stream",
     "text": [
      "cuda\n"
     ]
    }
   ],
   "source": [
    "from LoaderPACK.Loader import load_whole_data, load_shuffle_5_min\n",
    "import torch\n",
    "\n",
    "\n",
    "device = torch.device(\"cuda\" if torch.cuda.is_available() else \"cpu\")\n",
    "print(device)\n",
    "\n",
    "\n",
    "# Set up the dataloaders:\n",
    "\n",
    "load_file = load_whole_data(path = \"C:/Users/Marc/Desktop/model_data\",\n",
    "                            ind = [i for i in range(1, 283 + 1)])\n",
    "\n",
    "\n",
    "file_loader = torch.utils.data.DataLoader(load_file,\n",
    "                                          batch_size=1,\n",
    "                                          shuffle=True,\n",
    "                                          num_workers=0)"
   ]
  },
  {
   "cell_type": "code",
   "execution_count": 16,
   "id": "5818876e-aaf4-4e71-89c1-e4c695b7d10e",
   "metadata": {},
   "outputs": [],
   "source": [
    "data = []\n",
    "for file in file_loader:\n",
    "    data.append([file[0].shape[1], file[0].shape[2]])"
   ]
  },
  {
   "cell_type": "code",
   "execution_count": 20,
   "id": "fe1625c4-4fa8-4daa-a999-89db2b8ca268",
   "metadata": {},
   "outputs": [
    {
     "name": "stdout",
     "output_type": "stream",
     "text": [
      "[[10, 90000], [22, 94464], [22, 100500], [20, 110800], [20, 121600], [20, 122000], [22, 138750], [20, 141600], [2, 150250], [19, 150250], [19, 150250], [22, 150250], [20, 150250], [22, 153856], [20, 153856], [22, 153856], [22, 153856], [6, 153856], [16, 153856], [21, 153856], [22, 153856], [22, 153856], [17, 153856], [22, 153856], [22, 153856], [22, 153856], [22, 153856], [10, 153856], [2, 153856], [15, 153856], [22, 153856], [11, 153856], [22, 153856], [15, 153856], [4, 153856], [4, 153856], [22, 153856], [22, 153856], [22, 153856], [22, 153856], [21, 153856], [22, 153856], [22, 153856], [22, 153856], [22, 153856], [22, 153856], [22, 153856], [4, 153856], [22, 154880], [22, 155648], [22, 168960], [22, 170750], [11, 171750], [22, 183040], [7, 184064], [22, 199750], [9, 208250], [22, 216576], [19, 220000], [14, 237824], [22, 240000], [21, 241500], [22, 241920], [14, 245750], [15, 249250], [21, 251904], [22, 263000], [15, 264000], [22, 264448], [20, 267250], [22, 269250], [21, 285696], [20, 288000], [22, 291250], [22, 292750], [21, 294250], [22, 294500], [21, 295000], [22, 295000], [4, 295500], [22, 295680], [22, 296250], [21, 296250], [15, 296500], [22, 296750], [20, 297000], [22, 297500], [22, 297750], [8, 297750], [21, 297750], [22, 297750], [15, 298250], [22, 299250], [19, 299250], [19, 299500], [22, 300250], [18, 300250], [21, 300250], [22, 300250], [19, 300500], [22, 300500], [22, 300750], [22, 300750], [22, 300750], [22, 300750], [4, 300750], [22, 300750], [22, 301000], [20, 301000], [19, 301000], [22, 301000], [19, 301000], [22, 301000], [22, 301250], [11, 301250], [22, 301500], [22, 301500], [22, 301500], [4, 301750], [22, 301750], [22, 302000], [22, 302000], [22, 302000], [22, 302000], [22, 302000], [22, 302000], [15, 302250], [22, 302500], [14, 302500], [15, 302750], [4, 302750], [10, 302750], [22, 303000], [8, 303250], [15, 303750], [19, 303750], [22, 303750], [22, 304000], [22, 304000], [22, 304250], [22, 304250], [22, 304250], [8, 304750], [13, 305250], [14, 305250], [20, 305500], [19, 306500], [22, 306750], [22, 307712], [11, 307712], [22, 307712], [14, 307750], [22, 307750], [11, 307750], [6, 307968], [18, 308000], [11, 308000], [22, 309500], [22, 310000], [6, 310016], [22, 310250], [7, 310750], [22, 311000], [22, 311500], [22, 311500], [22, 312000], [22, 312320], [22, 312750], [18, 313500], [22, 313750], [9, 314250], [22, 314500], [19, 314750], [22, 315250], [10, 315500], [22, 315750], [22, 316000], [21, 316250], [22, 316250], [19, 316250], [9, 317500], [15, 317952], [22, 318500], [19, 318750], [22, 319000], [22, 319488], [22, 320000], [22, 320500], [22, 321000], [22, 321750], [22, 322816], [22, 322816], [22, 323328], [15, 324750], [22, 326000], [22, 326000], [10, 326750], [22, 326912], [22, 327000], [19, 329500], [16, 331750], [22, 332000], [22, 332750], [22, 334000], [22, 334000], [22, 335000], [22, 338500], [22, 338688], [22, 340250], [22, 340250], [22, 342250], [18, 342750], [22, 345500], [22, 346000], [21, 346000], [4, 346250], [4, 347392], [18, 348000], [22, 348250], [22, 350208], [22, 350750], [20, 350750], [22, 352500], [19, 355250], [17, 356250], [22, 356500], [22, 357250], [22, 358750], [8, 359250], [8, 360500], [22, 360500], [4, 362500], [20, 363000], [22, 364000], [22, 366500], [22, 370250], [22, 370500], [20, 372250], [22, 372750], [22, 373000], [20, 374500], [19, 377000], [22, 378250], [22, 380250], [22, 381250], [22, 384000], [22, 384256], [22, 389750], [22, 391750], [22, 392000], [22, 393000], [22, 397250], [22, 412250], [19, 412928], [20, 417750], [21, 424960], [22, 428000], [22, 430250], [22, 430250], [22, 439750], [17, 451000], [18, 455250], [22, 469750], [20, 481250], [20, 485888], [22, 491520], [17, 495600], [21, 499500], [22, 511750], [21, 518500], [22, 573952], [22, 590500], [22, 600750], [22, 603648], [22, 611584], [22, 617216], [22, 686500], [22, 750000], [22, 898750], [22, 1280512], [22, 1286000], [22, 1988608], [20, 2636800]]\n"
     ]
    }
   ],
   "source": [
    "print(sorted(data, key = lambda ls: ls[1]))"
   ]
  },
  {
   "cell_type": "code",
   "execution_count": 21,
   "id": "7b24bfe1-8519-408b-9777-1ee0006b3846",
   "metadata": {},
   "outputs": [
    {
     "data": {
      "text/plain": [
       "1789658302"
      ]
     },
     "execution_count": 21,
     "metadata": {},
     "output_type": "execute_result"
    }
   ],
   "source": [
    "sum(d[0]*d[1] for d in data)"
   ]
  },
  {
   "cell_type": "code",
   "execution_count": 5,
   "id": "35b3c7cf-3b80-4527-93cd-f7cffa0d12bf",
   "metadata": {},
   "outputs": [
    {
     "ename": "NameError",
     "evalue": "name 'data' is not defined",
     "output_type": "error",
     "traceback": [
      "\u001b[1;31m---------------------------------------------------------------------------\u001b[0m",
      "\u001b[1;31mNameError\u001b[0m                                 Traceback (most recent call last)",
      "\u001b[1;32m~\\AppData\\Local\\Temp/ipykernel_41200/4273091899.py\u001b[0m in \u001b[0;36m<module>\u001b[1;34m\u001b[0m\n\u001b[1;32m----> 1\u001b[1;33m \u001b[0mprint\u001b[0m\u001b[1;33m(\u001b[0m\u001b[0mlen\u001b[0m\u001b[1;33m(\u001b[0m\u001b[0mdata\u001b[0m\u001b[1;33m)\u001b[0m\u001b[1;33m)\u001b[0m\u001b[1;33m\u001b[0m\u001b[1;33m\u001b[0m\u001b[0m\n\u001b[0m",
      "\u001b[1;31mNameError\u001b[0m: name 'data' is not defined"
     ]
    }
   ],
   "source": [
    "print(len(data))"
   ]
  }
 ],
 "metadata": {
  "kernelspec": {
   "display_name": "Python 3 (ipykernel)",
   "language": "python",
   "name": "python3"
  },
  "language_info": {
   "codemirror_mode": {
    "name": "ipython",
    "version": 3
   },
   "file_extension": ".py",
   "mimetype": "text/x-python",
   "name": "python",
   "nbconvert_exporter": "python",
   "pygments_lexer": "ipython3",
   "version": "3.9.6"
  }
 },
 "nbformat": 4,
 "nbformat_minor": 5
}
