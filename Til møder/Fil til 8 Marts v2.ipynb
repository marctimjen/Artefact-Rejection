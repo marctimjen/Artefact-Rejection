{
 "cells": [
  {
   "cell_type": "code",
   "execution_count": 2,
   "id": "ade3e734-7b47-4e24-885b-df5b23acb2be",
   "metadata": {},
   "outputs": [
    {
     "name": "stdout",
     "output_type": "stream",
     "text": [
      "C:\\Users\\Marc\\Documents\\GitHub\\Artefact-Rejection\n"
     ]
    }
   ],
   "source": [
    "%cd C:\\Users\\Marc\\Documents\\GitHub\\Artefact-Rejection\n",
    "from torch.utils.data import Dataset, DataLoader\n",
    "import torch\n",
    "import numpy as np\n",
    "import math\n",
    "from LoaderPACK.Loader import load_whole_data, load_shuffle_5_min, load_5_min_intervals\n"
   ]
  },
  {
   "cell_type": "code",
   "execution_count": 3,
   "id": "cf024816-dccc-452f-9ed2-88ee6c445ddb",
   "metadata": {},
   "outputs": [
    {
     "name": "stdout",
     "output_type": "stream",
     "text": [
      "cpu\n",
      "time: 34.833003282547\n",
      "Number of files loaded in total: 283\n"
     ]
    }
   ],
   "source": [
    "import time\n",
    "\n",
    "\n",
    "device = \"cpu\"\n",
    "print(device)\n",
    "\n",
    "trainload = load_whole_data(path = \"C:/Users/Marc/Desktop/model_data\", ind = [i for i in range(1, 283 + 1)])\n",
    "\n",
    "# Set up the dataloaders:\n",
    "\n",
    "trainloader = torch.utils.data.DataLoader(trainload,\n",
    "                                          batch_size=1,\n",
    "                                          shuffle=False,\n",
    "                                          num_workers=0)\n",
    "\n",
    "data_before = []\n",
    "\n",
    "nr_of_files_loaded = 0\n",
    "\n",
    "batch_size = 1\n",
    "\n",
    "start = time.time()\n",
    "\n",
    "for file in trainloader:\n",
    "    loader2 = load_5_min_intervals(file, device)\n",
    "    loader2 = torch.utils.data.DataLoader(loader2,\n",
    "                                              batch_size=batch_size,\n",
    "                                              shuffle=True,\n",
    "                                              num_workers=0)\n",
    "    nr_of_files_loaded += 1\n",
    "    j = 0\n",
    "    for i in loader2:\n",
    "        j += 1\n",
    "    \n",
    "    data_before.append(j)\n",
    "\n",
    "print(\"time:\", time.time()-start)\n",
    "    \n",
    "print(\"Number of files loaded in total:\", nr_of_files_loaded)"
   ]
  },
  {
   "cell_type": "code",
   "execution_count": 5,
   "id": "4b42d7e3-8dfd-4e6b-8482-3332ae7c24ce",
   "metadata": {},
   "outputs": [
    {
     "name": "stdout",
     "output_type": "stream",
     "text": [
      "89.97173144876325\n",
      "88.0\n"
     ]
    },
    {
     "data": {
      "image/png": "[encoded data removed]",
      "text/plain": [
       "<Figure size 432x288 with 1 Axes>"
      ]
     },
     "metadata": {
      "needs_background": "light"
     },
     "output_type": "display_data"
    }
   ],
   "source": [
    "import matplotlib.pyplot as plt\n",
    "m = plt.hist(data_before, bins = 30)\n",
    "\n",
    "print(np.mean(data_before))\n",
    "print(np.median(data_before))"
   ]
  },
  {
   "cell_type": "code",
   "execution_count": 4,
   "id": "57dd1ef6-4b27-40d7-b789-19fc88e01dee",
   "metadata": {},
   "outputs": [
    {
     "name": "stdout",
     "output_type": "stream",
     "text": [
      "cpu\n",
      "time: 26.08156132698059\n",
      "Number of files loaded in total: 283\n"
     ]
    }
   ],
   "source": [
    "import time\n",
    "\n",
    "\n",
    "device = \"cpu\"\n",
    "print(device)\n",
    "\n",
    "trainload = load_whole_data(path = \"C:/Users/Marc/Desktop/model_data\", ind = [i for i in range(1, 283 + 1)])\n",
    "\n",
    "# Set up the dataloaders:\n",
    "\n",
    "trainloader = torch.utils.data.DataLoader(trainload,\n",
    "                                          batch_size=1,\n",
    "                                          shuffle=False,\n",
    "                                          num_workers=0)\n",
    "\n",
    "data_after = []\n",
    "\n",
    "nr_of_files_loaded = 0\n",
    "\n",
    "batch_size = 1\n",
    "\n",
    "start = time.time()\n",
    "\n",
    "for file in trainloader:\n",
    "    loader2 = load_shuffle_5_min(file, device)\n",
    "    loader2 = torch.utils.data.DataLoader(loader2,\n",
    "                                              batch_size=batch_size,\n",
    "                                              shuffle=True,\n",
    "                                              num_workers=0)\n",
    "    nr_of_files_loaded += 1\n",
    "    j = 0\n",
    "    for i in loader2:\n",
    "        j += 1\n",
    "    \n",
    "    data_after.append(j)\n",
    "\n",
    "print(\"time:\", time.time()-start)\n",
    "    \n",
    "print(\"Number of files loaded in total:\", nr_of_files_loaded)"
   ]
  },
  {
   "cell_type": "code",
   "execution_count": 6,
   "id": "b41dd4b5-2bb4-4572-990e-36f8eec4ef86",
   "metadata": {},
   "outputs": [
    {
     "name": "stdout",
     "output_type": "stream",
     "text": [
      "54.667844522968196\n",
      "66.0\n"
     ]
    },
    {
     "data": {
      "image/png": "[encoded data removed]",
      "text/plain": [
       "<Figure size 432x288 with 1 Axes>"
      ]
     },
     "metadata": {
      "needs_background": "light"
     },
     "output_type": "display_data"
    }
   ],
   "source": [
    "import matplotlib.pyplot as plt\n",
    "m = plt.hist(data_after, bins = 30)\n",
    "\n",
    "print(np.mean(data_after))\n",
    "print(np.median(data_after))"
   ]
  },
  {
   "cell_type": "code",
   "execution_count": 22,
   "id": "4090d3fa-48ee-4cac-b092-ddac0610054d",
   "metadata": {},
   "outputs": [
    {
     "name": "stdout",
     "output_type": "stream",
     "text": [
      "tensor([0.4511, 0.5638])\n"
     ]
    }
   ],
   "source": [
    "import torch.nn as nn\n",
    "\n",
    "m = nn.Sigmoid()\n",
    "input = torch.randn(2)\n",
    "output = m(input)\n",
    "print(output)"
   ]
  },
  {
   "cell_type": "code",
   "execution_count": 64,
   "id": "7e9693e8-1d66-4b81-a3fa-15b11bb48d8c",
   "metadata": {},
   "outputs": [
    {
     "name": "stdout",
     "output_type": "stream",
     "text": [
      "tensor([0.5000, 0.5000, 0.5000, 0.5000], dtype=torch.float64,\n",
      "       requires_grad=True)\n",
      "tensor([0., 0., 0., 0.], dtype=torch.float64)\n",
      "tensor(2.7726, dtype=torch.float64, grad_fn=<BinaryCrossEntropyBackward0>)\n"
     ]
    }
   ],
   "source": [
    "import numpy as np\n",
    "\n",
    "#m = nn.Sigmoid()\n",
    "loss = nn.BCELoss(reduction='sum')\n",
    "\n",
    "\n",
    "input = torch.tensor(np.array([0.5, 0.5, 0.5, 0.5]), requires_grad=True)\n",
    "\n",
    "print(input)\n",
    "\n",
    "\n",
    "#target = torch.tensor(np.array([1.0, 1.0, 1.0, 1.0]))\n",
    "target = torch.tensor(np.array([0.0, 0.0, 0.0, 0.0]))\n",
    "\n",
    "print(target)\n",
    "\n",
    "\n",
    "output = loss(input, target)\n",
    "\n",
    "print(output)\n",
    "\n",
    "\n",
    "output.backward()\n"
   ]
  },
  {
   "cell_type": "code",
   "execution_count": null,
   "id": "d27da151-adce-4658-b754-3219395d79d5",
   "metadata": {},
   "outputs": [],
   "source": []
  }
 ],
 "metadata": {
  "kernelspec": {
   "display_name": "Python 3 (ipykernel)",
   "language": "python",
   "name": "python3"
  },
  "language_info": {
   "codemirror_mode": {
    "name": "ipython",
    "version": 3
   },
   "file_extension": ".py",
   "mimetype": "text/x-python",
   "name": "python",
   "nbconvert_exporter": "python",
   "pygments_lexer": "ipython3",
   "version": "3.9.6"
  }
 },
 "nbformat": 4,
 "nbformat_minor": 5
}
