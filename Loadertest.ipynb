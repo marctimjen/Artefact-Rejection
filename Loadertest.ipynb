{
 "cells": [
  {
   "cell_type": "code",
   "execution_count": 358,
   "id": "2f440c1b-d5d9-45ff-b46b-624c5f93ead9",
   "metadata": {},
   "outputs": [],
   "source": [
    "from torch.utils.data import Dataset, DataLoader\n",
    "import torch\n",
    "\n",
    "\n",
    "class data_loader(Dataset):\n",
    "    \"\"\"\n",
    "    This dataloader loads the tensor input and target\n",
    "    \"\"\"\n",
    "    def __init__(self):\n",
    "        \"\"\"\n",
    "        Args:\n",
    "            path (str): path to the input & target folder.\n",
    "            ind (list): list of indices for which pictures to load.\n",
    "            device (class 'torch.device'): which pytorch device the data should\n",
    "            be sent to.\n",
    "        \"\"\"\n",
    "\n",
    "        self.device = \"cpu\"\n",
    "        self.data = [[i for i in range(10)] for _ in range(3)]\n",
    "\n",
    "    def __len__(self):\n",
    "        return len(self.data)\n",
    "\n",
    "    \n",
    "    def __getitem__(self, idx):\n",
    "        tar = self.data[idx] # path for target + inpu\n",
    "        return tar\n",
    "\n",
    "\n",
    "\n",
    "    \n",
    "\n",
    "class data_loader2(Dataset):\n",
    "    \"\"\"\n",
    "    This dataloader loads the tensor input and target\n",
    "    \"\"\"\n",
    "    def __init__(self, ls):\n",
    "        \"\"\"\n",
    "        Args:\n",
    "            path (str): path to the input & target folder.\n",
    "            ind (list): list of indices for which pictures to load.\n",
    "            device (class 'torch.device'): which pytorch device the data should\n",
    "            be sent to.\n",
    "        \"\"\"\n",
    "\n",
    "        self.device = \"cpu\"\n",
    "        \n",
    "        \n",
    "        self.data = self.create_data(ls)\n",
    "        \n",
    "    def create_data(self, ls):\n",
    "        return [i for i in ls][0:4]\n",
    "\n",
    "    \n",
    "    def __len__(self):\n",
    "        return len(self.data)\n",
    "    \n",
    "    def __getitem__(self, idx):\n",
    "        tar = self.data[idx]\n",
    "        return tar"
   ]
  },
  {
   "cell_type": "code",
   "execution_count": 359,
   "id": "691a4663-fd2b-4106-bfa3-742f06386036",
   "metadata": {},
   "outputs": [
    {
     "name": "stdout",
     "output_type": "stream",
     "text": [
      "tensor([[0],\n",
      "        [1]])\n",
      "tensor([[2],\n",
      "        [3]])\n",
      "tensor([[0],\n",
      "        [1]])\n",
      "tensor([[2],\n",
      "        [3]])\n",
      "tensor([[0],\n",
      "        [1]])\n",
      "tensor([[2],\n",
      "        [3]])\n"
     ]
    }
   ],
   "source": [
    "batch_size_load1 = 1\n",
    "\n",
    "# Set up the dataloaders:\n",
    "\n",
    "loader1 = data_loader()\n",
    "\n",
    "loader1 = torch.utils.data.DataLoader(loader1,\n",
    "                                          batch_size=batch_size_load1,\n",
    "                                          shuffle=False,\n",
    "                                          num_workers=0)\n",
    "batch_size_load2 = 2\n",
    "for j in loader1:\n",
    "    loader2 = data_loader2(j)\n",
    "\n",
    "    loader2 = torch.utils.data.DataLoader(loader2,\n",
    "                                              batch_size=batch_size_load2,\n",
    "                                              shuffle=False,\n",
    "                                              num_workers=0)\n",
    "    load2 = iter(loader2)\n",
    "    for i in load2:\n",
    "        print(i)\n",
    "\n",
    "\n",
    "    \n"
   ]
  },
  {
   "cell_type": "code",
   "execution_count": null,
   "id": "44383e40-2c9b-44f2-96ad-5af53ecea064",
   "metadata": {},
   "outputs": [],
   "source": []
  },
  {
   "cell_type": "code",
   "execution_count": 456,
   "id": "93d50815-01e8-4050-974c-cb410eab3333",
   "metadata": {},
   "outputs": [],
   "source": [
    "from torch.utils.data import Dataset, DataLoader\n",
    "import torch\n",
    "\n",
    "\n",
    "class data_loader(Dataset):\n",
    "    \"\"\"\n",
    "    This dataloader loads the tensor input and target\n",
    "    \"\"\"\n",
    "    \n",
    "    def __init__(self):\n",
    "        \"\"\"\n",
    "        Args:\n",
    "            path (str): path to the input & target folder.\n",
    "            ind (list): list of indices for which pictures to load.\n",
    "            device (class 'torch.device'): which pytorch device the data should\n",
    "            be sent to.\n",
    "        \"\"\"\n",
    "\n",
    "        self.device = \"cpu\"\n",
    "        self.data = [i for i in range(100)]\n",
    "\n",
    "    def __len__(self):\n",
    "        return 0\n",
    "\n",
    "    \n",
    "    def __getitem__(self, idx):\n",
    "        print(idx)\n",
    "        tar = self.data[idx] # path for target + inpu\n",
    "\n",
    "        \n",
    "        return tar"
   ]
  },
  {
   "cell_type": "code",
   "execution_count": 457,
   "id": "f9683e6d-6665-4ed3-b565-9b1ca25c7264",
   "metadata": {},
   "outputs": [],
   "source": [
    "batch_size_load1 = 1\n",
    "\n",
    "# Set up the dataloaders:\n",
    "\n",
    "loader1 = data_loader()\n",
    "\n",
    "loader1 = torch.utils.data.DataLoader(loader1,\n",
    "                                          batch_size=batch_size_load1,\n",
    "                                          shuffle=False,\n",
    "                                          num_workers=0)\n",
    "load1 = iter(loader1)"
   ]
  },
  {
   "cell_type": "code",
   "execution_count": 458,
   "id": "53a36a1e-fc55-4384-aa29-39de6c50ac18",
   "metadata": {},
   "outputs": [],
   "source": [
    "for i in load1:\n",
    "    print(i)"
   ]
  },
  {
   "cell_type": "code",
   "execution_count": null,
   "id": "dd466122-15ee-447e-97d6-29ca307d679a",
   "metadata": {},
   "outputs": [],
   "source": []
  },
  {
   "cell_type": "code",
   "execution_count": null,
   "id": "036dd78f-e840-4f7d-b369-2f8c500b29a4",
   "metadata": {},
   "outputs": [],
   "source": []
  },
  {
   "cell_type": "code",
   "execution_count": 1062,
   "id": "e7fe5bed-a1d7-4b53-bb15-d1337f4b9ce8",
   "metadata": {},
   "outputs": [],
   "source": [
    "from torch.utils.data import Dataset, DataLoader\n",
    "import torch\n",
    "import numpy as np\n",
    "import math\n",
    "\n",
    "class load_whole_data(Dataset): \n",
    "    \"\"\"\n",
    "    This dataloader loads the tensor input and target in whole\n",
    "    \"\"\"\n",
    "    def __init__(self, path: str, ind: list):\n",
    "        \"\"\"\n",
    "        Args:\n",
    "            path (str): path to the input & target folder.\n",
    "            ind (list): list of indices for which pictures to load.\n",
    "            device (class 'torch.device'): which pytorch device the data should\n",
    "            be sent to.\n",
    "        \"\"\"\n",
    "\n",
    "        self.device = \"cpu\"\n",
    "        self.imgs_path = path\n",
    "        self.data = []\n",
    "        for i in ind:\n",
    "            self.data.append([self.imgs_path + f\"/model_input ({i}).pt\",\n",
    "                        self.imgs_path + f\"/model_target ({i}).pt\"])\n",
    "\n",
    "    def __len__(self):\n",
    "        return len(self.data)\n",
    "\n",
    "    def __getitem__(self, idx):\n",
    "        input_path, target_path = self.data[idx] # path for target + input\n",
    "\n",
    "        inp = torch.load(input_path) # load the input data\n",
    "        inp = inp.type(torch.float).to(self.device)\n",
    "\n",
    "        tar = torch.load(target_path) # load the target data\n",
    "        tar = tar.type(torch.float).to(self.device)\n",
    "\n",
    "        return inp, tar\n",
    "\n",
    "\n",
    "\n",
    "        \n",
    "class load_shuffle_5_min(Dataset): \n",
    "    \"\"\"\n",
    "    This dataloader loads the tensor input and target in whole\n",
    "    \"\"\"\n",
    "    def __init__(self, ls: list, device):\n",
    "        \"\"\"\n",
    "        Args:\n",
    "            path (str): path to the input & target folder.\n",
    "            ind (list): list of indices for which pictures to load.\n",
    "            device (class 'torch.device'): which pytorch device the data should\n",
    "            be sent to.\n",
    "        \"\"\"\n",
    "\n",
    "        self.device = device\n",
    "        self.ls = ls # list with the input and target data\n",
    "        self.size = (ls[0][0].shape[0], ls[0][0].shape[1]) # size of target and input\n",
    "        \n",
    "        self.length = math.floor((self.size[1]/(250*60)))*self.size[0] # the amount of cuts in total\n",
    "        \n",
    "        self.gen = iter(self.create_data(self.length))\n",
    "        \n",
    "        print(self.length)\n",
    "\n",
    "    \n",
    "\n",
    "    def create_data(self, nr_of_cuts):       \n",
    "        cut_point = np.random.randint(low = 250*60, high = self.size[1] - 250*60, \n",
    "                          size = nr_of_cuts) # choose the place to cut\n",
    "        \n",
    "        cuts_pr_chan = nr_of_cuts/self.ls[0][0].shape[0] # the amount of cuts pr channel\n",
    "        \n",
    "        for i in range(nr_of_cuts):\n",
    "            inp = self.ls[0][0][int(i//cuts_pr_chan)][cut_point[i]:cut_point[i]+60*250]\n",
    "            tar = self.ls[1][0][int(i//cuts_pr_chan)][cut_point[i]:cut_point[i]+60*250]\n",
    "            yield (inp, tar)\n",
    "    \n",
    "    def __len__(self):\n",
    "        return self.length\n",
    "\n",
    "    def __getitem__(self, idx):\n",
    "        inp, tar = next(self.gen)\n",
    "        inp = inp.to(self.device)\n",
    "        tar = tar.to(self.device)\n",
    "        return inp, tar\n"
   ]
  },
  {
   "cell_type": "code",
   "execution_count": 1063,
   "id": "2c3c5579-e116-4d8c-9c1d-70670c8e5232",
   "metadata": {},
   "outputs": [
    {
     "name": "stdout",
     "output_type": "stream",
     "text": [
      "cuda\n",
      "220\n"
     ]
    }
   ],
   "source": [
    "device = torch.device(\"cuda\" if torch.cuda.is_available() else \"cpu\")\n",
    "print(device)\n",
    "\n",
    "trainload = load_whole_data(path = \"C:/Users/Marc/Desktop/model_data\", ind = [i for i in range(1, 310 + 1)])\n",
    "batch_size = 1\n",
    "\n",
    "# Set up the dataloaders:\n",
    "\n",
    "trainloader = torch.utils.data.DataLoader(trainload,\n",
    "                                          batch_size=batch_size,\n",
    "                                          shuffle=True,\n",
    "                                          num_workers=0)\n",
    "load = iter(trainloader)\n",
    "\n",
    "loader2 = load_shuffle_5_min(next(load), \"cpu\")\n",
    "batch_size = 10\n",
    "\n",
    "# Set up the dataloaders:\n",
    "\n",
    "loader2 = torch.utils.data.DataLoader(loader2,\n",
    "                                          batch_size=batch_size,\n",
    "                                          shuffle=True,\n",
    "                                          num_workers=0)\n",
    "\n",
    "load2 = iter(loader2)"
   ]
  },
  {
   "cell_type": "code",
   "execution_count": 1064,
   "id": "4e5c38b5-0715-4303-88dd-5d5ef980c6db",
   "metadata": {},
   "outputs": [
    {
     "name": "stdout",
     "output_type": "stream",
     "text": [
      "22\n"
     ]
    }
   ],
   "source": [
    "j = 0\n",
    "for i in loader2:\n",
    "    j += 1\n",
    "\n",
    "print(j)"
   ]
  },
  {
   "cell_type": "code",
   "execution_count": null,
   "id": "22d03e0d-74cf-4ca0-9f46-384f713a9214",
   "metadata": {},
   "outputs": [],
   "source": []
  },
  {
   "cell_type": "code",
   "execution_count": 540,
   "id": "5a119e2f-f670-4579-891c-35f19f2cfb05",
   "metadata": {},
   "outputs": [
    {
     "data": {
      "text/plain": [
       "63"
      ]
     },
     "execution_count": 540,
     "metadata": {},
     "output_type": "execute_result"
    }
   ],
   "source": [
    "j"
   ]
  },
  {
   "cell_type": "code",
   "execution_count": 472,
   "id": "4adb6665-5ccb-4c75-a8c2-f478484e30c3",
   "metadata": {},
   "outputs": [],
   "source": [
    "data = next(load)"
   ]
  },
  {
   "cell_type": "code",
   "execution_count": 473,
   "id": "9210a164-b137-4f5c-b93c-4212a8ecfac0",
   "metadata": {},
   "outputs": [
    {
     "data": {
      "text/plain": [
       "1450"
      ]
     },
     "execution_count": 473,
     "metadata": {},
     "output_type": "execute_result"
    }
   ],
   "source": [
    "import math\n",
    "math.floor(data[0][0][0].shape[0]/250)"
   ]
  },
  {
   "cell_type": "code",
   "execution_count": 455,
   "id": "3e443fa4-1d8c-4c22-9af9-4adaec0d1100",
   "metadata": {},
   "outputs": [
    {
     "data": {
      "text/plain": [
       "tensor([ 1.6941e-14,  3.2176e+01,  1.9188e+01,  ...,  7.8337e-02,\n",
       "         6.4357e-01, -1.5710e-14])"
      ]
     },
     "execution_count": 455,
     "metadata": {},
     "output_type": "execute_result"
    }
   ],
   "source": [
    "data[0][0][0]"
   ]
  },
  {
   "cell_type": "code",
   "execution_count": 512,
   "id": "90487849-0694-49ee-9aae-adccd79e0fc0",
   "metadata": {},
   "outputs": [
    {
     "data": {
      "text/plain": [
       "4"
      ]
     },
     "execution_count": 512,
     "metadata": {},
     "output_type": "execute_result"
    }
   ],
   "source": [
    "math.floor(301250/(250*5*60))"
   ]
  },
  {
   "cell_type": "code",
   "execution_count": 504,
   "id": "2b15802d-8dda-4d4a-930a-adddc9870f4c",
   "metadata": {},
   "outputs": [
    {
     "data": {
      "text/plain": [
       "4.0"
      ]
     },
     "execution_count": 504,
     "metadata": {},
     "output_type": "execute_result"
    }
   ],
   "source": [
    "88/22"
   ]
  },
  {
   "cell_type": "code",
   "execution_count": 787,
   "id": "0ccab41e-247d-4a18-a9de-e20e2cc2709c",
   "metadata": {},
   "outputs": [],
   "source": [
    "cut_point = np.random.randint(low = 250*60, high = 222222 - 250*5*60, \n",
    "                          size = 0)"
   ]
  },
  {
   "cell_type": "code",
   "execution_count": 788,
   "id": "2022d16a-d9b4-49a4-ad9b-f822a580f2d7",
   "metadata": {},
   "outputs": [
    {
     "data": {
      "text/plain": [
       "array([], dtype=int32)"
      ]
     },
     "execution_count": 788,
     "metadata": {},
     "output_type": "execute_result"
    }
   ],
   "source": [
    "cut_point"
   ]
  },
  {
   "cell_type": "code",
   "execution_count": null,
   "id": "7fdb875c-2088-4872-a80f-019bd4dfb54e",
   "metadata": {},
   "outputs": [],
   "source": []
  }
 ],
 "metadata": {
  "kernelspec": {
   "display_name": "Python 3 (ipykernel)",
   "language": "python",
   "name": "python3"
  },
  "language_info": {
   "codemirror_mode": {
    "name": "ipython",
    "version": 3
   },
   "file_extension": ".py",
   "mimetype": "text/x-python",
   "name": "python",
   "nbconvert_exporter": "python",
   "pygments_lexer": "ipython3",
   "version": "3.9.6"
  }
 },
 "nbformat": 4,
 "nbformat_minor": 5
}
