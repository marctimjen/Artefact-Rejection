{
 "cells": [
  {
   "cell_type": "code",
   "execution_count": 1,
   "id": "b9bd9a12-ca67-4424-8fcb-df145eae3eb1",
   "metadata": {},
   "outputs": [],
   "source": [
    "import csv"
   ]
  },
  {
   "cell_type": "code",
   "execution_count": 4,
   "id": "c037a1cf-9dfc-46ce-a42f-34a77e1904bb",
   "metadata": {},
   "outputs": [],
   "source": [
    "import mne\n",
    "import pandas as pd\n",
    "import matplotlib.pyplot as plt\n"
   ]
  },
  {
   "cell_type": "code",
   "execution_count": null,
   "id": "07b71709-5199-4dd0-a373-12ad964f95b2",
   "metadata": {},
   "outputs": [],
   "source": []
  },
  {
   "cell_type": "code",
   "execution_count": 9,
   "id": "07849e55-7e28-4bf8-a566-a48e6f9e7784",
   "metadata": {},
   "outputs": [
    {
     "name": "stdout",
     "output_type": "stream",
     "text": [
      "Extracting EDF parameters from C:\\Users\\Bruger\\Documents\\Uni\\6. Semester\\BP data\\data\\v2.1.0\\edf\\01_tcp_ar\\002\\00000254\\s007_2013_03_25\\00000254_s007_t000.edf...\n",
      "EDF file detected\n",
      "Setting channel info structure...\n",
      "Creating raw.info structure...\n",
      "Reading 0 ... 310999  =      0.000 ...  1243.996 secs...\n",
      "Filtering raw data in 1 contiguous segment\n",
      "Setting up band-pass filter from 0.1 - 1e+02 Hz\n",
      "\n",
      "FIR filter parameters\n",
      "---------------------\n",
      "Designing a one-pass, zero-phase, non-causal bandpass filter:\n",
      "- Windowed time-domain design (firwin) method\n",
      "- Hamming window with 0.0194 passband ripple and 53 dB stopband attenuation\n",
      "- Lower passband edge: 0.10\n",
      "- Lower transition bandwidth: 0.10 Hz (-6 dB cutoff frequency: 0.05 Hz)\n",
      "- Upper passband edge: 100.00 Hz\n",
      "- Upper transition bandwidth: 25.00 Hz (-6 dB cutoff frequency: 112.50 Hz)\n",
      "- Filter length: 8251 samples (33.004 sec)\n",
      "\n",
      "Setting up band-stop filter from 59 - 61 Hz\n",
      "\n",
      "FIR filter parameters\n",
      "---------------------\n",
      "Designing a one-pass, zero-phase, non-causal bandstop filter:\n",
      "- Windowed time-domain design (firwin) method\n",
      "- Hamming window with 0.0194 passband ripple and 53 dB stopband attenuation\n",
      "- Lower passband edge: 59.35\n",
      "- Lower transition bandwidth: 0.50 Hz (-6 dB cutoff frequency: 59.10 Hz)\n",
      "- Upper passband edge: 60.65 Hz\n",
      "- Upper transition bandwidth: 0.50 Hz (-6 dB cutoff frequency: 60.90 Hz)\n",
      "- Filter length: 1651 samples (6.604 sec)\n",
      "\n"
     ]
    }
   ],
   "source": [
    "file_dir = \"C:/Users/Bruger/Documents/Uni/6. Semester/BP data/data/v2.1.0/edf/01_tcp_ar/002/00000254/s007_2013_03_25/00000254_s007_t000.edf\"\n",
    "\n",
    "file = mne.io.read_raw_edf(file_dir, preload=True)\n",
    "\n",
    "data = file.filter(0.1, 100)\n",
    "data = data.notch_filter(60)"
   ]
  },
  {
   "cell_type": "code",
   "execution_count": 10,
   "id": "60b7758c-0d14-4988-b39f-65ed78beba9a",
   "metadata": {},
   "outputs": [
    {
     "name": "stdout",
     "output_type": "stream",
     "text": [
      "Extracting EDF parameters from C:\\Users\\Bruger\\Documents\\Uni\\6. Semester\\BP data\\data\\v2.1.0\\edf\\01_tcp_ar\\002\\00000254\\s005_2010_11_15\\00000254_s005_t000.edf...\n",
      "EDF file detected\n",
      "Setting channel info structure...\n",
      "Creating raw.info structure...\n",
      "Reading 0 ... 360499  =      0.000 ...  1441.996 secs...\n",
      "Filtering raw data in 1 contiguous segment\n",
      "Setting up band-pass filter from 0.1 - 1e+02 Hz\n",
      "\n",
      "FIR filter parameters\n",
      "---------------------\n",
      "Designing a one-pass, zero-phase, non-causal bandpass filter:\n",
      "- Windowed time-domain design (firwin) method\n",
      "- Hamming window with 0.0194 passband ripple and 53 dB stopband attenuation\n",
      "- Lower passband edge: 0.10\n",
      "- Lower transition bandwidth: 0.10 Hz (-6 dB cutoff frequency: 0.05 Hz)\n",
      "- Upper passband edge: 100.00 Hz\n",
      "- Upper transition bandwidth: 25.00 Hz (-6 dB cutoff frequency: 112.50 Hz)\n",
      "- Filter length: 8251 samples (33.004 sec)\n",
      "\n",
      "Setting up band-stop filter from 59 - 61 Hz\n",
      "\n",
      "FIR filter parameters\n",
      "---------------------\n",
      "Designing a one-pass, zero-phase, non-causal bandstop filter:\n",
      "- Windowed time-domain design (firwin) method\n",
      "- Hamming window with 0.0194 passband ripple and 53 dB stopband attenuation\n",
      "- Lower passband edge: 59.35\n",
      "- Lower transition bandwidth: 0.50 Hz (-6 dB cutoff frequency: 59.10 Hz)\n",
      "- Upper passband edge: 60.65 Hz\n",
      "- Upper transition bandwidth: 0.50 Hz (-6 dB cutoff frequency: 60.90 Hz)\n",
      "- Filter length: 1651 samples (6.604 sec)\n",
      "\n"
     ]
    }
   ],
   "source": [
    "file_dir = \"C:/Users/Bruger/Documents/Uni/6. Semester/BP data/data/v2.1.0/edf/01_tcp_ar/002/00000254/s005_2010_11_15/00000254_s005_t000.edf\"\n",
    "\n",
    "file = mne.io.read_raw_edf(file_dir, preload=True)\n",
    "\n",
    "data = file.filter(0.1, 100)\n",
    "data = data.notch_filter(60)"
   ]
  },
  {
   "cell_type": "code",
   "execution_count": 11,
   "id": "28ffeebc-76d7-4023-a524-878911944bf0",
   "metadata": {},
   "outputs": [
    {
     "name": "stdout",
     "output_type": "stream",
     "text": [
      "Extracting EDF parameters from C:\\Users\\Bruger\\Documents\\Uni\\6. Semester\\BP data\\data\\v2.1.0\\edf\\03_tcp_ar_a\\046\\00004671\\s017_2015_03_27\\00004671_s017_t000.edf...\n",
      "EDF file detected\n",
      "Setting channel info structure...\n",
      "Creating raw.info structure...\n",
      "Reading 0 ... 2636799  =      0.000 ... 10299.996 secs...\n",
      "Filtering raw data in 1 contiguous segment\n",
      "Setting up band-pass filter from 0.1 - 1e+02 Hz\n",
      "\n",
      "FIR filter parameters\n",
      "---------------------\n",
      "Designing a one-pass, zero-phase, non-causal bandpass filter:\n",
      "- Windowed time-domain design (firwin) method\n",
      "- Hamming window with 0.0194 passband ripple and 53 dB stopband attenuation\n",
      "- Lower passband edge: 0.10\n",
      "- Lower transition bandwidth: 0.10 Hz (-6 dB cutoff frequency: 0.05 Hz)\n",
      "- Upper passband edge: 100.00 Hz\n",
      "- Upper transition bandwidth: 25.00 Hz (-6 dB cutoff frequency: 112.50 Hz)\n",
      "- Filter length: 8449 samples (33.004 sec)\n",
      "\n",
      "Setting up band-stop filter from 59 - 61 Hz\n",
      "\n",
      "FIR filter parameters\n",
      "---------------------\n",
      "Designing a one-pass, zero-phase, non-causal bandstop filter:\n",
      "- Windowed time-domain design (firwin) method\n",
      "- Hamming window with 0.0194 passband ripple and 53 dB stopband attenuation\n",
      "- Lower passband edge: 59.35\n",
      "- Lower transition bandwidth: 0.50 Hz (-6 dB cutoff frequency: 59.10 Hz)\n",
      "- Upper passband edge: 60.65 Hz\n",
      "- Upper transition bandwidth: 0.50 Hz (-6 dB cutoff frequency: 60.90 Hz)\n",
      "- Filter length: 1691 samples (6.605 sec)\n",
      "\n"
     ]
    }
   ],
   "source": [
    "file_dir = \"C:/Users/Bruger/Documents/Uni/6. Semester/BP data/data/v2.1.0/edf/03_tcp_ar_a/046/00004671/s017_2015_03_27/00004671_s017_t000.edf\"\n",
    "\n",
    "file = mne.io.read_raw_edf(file_dir, preload=True)\n",
    "\n",
    "data = data.notch_filter(60)\n",
    "data = file.filter(0.1, 100)\n"
   ]
  },
  {
   "cell_type": "code",
   "execution_count": 5,
   "id": "e43972a5-9db8-443e-be08-d552f934587d",
   "metadata": {},
   "outputs": [
    {
     "name": "stdout",
     "output_type": "stream",
     "text": [
      "Overwriting existing file.\n"
     ]
    }
   ],
   "source": [
    "#mne.export.export_raw(\"C:/Users/Bruger/Documents/Uni/6. Semester/BP/test2/data.edf\", data, overwrite=True)"
   ]
  },
  {
   "cell_type": "code",
   "execution_count": 6,
   "id": "50ab9d70-d340-4af0-b4c8-8849249ce4d7",
   "metadata": {},
   "outputs": [],
   "source": [
    "df = data.to_data_frame()"
   ]
  },
  {
   "cell_type": "code",
   "execution_count": 7,
   "id": "3413c230-83eb-4e95-973a-d1a60f9daa68",
   "metadata": {},
   "outputs": [
    {
     "data": {
      "text/plain": [
       "0         1.558541e-13\n",
       "1        -5.026616e+00\n",
       "2        -1.010817e+02\n",
       "3        -2.412647e+02\n",
       "4        -3.415012e+02\n",
       "              ...     \n",
       "360495    8.217741e-02\n",
       "360496    3.667120e-01\n",
       "360497   -3.858227e-02\n",
       "360498   -3.680866e-01\n",
       "360499    1.694066e-15\n",
       "Name: EEG O1-REF, Length: 360500, dtype: float64"
      ]
     },
     "execution_count": 7,
     "metadata": {},
     "output_type": "execute_result"
    }
   ],
   "source": [
    "df[\"EEG O1-REF\"]"
   ]
  },
  {
   "cell_type": "code",
   "execution_count": 8,
   "id": "7146b69c-2bd3-419c-b227-05eb81bdcd86",
   "metadata": {},
   "outputs": [
    {
     "name": "stdout",
     "output_type": "stream",
     "text": [
      "Using matplotlib backend: Qt5Agg\n",
      "Using matplotlib as 2D backend.\n"
     ]
    },
    {
     "data": {
      "image/png": "[encoded data removed]",
      "text/plain": [
       "<MNEBrowseFigure size 1600x1050 with 4 Axes>"
      ]
     },
     "execution_count": 8,
     "metadata": {},
     "output_type": "execute_result"
    }
   ],
   "source": [
    "%matplotlib\n",
    "data.plot()"
   ]
  },
  {
   "cell_type": "code",
   "execution_count": null,
   "id": "163ee959-2666-49fc-982b-5415ed309f4a",
   "metadata": {},
   "outputs": [],
   "source": []
  },
  {
   "cell_type": "code",
   "execution_count": 106,
   "id": "a0cb93a7-6991-458b-91c7-2e1097a65322",
   "metadata": {},
   "outputs": [],
   "source": [
    "montage= {0: [\"FP1-F7\", \"EEG FP1-REF\", \"EEG F7-REF\"],\n",
    "1: [\"F7-T3\", \"EEG F7-REF\", \"EEG T3-REF\"],\n",
    "2: [\"T3-T5\", \"EEG T3-REF\", \"EEG T5-REF\"],\n",
    "3: [\"T5-O1\", \"EEG T5-REF\", \"EEG O1-REF\"],\n",
    "4: [\"FP2-F8\", \"EEG FP2-REF\", \"EEG F8-REF\"],\n",
    "5: [\"F8-T4\", \"EEG F8-REF\", \"EEG T4-REF\"],\n",
    "6: [\"T4-T6\", \"EEG T4-REF\", \"EEG T6-REF\"],\n",
    "7: [\"T6-O2\", \"EEG T6-REF\", \"EEG O2-REF\"],\n",
    "8: [\"A1-T3\", \"EEG A1-REF\", \"EEG T3-REF\"],\n",
    "9: [\"T3-C3\", \"EEG T3-REF\", \"EEG C3-REF\"],\n",
    "10: [\"C3-CZ\", \"EEG C3-REF\", \"EEG CZ-REF\"],\n",
    "11: [\"CZ-C4\", \"EEG CZ-REF\", \"EEG C4-REF\"],\n",
    "12: [\"C4-T4\", \"EEG C4-REF\", \"EEG T4-REF\"],\n",
    "13: [\"T4-A2\", \"EEG T4-REF\", \"EEG A2-REF\"],\n",
    "14: [\"FP1-F3\", \"EEG FP1-REF\", \"EEG F3-REF\"],\n",
    "15: [\"F3-C3\", \"EEG F3-REF\", \"EEG C3-REF\"],\n",
    "16: [\"C3-P3\", \"EEG C3-REF\", \"EEG P3-REF\"],\n",
    "17: [\"P3-O1\", \"EEG P3-REF\", \"EEG O1-REF\"],\n",
    "18: [\"FP2-F4\", \"EEG FP2-REF\", \"EEG F4-REF\"],\n",
    "19: [\"F4-C4\", \"EEG F4-REF\", \"EEG C4-REF\"],\n",
    "20: [\"C4-P4\", \"EEG C4-REF\", \"EEG P4-REF\"],\n",
    "21: [\"P4-O2\", \"EEG P4-REF\", \"EEG O2-REF\"]}"
   ]
  },
  {
   "cell_type": "code",
   "execution_count": null,
   "id": "8dce0c38-6b3e-414d-bde3-02411e0ec989",
   "metadata": {},
   "outputs": [],
   "source": []
  },
  {
   "cell_type": "code",
   "execution_count": null,
   "id": "0b7d1df2-a666-423e-be4e-1dd3d0b4ca3f",
   "metadata": {},
   "outputs": [],
   "source": []
  },
  {
   "cell_type": "code",
   "execution_count": 107,
   "id": "f4976c64-e57a-473b-a830-2e512a88cddf",
   "metadata": {},
   "outputs": [
    {
     "data": {
      "text/plain": [
       "{0: ['FP1-F7', 'EEG FP1-REF', 'EEG F7-REF'],\n",
       " 1: ['F7-T3', 'EEG F7-REF', 'EEG T3-REF'],\n",
       " 2: ['T3-T5', 'EEG T3-REF', 'EEG T5-REF'],\n",
       " 3: ['T5-O1', 'EEG T5-REF', 'EEG O1-REF'],\n",
       " 4: ['FP2-F8', 'EEG FP2-REF', 'EEG F8-REF'],\n",
       " 5: ['F8-T4', 'EEG F8-REF', 'EEG T4-REF'],\n",
       " 6: ['T4-T6', 'EEG T4-REF', 'EEG T6-REF'],\n",
       " 7: ['T6-O2', 'EEG T6-REF', 'EEG O2-REF'],\n",
       " 8: ['A1-T3', 'EEG A1-REF', 'EEG T3-REF'],\n",
       " 9: ['T3-C3', 'EEG T3-REF', 'EEG C3-REF'],\n",
       " 10: ['C3-CZ', 'EEG C3-REF', 'EEG CZ-REF'],\n",
       " 11: ['CZ-C4', 'EEG CZ-REF', 'EEG C4-REF'],\n",
       " 12: ['C4-T4', 'EEG C4-REF', 'EEG T4-REF'],\n",
       " 13: ['T4-A2', 'EEG T4-REF', 'EEG A2-REF'],\n",
       " 14: ['FP1-F3', 'EEG FP1-REF', 'EEG F3-REF'],\n",
       " 15: ['F3-C3', 'EEG F3-REF', 'EEG C3-REF'],\n",
       " 16: ['C3-P3', 'EEG C3-REF', 'EEG P3-REF'],\n",
       " 17: ['P3-O1', 'EEG P3-REF', 'EEG O1-REF'],\n",
       " 18: ['FP2-F4', 'EEG FP2-REF', 'EEG F4-REF'],\n",
       " 19: ['F4-C4', 'EEG F4-REF', 'EEG C4-REF'],\n",
       " 20: ['C4-P4', 'EEG C4-REF', 'EEG P4-REF'],\n",
       " 21: ['P4-O2', 'EEG P4-REF', 'EEG O2-REF']}"
      ]
     },
     "execution_count": 107,
     "metadata": {},
     "output_type": "execute_result"
    }
   ],
   "source": [
    "montage"
   ]
  },
  {
   "cell_type": "code",
   "execution_count": 108,
   "id": "82a035be-39a6-42be-969a-4cede4808f0c",
   "metadata": {},
   "outputs": [],
   "source": [
    "dir_rec = \"C:/Users/Bruger/Documents/Uni/6. Semester/BP/data/v2.1.0/edf/01_tcp_ar/002/00000254/s005_2010_11_15/00000254_s005_t000.rec\"\n",
    "which_montages = set()\n",
    "target = []\n",
    "with open(dir_rec, \"r\") as file: # Læser csv-fil\n",
    "    ls = csv.reader(file)\n",
    "    for rows in ls:\n",
    "        target.append([int(rows[0]), float(rows[1]), float(rows[2]), int(rows[3])])\n",
    "        which_montages.add(int(rows[0]))"
   ]
  },
  {
   "cell_type": "markdown",
   "id": "fd32f28f-6886-448e-b105-4a962e273742",
   "metadata": {},
   "source": [
    "Nu skal den nye data-frame laves:"
   ]
  },
  {
   "cell_type": "code",
   "execution_count": 111,
   "id": "6702878b-42f1-43d2-a87b-a183584fc79a",
   "metadata": {},
   "outputs": [],
   "source": [
    "first = True\n",
    "for i in which_montages:\n",
    "    col_names = montage.get(i)\n",
    "    if first:\n",
    "        list1 = df[col_names[1]] # Get the first series\n",
    "        list2 = df[col_names[2]] # Get the second series\n",
    "        df_new = list1-list2\n",
    "        df_new = df_new.rename(col_names[0]) # Rename\n",
    "        first = False\n",
    "    else:\n",
    "        list1 = df[col_names[1]]\n",
    "        list2 = df[col_names[2]]\n",
    "        diff = list1-list2\n",
    "        diff = diff.rename(col_names[0]) # Rename\n",
    "        df_new = pd.concat([df_new, diff], axis=1, join='inner')\n",
    "    "
   ]
  },
  {
   "cell_type": "code",
   "execution_count": 112,
   "id": "55de4eef-69bd-49cf-b63c-7a378965a184",
   "metadata": {},
   "outputs": [
    {
     "data": {
      "text/html": [
       "<div>\n",
       "<style scoped>\n",
       "    .dataframe tbody tr th:only-of-type {\n",
       "        vertical-align: middle;\n",
       "    }\n",
       "\n",
       "    .dataframe tbody tr th {\n",
       "        vertical-align: top;\n",
       "    }\n",
       "\n",
       "    .dataframe thead th {\n",
       "        text-align: right;\n",
       "    }\n",
       "</style>\n",
       "<table border=\"1\" class=\"dataframe\">\n",
       "  <thead>\n",
       "    <tr style=\"text-align: right;\">\n",
       "      <th></th>\n",
       "      <th>FP1-F7</th>\n",
       "      <th>F7-T3</th>\n",
       "      <th>FP2-F8</th>\n",
       "      <th>F8-T4</th>\n",
       "      <th>FP1-F3</th>\n",
       "      <th>F3-C3</th>\n",
       "      <th>FP2-F4</th>\n",
       "      <th>F4-C4</th>\n",
       "    </tr>\n",
       "  </thead>\n",
       "  <tbody>\n",
       "    <tr>\n",
       "      <th>0</th>\n",
       "      <td>4.201283e-13</td>\n",
       "      <td>-1.450120e-12</td>\n",
       "      <td>-1.904130e-12</td>\n",
       "      <td>2.154852e-12</td>\n",
       "      <td>-1.057097e-12</td>\n",
       "      <td>4.472334e-13</td>\n",
       "      <td>-5.421011e-13</td>\n",
       "      <td>1.219727e-13</td>\n",
       "    </tr>\n",
       "    <tr>\n",
       "      <th>1</th>\n",
       "      <td>-9.794684e-01</td>\n",
       "      <td>4.418222e-01</td>\n",
       "      <td>3.768421e-01</td>\n",
       "      <td>-8.842254e-02</td>\n",
       "      <td>1.141815e+00</td>\n",
       "      <td>-9.209430e+00</td>\n",
       "      <td>2.708561e-01</td>\n",
       "      <td>-1.139021e-01</td>\n",
       "    </tr>\n",
       "    <tr>\n",
       "      <th>2</th>\n",
       "      <td>-3.061401e+00</td>\n",
       "      <td>5.673381e+00</td>\n",
       "      <td>-2.050824e-01</td>\n",
       "      <td>-3.728029e+00</td>\n",
       "      <td>1.833854e+00</td>\n",
       "      <td>7.097958e+00</td>\n",
       "      <td>-1.174570e+00</td>\n",
       "      <td>-2.697431e-01</td>\n",
       "    </tr>\n",
       "    <tr>\n",
       "      <th>3</th>\n",
       "      <td>-4.662710e+00</td>\n",
       "      <td>3.792673e+00</td>\n",
       "      <td>5.302231e+00</td>\n",
       "      <td>-5.345774e+00</td>\n",
       "      <td>-4.827685e+00</td>\n",
       "      <td>1.566672e+02</td>\n",
       "      <td>3.539606e+00</td>\n",
       "      <td>1.655322e+00</td>\n",
       "    </tr>\n",
       "    <tr>\n",
       "      <th>4</th>\n",
       "      <td>-1.527984e-01</td>\n",
       "      <td>5.505614e+00</td>\n",
       "      <td>-5.648467e+00</td>\n",
       "      <td>-1.106737e+00</td>\n",
       "      <td>4.909561e+00</td>\n",
       "      <td>2.326199e+02</td>\n",
       "      <td>-5.578518e+00</td>\n",
       "      <td>-1.823738e+00</td>\n",
       "    </tr>\n",
       "    <tr>\n",
       "      <th>...</th>\n",
       "      <td>...</td>\n",
       "      <td>...</td>\n",
       "      <td>...</td>\n",
       "      <td>...</td>\n",
       "      <td>...</td>\n",
       "      <td>...</td>\n",
       "      <td>...</td>\n",
       "      <td>...</td>\n",
       "    </tr>\n",
       "    <tr>\n",
       "      <th>360495</th>\n",
       "      <td>8.280899e-02</td>\n",
       "      <td>-4.266175e-02</td>\n",
       "      <td>2.932339e-02</td>\n",
       "      <td>-4.531270e-03</td>\n",
       "      <td>1.279515e-02</td>\n",
       "      <td>6.731476e-02</td>\n",
       "      <td>2.021651e-02</td>\n",
       "      <td>-1.836432e-02</td>\n",
       "    </tr>\n",
       "    <tr>\n",
       "      <th>360496</th>\n",
       "      <td>1.070861e-01</td>\n",
       "      <td>-2.351004e-01</td>\n",
       "      <td>2.447659e-02</td>\n",
       "      <td>-2.083732e-01</td>\n",
       "      <td>-1.761150e-01</td>\n",
       "      <td>1.931396e-01</td>\n",
       "      <td>-9.729379e-02</td>\n",
       "      <td>-1.178408e-01</td>\n",
       "    </tr>\n",
       "    <tr>\n",
       "      <th>360497</th>\n",
       "      <td>3.530257e-02</td>\n",
       "      <td>5.523331e-02</td>\n",
       "      <td>3.112077e-02</td>\n",
       "      <td>5.834737e-02</td>\n",
       "      <td>5.501466e-02</td>\n",
       "      <td>-4.056292e-03</td>\n",
       "      <td>5.844777e-02</td>\n",
       "      <td>3.016768e-02</td>\n",
       "    </tr>\n",
       "    <tr>\n",
       "      <th>360498</th>\n",
       "      <td>-3.024033e-02</td>\n",
       "      <td>2.740474e-01</td>\n",
       "      <td>2.310679e-02</td>\n",
       "      <td>2.677234e-01</td>\n",
       "      <td>2.400229e-01</td>\n",
       "      <td>-1.653893e-01</td>\n",
       "      <td>1.692700e-01</td>\n",
       "      <td>1.414717e-01</td>\n",
       "    </tr>\n",
       "    <tr>\n",
       "      <th>360499</th>\n",
       "      <td>8.470329e-15</td>\n",
       "      <td>4.235165e-15</td>\n",
       "      <td>1.524659e-14</td>\n",
       "      <td>-1.355253e-14</td>\n",
       "      <td>1.185846e-14</td>\n",
       "      <td>4.235165e-16</td>\n",
       "      <td>-2.117582e-15</td>\n",
       "      <td>2.964615e-15</td>\n",
       "    </tr>\n",
       "  </tbody>\n",
       "</table>\n",
       "<p>360500 rows × 8 columns</p>\n",
       "</div>"
      ],
      "text/plain": [
       "              FP1-F7         F7-T3        FP2-F8         F8-T4        FP1-F3  \\\n",
       "0       4.201283e-13 -1.450120e-12 -1.904130e-12  2.154852e-12 -1.057097e-12   \n",
       "1      -9.794684e-01  4.418222e-01  3.768421e-01 -8.842254e-02  1.141815e+00   \n",
       "2      -3.061401e+00  5.673381e+00 -2.050824e-01 -3.728029e+00  1.833854e+00   \n",
       "3      -4.662710e+00  3.792673e+00  5.302231e+00 -5.345774e+00 -4.827685e+00   \n",
       "4      -1.527984e-01  5.505614e+00 -5.648467e+00 -1.106737e+00  4.909561e+00   \n",
       "...              ...           ...           ...           ...           ...   \n",
       "360495  8.280899e-02 -4.266175e-02  2.932339e-02 -4.531270e-03  1.279515e-02   \n",
       "360496  1.070861e-01 -2.351004e-01  2.447659e-02 -2.083732e-01 -1.761150e-01   \n",
       "360497  3.530257e-02  5.523331e-02  3.112077e-02  5.834737e-02  5.501466e-02   \n",
       "360498 -3.024033e-02  2.740474e-01  2.310679e-02  2.677234e-01  2.400229e-01   \n",
       "360499  8.470329e-15  4.235165e-15  1.524659e-14 -1.355253e-14  1.185846e-14   \n",
       "\n",
       "               F3-C3        FP2-F4         F4-C4  \n",
       "0       4.472334e-13 -5.421011e-13  1.219727e-13  \n",
       "1      -9.209430e+00  2.708561e-01 -1.139021e-01  \n",
       "2       7.097958e+00 -1.174570e+00 -2.697431e-01  \n",
       "3       1.566672e+02  3.539606e+00  1.655322e+00  \n",
       "4       2.326199e+02 -5.578518e+00 -1.823738e+00  \n",
       "...              ...           ...           ...  \n",
       "360495  6.731476e-02  2.021651e-02 -1.836432e-02  \n",
       "360496  1.931396e-01 -9.729379e-02 -1.178408e-01  \n",
       "360497 -4.056292e-03  5.844777e-02  3.016768e-02  \n",
       "360498 -1.653893e-01  1.692700e-01  1.414717e-01  \n",
       "360499  4.235165e-16 -2.117582e-15  2.964615e-15  \n",
       "\n",
       "[360500 rows x 8 columns]"
      ]
     },
     "execution_count": 112,
     "metadata": {},
     "output_type": "execute_result"
    }
   ],
   "source": [
    "df_new"
   ]
  },
  {
   "cell_type": "markdown",
   "id": "95190d1d-45d7-4ce7-99d4-cdfc49efec6b",
   "metadata": {},
   "source": [
    "Lets make the targets:"
   ]
  },
  {
   "cell_type": "code",
   "execution_count": 15,
   "id": "32c81c7d-91b2-493a-99aa-bd2b8dfdbcd0",
   "metadata": {},
   "outputs": [],
   "source": [
    "import torch\n",
    "import math\n",
    "import numpy as np"
   ]
  },
  {
   "cell_type": "code",
   "execution_count": 16,
   "id": "bbdfe485-64ce-4882-96e5-4da5b2aed385",
   "metadata": {},
   "outputs": [],
   "source": [
    "tar = torch.zeros(df_new.shape[1], df_new.shape[0])\n",
    "sorted_index = sorted(list(which_montages))\n",
    "\n",
    "for i in target: # i = [montage_channel, start, end, type_artifact]\n",
    "    index = sorted_index.index(i[0]) # Find the correct index in the target\n",
    "    tar[index][250 * math.floor(i[1]): 250 * math.ceil(i[2])] = 1 # Make the artifacts = 1"
   ]
  },
  {
   "cell_type": "code",
   "execution_count": 52,
   "id": "9850b593-585e-4d53-9faf-e46cb83a63f2",
   "metadata": {},
   "outputs": [],
   "source": [
    "figure, axis = plt.subplots(2, 2)\n",
    "\n",
    "# The artifacts on channel: FP1-F7\n",
    "axis[0, 0].plot(df_new[\"FP1-F7\"][(tar[0] == 0).numpy()], \"b\")\n",
    "axis[0, 0].plot(df_new[\"FP1-F7\"][(tar[0] == 1).numpy()], \"ro\", markersize=1)\n",
    "axis[0, 0].set_title(\"FP1-F7\")\n",
    "axis[0, 0].axes.xaxis.set_visible(False) # remove digits on x-axis\n",
    "  \n",
    "# The artifacts on channel: F7-T3\n",
    "axis[0, 1].plot(df_new[\"F7-T3\"][(tar[1] == 0).numpy()], \"b\")\n",
    "axis[0, 1].plot(df_new[\"F7-T3\"][(tar[1] == 1).numpy()], \"ro\", markersize=1)\n",
    "axis[0, 1].set_title(\"F7-T3\")\n",
    "axis[0, 1].axes.xaxis.set_visible(False) # remove digits on x-axis\n",
    "  \n",
    "# The artifacts on channel: FP2-F8\n",
    "axis[1, 0].plot(df_new[\"FP2-F8\"][(tar[2] == 0).numpy()], \"b\")\n",
    "axis[1, 0].plot(df_new[\"FP2-F8\"][(tar[2] == 1).numpy()], \"ro\", markersize=1)\n",
    "axis[1, 0].set_title(\"FP2-F8\")\n",
    "axis[1, 0].axes.xaxis.set_visible(False) # remove digits on x-axis\n",
    "  \n",
    "# The artifacts on channel: F8-T4\n",
    "axis[1, 1].plot(df_new[\"F8-T4\"][(tar[3] == 0).numpy()], \"b\")\n",
    "axis[1, 1].plot(df_new[\"F8-T4\"][(tar[3] == 1).numpy()], \"ro\", markersize=1)\n",
    "axis[1, 1].set_title(\"F8-T4\")\n",
    "axis[1, 1].axes.xaxis.set_visible(False) # remove digits on x-axis\n",
    "\n",
    "# https://www.geeksforgeeks.org/plot-multiple-plots-in-matplotlib/"
   ]
  },
  {
   "cell_type": "code",
   "execution_count": null,
   "id": "95d85195-7c3f-4e21-961a-f81e596dfece",
   "metadata": {},
   "outputs": [],
   "source": []
  },
  {
   "cell_type": "code",
   "execution_count": 39,
   "id": "83064ae8-dcea-4150-87c4-992461639177",
   "metadata": {},
   "outputs": [
    {
     "data": {
      "text/plain": [
       "[<matplotlib.lines.Line2D at 0x13a4a269fa0>]"
      ]
     },
     "execution_count": 39,
     "metadata": {},
     "output_type": "execute_result"
    }
   ],
   "source": [
    "plt.plot(df_new[\"FP1-F7\"][(tar[0] == 1).numpy()], \"ro\", markersize=1)"
   ]
  },
  {
   "cell_type": "code",
   "execution_count": null,
   "id": "284b3301-db88-4e49-8bba-891e03c9e854",
   "metadata": {},
   "outputs": [],
   "source": []
  },
  {
   "cell_type": "code",
   "execution_count": null,
   "id": "91edc562-b994-46bd-9d08-8eba0391d577",
   "metadata": {},
   "outputs": [],
   "source": []
  },
  {
   "cell_type": "code",
   "execution_count": null,
   "id": "fa8b158d-c0f5-4e09-9402-8e2e3b8a1e64",
   "metadata": {},
   "outputs": [],
   "source": []
  },
  {
   "cell_type": "code",
   "execution_count": 58,
   "id": "1506c716-d6be-4a60-aa69-3d86fcb3a3e4",
   "metadata": {},
   "outputs": [],
   "source": [
    "dir1_rec = \"C:/Users/Bruger/Documents/Uni/6. Semester/BP/data/v2.1.0/lists/rec_01_tcp_ar.list\"\n",
    "dir2_rec = \"C:/Users/Bruger/Documents/Uni/6. Semester/BP/data/v2.1.0/lists/rec_02_tcp_le.list\"\n",
    "dir3_rec = \"C:/Users/Bruger/Documents/Uni/6. Semester/BP/data/v2.1.0/lists/rec_03_tcp_ar_a.list\"\n",
    "rec = []\n",
    "\n",
    "with open(dir1_rec, \"r\") as file: # Læser csv-fil\n",
    "    ls = csv.reader(file)\n",
    "    for i in ls:\n",
    "        rec.append(i[0])\n",
    "    \n",
    "with open(dir2_rec, \"r\") as file: # Læser csv-fil\n",
    "    ls = csv.reader(file)\n",
    "    for i in ls:\n",
    "        rec.append(i[0])\n",
    "        \n",
    "with open(dir3_rec, \"r\") as file: # Læser csv-fil\n",
    "    ls = csv.reader(file)\n",
    "    for i in ls:\n",
    "        rec.append(i[0])"
   ]
  },
  {
   "cell_type": "code",
   "execution_count": 66,
   "id": "7d2653c1-f420-4f08-92ed-00d77be0bdd4",
   "metadata": {},
   "outputs": [
    {
     "name": "stdout",
     "output_type": "stream",
     "text": [
      "135961\n"
     ]
    }
   ],
   "source": [
    "artifacts = 0\n",
    "\n",
    "for i in rec:\n",
    "    direct = \"C:/Users/Bruger/Documents/Uni/6. Semester/BP/data/v2.1.0\" + i[2:]\n",
    "    with open(direct, \"r\") as file: # Læser csv-fil\n",
    "        ls = csv.reader(file)\n",
    "        for rows in ls:\n",
    "            artifacts += 1\n",
    "\n",
    "        \n",
    "print(artifacts)"
   ]
  },
  {
   "cell_type": "code",
   "execution_count": null,
   "id": "e647d280-9c4f-42f0-8bb7-d653f01e8759",
   "metadata": {},
   "outputs": [],
   "source": []
  },
  {
   "cell_type": "code",
   "execution_count": 86,
   "id": "6f850b55-ea6a-4074-8dde-6ab3c879bfde",
   "metadata": {},
   "outputs": [],
   "source": [
    "def make_file_list(edf_dir: str, rec_dir: str, file_dir: list):\n",
    "    file1 = open(edf_dir)\n",
    "    file2 = open(rec_dir)\n",
    "    reader1 = csv.reader(file1)\n",
    "    reader2 = csv.reader(file2)\n",
    "\n",
    "    for i in zip(reader1, reader2):\n",
    "        first = \"C:/Users/Bruger/Documents/Uni/6. Semester/BP/data/v2.1.0\" + i[0][0][2:]\n",
    "        second = \"C:/Users/Bruger/Documents/Uni/6. Semester/BP/data/v2.1.0\" + i[1][0][2:]\n",
    "        file_dir.append([first, second])\n",
    "\n",
    "    file1.close()\n",
    "    file2.close()\n",
    "    return file_dir"
   ]
  },
  {
   "cell_type": "code",
   "execution_count": 105,
   "id": "6657cfcb-a7dc-47bf-af3d-40f95cf28b18",
   "metadata": {},
   "outputs": [
    {
     "data": {
      "text/plain": [
       "290"
      ]
     },
     "execution_count": 105,
     "metadata": {},
     "output_type": "execute_result"
    }
   ],
   "source": [
    "yeet = []\n",
    "\n",
    "edf_dir = \"C:/Users/Bruger/Documents/Uni/6. Semester/BP/data/v2.1.0/lists/edf_01_tcp_ar.list\"\n",
    "rec_dir = \"C:/Users/Bruger/Documents/Uni/6. Semester/BP/data/v2.1.0/lists/rec_01_tcp_ar.list\"\n",
    "\n",
    "yeet = make_file_list(edf_dir, rec_dir, yeet)\n",
    "len(yeet)"
   ]
  },
  {
   "cell_type": "code",
   "execution_count": 83,
   "id": "6ef2d183-56b7-4a6c-b118-4119f70f3e5d",
   "metadata": {},
   "outputs": [],
   "source": [
    "\n",
    "\n",
    "file1 = open(\"C:/Users/Bruger/Documents/Uni/6. Semester/BP/data/v2.1.0/lists/rec_01_tcp_ar.list\")\n",
    "file2 = open(\"C:/Users/Bruger/Documents/Uni/6. Semester/BP/data/v2.1.0/lists/edf_01_tcp_ar.list\")\n",
    "reader1 = csv.reader(file1)\n",
    "reader2 = csv.reader(file2)\n",
    "\n",
    "for i in zip(reader1, reader2):\n",
    "    first = \"C:/Users/Bruger/Documents/Uni/6. Semester/BP/data/v2.1.0\" + i[0][0][2:]\n",
    "    second = \"C:/Users/Bruger/Documents/Uni/6. Semester/BP/data/v2.1.0\" + i[1][0][2:]\n",
    "    yeet.append([first, second])\n",
    "\n",
    "file1.close()\n",
    "file2.close()"
   ]
  },
  {
   "cell_type": "code",
   "execution_count": 125,
   "id": "9075b643-b126-4e96-9f1d-8c7f09dccea2",
   "metadata": {},
   "outputs": [],
   "source": [
    "def increaser():\n",
    "    \n",
    "    for i in range(10):\n",
    "        nr += 1\n",
    "    return nr"
   ]
  },
  {
   "cell_type": "code",
   "execution_count": 130,
   "id": "d2703486-e911-421e-b3b2-b8817c370f07",
   "metadata": {},
   "outputs": [
    {
     "name": "stdout",
     "output_type": "stream",
     "text": [
      "30\n"
     ]
    }
   ],
   "source": [
    "nr = 0\n",
    "\n",
    "increaser()\n",
    "increaser()\n",
    "increaser()\n",
    "print(nr)"
   ]
  },
  {
   "cell_type": "code",
   "execution_count": null,
   "id": "64d92863-1ee2-4e16-95de-1131cfeec7e7",
   "metadata": {},
   "outputs": [],
   "source": []
  }
 ],
 "metadata": {
  "kernelspec": {
   "display_name": "Python 3 (ipykernel)",
   "language": "python",
   "name": "python3"
  },
  "language_info": {
   "codemirror_mode": {
    "name": "ipython",
    "version": 3
   },
   "file_extension": ".py",
   "mimetype": "text/x-python",
   "name": "python",
   "nbconvert_exporter": "python",
   "pygments_lexer": "ipython3",
   "version": "3.9.6"
  }
 },
 "nbformat": 4,
 "nbformat_minor": 5
}
