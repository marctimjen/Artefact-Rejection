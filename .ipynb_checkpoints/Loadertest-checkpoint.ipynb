{
 "cells": [
  {
   "cell_type": "code",
   "execution_count": 217,
   "id": "e7fe5bed-a1d7-4b53-bb15-d1337f4b9ce8",
   "metadata": {},
   "outputs": [],
   "source": [
    "from torch.utils.data import Dataset, DataLoader\n",
    "import torch\n",
    "import numpy as np\n",
    "import math\n",
    "\n",
    "class load_whole_data(Dataset): \n",
    "    \"\"\"\n",
    "    This dataloader loads the tensor input and target in whole\n",
    "    \"\"\"\n",
    "    def __init__(self, path: str, ind: list):\n",
    "        \"\"\"\n",
    "        Args:\n",
    "            path (str): path to the input & target folder.\n",
    "            ind (list): list of indices for which pictures to load.\n",
    "            device (class 'torch.device'): which pytorch device the data should\n",
    "            be sent to.\n",
    "        \"\"\"\n",
    "\n",
    "        self.device = \"cpu\"\n",
    "        self.imgs_path = path\n",
    "        self.data = []\n",
    "        for i in ind:\n",
    "            self.data.append([self.imgs_path + f\"/model_input ({i}).pt\",\n",
    "                        self.imgs_path + f\"/model_target ({i}).pt\"])\n",
    "\n",
    "    def __len__(self):\n",
    "        return len(self.data)\n",
    "\n",
    "    def __getitem__(self, idx):\n",
    "        input_path, target_path = self.data[idx] # path for target + input\n",
    "\n",
    "        inp = torch.load(input_path) # load the input data\n",
    "        inp = inp.type(torch.float).to(self.device)\n",
    "\n",
    "        tar = torch.load(target_path) # load the target data\n",
    "        tar = tar.type(torch.float).to(self.device)\n",
    "\n",
    "        return inp, tar\n",
    "\n",
    "\n",
    "\n",
    "        \n",
    "class load_shuffle_5_min(Dataset): \n",
    "    \"\"\"\n",
    "    This dataloader loads the tensor input and target in whole\n",
    "    \"\"\"\n",
    "    def __init__(self, ls: list, device):\n",
    "        \"\"\"\n",
    "        Args:\n",
    "            path (str): path to the input & target folder.\n",
    "            ind (list): list of indices for which pictures to load.\n",
    "            device (class 'torch.device'): which pytorch device the data should\n",
    "            be sent to.\n",
    "        \"\"\"\n",
    "\n",
    "        self.device = device\n",
    "        self.ls = ls # list with the input and target data\n",
    "        self.size = (ls[0][0].shape[0], ls[0][0].shape[1]) # size of target and input\n",
    "        \n",
    "        length = math.floor((self.size[1]/(250*60*5)))*self.size[0] # the amount of total possible cuts\n",
    "        self.length = int(min((75 - 75 % self.size[0]), length))\n",
    "        \n",
    "        self.gen = iter(self.create_data(self.length))\n",
    "        \n",
    "        #print(self.length)\n",
    "\n",
    "    \n",
    "\n",
    "    def create_data(self, nr_of_cuts):       \n",
    "        cut_point = np.random.randint(low = 250*60*0.5, high = self.size[1] - 250*60*5, \n",
    "                          size = nr_of_cuts) # choose the place to cut\n",
    "        \n",
    "        cuts_pr_chan = nr_of_cuts/self.size[0] # the amount of cuts pr channel\n",
    "        \n",
    "        for i in range(nr_of_cuts):\n",
    "            inp = self.ls[0][0][int(i//cuts_pr_chan)][cut_point[i]:cut_point[i]+60*250*5]\n",
    "            tar = self.ls[1][0][int(i//cuts_pr_chan)][cut_point[i]:cut_point[i]+60*250*5]\n",
    "            yield (inp, tar)\n",
    "    \n",
    "    def __len__(self):\n",
    "        return self.length\n",
    "\n",
    "    def __getitem__(self, idx):\n",
    "        inp, tar = next(self.gen)\n",
    "        inp = inp.to(self.device)\n",
    "        tar = tar.to(self.device)\n",
    "        return inp, tar\n",
    "\n",
    "    \n",
    "    \n",
    "class load_shuffle_5_min_all(Dataset): \n",
    "    \"\"\"\n",
    "    This dataloader loads the tensor input and target in whole\n",
    "    \"\"\"\n",
    "    def __init__(self, ls: list, device):\n",
    "        \"\"\"\n",
    "        Args:\n",
    "            path (str): path to the input & target folder.\n",
    "            ind (list): list of indices for which pictures to load.\n",
    "            device (class 'torch.device'): which pytorch device the data should\n",
    "            be sent to.\n",
    "        \"\"\"\n",
    "\n",
    "        self.device = device\n",
    "        self.ls = ls # list with the input and target data\n",
    "        self.size = (ls[0][0].shape[0], ls[0][0].shape[1]) # size of target and input\n",
    "        \n",
    "        self.length = math.floor((self.size[1]/(250*60*5)))*self.size[0] # the amount of total possible cuts\n",
    "\n",
    "        \n",
    "        self.gen = iter(self.create_data(self.length))\n",
    "        #print(self.length)\n",
    "\n",
    "    \n",
    "\n",
    "    def create_data(self, nr_of_cuts):       \n",
    "        cut_point = np.random.randint(low = 250*60*0.5, high = self.size[1] - 250*60*5, \n",
    "                          size = nr_of_cuts) # choose the place to cut\n",
    "        \n",
    "        cuts_pr_chan = nr_of_cuts/self.size[0] # the amount of cuts pr channel\n",
    "        \n",
    "        for i in range(nr_of_cuts):\n",
    "            inp = self.ls[0][0][int(i//cuts_pr_chan)][cut_point[i]:cut_point[i]+60*250*5]\n",
    "            tar = self.ls[1][0][int(i//cuts_pr_chan)][cut_point[i]:cut_point[i]+60*250*5]\n",
    "            yield (inp, tar)\n",
    "    \n",
    "    def __len__(self):\n",
    "        return self.length\n",
    "\n",
    "    def __getitem__(self, idx):\n",
    "        inp, tar = next(self.gen)\n",
    "        inp = inp.to(self.device)\n",
    "        tar = tar.to(self.device)\n",
    "        return inp, tar\n"
   ]
  },
  {
   "cell_type": "code",
   "execution_count": 203,
   "id": "2c3c5579-e116-4d8c-9c1d-70670c8e5232",
   "metadata": {},
   "outputs": [
    {
     "name": "stdout",
     "output_type": "stream",
     "text": [
      "cuda\n",
      "j = 40\n"
     ]
    }
   ],
   "source": [
    "device = torch.device(\"cuda\" if torch.cuda.is_available() else \"cpu\")\n",
    "print(device)\n",
    "\n",
    "trainload = load_whole_data(path = \"C:/Users/Marc/Desktop/model_data\", ind = [i for i in range(1, 283 + 1)])\n",
    "batch_size = 1\n",
    "\n",
    "# Set up the dataloaders:\n",
    "\n",
    "trainloader = torch.utils.data.DataLoader(trainload,\n",
    "                                          batch_size=batch_size,\n",
    "                                          shuffle=True,\n",
    "                                          num_workers=0)\n",
    "load = iter(trainloader)\n",
    "\n",
    "loader2 = load_shuffle_5_min(next(load), \"cpu\")\n",
    "batch_size = 1\n",
    "\n",
    "# Set up the dataloaders:\n",
    "\n",
    "loader2 = torch.utils.data.DataLoader(loader2,\n",
    "                                          batch_size=batch_size,\n",
    "                                          shuffle=True,\n",
    "                                          num_workers=0)\n",
    "\n",
    "load2 = iter(loader2)\n",
    "\n",
    "j = 0\n",
    "for i in loader2:\n",
    "    j += 1\n",
    "\n",
    "print(\"j =\", j)"
   ]
  },
  {
   "cell_type": "code",
   "execution_count": 168,
   "id": "4e5c38b5-0715-4303-88dd-5d5ef980c6db",
   "metadata": {},
   "outputs": [
    {
     "name": "stdout",
     "output_type": "stream",
     "text": [
      "cuda\n",
      "time: 31.01079511642456\n",
      "Number of files loaded in total: 283\n"
     ]
    }
   ],
   "source": [
    "import time\n",
    "\n",
    "\n",
    "device = torch.device(\"cuda\" if torch.cuda.is_available() else \"cpu\")\n",
    "print(device)\n",
    "\n",
    "trainload = load_whole_data(path = \"C:/Users/Marc/Desktop/model_data\", ind = [i for i in range(1, 283 + 1)])\n",
    "\n",
    "# Set up the dataloaders:\n",
    "\n",
    "trainloader = torch.utils.data.DataLoader(trainload,\n",
    "                                          batch_size=1,\n",
    "                                          shuffle=False,\n",
    "                                          num_workers=0)\n",
    "\n",
    "data = []\n",
    "\n",
    "nr_of_files_loaded = 0\n",
    "\n",
    "batch_size = 1\n",
    "\n",
    "start = time.time()\n",
    "\n",
    "for file in trainloader:\n",
    "    loader2 = load_shuffle_5_min(file, device)\n",
    "    loader2 = torch.utils.data.DataLoader(loader2,\n",
    "                                              batch_size=batch_size,\n",
    "                                              shuffle=True,\n",
    "                                              num_workers=0)\n",
    "    nr_of_files_loaded += 1\n",
    "    j = 0\n",
    "    for i in loader2:\n",
    "        j += 1\n",
    "    \n",
    "    data.append(j)\n",
    "\n",
    "print(\"time:\", time.time()-start)\n",
    "    \n",
    "print(\"Number of files loaded in total:\", nr_of_files_loaded)"
   ]
  },
  {
   "cell_type": "code",
   "execution_count": 223,
   "id": "84e0d96f-eea4-4c89-a31e-f335370e484a",
   "metadata": {},
   "outputs": [
    {
     "name": "stdout",
     "output_type": "stream",
     "text": [
      "cpu\n",
      "time: 26.296545028686523\n",
      "Number of files loaded in total: 283\n"
     ]
    }
   ],
   "source": [
    "import time\n",
    "\n",
    "\n",
    "device = \"cpu\"\n",
    "print(device)\n",
    "\n",
    "trainload = load_whole_data(path = \"C:/Users/Marc/Desktop/model_data\", ind = [i for i in range(1, 283 + 1)])\n",
    "\n",
    "# Set up the dataloaders:\n",
    "\n",
    "trainloader = torch.utils.data.DataLoader(trainload,\n",
    "                                          batch_size=1,\n",
    "                                          shuffle=False,\n",
    "                                          num_workers=0)\n",
    "\n",
    "data_after = []\n",
    "\n",
    "nr_of_files_loaded = 0\n",
    "\n",
    "batch_size = 1\n",
    "\n",
    "start = time.time()\n",
    "\n",
    "for file in trainloader:\n",
    "    loader2 = load_shuffle_5_min(file, device)\n",
    "    loader2 = torch.utils.data.DataLoader(loader2,\n",
    "                                              batch_size=batch_size,\n",
    "                                              shuffle=True,\n",
    "                                              num_workers=0)\n",
    "    nr_of_files_loaded += 1\n",
    "    j = 0\n",
    "    for i in loader2:\n",
    "        j += 1\n",
    "    \n",
    "    data_after.append(j)\n",
    "\n",
    "print(\"time:\", time.time()-start)\n",
    "    \n",
    "print(\"Number of files loaded in total:\", nr_of_files_loaded)"
   ]
  },
  {
   "cell_type": "markdown",
   "id": "958bd52d-0ead-4784-80e9-274bc72b1084",
   "metadata": {},
   "source": [
    "Lets do the data analysis before we did the corrections:"
   ]
  },
  {
   "cell_type": "code",
   "execution_count": 224,
   "id": "7fdb875c-2088-4872-a80f-019bd4dfb54e",
   "metadata": {},
   "outputs": [
    {
     "name": "stdout",
     "output_type": "stream",
     "text": [
      "cpu\n",
      "time: 26.10477352142334\n",
      "Number of files loaded in total: 283\n"
     ]
    }
   ],
   "source": [
    "import time\n",
    "\n",
    "\n",
    "device = \"cpu\"\n",
    "print(device)\n",
    "\n",
    "trainload = load_whole_data(path = \"C:/Users/Marc/Desktop/model_data\", ind = [i for i in range(1, 283 + 1)])\n",
    "\n",
    "# Set up the dataloaders:\n",
    "\n",
    "trainloader = torch.utils.data.DataLoader(trainload,\n",
    "                                          batch_size=1,\n",
    "                                          shuffle=False,\n",
    "                                          num_workers=0)\n",
    "\n",
    "data_before = []\n",
    "\n",
    "nr_of_files_loaded = 0\n",
    "\n",
    "batch_size = 1\n",
    "\n",
    "start = time.time()\n",
    "\n",
    "for file in trainloader:\n",
    "    loader2 = load_shuffle_5_min_all(file, device)\n",
    "    loader2 = torch.utils.data.DataLoader(loader2,\n",
    "                                              batch_size=batch_size,\n",
    "                                              shuffle=True,\n",
    "                                              num_workers=0)\n",
    "    nr_of_files_loaded += 1\n",
    "    j = 0\n",
    "    for i in loader2:\n",
    "        j += 1\n",
    "    \n",
    "    data_before.append(j)\n",
    "\n",
    "print(\"time:\", time.time()-start)\n",
    "    \n",
    "print(\"Number of files loaded in total:\", nr_of_files_loaded)"
   ]
  },
  {
   "cell_type": "code",
   "execution_count": 225,
   "id": "e1aaf81e-403e-4f6e-af8c-f7e5c8e507ce",
   "metadata": {},
   "outputs": [
    {
     "name": "stdout",
     "output_type": "stream",
     "text": [
      "77.76678445229682\n",
      "76.0\n"
     ]
    },
    {
     "data": {
      "image/png": "[encoded data removed]",
      "text/plain": [
       "<Figure size 432x288 with 1 Axes>"
      ]
     },
     "metadata": {
      "needs_background": "light"
     },
     "output_type": "display_data"
    }
   ],
   "source": [
    "import matplotlib.pyplot as plt\n",
    "m = plt.hist(data_before, bins = 30)\n",
    "\n",
    "print(np.mean(data_before))\n",
    "print(np.median(data_before))"
   ]
  },
  {
   "cell_type": "code",
   "execution_count": 226,
   "id": "c24ca77a-d9e6-408c-9f37-223d490fe1da",
   "metadata": {},
   "outputs": [
    {
     "name": "stdout",
     "output_type": "stream",
     "text": [
      "54.667844522968196\n",
      "66.0\n"
     ]
    },
    {
     "data": {
      "image/png": "[encoded data removed]",
      "text/plain": [
       "<Figure size 432x288 with 1 Axes>"
      ]
     },
     "metadata": {
      "needs_background": "light"
     },
     "output_type": "display_data"
    }
   ],
   "source": [
    "import matplotlib.pyplot as plt\n",
    "m = plt.hist(data_after, bins = 30)\n",
    "\n",
    "print(np.mean(data_after))\n",
    "print(np.median(data_after))"
   ]
  }
 ],
 "metadata": {
  "kernelspec": {
   "display_name": "Python 3 (ipykernel)",
   "language": "python",
   "name": "python3"
  },
  "language_info": {
   "codemirror_mode": {
    "name": "ipython",
    "version": 3
   },
   "file_extension": ".py",
   "mimetype": "text/x-python",
   "name": "python",
   "nbconvert_exporter": "python",
   "pygments_lexer": "ipython3",
   "version": "3.9.6"
  }
 },
 "nbformat": 4,
 "nbformat_minor": 5
}
