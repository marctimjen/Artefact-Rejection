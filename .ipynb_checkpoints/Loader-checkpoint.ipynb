{
 "cells": [
  {
   "cell_type": "code",
   "execution_count": 505,
   "id": "52e8d03d-e30e-4f5b-9c53-9058b1b0fc56",
   "metadata": {},
   "outputs": [],
   "source": [
    "from torch.utils.data import Dataset, DataLoader\n",
    "import torch\n",
    "import numpy as np\n",
    "import math\n",
    "\n",
    "\n",
    "class load_whole_data(Dataset): # Dataset\n",
    "    \"\"\"\n",
    "    This dataloader loads the tensor input and target in whole\n",
    "    \"\"\"\n",
    "    def __init__(self, path: str, ind: list):\n",
    "        \"\"\"\n",
    "        Args:\n",
    "            path (str): path to the input & target folder.\n",
    "            ind (list): list of indices for which pictures to load.\n",
    "            device (class 'torch.device'): which pytorch device the data should\n",
    "            be sent to.\n",
    "        \"\"\"\n",
    "\n",
    "        self.device = \"cpu\"\n",
    "        self.imgs_path = path\n",
    "        self.data = []\n",
    "        for i in ind:\n",
    "            self.data.append([self.imgs_path + f\"/model_input ({i}).pt\",\n",
    "                        self.imgs_path + f\"/model_target ({i}).pt\"])\n",
    "\n",
    "    def __len__(self):\n",
    "        return len(self.data)\n",
    "\n",
    "    def __getitem__(self, idx):\n",
    "        input_path, target_path = self.data[idx] # path for target + input\n",
    "\n",
    "        inp = torch.load(input_path) # load the input data\n",
    "        inp = inp.type(torch.float).to(self.device)\n",
    "\n",
    "        tar = torch.load(target_path) # load the target data\n",
    "        tar = tar.type(torch.float).to(self.device)\n",
    "\n",
    "        return inp, tar\n",
    "    \n",
    "\n",
    "\n",
    "class load_5_min_intervals(Dataset):\n",
    "    \"\"\"\n",
    "    This dataloader loads the tensor input and target in whole\n",
    "    \"\"\"\n",
    "    def __init__(self, ls: list, device):\n",
    "        \"\"\"\n",
    "        Args:\n",
    "            path (str): path to the input & target folder.\n",
    "            ind (list): list of indices for which pictures to load.\n",
    "            device (class 'torch.device'): which pytorch device the data should\n",
    "            be sent to.\n",
    "        \"\"\"\n",
    "\n",
    "        self.device = device\n",
    "        self.ls = ls # list with the input and target data\n",
    "        self.size = [ls[0][0].shape[0], ls[0][0].shape[1]]\n",
    "            # size of target and input\n",
    "        \n",
    "        # zero-pad the result if it can't be in only 5 mins intervals.\n",
    "        extra = 250*60*5 - (w := (ls[0][0].shape[1]-30*250) % (250*60*5))\n",
    "        \n",
    "        \n",
    "        if w: # if w is not equal to 0, then zero-pad is needed:\n",
    "            # zero pad:\n",
    "            self.ls[0] = F.pad(self.ls[0], (0, extra), \"constant\", 0.0)\n",
    "            self.ls[1] = F.pad(self.ls[1], (0, extra), \"constant\", 0.0)\n",
    "\n",
    "            self.size[1] = self.size[1] + extra\n",
    "        \n",
    "\n",
    "        self.length = math.floor((self.size[1]-30*250)/(250*60*5))*self.size[0]\n",
    "            # the amount of total possible cuts\n",
    "\n",
    "        self.gen = iter(self.cut_data())\n",
    "        \n",
    "        \n",
    "\n",
    "    def cut_data(self):\n",
    "        for chan in range(self.size[1]):\n",
    "            for cut_point in range(30*250, self.size[1], 250*5*60):\n",
    "                inp = self.ls[0][0][chan][cut_point:cut_point+60*5*250]\n",
    "                \n",
    "                tar = self.ls[1][0][chan][cut_point:cut_point+60*5*250]\n",
    "                yield (inp, tar, chan, cut_point)\n",
    "\n",
    "    def __len__(self):\n",
    "        return self.length\n",
    "\n",
    "    def __getitem__(self, idx):\n",
    "        inp, tar, chan, cut = next(self.gen)\n",
    "        inp = inp.to(self.device)\n",
    "        tar = tar.to(self.device)\n",
    "        return inp, tar, chan, cut"
   ]
  },
  {
   "cell_type": "code",
   "execution_count": 506,
   "id": "7c505056-bfb7-44f1-8e04-e1c6e9d5bfee",
   "metadata": {},
   "outputs": [
    {
     "name": "stdout",
     "output_type": "stream",
     "text": [
      "cuda\n"
     ]
    }
   ],
   "source": [
    "device = torch.device(\"cuda\" if torch.cuda.is_available() else \"cpu\")\n",
    "print(device)\n",
    "\n",
    "trainload = load_whole_data(path = \"C:/Users/Marc/Desktop/model_data\", ind = [i for i in range(1, 283 + 1)])\n",
    "batch_size = 1\n",
    "\n",
    "# Set up the dataloaders:\n",
    "\n",
    "trainloader = torch.utils.data.DataLoader(trainload,\n",
    "                                          batch_size=batch_size,\n",
    "                                          shuffle=True,\n",
    "                                          num_workers=0)\n",
    "load = iter(trainloader)\n",
    "\n",
    "\n"
   ]
  },
  {
   "cell_type": "code",
   "execution_count": 513,
   "id": "24e53581-faa7-437e-a718-e2ba51a32d39",
   "metadata": {},
   "outputs": [
    {
     "name": "stdout",
     "output_type": "stream",
     "text": [
      "[tensor([[3.0992, 2.7187, 2.4399,  ..., 0.0000, 0.0000, 0.0000]]), tensor([[0., 0., 0.,  ..., 0., 0., 0.]]), tensor([21]), tensor([1957500])]\n",
      "594\n"
     ]
    }
   ],
   "source": [
    "loader2 = load_5_min_intervals(next(load), \"cpu\")\n",
    "batch_size = 1\n",
    "\n",
    "# Set up the dataloaders:\n",
    "\n",
    "loader2 = torch.utils.data.DataLoader(loader2,\n",
    "                                          batch_size=batch_size,\n",
    "                                          shuffle=True,\n",
    "                                          num_workers=0)\n",
    "j = 0\n",
    "for i in loader2:\n",
    "    j += 1\n",
    "\n",
    "print(i)\n",
    "    \n",
    "\n",
    "print(j)"
   ]
  },
  {
   "cell_type": "code",
   "execution_count": 515,
   "id": "4768d20c-1207-4138-a01b-67a6745def74",
   "metadata": {},
   "outputs": [
    {
     "data": {
      "text/plain": [
       "27.0"
      ]
     },
     "execution_count": 515,
     "metadata": {},
     "output_type": "execute_result"
    }
   ],
   "source": [
    "594/22"
   ]
  },
  {
   "cell_type": "code",
   "execution_count": 516,
   "id": "6cd57881-0cfa-46ed-9179-bfa252f843bb",
   "metadata": {},
   "outputs": [
    {
     "data": {
      "text/plain": [
       "135"
      ]
     },
     "execution_count": 516,
     "metadata": {},
     "output_type": "execute_result"
    }
   ],
   "source": [
    "5*27"
   ]
  },
  {
   "cell_type": "code",
   "execution_count": 496,
   "id": "4a01a701-a6e1-401a-836c-ac4be579321c",
   "metadata": {},
   "outputs": [],
   "source": [
    "def gener():\n",
    "    for i in range(20):\n",
    "        for j in range(4):\n",
    "            yield (i, j)"
   ]
  },
  {
   "cell_type": "code",
   "execution_count": 409,
   "id": "e3935815-2eb7-4ef9-90bd-b3912b8d6636",
   "metadata": {},
   "outputs": [],
   "source": [
    "d = iter(gener())"
   ]
  },
  {
   "cell_type": "code",
   "execution_count": 472,
   "id": "d5781c91-949b-4d79-a68d-15b827012d03",
   "metadata": {},
   "outputs": [
    {
     "data": {
      "text/plain": [
       "(15, 2)"
      ]
     },
     "execution_count": 472,
     "metadata": {},
     "output_type": "execute_result"
    }
   ],
   "source": [
    "next(d)"
   ]
  },
  {
   "cell_type": "markdown",
   "id": "ec584a7d-bc5e-4b58-a33f-872c3a1e4527",
   "metadata": {},
   "source": [
    "# "
   ]
  },
  {
   "cell_type": "code",
   "execution_count": 317,
   "id": "3b38204d-0927-4cb0-a4c8-1cf620647eac",
   "metadata": {},
   "outputs": [
    {
     "data": {
      "text/plain": [
       "[0, 75000, 150000, 225000, 300000]"
      ]
     },
     "execution_count": 317,
     "metadata": {},
     "output_type": "execute_result"
    }
   ],
   "source": [
    "[i for i in range(0, 301000 + 74000, 5*250*60)]"
   ]
  },
  {
   "cell_type": "code",
   "execution_count": 254,
   "id": "08301ba0-3a5d-4794-bc23-70a36963d5b2",
   "metadata": {},
   "outputs": [],
   "source": [
    "yet = 301000"
   ]
  },
  {
   "cell_type": "code",
   "execution_count": 255,
   "id": "4b32442d-ca6b-4e6a-bd2a-25362bf3d0c0",
   "metadata": {},
   "outputs": [
    {
     "name": "stdout",
     "output_type": "stream",
     "text": [
      "74000\n",
      "1000\n"
     ]
    }
   ],
   "source": [
    "\n",
    "\n",
    "extra = 250*60*5 - (w := yet % (250*60*5))\n",
    "\n",
    "\n",
    "\n",
    "print(extra)\n",
    "print(w)"
   ]
  },
  {
   "cell_type": "code",
   "execution_count": 256,
   "id": "76d9fd92-69a4-458b-871c-d5a8c5a66c08",
   "metadata": {},
   "outputs": [
    {
     "data": {
      "text/plain": [
       "0"
      ]
     },
     "execution_count": 256,
     "metadata": {},
     "output_type": "execute_result"
    }
   ],
   "source": [
    "(301000 + 74000) %(250*60*5)"
   ]
  },
  {
   "cell_type": "code",
   "execution_count": 306,
   "id": "fb5be6f2-c94d-4aed-92a4-6449762a91c8",
   "metadata": {},
   "outputs": [
    {
     "data": {
      "text/plain": [
       "74000"
      ]
     },
     "execution_count": 306,
     "metadata": {},
     "output_type": "execute_result"
    }
   ],
   "source": [
    "250*60*5 - (w := (yet % (250*60*5)))"
   ]
  },
  {
   "cell_type": "code",
   "execution_count": null,
   "id": "0a1a66a8-d8c1-4d44-a474-6ed7c6539c2a",
   "metadata": {},
   "outputs": [],
   "source": []
  },
  {
   "cell_type": "code",
   "execution_count": 305,
   "id": "cbee53be-8950-45cd-9438-99c91b219e06",
   "metadata": {},
   "outputs": [
    {
     "data": {
      "text/plain": [
       "torch.Size([1, 22, 301000])"
      ]
     },
     "execution_count": 305,
     "metadata": {},
     "output_type": "execute_result"
    }
   ],
   "source": [
    "k = v[0]\n",
    "k.shape"
   ]
  },
  {
   "cell_type": "code",
   "execution_count": 304,
   "id": "e404101d-e4a5-41c7-b9a8-caa66a041206",
   "metadata": {},
   "outputs": [
    {
     "name": "stdout",
     "output_type": "stream",
     "text": [
      "torch.Size([9])\n",
      "tensor([0.0000, 0.0000, 0.9434, 0.6756, 0.5096, 0.1459, 0.4407, 0.0000, 0.0000])\n"
     ]
    }
   ],
   "source": [
    "t4d = torch.rand(5)\n",
    "p1d = (2, 2)\n",
    "out = F.pad(t4d, p1d, \"constant\", 0.0)  # effectively zero padding\n",
    "print(out.size())\n",
    "print(out)"
   ]
  },
  {
   "cell_type": "code",
   "execution_count": 297,
   "id": "0b7075da-34ee-451f-9e7c-6ec6ed6ec3db",
   "metadata": {},
   "outputs": [
    {
     "name": "stdout",
     "output_type": "stream",
     "text": [
      "torch.Size([1, 22, 375000])\n"
     ]
    }
   ],
   "source": [
    "p1d = (0, 74000) # pad last dim by 1 on each side\n",
    "out = F.pad(k, p1d, \"constant\", 0.0)  # effectively zero padding\n",
    "print(out.size())"
   ]
  },
  {
   "cell_type": "code",
   "execution_count": 300,
   "id": "14438b9c-f8c0-4bca-a230-ffb898a332ce",
   "metadata": {},
   "outputs": [
    {
     "data": {
      "text/plain": [
       "tensor([0.2925, 0.8081, 0.0816, 0.9448, 0.2459])"
      ]
     },
     "execution_count": 300,
     "metadata": {},
     "output_type": "execute_result"
    }
   ],
   "source": []
  },
  {
   "cell_type": "code",
   "execution_count": 294,
   "id": "a228627d-81da-44c8-9e4a-a126c2138198",
   "metadata": {},
   "outputs": [
    {
     "data": {
      "text/plain": [
       "37000.0"
      ]
     },
     "execution_count": 294,
     "metadata": {},
     "output_type": "execute_result"
    }
   ],
   "source": [
    "74000/2"
   ]
  },
  {
   "cell_type": "code",
   "execution_count": null,
   "id": "9b868731-a64e-4f5f-8017-4d2d1b09ab75",
   "metadata": {},
   "outputs": [],
   "source": []
  }
 ],
 "metadata": {
  "kernelspec": {
   "display_name": "Python 3 (ipykernel)",
   "language": "python",
   "name": "python3"
  },
  "language_info": {
   "codemirror_mode": {
    "name": "ipython",
    "version": 3
   },
   "file_extension": ".py",
   "mimetype": "text/x-python",
   "name": "python",
   "nbconvert_exporter": "python",
   "pygments_lexer": "ipython3",
   "version": "3.9.6"
  }
 },
 "nbformat": 4,
 "nbformat_minor": 5
}
