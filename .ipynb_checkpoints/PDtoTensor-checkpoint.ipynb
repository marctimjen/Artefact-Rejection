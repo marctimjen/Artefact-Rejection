{
 "cells": [
  {
   "cell_type": "markdown",
   "id": "e7ee3c32-326c-4306-9add-efbd8294c8b7",
   "metadata": {},
   "source": [
    "###### import pandas as pd\n",
    "import torch"
   ]
  },
  {
   "cell_type": "code",
   "execution_count": 2,
   "id": "5985262e-6197-4dc5-9d79-87e54ca455ae",
   "metadata": {},
   "outputs": [],
   "source": [
    "output = pd.read_pickle(\"input 1.pkl\")"
   ]
  },
  {
   "cell_type": "code",
   "execution_count": 3,
   "id": "8890367b-32f4-4f97-9ef7-67f5a5980988",
   "metadata": {},
   "outputs": [
    {
     "name": "stdout",
     "output_type": "stream",
     "text": [
      "<class 'pandas.core.frame.DataFrame'>\n"
     ]
    }
   ],
   "source": [
    "print(type(output))"
   ]
  },
  {
   "cell_type": "code",
   "execution_count": 4,
   "id": "168fe93e-71a9-4193-af31-6dbb233312d1",
   "metadata": {},
   "outputs": [],
   "source": [
    "torch_tensor = torch.tensor(output['time'].values)"
   ]
  },
  {
   "cell_type": "code",
   "execution_count": 5,
   "id": "cb1b8bff-676c-43c8-9b85-6e0829e03c44",
   "metadata": {},
   "outputs": [
    {
     "data": {
      "text/plain": [
       "tensor([      0,       4,       8,  ..., 1258988, 1258992, 1258996])"
      ]
     },
     "execution_count": 5,
     "metadata": {},
     "output_type": "execute_result"
    }
   ],
   "source": [
    "torch_tensor"
   ]
  },
  {
   "cell_type": "code",
   "execution_count": 6,
   "id": "3da09437-11fb-49b7-8753-ecf794bc0bea",
   "metadata": {},
   "outputs": [],
   "source": [
    "tens = torch.tensor(output.values.T)"
   ]
  },
  {
   "cell_type": "code",
   "execution_count": 7,
   "id": "f2faf4b7-a2c2-428c-a205-43ee6f9f0f08",
   "metadata": {},
   "outputs": [
    {
     "data": {
      "text/plain": [
       "tensor([ 3.2272e-13,  1.2209e+03,  3.4500e+03,  ..., -2.3943e-02,\n",
       "        -1.2042e-02,  1.8635e-14], dtype=torch.float64)"
      ]
     },
     "execution_count": 7,
     "metadata": {},
     "output_type": "execute_result"
    }
   ],
   "source": [
    "tens[4]"
   ]
  },
  {
   "cell_type": "code",
   "execution_count": 8,
   "id": "de9d92ee-54a3-4f92-80f9-323f9d01246f",
   "metadata": {},
   "outputs": [],
   "source": [
    "import matplotlib.pyplot as plt"
   ]
  },
  {
   "cell_type": "code",
   "execution_count": 9,
   "id": "707e4236-c1ba-4325-9bae-f8820ac24a25",
   "metadata": {},
   "outputs": [
    {
     "data": {
      "text/plain": [
       "[<matplotlib.lines.Line2D at 0x26a1e268610>]"
      ]
     },
     "execution_count": 9,
     "metadata": {},
     "output_type": "execute_result"
    },
    {
     "data": {
      "image/png": "[encoded data removed]",
      "text/plain": [
       "<Figure size 432x288 with 1 Axes>"
      ]
     },
     "metadata": {
      "needs_background": "light"
     },
     "output_type": "display_data"
    }
   ],
   "source": [
    "plt.plot(tens[3])"
   ]
  },
  {
   "cell_type": "code",
   "execution_count": 10,
   "id": "31b9f204-d314-4533-a052-17eb4466eceb",
   "metadata": {},
   "outputs": [
    {
     "data": {
      "text/plain": [
       "torch.Size([565, 314750])"
      ]
     },
     "execution_count": 10,
     "metadata": {},
     "output_type": "execute_result"
    }
   ],
   "source": [
    "tens.shape"
   ]
  },
  {
   "cell_type": "code",
   "execution_count": null,
   "id": "bf368f61-d62d-4b78-933a-67dd672d7013",
   "metadata": {},
   "outputs": [],
   "source": []
  }
 ],
 "metadata": {
  "kernelspec": {
   "display_name": "Python 3 (ipykernel)",
   "language": "python",
   "name": "python3"
  },
  "language_info": {
   "codemirror_mode": {
    "name": "ipython",
    "version": 3
   },
   "file_extension": ".py",
   "mimetype": "text/x-python",
   "name": "python",
   "nbconvert_exporter": "python",
   "pygments_lexer": "ipython3",
   "version": "3.9.6"
  }
 },
 "nbformat": 4,
 "nbformat_minor": 5
}
