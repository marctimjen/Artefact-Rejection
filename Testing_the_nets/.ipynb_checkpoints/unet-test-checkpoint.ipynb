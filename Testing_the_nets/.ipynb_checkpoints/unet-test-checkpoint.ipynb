{
 "cells": [
  {
   "cell_type": "code",
   "execution_count": 1,
   "id": "8bc57dea-fc49-43a5-823a-c99b9dd917d5",
   "metadata": {},
   "outputs": [],
   "source": [
    "import os\n",
    "import torch.nn as nn\n",
    "import torch\n",
    "import torch.nn.functional as F\n",
    "from torch.optim import SGD, Adam\n",
    "from torch.utils.data import DataLoader, random_split\n",
    "from torch.optim.lr_scheduler import CyclicLR, LambdaLR\n",
    "import torch.multiprocessing as mp\n",
    "import numpy as np\n",
    "import random\n",
    "import math\n",
    "\n",
    "import sys\n",
    "sys.path.append(\"..\") # adds higher directory to python modules path\n",
    "\n",
    "from LoaderPACK.Unet import Unet\n",
    "from LoaderPACK.Unet_leaky import Unet_leaky, Unet_leaky_lstm"
   ]
  },
  {
   "cell_type": "code",
   "execution_count": 2,
   "id": "833eea70-1d57-48ae-88b9-d1b642639192",
   "metadata": {},
   "outputs": [],
   "source": [
    "nEpoch = 5\n",
    "base_lr = 0.1 # where we start the learning rate\n",
    "\n",
    "device = \"cpu\"\n",
    "\n",
    "model = Unet(n_channels=1, n_classes=10).to(device)\n",
    "# model = Unet_leaky(n_channels=1, n_classes=2).to(device)\n",
    "optimizer = SGD(model.parameters(), lr=base_lr)\n",
    "lossFunc = nn.CrossEntropyLoss(weight = (torch.zeros(10)+1).to(device), reduction = \"mean\")\n",
    "# lossFunc = nn.MSELoss()\n",
    "fl = torch.FloatTensor\n",
    "it = torch.LongTensor\n",
    "l = 60000"
   ]
  },
  {
   "cell_type": "code",
   "execution_count": 3,
   "id": "9c0da1e9-ea19-4624-9834-0b89c675346c",
   "metadata": {},
   "outputs": [],
   "source": [
    "lss = []\n",
    "for i in range(100):\n",
    "    ind = torch.randint(10, (1, 1, l))/10 # use random values\n",
    "    # ind = torch.randn(1, 1, l)\n",
    "    # tar = torch.zeros(1, 1, l) + 1\n",
    "    tar = (ind*10).type(it)\n",
    "    target = tar.view(-1).type(it)\n",
    "    y_pred = model(ind)\n",
    "    model.zero_grad()\n",
    "    optimizer.zero_grad()\n",
    "    pred = y_pred.transpose(1, 2).reshape(-1, 10).type(fl)\n",
    "    loss = lossFunc(pred, target)\n",
    "    # loss = lossFunc(torch.nn.functional.one_hot(tar.to(torch.int64)[0][0], 10).to(torch.float32), pred)\n",
    "    loss.backward()\n",
    "    lss.append(loss.item())\n",
    "    # nn.utils.clip_grad_value_(model.parameters(), clip_value=1.0)\n",
    "    # nn.utils.clip_grad_norm_(model.parameters(), max_norm=10.0, norm_type=2)\n",
    "    optimizer.step()"
   ]
  },
  {
   "cell_type": "code",
   "execution_count": 4,
   "id": "d42664b8-75f4-4f23-96d7-0a9bb18d6caf",
   "metadata": {},
   "outputs": [
    {
     "data": {
      "image/png": "[encoded data removed]",
      "text/plain": [
       "<Figure size 432x288 with 1 Axes>"
      ]
     },
     "metadata": {
      "needs_background": "light"
     },
     "output_type": "display_data"
    }
   ],
   "source": [
    "import matplotlib.pyplot as plt\n",
    "plt.plot(lss)\n",
    "plt.show()"
   ]
  },
  {
   "cell_type": "code",
   "execution_count": 5,
   "id": "d11e4d15-fe17-495b-aaa2-c7a9edba3978",
   "metadata": {},
   "outputs": [],
   "source": [
    "ind = torch.zeros(1, 1, l) + torch.randint(10, (1,))/10\n",
    "# ind = torch.randn(1, 1, l)\n",
    "# tar = torch.zeros(1, 1, l) + 1\n",
    "tar = (ind*10).type(it)\n",
    "# target = tar.view(-1).type(it)\n",
    "y_pred = model(ind)"
   ]
  },
  {
   "cell_type": "code",
   "execution_count": 6,
   "id": "dfb84f0e-fa5f-43e5-b383-630c7c5f1069",
   "metadata": {},
   "outputs": [
    {
     "data": {
      "text/plain": [
       "tensor([0.0851, 0.0936, 0.1151, 0.1172, 0.1021, 0.0766, 0.1102, 0.1000, 0.1121,\n",
       "        0.0881], grad_fn=<SelectBackward0>)"
      ]
     },
     "execution_count": 6,
     "metadata": {},
     "output_type": "execute_result"
    }
   ],
   "source": [
    "y_pred[0][:,50]"
   ]
  },
  {
   "cell_type": "code",
   "execution_count": 7,
   "id": "05288664-179f-4b79-ae33-63056c4fc027",
   "metadata": {},
   "outputs": [
    {
     "data": {
      "text/plain": [
       "tensor([[[0.4000, 0.4000, 0.4000,  ..., 0.4000, 0.4000, 0.4000]]])"
      ]
     },
     "execution_count": 7,
     "metadata": {},
     "output_type": "execute_result"
    }
   ],
   "source": [
    "ind"
   ]
  },
  {
   "cell_type": "code",
   "execution_count": null,
   "id": "01d76cf5-575c-4476-8fb4-ee194c711f02",
   "metadata": {},
   "outputs": [],
   "source": []
  },
  {
   "cell_type": "code",
   "execution_count": null,
   "id": "cb431c2c-e1c9-47f4-82bc-7fd791bf57fe",
   "metadata": {},
   "outputs": [],
   "source": []
  },
  {
   "cell_type": "code",
   "execution_count": 8,
   "id": "32f02849-b76a-4d59-8db4-19c2a82603ec",
   "metadata": {},
   "outputs": [],
   "source": [
    "nEpoch = 5\n",
    "base_lr = 0.1 # where we start the learning rate\n",
    "\n",
    "device = \"cpu\"\n",
    "\n",
    "model = Unet(n_channels=1, n_classes=10).to(device)\n",
    "# model = Unet_leaky(n_channels=1, n_classes=2).to(device)\n",
    "optimizer = SGD(model.parameters(), lr=base_lr)\n",
    "lossFunc = nn.CrossEntropyLoss(weight = (torch.zeros(10)+1).to(device), reduction = \"mean\")\n",
    "# lossFunc = nn.MSELoss()\n",
    "fl = torch.FloatTensor\n",
    "it = torch.LongTensor\n",
    "l = 60000"
   ]
  },
  {
   "cell_type": "code",
   "execution_count": 9,
   "id": "42b7218b-e62a-4d7c-9cfa-b19feb52a8fd",
   "metadata": {},
   "outputs": [],
   "source": [
    "lss = []\n",
    "for i in range(100):\n",
    "    ind = torch.zeros(1, 1, l) + torch.randint(10, (1,))/10\n",
    "    tar = (ind*10).type(it)\n",
    "    target = tar.view(-1).type(it)\n",
    "    y_pred = model(ind)\n",
    "    model.zero_grad()\n",
    "    optimizer.zero_grad()\n",
    "    pred = y_pred.transpose(1, 2).reshape(-1, 10).type(fl)\n",
    "    loss = lossFunc(pred, target)\n",
    "    # loss = lossFunc(torch.nn.functional.one_hot(tar.to(torch.int64)[0][0], 10).to(torch.float32), pred)\n",
    "    loss.backward()\n",
    "    lss.append(loss.item())\n",
    "    # nn.utils.clip_grad_value_(model.parameters(), clip_value=1.0)\n",
    "    # nn.utils.clip_grad_norm_(model.parameters(), max_norm=10.0, norm_type=2)\n",
    "    optimizer.step()"
   ]
  },
  {
   "cell_type": "code",
   "execution_count": 10,
   "id": "d43c4623-bd61-4658-97e7-b20c3d83de27",
   "metadata": {},
   "outputs": [
    {
     "data": {
      "image/png": "[encoded data removed]",
      "text/plain": [
       "<Figure size 432x288 with 1 Axes>"
      ]
     },
     "metadata": {
      "needs_background": "light"
     },
     "output_type": "display_data"
    }
   ],
   "source": [
    "import matplotlib.pyplot as plt\n",
    "plt.plot(lss)\n",
    "plt.show()"
   ]
  },
  {
   "cell_type": "code",
   "execution_count": 11,
   "id": "84425ccd-9286-473f-9d5c-294cdae0ea6a",
   "metadata": {},
   "outputs": [
    {
     "name": "stdout",
     "output_type": "stream",
     "text": [
      "[2.287996768951416, 2.2865841388702393, 2.2951395511627197, nan, nan, nan, nan, nan, nan, nan, nan, nan, nan, nan, nan, nan, nan, nan, nan, nan, nan, nan, nan, nan, nan, nan, nan, nan, nan, nan, nan, nan, nan, nan, nan, nan, nan, nan, nan, nan, nan, nan, nan, nan, nan, nan, nan, nan, nan, nan, nan, nan, nan, nan, nan, nan, nan, nan, nan, nan, nan, nan, nan, nan, nan, nan, nan, nan, nan, nan, nan, nan, nan, nan, nan, nan, nan, nan, nan, nan, nan, nan, nan, nan, nan, nan, nan, nan, nan, nan, nan, nan, nan, nan, nan, nan, nan, nan, nan, nan]\n"
     ]
    }
   ],
   "source": [
    "print(lss)"
   ]
  },
  {
   "cell_type": "code",
   "execution_count": 12,
   "id": "76e7a7b2-a6a9-4a86-8d50-c2089e38065d",
   "metadata": {},
   "outputs": [],
   "source": [
    "nEpoch = 5\n",
    "base_lr = 0.1 # where we start the learning rate\n",
    "\n",
    "device = \"cpu\"\n",
    "\n",
    "model = Unet(n_channels=1, n_classes=10).to(device)\n",
    "# model = Unet_leaky(n_channels=1, n_classes=2).to(device)\n",
    "optimizer = SGD(model.parameters(), lr=base_lr)\n",
    "lossFunc = nn.CrossEntropyLoss(weight = (torch.zeros(10)+1).to(device), reduction = \"mean\")\n",
    "# lossFunc = nn.MSELoss()\n",
    "fl = torch.FloatTensor\n",
    "it = torch.LongTensor\n",
    "l = 60000"
   ]
  },
  {
   "cell_type": "code",
   "execution_count": 13,
   "id": "69ec9956-380a-49cb-9430-513730e2076e",
   "metadata": {},
   "outputs": [],
   "source": [
    "lss = []\n",
    "for i in range(100):\n",
    "    ind = torch.zeros(1, 1, l) + torch.randint(10, (1,))/10\n",
    "    tar = (ind*10).type(it)\n",
    "    target = tar.view(-1).type(it)\n",
    "    y_pred = model(ind)\n",
    "    model.zero_grad()\n",
    "    optimizer.zero_grad()\n",
    "    pred = y_pred.transpose(1, 2).reshape(-1, 10).type(fl)\n",
    "    loss = lossFunc(pred, target)\n",
    "    # loss = lossFunc(torch.nn.functional.one_hot(tar.to(torch.int64)[0][0], 10).to(torch.float32), pred)\n",
    "    loss.backward()\n",
    "    lss.append(loss.item())\n",
    "    nn.utils.clip_grad_value_(model.parameters(), clip_value=1.0)\n",
    "    # nn.utils.clip_grad_norm_(model.parameters(), max_norm=10.0, norm_type=2)\n",
    "    optimizer.step()"
   ]
  },
  {
   "cell_type": "code",
   "execution_count": 14,
   "id": "d959bf65-7457-4cd6-8e8b-780a3fb48f67",
   "metadata": {},
   "outputs": [
    {
     "data": {
      "image/png": "[encoded data removed]",
      "text/plain": [
       "<Figure size 432x288 with 1 Axes>"
      ]
     },
     "metadata": {
      "needs_background": "light"
     },
     "output_type": "display_data"
    }
   ],
   "source": [
    "import matplotlib.pyplot as plt\n",
    "plt.plot(lss)\n",
    "plt.show()"
   ]
  },
  {
   "cell_type": "code",
   "execution_count": null,
   "id": "a0780f30-07e1-4186-818d-86f8106eeb2a",
   "metadata": {},
   "outputs": [],
   "source": []
  },
  {
   "cell_type": "code",
   "execution_count": 18,
   "id": "f7792150-ed44-425e-8ab7-81e9f43d5658",
   "metadata": {},
   "outputs": [],
   "source": [
    "nEpoch = 5\n",
    "base_lr = 0.1 # where we start the learning rate\n",
    "\n",
    "device = \"cpu\"\n",
    "\n",
    "model = Unet(n_channels=1, n_classes=10).to(device)\n",
    "# model = Unet_leaky(n_channels=1, n_classes=2).to(device)\n",
    "optimizer = SGD(model.parameters(), lr=base_lr)\n",
    "lossFunc = nn.CrossEntropyLoss(weight = (torch.zeros(10)+1).to(device), reduction = \"mean\")\n",
    "# lossFunc = nn.MSELoss()\n",
    "fl = torch.FloatTensor\n",
    "it = torch.LongTensor\n",
    "l = 60000"
   ]
  },
  {
   "cell_type": "code",
   "execution_count": 19,
   "id": "7505a790-7e03-4b3b-ba37-05727f150d60",
   "metadata": {},
   "outputs": [],
   "source": [
    "lss = []\n",
    "for i in range(100):\n",
    "    ind = torch.zeros(1, 1, l) + torch.randint(10, (1,))/10\n",
    "    tar = torch.zeros(1, 1, l) + 1\n",
    "    target = tar.view(-1).type(it)\n",
    "    y_pred = model(ind)\n",
    "    model.zero_grad()\n",
    "    optimizer.zero_grad()\n",
    "    pred = y_pred.transpose(1, 2).reshape(-1, 10).type(fl)\n",
    "    loss = lossFunc(pred, target)\n",
    "    # loss = lossFunc(torch.nn.functional.one_hot(tar.to(torch.int64)[0][0], 10).to(torch.float32), pred)\n",
    "    loss.backward()\n",
    "    lss.append(loss.item())\n",
    "    nn.utils.clip_grad_value_(model.parameters(), clip_value=1.0)\n",
    "    # nn.utils.clip_grad_norm_(model.parameters(), max_norm=10.0, norm_type=2)\n",
    "    optimizer.step()"
   ]
  },
  {
   "cell_type": "code",
   "execution_count": 20,
   "id": "93fa8f03-c274-4daa-a16a-0d8cec3d8c7a",
   "metadata": {},
   "outputs": [
    {
     "data": {
      "image/png": "[encoded data removed]",
      "text/plain": [
       "<Figure size 432x288 with 1 Axes>"
      ]
     },
     "metadata": {
      "needs_background": "light"
     },
     "output_type": "display_data"
    }
   ],
   "source": [
    "import matplotlib.pyplot as plt\n",
    "plt.plot(lss)\n",
    "plt.show()"
   ]
  },
  {
   "cell_type": "code",
   "execution_count": 21,
   "id": "631975dc-089b-41be-81fe-5ae5dee962a1",
   "metadata": {},
   "outputs": [
    {
     "data": {
      "text/plain": [
       "[2.3230552673339844,\n",
       " 2.322246789932251,\n",
       " 2.3214170932769775,\n",
       " nan,\n",
       " nan,\n",
       " nan,\n",
       " nan,\n",
       " nan,\n",
       " nan,\n",
       " nan,\n",
       " nan,\n",
       " nan,\n",
       " nan,\n",
       " nan,\n",
       " nan,\n",
       " nan,\n",
       " nan,\n",
       " nan,\n",
       " nan,\n",
       " nan,\n",
       " nan,\n",
       " nan,\n",
       " nan,\n",
       " nan,\n",
       " nan,\n",
       " nan,\n",
       " nan,\n",
       " nan,\n",
       " nan,\n",
       " nan,\n",
       " nan,\n",
       " nan,\n",
       " nan,\n",
       " nan,\n",
       " nan,\n",
       " nan,\n",
       " nan,\n",
       " nan,\n",
       " nan,\n",
       " nan,\n",
       " nan,\n",
       " nan,\n",
       " nan,\n",
       " nan,\n",
       " nan,\n",
       " nan,\n",
       " nan,\n",
       " nan,\n",
       " nan,\n",
       " nan,\n",
       " nan,\n",
       " nan,\n",
       " nan,\n",
       " nan,\n",
       " nan,\n",
       " nan,\n",
       " nan,\n",
       " nan,\n",
       " nan,\n",
       " nan,\n",
       " nan,\n",
       " nan,\n",
       " nan,\n",
       " nan,\n",
       " nan,\n",
       " nan,\n",
       " nan,\n",
       " nan,\n",
       " nan,\n",
       " nan,\n",
       " nan,\n",
       " nan,\n",
       " nan,\n",
       " nan,\n",
       " nan,\n",
       " nan,\n",
       " nan,\n",
       " nan,\n",
       " nan,\n",
       " nan,\n",
       " nan,\n",
       " nan,\n",
       " nan,\n",
       " nan,\n",
       " nan,\n",
       " nan,\n",
       " nan,\n",
       " nan,\n",
       " nan,\n",
       " nan,\n",
       " nan,\n",
       " nan,\n",
       " nan,\n",
       " nan,\n",
       " nan,\n",
       " nan,\n",
       " nan,\n",
       " nan,\n",
       " nan,\n",
       " nan]"
      ]
     },
     "execution_count": 21,
     "metadata": {},
     "output_type": "execute_result"
    }
   ],
   "source": [
    "lss"
   ]
  },
  {
   "cell_type": "code",
   "execution_count": null,
   "id": "ed36fc19-e71f-4b19-85a4-b4690b56febf",
   "metadata": {},
   "outputs": [],
   "source": []
  }
 ],
 "metadata": {
  "kernelspec": {
   "display_name": "Python 3 (ipykernel)",
   "language": "python",
   "name": "python3"
  },
  "language_info": {
   "codemirror_mode": {
    "name": "ipython",
    "version": 3
   },
   "file_extension": ".py",
   "mimetype": "text/x-python",
   "name": "python",
   "nbconvert_exporter": "python",
   "pygments_lexer": "ipython3",
   "version": "3.9.6"
  }
 },
 "nbformat": 4,
 "nbformat_minor": 5
}
