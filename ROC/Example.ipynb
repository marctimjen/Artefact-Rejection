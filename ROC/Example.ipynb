{
 "cells": [
  {
   "cell_type": "code",
   "execution_count": 102,
   "id": "93e7a32a-1494-4f4f-9654-ea705e97d020",
   "metadata": {},
   "outputs": [],
   "source": [
    "import numpy as np\n",
    "import matplotlib.pyplot as plt\n",
    "from itertools import cycle\n",
    "\n",
    "from sklearn import svm, datasets\n",
    "from sklearn.metrics import roc_curve, auc\n",
    "from sklearn.model_selection import train_test_split\n",
    "from sklearn.preprocessing import label_binarize\n",
    "from sklearn.multiclass import OneVsRestClassifier\n",
    "\n",
    "# Import some data to play with\n",
    "iris = datasets.load_iris()\n",
    "X = iris.data\n",
    "y = iris.target\n",
    "\n",
    "# Binarize the output\n",
    "y = label_binarize(y, classes=[0, 1, 2])\n",
    "n_classes = y.shape[1]\n",
    "\n"
   ]
  },
  {
   "cell_type": "code",
   "execution_count": 103,
   "id": "e2fad712-600e-446b-a899-aee7bd93188a",
   "metadata": {},
   "outputs": [],
   "source": [
    "# Add noisy features to make the problem harder\n",
    "random_state = np.random.RandomState(0)\n",
    "n_samples, n_features = X.shape\n",
    "X = np.c_[X, random_state.randn(n_samples, 200 * n_features)]\n",
    "\n",
    "# shuffle and split training and test sets\n",
    "X_train, X_test, y_train, y_test = train_test_split(X, y, test_size=0.5, random_state=0)\n",
    "\n",
    "# Learn to predict each class against the other\n",
    "classifier = OneVsRestClassifier(\n",
    "    svm.SVC(kernel=\"linear\", probability=True, random_state=random_state)\n",
    ")\n",
    "y_score = classifier.fit(X_train, y_train).decision_function(X_test)"
   ]
  },
  {
   "cell_type": "code",
   "execution_count": 104,
   "id": "4ba9727e-33fb-4bb7-98fb-17144322a245",
   "metadata": {},
   "outputs": [
    {
     "data": {
      "text/plain": [
       "array([[-0.76301132, -0.36482547,  0.12386354],\n",
       "       [-0.20224493, -0.63144366, -0.16612302],\n",
       "       [ 0.11801481, -0.80263073, -0.32055874],\n",
       "       [-0.90780855, -0.12395478,  0.02199789],\n",
       "       [-0.01116192, -0.27913475, -0.71889214],\n",
       "       [-0.6048727 , -0.34730509, -0.05859016],\n",
       "       [ 0.02283491, -0.24506467, -0.79111998],\n",
       "       [-0.61076876,  0.18264917, -0.57199363],\n",
       "       [-0.37572754, -0.24059516, -0.38933694],\n",
       "       [-0.47017411, -0.25745136, -0.27510839],\n",
       "       [-0.42224234, -0.30270719, -0.27995197],\n",
       "       [-0.3355867 , -0.7030665 ,  0.02530178],\n",
       "       [-0.22723929, -0.64062258, -0.13456902],\n",
       "       [-0.07856729, -0.46354017, -0.45918364],\n",
       "       [-0.53383361, -0.2653183 , -0.20023832],\n",
       "       [ 0.12163662, -0.56706353, -0.56980985],\n",
       "       [-0.71356947, -0.04226738, -0.24297128],\n",
       "       [-0.55111511, -0.13784913, -0.31370595],\n",
       "       [ 0.37991331, -0.99673302, -0.39090964],\n",
       "       [-0.11107635, -0.91349462,  0.03129167],\n",
       "       [-0.70713712, -0.06436533, -0.21423788],\n",
       "       [-0.02392675, -0.45906496, -0.51922684],\n",
       "       [-0.25045747, -0.80086123,  0.04121338],\n",
       "       [ 0.12675547, -0.70985659, -0.41072849],\n",
       "       [-0.68210402, -0.20735021, -0.12051204],\n",
       "       [-0.08001795, -0.36698232, -0.57704892],\n",
       "       [-0.03259341, -0.1159895 , -0.86493066],\n",
       "       [-0.04953425, -0.73611276, -0.21682409],\n",
       "       [-0.12974835, -0.37676258, -0.49997476],\n",
       "       [-0.19299299, -0.71078341, -0.11058011],\n",
       "       [-0.3619768 , -0.41408367, -0.22759345],\n",
       "       [-0.22818639, -0.78971942,  0.02046723],\n",
       "       [-0.06196433, -0.47617037, -0.45379557],\n",
       "       [-0.52455061, -0.46507392, -0.00375631],\n",
       "       [-0.40026409, -0.71470221,  0.10106561],\n",
       "       [-0.35056585, -0.31125083, -0.34020065],\n",
       "       [-0.05770139, -0.51388968, -0.41776502],\n",
       "       [-1.11907501, -0.0074193 ,  0.12967625],\n",
       "       [ 0.19599366, -0.65773489, -0.54610377],\n",
       "       [-0.04299172, -0.60049718, -0.35901924],\n",
       "       [-0.48108269, -0.21918849, -0.30065047],\n",
       "       [ 0.1741885 , -1.0107504 , -0.181261  ],\n",
       "       [-0.41416456, -0.60044961,  0.00856393],\n",
       "       [-0.01053513, -0.7579771 , -0.2292247 ],\n",
       "       [ 0.01645355, -0.81552421, -0.2039252 ],\n",
       "       [-0.11932181, -0.84787471, -0.05831557],\n",
       "       [-0.70817199, -0.2863326 , -0.01186087],\n",
       "       [-0.77303401, -0.43228203,  0.21326435],\n",
       "       [-0.61489613, -0.15060119, -0.23302033],\n",
       "       [-0.96334774, -0.62804881,  0.58423201],\n",
       "       [-0.31037723, -0.29572764, -0.39404258],\n",
       "       [-0.31952657, -0.34638653, -0.32086131],\n",
       "       [-0.35306417, -0.66917752,  0.00767521],\n",
       "       [ 0.12127427, -0.62483455, -0.50550427],\n",
       "       [-0.6643231 , -0.11456775, -0.21298739],\n",
       "       [-0.55149778, -0.34855346, -0.10551977],\n",
       "       [-0.55695146, -0.13384038, -0.30613086],\n",
       "       [-0.41111447, -0.52487765, -0.07455313],\n",
       "       [-0.49463336, -0.23331763, -0.27802284],\n",
       "       [ 0.06910059, -0.85448531, -0.21662877],\n",
       "       [-0.23036784, -0.48759987, -0.28317657],\n",
       "       [ 0.30342285, -0.83392076, -0.47754831],\n",
       "       [ 0.17642852, -0.81597935, -0.3755452 ],\n",
       "       [-0.1906155 , -0.70826295, -0.10238744],\n",
       "       [-0.42910413, -0.39894364, -0.1693745 ],\n",
       "       [-0.67759563,  0.09194626, -0.3995789 ],\n",
       "       [-0.32958811, -0.56572577, -0.12075396],\n",
       "       [-0.97119543, -0.46484965,  0.41477557],\n",
       "       [ 0.02088168, -0.56912947, -0.44616888],\n",
       "       [-0.08177305, -0.5611945 , -0.35229343],\n",
       "       [-0.41466962, -0.63705856,  0.04838688],\n",
       "       [-0.30436228, -0.08425378, -0.61864694],\n",
       "       [ 0.18869727, -0.8879586 , -0.29713077],\n",
       "       [ 0.24966175, -0.80507517, -0.44324457],\n",
       "       [-0.39980476, -0.29016769, -0.30413406]])"
      ]
     },
     "execution_count": 104,
     "metadata": {},
     "output_type": "execute_result"
    }
   ],
   "source": [
    "y_score"
   ]
  },
  {
   "cell_type": "code",
   "execution_count": 107,
   "id": "67d108c4-a5f8-415e-a890-00436132ee2b",
   "metadata": {},
   "outputs": [
    {
     "data": {
      "text/plain": [
       "numpy.float64"
      ]
     },
     "execution_count": 107,
     "metadata": {},
     "output_type": "execute_result"
    }
   ],
   "source": [
    "type(y_score[0][0])"
   ]
  },
  {
   "cell_type": "code",
   "execution_count": 133,
   "id": "c297c663-8be8-48fe-ad1e-580f7476a7fa",
   "metadata": {},
   "outputs": [],
   "source": [
    "# Compute ROC curve and ROC area for each class\n",
    "fpr = dict()\n",
    "tpr = dict()\n",
    "roc_auc = dict()\n",
    "for i in range(n_classes):\n",
    "    fpr[i], tpr[i], _ = roc_curve(y_test[:, i], y_score[:, i])\n",
    "    roc_auc[i] = auc(fpr[i], tpr[i])\n",
    "\n",
    "# Compute micro-average ROC curve and ROC area\n",
    "fpr[\"micro\"], tpr[\"micro\"], _ = roc_curve(y_test.ravel(), y_score.ravel())\n",
    "roc_auc[\"micro\"] = auc(fpr[\"micro\"], tpr[\"micro\"])"
   ]
  },
  {
   "cell_type": "code",
   "execution_count": 143,
   "id": "2f0ba025-aeab-4050-ab17-7391e166bce6",
   "metadata": {},
   "outputs": [
    {
     "data": {
      "text/plain": [
       "array([0, 0, 1, 0, 1, 0, 1, 0, 0, 0, 0, 0, 0, 0, 0, 1, 0, 0, 1, 1, 0, 0,\n",
       "       1, 1, 0, 1, 1, 0, 0, 1, 0, 0, 1, 0, 0, 0, 1, 0, 0, 0, 0, 1, 0, 1,\n",
       "       1, 0, 0, 0, 0, 0, 0, 0, 0, 0, 0, 0, 0, 0, 0, 0, 0, 1, 0, 0, 0, 0,\n",
       "       0, 0, 1, 1, 0, 0, 1, 1, 0])"
      ]
     },
     "execution_count": 143,
     "metadata": {},
     "output_type": "execute_result"
    }
   ],
   "source": [
    "y_test[:, 0]"
   ]
  },
  {
   "cell_type": "code",
   "execution_count": 144,
   "id": "c4d58233-9833-4e5e-b3b4-3d869c0fa5ce",
   "metadata": {},
   "outputs": [
    {
     "data": {
      "text/plain": [
       "array([-0.76301132, -0.20224493,  0.11801481, -0.90780855, -0.01116192,\n",
       "       -0.6048727 ,  0.02283491, -0.61076876, -0.37572754, -0.47017411,\n",
       "       -0.42224234, -0.3355867 , -0.22723929, -0.07856729, -0.53383361,\n",
       "        0.12163662, -0.71356947, -0.55111511,  0.37991331, -0.11107635,\n",
       "       -0.70713712, -0.02392675, -0.25045747,  0.12675547, -0.68210402,\n",
       "       -0.08001795, -0.03259341, -0.04953425, -0.12974835, -0.19299299,\n",
       "       -0.3619768 , -0.22818639, -0.06196433, -0.52455061, -0.40026409,\n",
       "       -0.35056585, -0.05770139, -1.11907501,  0.19599366, -0.04299172,\n",
       "       -0.48108269,  0.1741885 , -0.41416456, -0.01053513,  0.01645355,\n",
       "       -0.11932181, -0.70817199, -0.77303401, -0.61489613, -0.96334774,\n",
       "       -0.31037723, -0.31952657, -0.35306417,  0.12127427, -0.6643231 ,\n",
       "       -0.55149778, -0.55695146, -0.41111447, -0.49463336,  0.06910059,\n",
       "       -0.23036784,  0.30342285,  0.17642852, -0.1906155 , -0.42910413,\n",
       "       -0.67759563, -0.32958811, -0.97119543,  0.02088168, -0.08177305,\n",
       "       -0.41466962, -0.30436228,  0.18869727,  0.24966175, -0.39980476])"
      ]
     },
     "execution_count": 144,
     "metadata": {},
     "output_type": "execute_result"
    }
   ],
   "source": [
    "y_score[:, 0]"
   ]
  },
  {
   "cell_type": "code",
   "execution_count": 116,
   "id": "52bfdc27-7d7a-4031-abbe-e607cb09c638",
   "metadata": {},
   "outputs": [
    {
     "data": {
      "text/plain": [
       "(array([0.        , 0.        , 0.        , 0.01851852, 0.01851852,\n",
       "        0.03703704, 0.03703704, 0.05555556, 0.05555556, 0.07407407,\n",
       "        0.07407407, 0.09259259, 0.09259259, 0.12962963, 0.12962963,\n",
       "        0.14814815, 0.14814815, 0.2037037 , 0.2037037 , 0.27777778,\n",
       "        0.27777778, 1.        ]),\n",
       " array([0.        , 0.04761905, 0.14285714, 0.14285714, 0.19047619,\n",
       "        0.19047619, 0.33333333, 0.33333333, 0.38095238, 0.38095238,\n",
       "        0.61904762, 0.61904762, 0.66666667, 0.66666667, 0.76190476,\n",
       "        0.76190476, 0.9047619 , 0.9047619 , 0.95238095, 0.95238095,\n",
       "        1.        , 1.        ]),\n",
       " array([ 1.37991331,  0.37991331,  0.24966175,  0.19599366,  0.18869727,\n",
       "         0.17642852,  0.12163662,  0.12127427,  0.11801481,  0.06910059,\n",
       "        -0.01116192, -0.02392675, -0.03259341, -0.04953425, -0.06196433,\n",
       "        -0.07856729, -0.11107635, -0.1906155 , -0.19299299, -0.23036784,\n",
       "        -0.25045747, -1.11907501]))"
      ]
     },
     "execution_count": 116,
     "metadata": {},
     "output_type": "execute_result"
    }
   ],
   "source": [
    "roc_curve(y_test[:, 0], y_score[:, 0])"
   ]
  },
  {
   "cell_type": "code",
   "execution_count": 117,
   "id": "b237293e-3518-4eeb-b108-419150db79c7",
   "metadata": {},
   "outputs": [
    {
     "data": {
      "text/plain": [
       "numpy.int32"
      ]
     },
     "execution_count": 117,
     "metadata": {},
     "output_type": "execute_result"
    }
   ],
   "source": [
    "type(y_test[0][0])"
   ]
  },
  {
   "cell_type": "code",
   "execution_count": 46,
   "id": "eaeeb49a-202e-49de-83eb-61698679b553",
   "metadata": {},
   "outputs": [
    {
     "name": "stdout",
     "output_type": "stream",
     "text": [
      "[0.         0.         0.         0.01851852 0.01851852 0.03703704\n",
      " 0.03703704 0.05555556 0.05555556 0.07407407 0.07407407 0.09259259\n",
      " 0.09259259 0.12962963 0.12962963 0.14814815 0.14814815 0.2037037\n",
      " 0.2037037  0.27777778 0.27777778 1.        ]\n",
      "\n",
      "[0.         0.04761905 0.14285714 0.14285714 0.19047619 0.19047619\n",
      " 0.33333333 0.33333333 0.38095238 0.38095238 0.61904762 0.61904762\n",
      " 0.66666667 0.66666667 0.76190476 0.76190476 0.9047619  0.9047619\n",
      " 0.95238095 0.95238095 1.         1.        ]\n",
      "\n",
      "0.9126984126984127\n"
     ]
    }
   ],
   "source": [
    "print(fpr[0])\n",
    "print()\n",
    "print(tpr[0])\n",
    "print()\n",
    "\n",
    "print(auc(fpr[0], tpr[0]))"
   ]
  },
  {
   "cell_type": "code",
   "execution_count": 47,
   "id": "1654e729-d533-434d-b42d-913d693f52c3",
   "metadata": {},
   "outputs": [
    {
     "data": {
      "text/plain": [
       "{0: array([0.        , 0.        , 0.        , 0.01851852, 0.01851852,\n",
       "        0.03703704, 0.03703704, 0.05555556, 0.05555556, 0.07407407,\n",
       "        0.07407407, 0.09259259, 0.09259259, 0.12962963, 0.12962963,\n",
       "        0.14814815, 0.14814815, 0.2037037 , 0.2037037 , 0.27777778,\n",
       "        0.27777778, 1.        ]),\n",
       " 1: array([0.        , 0.        , 0.        , 0.02222222, 0.02222222,\n",
       "        0.11111111, 0.11111111, 0.17777778, 0.17777778, 0.2       ,\n",
       "        0.2       , 0.24444444, 0.24444444, 0.26666667, 0.26666667,\n",
       "        0.37777778, 0.37777778, 0.42222222, 0.42222222, 0.48888889,\n",
       "        0.48888889, 0.55555556, 0.55555556, 0.62222222, 0.62222222,\n",
       "        0.64444444, 0.64444444, 0.66666667, 0.66666667, 0.73333333,\n",
       "        0.73333333, 0.75555556, 0.75555556, 0.88888889, 0.88888889,\n",
       "        1.        ]),\n",
       " 2: array([0.        , 0.        , 0.        , 0.01960784, 0.01960784,\n",
       "        0.07843137, 0.07843137, 0.09803922, 0.09803922, 0.11764706,\n",
       "        0.11764706, 0.1372549 , 0.1372549 , 0.15686275, 0.15686275,\n",
       "        0.17647059, 0.17647059, 0.31372549, 0.31372549, 0.33333333,\n",
       "        0.33333333, 0.35294118, 0.35294118, 0.41176471, 0.41176471,\n",
       "        0.45098039, 0.45098039, 0.47058824, 0.47058824, 0.50980392,\n",
       "        0.50980392, 0.56862745, 0.56862745, 1.        ]),\n",
       " 'micro': array([0.        , 0.        , 0.        , 0.00666667, 0.00666667,\n",
       "        0.01333333, 0.01333333, 0.02      , 0.02      , 0.02666667,\n",
       "        0.02666667, 0.03333333, 0.03333333, 0.05333333, 0.05333333,\n",
       "        0.06      , 0.06      , 0.06666667, 0.06666667, 0.07333333,\n",
       "        0.07333333, 0.08666667, 0.08666667, 0.09333333, 0.09333333,\n",
       "        0.1       , 0.1       , 0.10666667, 0.10666667, 0.11333333,\n",
       "        0.11333333, 0.12      , 0.12      , 0.14      , 0.14      ,\n",
       "        0.17333333, 0.17333333, 0.20666667, 0.20666667, 0.23333333,\n",
       "        0.23333333, 0.25333333, 0.25333333, 0.27333333, 0.27333333,\n",
       "        0.28666667, 0.28666667, 0.30666667, 0.30666667, 0.32      ,\n",
       "        0.32      , 0.32666667, 0.32666667, 0.34666667, 0.34666667,\n",
       "        0.35333333, 0.35333333, 0.37333333, 0.37333333, 0.46      ,\n",
       "        0.46      , 0.46666667, 0.46666667, 0.48666667, 0.48666667,\n",
       "        0.58666667, 0.58666667, 0.59333333, 0.59333333, 0.63333333,\n",
       "        0.63333333, 0.72      , 0.72      , 0.76      , 0.76      ,\n",
       "        0.78666667, 0.78666667, 0.79333333, 0.79333333, 0.8       ,\n",
       "        0.8       , 0.80666667, 0.80666667, 0.82      , 0.82      ,\n",
       "        0.83333333, 0.83333333, 0.86666667, 0.86666667, 0.88666667,\n",
       "        0.88666667, 0.93333333, 0.93333333, 1.        ])}"
      ]
     },
     "execution_count": 47,
     "metadata": {},
     "output_type": "execute_result"
    }
   ],
   "source": [
    "fpr"
   ]
  },
  {
   "cell_type": "code",
   "execution_count": 48,
   "id": "53a1172c-8678-48e3-82d3-1b5dabdc4c57",
   "metadata": {},
   "outputs": [
    {
     "data": {
      "image/png": "[encoded data removed]",
      "text/plain": [
       "<Figure size 432x288 with 1 Axes>"
      ]
     },
     "metadata": {
      "needs_background": "light"
     },
     "output_type": "display_data"
    }
   ],
   "source": [
    "plt.figure()\n",
    "lw = 2\n",
    "plt.plot(\n",
    "    fpr[2],\n",
    "    tpr[2],\n",
    "    color=\"darkorange\",\n",
    "    lw=lw,\n",
    "    label=\"ROC curve (area = %0.2f)\" % roc_auc[2],\n",
    ")\n",
    "plt.plot([0, 1], [0, 1], color=\"navy\", lw=lw, linestyle=\"--\")\n",
    "plt.xlim([0.0, 1.0])\n",
    "plt.ylim([0.0, 1.05])\n",
    "plt.xlabel(\"False Positive Rate\")\n",
    "plt.ylabel(\"True Positive Rate\")\n",
    "plt.title(\"Receiver operating characteristic example\")\n",
    "plt.legend(loc=\"lower right\")\n",
    "plt.show()"
   ]
  },
  {
   "cell_type": "code",
   "execution_count": null,
   "id": "813ff856-6529-4ab2-9263-07d819c72281",
   "metadata": {},
   "outputs": [],
   "source": []
  },
  {
   "cell_type": "code",
   "execution_count": null,
   "id": "473ce53c-8f2f-4aea-970c-5d63f484e683",
   "metadata": {},
   "outputs": [],
   "source": []
  },
  {
   "cell_type": "code",
   "execution_count": 7,
   "id": "738d5fe9-175a-4e63-8216-3261ef306bea",
   "metadata": {},
   "outputs": [
    {
     "data": {
      "image/png": "[encoded data removed]",
      "text/plain": [
       "<Figure size 432x288 with 1 Axes>"
      ]
     },
     "metadata": {
      "needs_background": "light"
     },
     "output_type": "display_data"
    }
   ],
   "source": [
    "# First aggregate all false positive rates\n",
    "all_fpr = np.unique(np.concatenate([fpr[i] for i in range(n_classes)]))\n",
    "\n",
    "# Then interpolate all ROC curves at this points\n",
    "mean_tpr = np.zeros_like(all_fpr)\n",
    "for i in range(n_classes):\n",
    "    mean_tpr += np.interp(all_fpr, fpr[i], tpr[i])\n",
    "\n",
    "# Finally average it and compute AUC\n",
    "mean_tpr /= n_classes\n",
    "\n",
    "fpr[\"macro\"] = all_fpr\n",
    "tpr[\"macro\"] = mean_tpr\n",
    "roc_auc[\"macro\"] = auc(fpr[\"macro\"], tpr[\"macro\"])\n",
    "\n",
    "# Plot all ROC curves\n",
    "plt.figure()\n",
    "plt.plot(\n",
    "    fpr[\"micro\"],\n",
    "    tpr[\"micro\"],\n",
    "    label=\"micro-average ROC curve (area = {0:0.2f})\".format(roc_auc[\"micro\"]),\n",
    "    color=\"deeppink\",\n",
    "    linestyle=\":\",\n",
    "    linewidth=4,\n",
    ")\n",
    "\n",
    "plt.plot(\n",
    "    fpr[\"macro\"],\n",
    "    tpr[\"macro\"],\n",
    "    label=\"macro-average ROC curve (area = {0:0.2f})\".format(roc_auc[\"macro\"]),\n",
    "    color=\"navy\",\n",
    "    linestyle=\":\",\n",
    "    linewidth=4,\n",
    ")\n",
    "\n",
    "colors = cycle([\"aqua\", \"darkorange\", \"cornflowerblue\"])\n",
    "for i, color in zip(range(n_classes), colors):\n",
    "    plt.plot(\n",
    "        fpr[i],\n",
    "        tpr[i],\n",
    "        color=color,\n",
    "        lw=lw,\n",
    "        label=\"ROC curve of class {0} (area = {1:0.2f})\".format(i, roc_auc[i]),\n",
    "    )\n",
    "\n",
    "plt.plot([0, 1], [0, 1], \"k--\", lw=lw)\n",
    "plt.xlim([0.0, 1.0])\n",
    "plt.ylim([0.0, 1.05])\n",
    "plt.xlabel(\"False Positive Rate\")\n",
    "plt.ylabel(\"True Positive Rate\")\n",
    "plt.title(\"Some extension of Receiver operating characteristic to multiclass\")\n",
    "plt.legend(loc=\"lower right\")\n",
    "plt.show()"
   ]
  },
  {
   "cell_type": "code",
   "execution_count": 145,
   "id": "455471b9-5ed5-45d1-9b59-efdffbeba9a2",
   "metadata": {},
   "outputs": [],
   "source": [
    "import csv\n",
    "import re\n",
    "import math\n",
    "import matplotlib.pyplot as plt\n",
    "import numpy as np\n",
    "import sys\n",
    "sys.path.append(\"..\") # adds higher directory to python modules path\n",
    "\n",
    "from LoaderPACK.Loader import testload_5min\n",
    "from LoaderPACK.Accuarcy_finder import Accuarcy_find_tester\n",
    "import torch\n",
    "import matplotlib.pyplot as plt\n",
    "\n",
    "device = \"cpu\"\n",
    "\n",
    "if device == \"cpu\":\n",
    "    fl = torch.FloatTensor\n",
    "    it = torch.LongTensor\n",
    "else:\n",
    "    fl = torch.cuda.FloatTensor\n",
    "    it = torch.cuda.LongTensor\n",
    "\n",
    "    # \"C:/Users/Marc/Desktop/data/val_model_data\"\n",
    "    # \"C:/Users/Marc/Desktop/data/train_model_data\"\n",
    "\n",
    "load_file = testload_5min(path = \"C:/Users/Marc/Desktop/data/val_model_data\",\n",
    "                          series_dict = 'val_series_length.pickle',\n",
    "                          size = (28, 22, 549200), #size = (195, 22, 2060000),\n",
    "                          device = device) # total val series = 2642\n",
    "                                           # total train series = 18497\n",
    "\n",
    "loader = torch.utils.data.DataLoader(load_file,\n",
    "                                     batch_size=1,\n",
    "                                     shuffle=False,\n",
    "                                     num_workers=0)\n",
    "\n",
    "it = iter(loader)\n",
    "\n",
    "ind, tar, meta = next(it)\n",
    "\n",
    "data = (ind.view(-1) - ind.view(-1).mean())/ind.view(-1).std()\n",
    "\n",
    "x = data.view(1, -1).transpose(1, 0).numpy()\n",
    "\n",
    "target = tar.view(-1)\n",
    "\n",
    "tar = torch.stack((~target.bool(), target)).view(2, -1)\n",
    "target = tar.transpose(1, 0)\n",
    "y = target.numpy()"
   ]
  },
  {
   "cell_type": "code",
   "execution_count": 123,
   "id": "582f1170-e9c6-49a9-a147-60b8e696890c",
   "metadata": {},
   "outputs": [
    {
     "data": {
      "text/plain": [
       "LSTM_net(\n",
       "  (lstm): LSTM(1, 5, proj_size=1, num_layers=2, batch_first=True, bidirectional=True)\n",
       "  (soft): Softmax(dim=1)\n",
       ")"
      ]
     },
     "execution_count": 123,
     "metadata": {},
     "output_type": "execute_result"
    }
   ],
   "source": [
    "from LoaderPACK.LSTM_net import LSTM_net\n",
    "from LoaderPACK.naive_models import thenos\n",
    "from LoaderPACK.Loader import testload_5min\n",
    "from LoaderPACK.tester import val_tester\n",
    "from LoaderPACK.Unet import Unet\n",
    "from LoaderPACK.Accuarcy_finder import Accuarcy_find\n",
    "from LoaderPACK.Accuarcy_upload import Accuarcy_upload\n",
    "from multiprocessing import Process\n",
    "\n",
    "batch_size = 1\n",
    "\n",
    "model = LSTM_net(batch_size=batch_size, device=device).to(device)\n",
    "x = torch.load(f\"C:/Users/Marc/Desktop/network/network_LSTM-510.pt\")\n",
    "x = torch.load(r\"C:\\Users\\Marc\\Desktop\\network\\networks_515\\network_LSTM-loss-epk-94.pt\")\n",
    "model.load_state_dict(x)\n",
    "model.to(device)"
   ]
  },
  {
   "cell_type": "code",
   "execution_count": 124,
   "id": "1f22f0ec-c2f6-4b24-b3a6-29f40f8c41a5",
   "metadata": {},
   "outputs": [],
   "source": [
    "with torch.no_grad():\n",
    "    y_pred = model(ind)"
   ]
  },
  {
   "cell_type": "code",
   "execution_count": null,
   "id": "ddce5c3d-cce2-4ac4-87c5-e1aa4c1519c3",
   "metadata": {},
   "outputs": [],
   "source": []
  },
  {
   "cell_type": "code",
   "execution_count": 125,
   "id": "9172721a-4a3f-4267-888d-1fad8fbbeb3f",
   "metadata": {},
   "outputs": [
    {
     "data": {
      "text/plain": [
       "torch.Size([1, 2, 60000])"
      ]
     },
     "execution_count": 125,
     "metadata": {},
     "output_type": "execute_result"
    }
   ],
   "source": [
    "y_pred.shape"
   ]
  },
  {
   "cell_type": "code",
   "execution_count": 126,
   "id": "7773a2d6-f2ef-4a58-92e7-41aff958a281",
   "metadata": {},
   "outputs": [],
   "source": [
    "pred = y_pred.view(2, -1).transpose(1, 0).numpy()"
   ]
  },
  {
   "cell_type": "code",
   "execution_count": 127,
   "id": "870da3d2-e9a0-4cd6-bba1-531db43947a3",
   "metadata": {},
   "outputs": [
    {
     "data": {
      "text/plain": [
       "(60000, 2)"
      ]
     },
     "execution_count": 127,
     "metadata": {},
     "output_type": "execute_result"
    }
   ],
   "source": [
    "pred.shape"
   ]
  },
  {
   "cell_type": "code",
   "execution_count": 128,
   "id": "2ea8cc9e-8dcc-4f18-a6da-2bf9044b99b4",
   "metadata": {},
   "outputs": [],
   "source": [
    "pred = np.float64(pred)"
   ]
  },
  {
   "cell_type": "code",
   "execution_count": 129,
   "id": "c39f5c0e-4ffa-4507-8738-65a075834f03",
   "metadata": {},
   "outputs": [
    {
     "data": {
      "text/plain": [
       "array([[4.15919785e-04, 9.99584138e-01],\n",
       "       [2.21436872e-04, 9.99778569e-01],\n",
       "       [1.95816348e-04, 9.99804199e-01],\n",
       "       ...,\n",
       "       [9.99725163e-01, 2.74768070e-04],\n",
       "       [9.99422789e-01, 5.77222614e-04],\n",
       "       [9.96798098e-01, 3.20196315e-03]])"
      ]
     },
     "execution_count": 129,
     "metadata": {},
     "output_type": "execute_result"
    }
   ],
   "source": [
    "pred"
   ]
  },
  {
   "cell_type": "code",
   "execution_count": 146,
   "id": "3550cf08-4820-499c-a12f-8c8b169b76a4",
   "metadata": {},
   "outputs": [],
   "source": [
    "y = np.int32(y)"
   ]
  },
  {
   "cell_type": "code",
   "execution_count": 147,
   "id": "98d5f5c3-1899-441d-8ebe-458b3bf6737f",
   "metadata": {},
   "outputs": [
    {
     "data": {
      "text/plain": [
       "array([[0, 1],\n",
       "       [0, 1],\n",
       "       [0, 1],\n",
       "       ...,\n",
       "       [1, 0],\n",
       "       [1, 0],\n",
       "       [1, 0]])"
      ]
     },
     "execution_count": 147,
     "metadata": {},
     "output_type": "execute_result"
    }
   ],
   "source": [
    "y"
   ]
  },
  {
   "cell_type": "code",
   "execution_count": 149,
   "id": "175943b5-3642-44d7-a205-c6aa7df83f84",
   "metadata": {},
   "outputs": [
    {
     "data": {
      "text/plain": [
       "array([0, 0, 0, ..., 1, 1, 1])"
      ]
     },
     "execution_count": 149,
     "metadata": {},
     "output_type": "execute_result"
    }
   ],
   "source": [
    "y[:, 0]"
   ]
  },
  {
   "cell_type": "code",
   "execution_count": 157,
   "id": "613409ea-a676-4de5-80b1-cd0843de9f9d",
   "metadata": {},
   "outputs": [],
   "source": [
    "# Compute ROC curve and ROC area for each class\n",
    "fpr = dict()\n",
    "tpr = dict()\n",
    "roc_auc = dict()\n",
    "for i in range(2):\n",
    "    fpr[i], tpr[i], _ = roc_curve(y[:, i], pred[:, i])\n",
    "    roc_auc[i] = auc(fpr[i], tpr[i])\n",
    "\n",
    "# Compute micro-average ROC curve and ROC area\n",
    "fpr[\"micro\"], tpr[\"micro\"], _ = roc_curve(y_test.ravel(), y_score.ravel())\n",
    "roc_auc[\"micro\"] = auc(fpr[\"micro\"], tpr[\"micro\"])"
   ]
  },
  {
   "cell_type": "code",
   "execution_count": null,
   "id": "3822aee4-041b-41bf-a16b-f22ff70a4628",
   "metadata": {},
   "outputs": [],
   "source": []
  },
  {
   "cell_type": "code",
   "execution_count": 189,
   "id": "81e71f2b-1dd0-465e-b3de-b6976cd51667",
   "metadata": {},
   "outputs": [
    {
     "data": {
      "image/png": "[encoded data removed]",
      "text/plain": [
       "<Figure size 432x288 with 1 Axes>"
      ]
     },
     "metadata": {
      "needs_background": "light"
     },
     "output_type": "display_data"
    }
   ],
   "source": [
    "plt.figure()\n",
    "lw = 2\n",
    "plt.plot(\n",
    "    fpr[1],\n",
    "    tpr[1],\n",
    "    color=\"darkorange\",\n",
    "    lw=lw,\n",
    "    label=\"ROC curve (area = %0.2f)\" % roc_auc[1],\n",
    ")\n",
    "plt.plot([0, 1], [0, 1], color=\"navy\", lw=lw, linestyle=\"--\")\n",
    "plt.xlim([0.0, 1.0])\n",
    "plt.ylim([0.0, 1.05])\n",
    "plt.xlabel(\"False Positive Rate\")\n",
    "plt.ylabel(\"True Positive Rate\")\n",
    "plt.title(\"Receiver operating characteristic example\")\n",
    "plt.legend(loc=\"lower right\")\n",
    "plt.show()"
   ]
  },
  {
   "cell_type": "code",
   "execution_count": 254,
   "id": "3464c2be-fc97-40cc-86de-cba6d33377f3",
   "metadata": {},
   "outputs": [
    {
     "data": {
      "image/png": "[encoded data removed]",
      "text/plain": [
       "<Figure size 432x288 with 1 Axes>"
      ]
     },
     "metadata": {
      "needs_background": "light"
     },
     "output_type": "display_data"
    }
   ],
   "source": [
    "# First aggregate all false positive rates\n",
    "all_fpr = np.unique(np.concatenate([fpr[i] for i in range(2)]))\n",
    "\n",
    "# Then interpolate all ROC curves at this points\n",
    "mean_tpr = np.zeros_like(all_fpr)\n",
    "for i in range(2):\n",
    "    mean_tpr += np.interp(all_fpr, fpr[i], tpr[i])\n",
    "\n",
    "# Finally average it and compute AUC\n",
    "mean_tpr /= 2\n",
    "\n",
    "fpr[\"macro\"] = all_fpr\n",
    "tpr[\"macro\"] = mean_tpr\n",
    "roc_auc[\"macro\"] = auc(fpr[\"macro\"], tpr[\"macro\"])\n",
    "\n",
    "# Plot all ROC curves\n",
    "plt.figure()\n",
    "plt.plot(\n",
    "    fpr[\"micro\"],\n",
    "    tpr[\"micro\"],\n",
    "    label=\"micro-average ROC curve (area = {0:0.2f})\".format(roc_auc[\"micro\"]),\n",
    "    color=\"deeppink\",\n",
    "    linestyle=\":\",\n",
    "    linewidth=4,\n",
    ")\n",
    "\n",
    "plt.plot(\n",
    "    fpr[\"macro\"],\n",
    "    tpr[\"macro\"],\n",
    "    label=\"macro-average ROC curve (area = {0:0.2f})\".format(roc_auc[\"macro\"]),\n",
    "    color=\"navy\",\n",
    "    linestyle=\":\",\n",
    "    linewidth=4,\n",
    ")\n",
    "\n",
    "colors = cycle([\"aqua\", \"darkorange\", \"cornflowerblue\"])\n",
    "for i, color in zip(range(2), colors):\n",
    "    plt.plot(\n",
    "        fpr[i],\n",
    "        tpr[i],\n",
    "        color=color,\n",
    "        lw=lw,\n",
    "        label=\"ROC curve of class {0} (area = {1:0.2f})\".format(i, roc_auc[i]),\n",
    "    )\n",
    "\n",
    "plt.plot([0, 1], [0, 1], \"k--\", lw=lw)\n",
    "plt.xlim([0.0, 1.0])\n",
    "plt.ylim([0.0, 1.05])\n",
    "plt.xlabel(\"False Positive Rate\")\n",
    "plt.ylabel(\"True Positive Rate\")\n",
    "plt.title(\"Some extension of Receiver operating characteristic to multiclass\")\n",
    "plt.legend(loc=\"lower right\")\n",
    "plt.show()"
   ]
  },
  {
   "cell_type": "code",
   "execution_count": null,
   "id": "abb28efa-a7bb-463c-92e8-6599c0ca530d",
   "metadata": {},
   "outputs": [],
   "source": []
  },
  {
   "cell_type": "code",
   "execution_count": 52,
   "id": "ce9c2364-b93c-455e-88fc-b98fe1c74881",
   "metadata": {},
   "outputs": [],
   "source": [
    "x_train = x[:9000]\n",
    "y_train = y[:9000]\n",
    "\n",
    "x_test = x[59000:]\n",
    "y_test = y[59000:]"
   ]
  },
  {
   "cell_type": "code",
   "execution_count": 53,
   "id": "538c5111-4635-4e56-84c2-87d5ea72ee99",
   "metadata": {},
   "outputs": [
    {
     "data": {
      "text/plain": [
       "(1000, 2)"
      ]
     },
     "execution_count": 53,
     "metadata": {},
     "output_type": "execute_result"
    }
   ],
   "source": [
    "y_test.shape"
   ]
  },
  {
   "cell_type": "code",
   "execution_count": 54,
   "id": "aa0f9682-a018-4cc6-b301-d145d15d47cd",
   "metadata": {},
   "outputs": [],
   "source": [
    "\n",
    "classifier = OneVsRestClassifier(\n",
    "    svm.SVC(kernel=\"linear\", probability=True, random_state=random_state)\n",
    ")\n",
    "\n",
    "y_score = classifier.fit(x_train, y_train).decision_function(x_test)"
   ]
  },
  {
   "cell_type": "code",
   "execution_count": 55,
   "id": "d5fce2d6-bd1a-442e-ae8d-c19ef2ace9e0",
   "metadata": {},
   "outputs": [
    {
     "data": {
      "text/plain": [
       "array([[ 1.00000042, -1.00000198],\n",
       "       [ 1.0000004 , -1.00000195],\n",
       "       [ 1.00000039, -1.00000194],\n",
       "       ...,\n",
       "       [ 1.00000073, -1.00000244],\n",
       "       [ 1.00000073, -1.00000244],\n",
       "       [ 1.00000071, -1.00000242]])"
      ]
     },
     "execution_count": 55,
     "metadata": {},
     "output_type": "execute_result"
    }
   ],
   "source": [
    "y_score"
   ]
  },
  {
   "cell_type": "code",
   "execution_count": 56,
   "id": "384c1ea1-bf4e-42d9-8571-c07d55803aca",
   "metadata": {},
   "outputs": [
    {
     "data": {
      "text/plain": [
       "(1000, 2)"
      ]
     },
     "execution_count": 56,
     "metadata": {},
     "output_type": "execute_result"
    }
   ],
   "source": [
    "y_score.shape"
   ]
  },
  {
   "cell_type": "code",
   "execution_count": 57,
   "id": "0c52ce6e-1f2a-4f4a-8aa4-60e67036116e",
   "metadata": {},
   "outputs": [
    {
     "data": {
      "text/plain": [
       "(1000, 2)"
      ]
     },
     "execution_count": 57,
     "metadata": {},
     "output_type": "execute_result"
    }
   ],
   "source": [
    "y_test.shape"
   ]
  },
  {
   "cell_type": "code",
   "execution_count": 58,
   "id": "69995ad6-59b4-4e2a-aff0-e4a66d3f7c09",
   "metadata": {},
   "outputs": [
    {
     "name": "stderr",
     "output_type": "stream",
     "text": [
      "C:\\Users\\Marc\\anaconda3\\envs\\deep\\lib\\site-packages\\sklearn\\metrics\\_ranking.py:990: UndefinedMetricWarning: No negative samples in y_true, false positive value should be meaningless\n",
      "  warnings.warn(\n",
      "C:\\Users\\Marc\\anaconda3\\envs\\deep\\lib\\site-packages\\sklearn\\metrics\\_ranking.py:999: UndefinedMetricWarning: No positive samples in y_true, true positive value should be meaningless\n",
      "  warnings.warn(\n"
     ]
    }
   ],
   "source": [
    "# Compute ROC curve and ROC area for each class\n",
    "fpr = dict()\n",
    "tpr = dict()\n",
    "roc_auc = dict()\n",
    "for i in range(2):\n",
    "    fpr[i], tpr[i], _ = roc_curve(y_test[:, i], y_score[:, i])\n",
    "    roc_auc[i] = auc(fpr[i], tpr[i])\n",
    "\n",
    "# Compute micro-average ROC curve and ROC area\n",
    "fpr[\"micro\"], tpr[\"micro\"], _ = roc_curve(y_test.ravel(), y_score.ravel())\n",
    "roc_auc[\"micro\"] = auc(fpr[\"micro\"], tpr[\"micro\"])"
   ]
  },
  {
   "cell_type": "code",
   "execution_count": 61,
   "id": "aad44ac4-1d2c-4235-94d1-3bfb66a736db",
   "metadata": {},
   "outputs": [
    {
     "name": "stderr",
     "output_type": "stream",
     "text": [
      "C:\\Users\\Marc\\anaconda3\\envs\\deep\\lib\\site-packages\\sklearn\\metrics\\_ranking.py:999: UndefinedMetricWarning: No positive samples in y_true, true positive value should be meaningless\n",
      "  warnings.warn(\n"
     ]
    },
    {
     "data": {
      "text/plain": [
       "(array([0.   , 0.001, 1.   ]),\n",
       " array([nan, nan, nan]),\n",
       " array([-1.41834515e-06, -1.00000142e+00, -1.00000265e+00]))"
      ]
     },
     "execution_count": 61,
     "metadata": {},
     "output_type": "execute_result"
    }
   ],
   "source": [
    "roc_curve(y_test[:, 1], y_score[:, 1])"
   ]
  },
  {
   "cell_type": "code",
   "execution_count": 68,
   "id": "dae9f9b0-4e85-497f-a081-e3af27e982bd",
   "metadata": {},
   "outputs": [],
   "source": [
    "fpr[\"micro\"], tpr[\"micro\"], _ = roc_curve(y_test.ravel(), y_score.ravel())\n",
    "roc_auc[\"micro\"] = auc(fpr[\"micro\"], tpr[\"micro\"])"
   ]
  },
  {
   "cell_type": "code",
   "execution_count": null,
   "id": "612b2f90-9f51-4405-9ad6-cf7f3611c803",
   "metadata": {},
   "outputs": [],
   "source": []
  },
  {
   "cell_type": "code",
   "execution_count": 153,
   "id": "548c646e-d28a-4f9f-b61e-dc8261887002",
   "metadata": {},
   "outputs": [
    {
     "data": {
      "image/png": "[encoded data removed]",
      "text/plain": [
       "<Figure size 432x288 with 1 Axes>"
      ]
     },
     "metadata": {
      "needs_background": "light"
     },
     "output_type": "display_data"
    }
   ],
   "source": []
  },
  {
   "cell_type": "code",
   "execution_count": 179,
   "id": "e44c3045-a855-4217-a912-d1a134a070e3",
   "metadata": {},
   "outputs": [],
   "source": [
    "from sklearn.datasets import load_iris\n",
    "from sklearn.linear_model import LogisticRegression\n",
    "X, y = load_iris(return_X_y=True)\n",
    "clf = LogisticRegression(random_state=0).fit(X[:, 0].reshape(-1, 1), y)\n"
   ]
  },
  {
   "cell_type": "code",
   "execution_count": 205,
   "id": "4b1470cc-5430-4692-a6c3-5dfef79b37a7",
   "metadata": {},
   "outputs": [],
   "source": [
    "#X[:, 0].reshape(-1, 1)"
   ]
  },
  {
   "cell_type": "code",
   "execution_count": 185,
   "id": "63b0c58e-707b-4ce0-9fd8-39c03c6f11cc",
   "metadata": {},
   "outputs": [
    {
     "data": {
      "text/plain": [
       "array([5.1, 3.5, 1.4, 0.2])"
      ]
     },
     "execution_count": 185,
     "metadata": {},
     "output_type": "execute_result"
    }
   ],
   "source": [
    "X[0]"
   ]
  },
  {
   "cell_type": "code",
   "execution_count": 188,
   "id": "620bc670-f2d2-4149-a348-07dc3f13d21f",
   "metadata": {},
   "outputs": [
    {
     "data": {
      "text/plain": [
       "array([0])"
      ]
     },
     "execution_count": 188,
     "metadata": {},
     "output_type": "execute_result"
    }
   ],
   "source": [
    "clf.predict([[X[0, 2]]])\n",
    "\n"
   ]
  },
  {
   "cell_type": "code",
   "execution_count": 173,
   "id": "c897f7c4-4e3d-40bc-be91-40abb2609b6b",
   "metadata": {},
   "outputs": [
    {
     "data": {
      "text/plain": [
       "array([[5.1, 4.9, 4.7, 4.6, 5. , 5.4, 4.6, 5. , 4.4, 4.9, 5.4, 4.8, 4.8,\n",
       "        4.3, 5.8, 5.7, 5.4, 5.1, 5.7, 5.1, 5.4, 5.1, 4.6, 5.1, 4.8, 5. ,\n",
       "        5. , 5.2, 5.2, 4.7, 4.8, 5.4, 5.2, 5.5, 4.9, 5. , 5.5, 4.9, 4.4,\n",
       "        5.1, 5. , 4.5, 4.4, 5. , 5.1, 4.8, 5.1, 4.6, 5.3, 5. , 7. , 6.4,\n",
       "        6.9, 5.5, 6.5, 5.7, 6.3, 4.9, 6.6, 5.2, 5. , 5.9, 6. , 6.1, 5.6,\n",
       "        6.7, 5.6, 5.8, 6.2, 5.6, 5.9, 6.1, 6.3, 6.1, 6.4, 6.6, 6.8, 6.7,\n",
       "        6. , 5.7, 5.5, 5.5, 5.8, 6. , 5.4, 6. , 6.7, 6.3, 5.6, 5.5, 5.5,\n",
       "        6.1, 5.8, 5. , 5.6, 5.7, 5.7, 6.2, 5.1, 5.7, 6.3, 5.8, 7.1, 6.3,\n",
       "        6.5, 7.6, 4.9, 7.3, 6.7, 7.2, 6.5, 6.4, 6.8, 5.7, 5.8, 6.4, 6.5,\n",
       "        7.7, 7.7, 6. , 6.9, 5.6, 7.7, 6.3, 6.7, 7.2, 6.2, 6.1, 6.4, 7.2,\n",
       "        7.4, 7.9, 6.4, 6.3, 6.1, 7.7, 6.3, 6.4, 6. , 6.9, 6.7, 6.9, 5.8,\n",
       "        6.8, 6.7, 6.7, 6.3, 6.5, 6.2, 5.9]])"
      ]
     },
     "execution_count": 173,
     "metadata": {},
     "output_type": "execute_result"
    }
   ],
   "source": [
    "X[:, 0].reshape(1, -1)"
   ]
  },
  {
   "cell_type": "code",
   "execution_count": 193,
   "id": "f28a63b9-da76-4906-95b5-d34507613e77",
   "metadata": {},
   "outputs": [
    {
     "data": {
      "text/plain": [
       "(150,)"
      ]
     },
     "execution_count": 193,
     "metadata": {},
     "output_type": "execute_result"
    }
   ],
   "source": [
    "y.shape"
   ]
  },
  {
   "cell_type": "code",
   "execution_count": null,
   "id": "9e7d2551-7275-493b-ab9e-0bce784dc37e",
   "metadata": {},
   "outputs": [],
   "source": []
  },
  {
   "cell_type": "code",
   "execution_count": null,
   "id": "09cc49a3-bf47-4f35-a62b-9613d677bb46",
   "metadata": {},
   "outputs": [],
   "source": []
  },
  {
   "cell_type": "code",
   "execution_count": null,
   "id": "e27d1912-43b6-4aed-adf1-73bfdec13517",
   "metadata": {},
   "outputs": [],
   "source": []
  },
  {
   "cell_type": "code",
   "execution_count": null,
   "id": "49a88163-5402-477d-be51-8bd68196f743",
   "metadata": {},
   "outputs": [],
   "source": []
  },
  {
   "cell_type": "code",
   "execution_count": null,
   "id": "ed940b4d-665a-427f-a220-a108dd9a1343",
   "metadata": {},
   "outputs": [],
   "source": []
  },
  {
   "cell_type": "code",
   "execution_count": 447,
   "id": "59dc3d57-b97c-48e6-b44b-3c276f4f7de3",
   "metadata": {},
   "outputs": [],
   "source": [
    "import csv\n",
    "import re\n",
    "import math\n",
    "import matplotlib.pyplot as plt\n",
    "import numpy as np\n",
    "import sys\n",
    "sys.path.append(\"..\") # adds higher directory to python modules path\n",
    "\n",
    "from LoaderPACK.Loader import testload_5min\n",
    "from LoaderPACK.Accuarcy_finder import Accuarcy_find_tester\n",
    "import torch\n",
    "import matplotlib.pyplot as plt\n",
    "\n",
    "device = \"cpu\"\n",
    "\n",
    "if device == \"cpu\":\n",
    "    fl = torch.FloatTensor\n",
    "    it = torch.LongTensor\n",
    "else:\n",
    "    fl = torch.cuda.FloatTensor\n",
    "    it = torch.cuda.LongTensor\n",
    "\n",
    "    # \"C:/Users/Marc/Desktop/data/val_model_data\"\n",
    "    # \"C:/Users/Marc/Desktop/data/train_model_data\"\n",
    "\n",
    "load_file = testload_5min(path = \"C:/Users/Marc/Desktop/data/val_model_data\",\n",
    "                          series_dict = 'val_series_length.pickle',\n",
    "                          size = (28, 22, 549200), #size = (195, 22, 2060000),\n",
    "                          device = device) # total val series = 2642\n",
    "                                           # total train series = 18497\n",
    "\n",
    "loader = torch.utils.data.DataLoader(load_file,\n",
    "                                     batch_size=1,\n",
    "                                     shuffle=False,\n",
    "                                     num_workers=0)\n",
    "\n",
    "it = iter(loader)\n",
    "\n",
    "ind, tar, meta = next(it)\n",
    "\n",
    "target = torch.zeros(1)\n",
    "\n",
    "while target.sum() == 0:\n",
    "\n",
    "    data = (ind.view(-1).abs()/200)\n",
    "    data = data.view(-1,1).numpy()\n",
    "\n",
    "    target = np.int32(tar.view(-1, 1).numpy())\n"
   ]
  },
  {
   "cell_type": "code",
   "execution_count": 448,
   "id": "bf65c92b-b18a-4786-9997-808a480914ab",
   "metadata": {},
   "outputs": [
    {
     "name": "stdout",
     "output_type": "stream",
     "text": [
      "(60000, 1)\n"
     ]
    }
   ],
   "source": [
    "print(target.shape)"
   ]
  },
  {
   "cell_type": "code",
   "execution_count": 449,
   "id": "93ddac95-9c69-4f7e-b052-dfc475d79cf0",
   "metadata": {},
   "outputs": [
    {
     "data": {
      "text/plain": [
       "(60000, 1)"
      ]
     },
     "execution_count": 449,
     "metadata": {},
     "output_type": "execute_result"
    }
   ],
   "source": [
    "data.shape"
   ]
  },
  {
   "cell_type": "code",
   "execution_count": 450,
   "id": "3362f17c-e2de-4b4f-9154-f5e51b1cbeb5",
   "metadata": {},
   "outputs": [
    {
     "name": "stdout",
     "output_type": "stream",
     "text": [
      "2000\n"
     ]
    }
   ],
   "source": [
    "print(target.sum())"
   ]
  },
  {
   "cell_type": "code",
   "execution_count": 451,
   "id": "b7ff530a-1b5e-4669-afa8-465465fc9516",
   "metadata": {},
   "outputs": [],
   "source": [
    "# Compute ROC curve and ROC area for each class\n",
    "fpr = dict()\n",
    "tpr = dict()\n",
    "roc_auc = dict()\n",
    "i = 0\n",
    "fpr[i], tpr[i], _ = roc_curve(target, data)\n",
    "roc_auc[i] = auc(fpr[i], tpr[i])\n",
    "\n",
    "# Compute micro-average ROC curve and ROC area\n",
    "fpr[\"micro\"], tpr[\"micro\"], thrs = roc_curve(target.ravel(), data.ravel())\n",
    "roc_auc[\"micro\"] = auc(fpr[\"micro\"], tpr[\"micro\"])"
   ]
  },
  {
   "cell_type": "code",
   "execution_count": 452,
   "id": "b3cf2b68-0764-4e7f-88b2-8113d90c2ccc",
   "metadata": {},
   "outputs": [
    {
     "data": {
      "image/png": "[encoded data removed]",
      "text/plain": [
       "<Figure size 432x288 with 1 Axes>"
      ]
     },
     "metadata": {
      "needs_background": "light"
     },
     "output_type": "display_data"
    }
   ],
   "source": [
    "plt.figure()\n",
    "lw = 2\n",
    "plt.plot(\n",
    "    fpr[0],\n",
    "    tpr[0],\n",
    "    color=\"darkorange\",\n",
    "    lw=lw,\n",
    "    label=\"ROC curve (area = %0.2f)\" % roc_auc[0],\n",
    ")\n",
    "plt.plot([0, 1], [0, 1], color=\"navy\", lw=lw, linestyle=\"--\")\n",
    "plt.xlim([0.0, 1.0])\n",
    "plt.ylim([0.0, 1.05])\n",
    "plt.xlabel(\"False Positive Rate\")\n",
    "plt.ylabel(\"True Positive Rate\")\n",
    "plt.title(\"Receiver operating characteristic example\")\n",
    "plt.legend(loc=\"lower right\")\n",
    "plt.show()"
   ]
  },
  {
   "cell_type": "code",
   "execution_count": 453,
   "id": "f629dc58-c096-4908-835c-c1d1a9eca7c7",
   "metadata": {},
   "outputs": [
    {
     "ename": "ValueError",
     "evalue": "Found input variables with inconsistent numbers of samples: [60000, 569]",
     "output_type": "error",
     "traceback": [
      "\u001b[1;31m---------------------------------------------------------------------------\u001b[0m",
      "\u001b[1;31mValueError\u001b[0m                                Traceback (most recent call last)",
      "Input \u001b[1;32mIn [453]\u001b[0m, in \u001b[0;36m<cell line: 1>\u001b[1;34m()\u001b[0m\n\u001b[1;32m----> 1\u001b[0m \u001b[38;5;28mprint\u001b[39m(\u001b[43msklearn\u001b[49m\u001b[38;5;241;43m.\u001b[39;49m\u001b[43mmetrics\u001b[49m\u001b[38;5;241;43m.\u001b[39;49m\u001b[43mroc_auc_score\u001b[49m\u001b[43m(\u001b[49m\u001b[43mtarget\u001b[49m\u001b[43m,\u001b[49m\u001b[43m \u001b[49m\u001b[43mpred\u001b[49m\u001b[43m,\u001b[49m\u001b[43m \u001b[49m\u001b[43maverage\u001b[49m\u001b[43m \u001b[49m\u001b[38;5;241;43m=\u001b[39;49m\u001b[43m \u001b[49m\u001b[38;5;124;43m\"\u001b[39;49m\u001b[38;5;124;43mmicro\u001b[39;49m\u001b[38;5;124;43m\"\u001b[39;49m\u001b[43m)\u001b[49m)\n\u001b[0;32m      2\u001b[0m \u001b[38;5;28mprint\u001b[39m(sklearn\u001b[38;5;241m.\u001b[39mmetrics\u001b[38;5;241m.\u001b[39mroc_auc_score(target, pred, average \u001b[38;5;241m=\u001b[39m \u001b[38;5;124m\"\u001b[39m\u001b[38;5;124mmacro\u001b[39m\u001b[38;5;124m\"\u001b[39m))\n\u001b[0;32m      3\u001b[0m \u001b[38;5;28mprint\u001b[39m(sklearn\u001b[38;5;241m.\u001b[39mmetrics\u001b[38;5;241m.\u001b[39mroc_auc_score(target, pred, average \u001b[38;5;241m=\u001b[39m \u001b[38;5;124m\"\u001b[39m\u001b[38;5;124mweighted\u001b[39m\u001b[38;5;124m\"\u001b[39m))\n",
      "File \u001b[1;32m~\\anaconda3\\envs\\deep\\lib\\site-packages\\sklearn\\metrics\\_ranking.py:567\u001b[0m, in \u001b[0;36mroc_auc_score\u001b[1;34m(y_true, y_score, average, sample_weight, max_fpr, multi_class, labels)\u001b[0m\n\u001b[0;32m    565\u001b[0m     labels \u001b[38;5;241m=\u001b[39m np\u001b[38;5;241m.\u001b[39munique(y_true)\n\u001b[0;32m    566\u001b[0m     y_true \u001b[38;5;241m=\u001b[39m label_binarize(y_true, classes\u001b[38;5;241m=\u001b[39mlabels)[:, \u001b[38;5;241m0\u001b[39m]\n\u001b[1;32m--> 567\u001b[0m     \u001b[38;5;28;01mreturn\u001b[39;00m \u001b[43m_average_binary_score\u001b[49m\u001b[43m(\u001b[49m\n\u001b[0;32m    568\u001b[0m \u001b[43m        \u001b[49m\u001b[43mpartial\u001b[49m\u001b[43m(\u001b[49m\u001b[43m_binary_roc_auc_score\u001b[49m\u001b[43m,\u001b[49m\u001b[43m \u001b[49m\u001b[43mmax_fpr\u001b[49m\u001b[38;5;241;43m=\u001b[39;49m\u001b[43mmax_fpr\u001b[49m\u001b[43m)\u001b[49m\u001b[43m,\u001b[49m\n\u001b[0;32m    569\u001b[0m \u001b[43m        \u001b[49m\u001b[43my_true\u001b[49m\u001b[43m,\u001b[49m\n\u001b[0;32m    570\u001b[0m \u001b[43m        \u001b[49m\u001b[43my_score\u001b[49m\u001b[43m,\u001b[49m\n\u001b[0;32m    571\u001b[0m \u001b[43m        \u001b[49m\u001b[43maverage\u001b[49m\u001b[43m,\u001b[49m\n\u001b[0;32m    572\u001b[0m \u001b[43m        \u001b[49m\u001b[43msample_weight\u001b[49m\u001b[38;5;241;43m=\u001b[39;49m\u001b[43msample_weight\u001b[49m\u001b[43m,\u001b[49m\n\u001b[0;32m    573\u001b[0m \u001b[43m    \u001b[49m\u001b[43m)\u001b[49m\n\u001b[0;32m    574\u001b[0m \u001b[38;5;28;01melse\u001b[39;00m:  \u001b[38;5;66;03m# multilabel-indicator\u001b[39;00m\n\u001b[0;32m    575\u001b[0m     \u001b[38;5;28;01mreturn\u001b[39;00m _average_binary_score(\n\u001b[0;32m    576\u001b[0m         partial(_binary_roc_auc_score, max_fpr\u001b[38;5;241m=\u001b[39mmax_fpr),\n\u001b[0;32m    577\u001b[0m         y_true,\n\u001b[1;32m   (...)\u001b[0m\n\u001b[0;32m    580\u001b[0m         sample_weight\u001b[38;5;241m=\u001b[39msample_weight,\n\u001b[0;32m    581\u001b[0m     )\n",
      "File \u001b[1;32m~\\anaconda3\\envs\\deep\\lib\\site-packages\\sklearn\\metrics\\_base.py:75\u001b[0m, in \u001b[0;36m_average_binary_score\u001b[1;34m(binary_metric, y_true, y_score, average, sample_weight)\u001b[0m\n\u001b[0;32m     72\u001b[0m     \u001b[38;5;28;01mraise\u001b[39;00m \u001b[38;5;167;01mValueError\u001b[39;00m(\u001b[38;5;124m\"\u001b[39m\u001b[38;5;132;01m{0}\u001b[39;00m\u001b[38;5;124m format is not supported\u001b[39m\u001b[38;5;124m\"\u001b[39m\u001b[38;5;241m.\u001b[39mformat(y_type))\n\u001b[0;32m     74\u001b[0m \u001b[38;5;28;01mif\u001b[39;00m y_type \u001b[38;5;241m==\u001b[39m \u001b[38;5;124m\"\u001b[39m\u001b[38;5;124mbinary\u001b[39m\u001b[38;5;124m\"\u001b[39m:\n\u001b[1;32m---> 75\u001b[0m     \u001b[38;5;28;01mreturn\u001b[39;00m \u001b[43mbinary_metric\u001b[49m\u001b[43m(\u001b[49m\u001b[43my_true\u001b[49m\u001b[43m,\u001b[49m\u001b[43m \u001b[49m\u001b[43my_score\u001b[49m\u001b[43m,\u001b[49m\u001b[43m \u001b[49m\u001b[43msample_weight\u001b[49m\u001b[38;5;241;43m=\u001b[39;49m\u001b[43msample_weight\u001b[49m\u001b[43m)\u001b[49m\n\u001b[0;32m     77\u001b[0m check_consistent_length(y_true, y_score, sample_weight)\n\u001b[0;32m     78\u001b[0m y_true \u001b[38;5;241m=\u001b[39m check_array(y_true)\n",
      "File \u001b[1;32m~\\anaconda3\\envs\\deep\\lib\\site-packages\\sklearn\\metrics\\_ranking.py:342\u001b[0m, in \u001b[0;36m_binary_roc_auc_score\u001b[1;34m(y_true, y_score, sample_weight, max_fpr)\u001b[0m\n\u001b[0;32m    336\u001b[0m \u001b[38;5;28;01mif\u001b[39;00m \u001b[38;5;28mlen\u001b[39m(np\u001b[38;5;241m.\u001b[39munique(y_true)) \u001b[38;5;241m!=\u001b[39m \u001b[38;5;241m2\u001b[39m:\n\u001b[0;32m    337\u001b[0m     \u001b[38;5;28;01mraise\u001b[39;00m \u001b[38;5;167;01mValueError\u001b[39;00m(\n\u001b[0;32m    338\u001b[0m         \u001b[38;5;124m\"\u001b[39m\u001b[38;5;124mOnly one class present in y_true. ROC AUC score \u001b[39m\u001b[38;5;124m\"\u001b[39m\n\u001b[0;32m    339\u001b[0m         \u001b[38;5;124m\"\u001b[39m\u001b[38;5;124mis not defined in that case.\u001b[39m\u001b[38;5;124m\"\u001b[39m\n\u001b[0;32m    340\u001b[0m     )\n\u001b[1;32m--> 342\u001b[0m fpr, tpr, _ \u001b[38;5;241m=\u001b[39m \u001b[43mroc_curve\u001b[49m\u001b[43m(\u001b[49m\u001b[43my_true\u001b[49m\u001b[43m,\u001b[49m\u001b[43m \u001b[49m\u001b[43my_score\u001b[49m\u001b[43m,\u001b[49m\u001b[43m \u001b[49m\u001b[43msample_weight\u001b[49m\u001b[38;5;241;43m=\u001b[39;49m\u001b[43msample_weight\u001b[49m\u001b[43m)\u001b[49m\n\u001b[0;32m    343\u001b[0m \u001b[38;5;28;01mif\u001b[39;00m max_fpr \u001b[38;5;129;01mis\u001b[39;00m \u001b[38;5;28;01mNone\u001b[39;00m \u001b[38;5;129;01mor\u001b[39;00m max_fpr \u001b[38;5;241m==\u001b[39m \u001b[38;5;241m1\u001b[39m:\n\u001b[0;32m    344\u001b[0m     \u001b[38;5;28;01mreturn\u001b[39;00m auc(fpr, tpr)\n",
      "File \u001b[1;32m~\\anaconda3\\envs\\deep\\lib\\site-packages\\sklearn\\metrics\\_ranking.py:962\u001b[0m, in \u001b[0;36mroc_curve\u001b[1;34m(y_true, y_score, pos_label, sample_weight, drop_intermediate)\u001b[0m\n\u001b[0;32m    873\u001b[0m \u001b[38;5;28;01mdef\u001b[39;00m \u001b[38;5;21mroc_curve\u001b[39m(\n\u001b[0;32m    874\u001b[0m     y_true, y_score, \u001b[38;5;241m*\u001b[39m, pos_label\u001b[38;5;241m=\u001b[39m\u001b[38;5;28;01mNone\u001b[39;00m, sample_weight\u001b[38;5;241m=\u001b[39m\u001b[38;5;28;01mNone\u001b[39;00m, drop_intermediate\u001b[38;5;241m=\u001b[39m\u001b[38;5;28;01mTrue\u001b[39;00m\n\u001b[0;32m    875\u001b[0m ):\n\u001b[0;32m    876\u001b[0m     \u001b[38;5;124;03m\"\"\"Compute Receiver operating characteristic (ROC).\u001b[39;00m\n\u001b[0;32m    877\u001b[0m \n\u001b[0;32m    878\u001b[0m \u001b[38;5;124;03m    Note: this implementation is restricted to the binary classification task.\u001b[39;00m\n\u001b[1;32m   (...)\u001b[0m\n\u001b[0;32m    960\u001b[0m \n\u001b[0;32m    961\u001b[0m \u001b[38;5;124;03m    \"\"\"\u001b[39;00m\n\u001b[1;32m--> 962\u001b[0m     fps, tps, thresholds \u001b[38;5;241m=\u001b[39m \u001b[43m_binary_clf_curve\u001b[49m\u001b[43m(\u001b[49m\n\u001b[0;32m    963\u001b[0m \u001b[43m        \u001b[49m\u001b[43my_true\u001b[49m\u001b[43m,\u001b[49m\u001b[43m \u001b[49m\u001b[43my_score\u001b[49m\u001b[43m,\u001b[49m\u001b[43m \u001b[49m\u001b[43mpos_label\u001b[49m\u001b[38;5;241;43m=\u001b[39;49m\u001b[43mpos_label\u001b[49m\u001b[43m,\u001b[49m\u001b[43m \u001b[49m\u001b[43msample_weight\u001b[49m\u001b[38;5;241;43m=\u001b[39;49m\u001b[43msample_weight\u001b[49m\n\u001b[0;32m    964\u001b[0m \u001b[43m    \u001b[49m\u001b[43m)\u001b[49m\n\u001b[0;32m    966\u001b[0m     \u001b[38;5;66;03m# Attempt to drop thresholds corresponding to points in between and\u001b[39;00m\n\u001b[0;32m    967\u001b[0m     \u001b[38;5;66;03m# collinear with other points. These are always suboptimal and do not\u001b[39;00m\n\u001b[0;32m    968\u001b[0m     \u001b[38;5;66;03m# appear on a plotted ROC curve (and thus do not affect the AUC).\u001b[39;00m\n\u001b[1;32m   (...)\u001b[0m\n\u001b[0;32m    973\u001b[0m     \u001b[38;5;66;03m# but does not drop more complicated cases like fps = [1, 3, 7],\u001b[39;00m\n\u001b[0;32m    974\u001b[0m     \u001b[38;5;66;03m# tps = [1, 2, 4]; there is no harm in keeping too many thresholds.\u001b[39;00m\n\u001b[0;32m    975\u001b[0m     \u001b[38;5;28;01mif\u001b[39;00m drop_intermediate \u001b[38;5;129;01mand\u001b[39;00m \u001b[38;5;28mlen\u001b[39m(fps) \u001b[38;5;241m>\u001b[39m \u001b[38;5;241m2\u001b[39m:\n",
      "File \u001b[1;32m~\\anaconda3\\envs\\deep\\lib\\site-packages\\sklearn\\metrics\\_ranking.py:733\u001b[0m, in \u001b[0;36m_binary_clf_curve\u001b[1;34m(y_true, y_score, pos_label, sample_weight)\u001b[0m\n\u001b[0;32m    730\u001b[0m \u001b[38;5;28;01mif\u001b[39;00m \u001b[38;5;129;01mnot\u001b[39;00m (y_type \u001b[38;5;241m==\u001b[39m \u001b[38;5;124m\"\u001b[39m\u001b[38;5;124mbinary\u001b[39m\u001b[38;5;124m\"\u001b[39m \u001b[38;5;129;01mor\u001b[39;00m (y_type \u001b[38;5;241m==\u001b[39m \u001b[38;5;124m\"\u001b[39m\u001b[38;5;124mmulticlass\u001b[39m\u001b[38;5;124m\"\u001b[39m \u001b[38;5;129;01mand\u001b[39;00m pos_label \u001b[38;5;129;01mis\u001b[39;00m \u001b[38;5;129;01mnot\u001b[39;00m \u001b[38;5;28;01mNone\u001b[39;00m)):\n\u001b[0;32m    731\u001b[0m     \u001b[38;5;28;01mraise\u001b[39;00m \u001b[38;5;167;01mValueError\u001b[39;00m(\u001b[38;5;124m\"\u001b[39m\u001b[38;5;132;01m{0}\u001b[39;00m\u001b[38;5;124m format is not supported\u001b[39m\u001b[38;5;124m\"\u001b[39m\u001b[38;5;241m.\u001b[39mformat(y_type))\n\u001b[1;32m--> 733\u001b[0m \u001b[43mcheck_consistent_length\u001b[49m\u001b[43m(\u001b[49m\u001b[43my_true\u001b[49m\u001b[43m,\u001b[49m\u001b[43m \u001b[49m\u001b[43my_score\u001b[49m\u001b[43m,\u001b[49m\u001b[43m \u001b[49m\u001b[43msample_weight\u001b[49m\u001b[43m)\u001b[49m\n\u001b[0;32m    734\u001b[0m y_true \u001b[38;5;241m=\u001b[39m column_or_1d(y_true)\n\u001b[0;32m    735\u001b[0m y_score \u001b[38;5;241m=\u001b[39m column_or_1d(y_score)\n",
      "File \u001b[1;32m~\\anaconda3\\envs\\deep\\lib\\site-packages\\sklearn\\utils\\validation.py:332\u001b[0m, in \u001b[0;36mcheck_consistent_length\u001b[1;34m(*arrays)\u001b[0m\n\u001b[0;32m    330\u001b[0m uniques \u001b[38;5;241m=\u001b[39m np\u001b[38;5;241m.\u001b[39munique(lengths)\n\u001b[0;32m    331\u001b[0m \u001b[38;5;28;01mif\u001b[39;00m \u001b[38;5;28mlen\u001b[39m(uniques) \u001b[38;5;241m>\u001b[39m \u001b[38;5;241m1\u001b[39m:\n\u001b[1;32m--> 332\u001b[0m     \u001b[38;5;28;01mraise\u001b[39;00m \u001b[38;5;167;01mValueError\u001b[39;00m(\n\u001b[0;32m    333\u001b[0m         \u001b[38;5;124m\"\u001b[39m\u001b[38;5;124mFound input variables with inconsistent numbers of samples: \u001b[39m\u001b[38;5;132;01m%r\u001b[39;00m\u001b[38;5;124m\"\u001b[39m\n\u001b[0;32m    334\u001b[0m         \u001b[38;5;241m%\u001b[39m [\u001b[38;5;28mint\u001b[39m(l) \u001b[38;5;28;01mfor\u001b[39;00m l \u001b[38;5;129;01min\u001b[39;00m lengths]\n\u001b[0;32m    335\u001b[0m     )\n",
      "\u001b[1;31mValueError\u001b[0m: Found input variables with inconsistent numbers of samples: [60000, 569]"
     ]
    }
   ],
   "source": [
    "print(sklearn.metrics.roc_auc_score(target, pred, average = \"micro\"))\n",
    "print(sklearn.metrics.roc_auc_score(target, pred, average = \"macro\"))\n",
    "print(sklearn.metrics.roc_auc_score(target, pred, average = \"weighted\"))"
   ]
  },
  {
   "cell_type": "code",
   "execution_count": 411,
   "id": "63467611-9e9e-467a-832c-f6b8107dd4c8",
   "metadata": {},
   "outputs": [
    {
     "data": {
      "text/plain": [
       "0.8422129698275862"
      ]
     },
     "execution_count": 411,
     "metadata": {},
     "output_type": "execute_result"
    }
   ],
   "source": [
    "roc_auc[0]"
   ]
  },
  {
   "cell_type": "code",
   "execution_count": 319,
   "id": "6fff0b99-39d6-41fc-b96a-d719fade24b6",
   "metadata": {},
   "outputs": [
    {
     "data": {
      "image/png": "[encoded data removed]",
      "text/plain": [
       "<Figure size 432x288 with 1 Axes>"
      ]
     },
     "metadata": {
      "needs_background": "light"
     },
     "output_type": "display_data"
    }
   ],
   "source": [
    "# First aggregate all false positive rates\n",
    "all_fpr = np.unique(np.concatenate([fpr[i] for i in range(2)]))\n",
    "\n",
    "# Then interpolate all ROC curves at this points\n",
    "mean_tpr = np.zeros_like(all_fpr)\n",
    "for i in range(2):\n",
    "    mean_tpr += np.interp(all_fpr, fpr[i], tpr[i])\n",
    "\n",
    "# Finally average it and compute AUC\n",
    "mean_tpr /= 2\n",
    "\n",
    "fpr[\"macro\"] = all_fpr\n",
    "tpr[\"macro\"] = mean_tpr\n",
    "roc_auc[\"macro\"] = auc(fpr[\"macro\"], tpr[\"macro\"])\n",
    "\n",
    "# Plot all ROC curves\n",
    "plt.figure()\n",
    "plt.plot(\n",
    "    fpr[\"micro\"],\n",
    "    tpr[\"micro\"],\n",
    "    label=\"micro-average ROC curve (area = {0:0.2f})\".format(roc_auc[\"micro\"]),\n",
    "    color=\"deeppink\",\n",
    "    linestyle=\":\",\n",
    "    linewidth=4,\n",
    ")\n",
    "\n",
    "plt.plot(\n",
    "    fpr[\"macro\"],\n",
    "    tpr[\"macro\"],\n",
    "    label=\"macro-average ROC curve (area = {0:0.2f})\".format(roc_auc[\"macro\"]),\n",
    "    color=\"navy\",\n",
    "    linestyle=\":\",\n",
    "    linewidth=4,\n",
    ")\n",
    "\n",
    "colors = cycle([\"aqua\", \"darkorange\", \"cornflowerblue\"])\n",
    "for i, color in zip(range(2), colors):\n",
    "    plt.plot(\n",
    "        fpr[i],\n",
    "        tpr[i],\n",
    "        color=color,\n",
    "        lw=lw,\n",
    "        label=\"ROC curve of class {0} (area = {1:0.2f})\".format(i, roc_auc[i]),\n",
    "    )\n",
    "\n",
    "plt.plot([0, 1], [0, 1], \"k--\", lw=lw)\n",
    "plt.xlim([0.0, 1.0])\n",
    "plt.ylim([0.0, 1.05])\n",
    "plt.xlabel(\"False Positive Rate\")\n",
    "plt.ylabel(\"True Positive Rate\")\n",
    "plt.title(\"Some extension of Receiver operating characteristic to multiclass\")\n",
    "plt.legend(loc=\"lower right\")\n",
    "plt.show()"
   ]
  },
  {
   "cell_type": "code",
   "execution_count": 287,
   "id": "8a21345f-fb8f-4865-8d2a-762c9faa9b32",
   "metadata": {},
   "outputs": [
    {
     "data": {
      "text/plain": [
       "array([0.00000000e+00, 1.72413793e-05, 3.44827586e-05, ...,\n",
       "       9.96551724e-01, 9.99189655e-01, 1.00000000e+00])"
      ]
     },
     "execution_count": 287,
     "metadata": {},
     "output_type": "execute_result"
    }
   ],
   "source": [
    "all_fpr"
   ]
  },
  {
   "cell_type": "code",
   "execution_count": 288,
   "id": "840f7f8e-50f4-4236-a17e-e63c5c698303",
   "metadata": {},
   "outputs": [],
   "source": [
    "import sklearn"
   ]
  },
  {
   "cell_type": "code",
   "execution_count": 304,
   "id": "7bef98da-ff7f-454f-9e09-d9b2343e387e",
   "metadata": {},
   "outputs": [
    {
     "name": "stdout",
     "output_type": "stream",
     "text": [
      "0.7277333333333333\n"
     ]
    }
   ],
   "source": [
    "print(sklearn.metrics.roc_auc_score(y_test.ravel(), y_score.ravel(), average = \"weighted\"))"
   ]
  },
  {
   "cell_type": "code",
   "execution_count": 334,
   "id": "e9b378e8-4905-4251-bfe2-59bdcce5e20e",
   "metadata": {},
   "outputs": [
    {
     "name": "stdout",
     "output_type": "stream",
     "text": [
      "0.7277333333333333\n",
      "0.7677222740948232\n",
      "0.74880174291939\n"
     ]
    }
   ],
   "source": [
    "print(sklearn.metrics.roc_auc_score(y_test, y_score, average = \"micro\"))\n",
    "print(sklearn.metrics.roc_auc_score(y_test, y_score, average = \"macro\"))\n",
    "print(sklearn.metrics.roc_auc_score(y_test, y_score, average = \"weighted\"))"
   ]
  },
  {
   "cell_type": "code",
   "execution_count": null,
   "id": "2435a76a-00cc-4f8d-a714-6d80316f5b17",
   "metadata": {},
   "outputs": [],
   "source": []
  },
  {
   "cell_type": "code",
   "execution_count": 332,
   "id": "bcc00390-be62-44e7-b877-7ac7a72879ed",
   "metadata": {},
   "outputs": [
    {
     "name": "stdout",
     "output_type": "stream",
     "text": [
      "0.9126984126984127\n"
     ]
    }
   ],
   "source": [
    "print(sklearn.metrics.roc_auc_score(y_test[:, 0], y_score[:, 0], average = \"weighted\"))"
   ]
  },
  {
   "cell_type": "code",
   "execution_count": 335,
   "id": "6217810d-5e2c-4939-bf83-88272b894b7e",
   "metadata": {},
   "outputs": [
    {
     "data": {
      "text/plain": [
       "0.7277333333333333"
      ]
     },
     "execution_count": 335,
     "metadata": {},
     "output_type": "execute_result"
    }
   ],
   "source": [
    "auc(fpr[\"micro\"], tpr[\"micro\"])"
   ]
  },
  {
   "cell_type": "code",
   "execution_count": null,
   "id": "43e5732a-4e24-4fee-ba8a-5af2517b4672",
   "metadata": {},
   "outputs": [],
   "source": []
  },
  {
   "cell_type": "code",
   "execution_count": null,
   "id": "3bf6938f-b7b2-4612-bafd-5682e07da309",
   "metadata": {},
   "outputs": [],
   "source": []
  },
  {
   "cell_type": "code",
   "execution_count": null,
   "id": "71a68929-9d14-4483-b699-a9c68ec27d8d",
   "metadata": {},
   "outputs": [],
   "source": []
  },
  {
   "cell_type": "code",
   "execution_count": null,
   "id": "6c103f44-1ce9-4cce-bd9d-48b3daec0a9b",
   "metadata": {},
   "outputs": [],
   "source": []
  },
  {
   "cell_type": "code",
   "execution_count": null,
   "id": "5ed35465-2f78-44b5-b043-dbcea883d922",
   "metadata": {},
   "outputs": [],
   "source": []
  },
  {
   "cell_type": "code",
   "execution_count": 5,
   "id": "4d64a79e-0259-4f66-bac6-db43e2a469ef",
   "metadata": {},
   "outputs": [
    {
     "data": {
      "text/plain": [
       "0.7220416468474182"
      ]
     },
     "execution_count": 5,
     "metadata": {},
     "output_type": "execute_result"
    }
   ],
   "source": [
    "from sklearn.datasets import load_breast_cancer\n",
    "from sklearn.linear_model import LogisticRegression\n",
    "from sklearn.metrics import roc_auc_score\n",
    "X, y = load_breast_cancer(return_X_y=True)\n",
    "\n",
    "kk = 4\n",
    "\n",
    "clf = LogisticRegression(solver=\"liblinear\", random_state=0).fit(X[:, kk].reshape(-1, 1), y)\n",
    "pred =clf.predict_proba(X[:, kk].reshape(-1, 1))[:, 1]\n",
    "roc_auc_score(y, pred)\n",
    "\n"
   ]
  },
  {
   "cell_type": "code",
   "execution_count": 6,
   "id": "da8e1b3b-db59-4ca5-8e6f-5ae8a1c3985a",
   "metadata": {},
   "outputs": [
    {
     "data": {
      "text/plain": [
       "array([0.61962006, 0.62980307, 0.62229288, 0.6122634 , 0.6251095 ,\n",
       "       0.61675698, 0.62682259, 0.61946798, 0.61690948, 0.61955923,\n",
       "       0.63060903, 0.62607671, 0.62598608, 0.63002267, 0.62123071,\n",
       "       0.62098776, 0.6256023 , 0.62004577, 0.6257111 , 0.62586824,\n",
       "       0.62292962, 0.62447422, 0.62299024, 0.62692823, 0.6215343 ,\n",
       "       0.61955923, 0.62356593, 0.62689202, 0.62271742, 0.62566274,\n",
       "       0.62326298, 0.62189849, 0.61922459, 0.62700972, 0.62398991,\n",
       "       0.62637876, 0.62573528, 0.62827035, 0.62705197, 0.62471628,\n",
       "       0.63074128, 0.61831137, 0.62797495, 0.62395963, 0.62606463,\n",
       "       0.62220188, 0.62942389, 0.62041052, 0.62426236, 0.62896627,\n",
       "       0.62931252, 0.63217375, 0.63044368, 0.62071437, 0.62805032,\n",
       "       0.62663844, 0.62359622, 0.6210485 , 0.63104779, 0.62594982,\n",
       "       0.62113961, 0.61782398, 0.62371737, 0.63206572, 0.62150395,\n",
       "       0.61998497, 0.62386879, 0.6308104 , 0.62320238, 0.6257111 ,\n",
       "       0.62819199, 0.62585615, 0.62305085, 0.62498852, 0.62770057,\n",
       "       0.62771263, 0.61636038, 0.62323268, 0.61651294, 0.62539977,\n",
       "       0.62211087, 0.62283868, 0.62329328, 0.61867676, 0.62603744,\n",
       "       0.62558114, 0.62687994, 0.62813171, 0.62890603, 0.62120034,\n",
       "       0.62829747, 0.62761613, 0.63316341, 0.62453474, 0.62402018,\n",
       "       0.627984  , 0.62383851, 0.62447422, 0.62827035, 0.62594982,\n",
       "       0.62674713, 0.62004577, 0.63118899, 0.62504901, 0.62523348,\n",
       "       0.61309021, 0.62089664, 0.62979404, 0.61529184, 0.62894519,\n",
       "       0.62408073, 0.62540279, 0.63171754, 0.62150395, 0.62065361,\n",
       "       0.62590148, 0.62682561, 0.62028895, 0.62050169, 0.63001966,\n",
       "       0.62709422, 0.62356593, 0.61158922, 0.62214121, 0.63388246,\n",
       "       0.62886688, 0.62744119, 0.63057596, 0.62065361, 0.62474653,\n",
       "       0.62320238, 0.62241419, 0.62495828, 0.62682561, 0.6269222 ,\n",
       "       0.62805333, 0.6236568 , 0.62629118, 0.62013697, 0.62022816,\n",
       "       0.62746532, 0.62604348, 0.62241419, 0.6291921 , 0.63184962,\n",
       "       0.62059284, 0.62244452, 0.63081341, 0.62529093, 0.63139624,\n",
       "       0.62110924, 0.62699765, 0.62302055, 0.62594378, 0.62706103,\n",
       "       0.62926134, 0.62171641, 0.63289362, 0.6272813 , 0.63268372,\n",
       "       0.62250517, 0.62914091, 0.62156466, 0.62483729, 0.62990836,\n",
       "       0.62996251, 0.62642708, 0.62862591, 0.62371737, 0.62563857,\n",
       "       0.62435316, 0.62807443, 0.61739732, 0.62501877, 0.6288458 ,\n",
       "       0.6278031 , 0.62610994, 0.6257111 , 0.63646608, 0.62900541,\n",
       "       0.62235354, 0.62092701, 0.62641802, 0.62804127, 0.6280473 ,\n",
       "       0.62741404, 0.62946001, 0.62588335, 0.62498852, 0.6309877 ,\n",
       "       0.62292962, 0.6289753 , 0.63437646, 0.62417155, 0.62386879,\n",
       "       0.63140525, 0.61913331, 0.63311546, 0.62965563, 0.62558718,\n",
       "       0.62645124, 0.62831556, 0.62092701, 0.61538347, 0.62530604,\n",
       "       0.62859277, 0.62250517, 0.62890603, 0.62513974, 0.63068117,\n",
       "       0.62794782, 0.62860783, 0.62089664, 0.62501877, 0.62682259,\n",
       "       0.62441369, 0.6271244 , 0.63106582, 0.62706404, 0.62996552,\n",
       "       0.62627003, 0.6236568 , 0.62335388, 0.62444396, 0.62989031,\n",
       "       0.62548441, 0.62359622, 0.63011291, 0.63151937, 0.62253549,\n",
       "       0.62092701, 0.63457697, 0.63188865, 0.62773977, 0.62983315,\n",
       "       0.62800811, 0.62668373, 0.63016103, 0.63055792, 0.62576852,\n",
       "       0.62694333, 0.6314503 , 0.62643312, 0.63109886, 0.62438343,\n",
       "       0.62308116, 0.63358293, 0.62894217, 0.62623681, 0.62480704,\n",
       "       0.62498852, 0.62717871, 0.62332358, 0.62495828, 0.62414128,\n",
       "       0.62229288, 0.62743515, 0.61501689, 0.62189849, 0.62329328,\n",
       "       0.62520021, 0.62923726, 0.62822213, 0.63170853, 0.62602837,\n",
       "       0.62680448, 0.62614317, 0.6313602 , 0.62693729, 0.62271742,\n",
       "       0.63593444, 0.62570203, 0.62700972, 0.62810759, 0.62865603,\n",
       "       0.61837228, 0.62707611, 0.62845116, 0.63138423, 0.6266626 ,\n",
       "       0.62459526, 0.63178959, 0.62408073, 0.62320238, 0.63177458,\n",
       "       0.63004674, 0.62940884, 0.6343615 , 0.63116796, 0.62908371,\n",
       "       0.62895121, 0.62824323, 0.62504901, 0.6301099 , 0.6262066 ,\n",
       "       0.62762216, 0.62967067, 0.62529697, 0.63549515, 0.62474653,\n",
       "       0.62065361, 0.62987226, 0.62277805, 0.62314177, 0.62866206,\n",
       "       0.63280667, 0.62969174, 0.63421183, 0.63310047, 0.63017005,\n",
       "       0.62877954, 0.63237478, 0.62883978, 0.62943292, 0.62295993,\n",
       "       0.62969174, 0.63202671, 0.62596795, 0.62529697, 0.63255776,\n",
       "       0.62335388, 0.63116796, 0.62113961, 0.62004577, 0.62920414,\n",
       "       0.62435316, 0.62728733, 0.63217976, 0.62007617, 0.62019777,\n",
       "       0.62673807, 0.62647237, 0.62356593, 0.63030838, 0.63028733,\n",
       "       0.62159501, 0.62682561, 0.62786943, 0.62498852, 0.62311147,\n",
       "       0.62595284, 0.629782  , 0.62420182, 0.62581385, 0.62065361,\n",
       "       0.62555696, 0.63006779, 0.62859578, 0.62799003, 0.62041052,\n",
       "       0.63254576, 0.61782398, 0.62068399, 0.62447422, 0.63340616,\n",
       "       0.62894217, 0.62271742, 0.62899337, 0.63034747, 0.62492803,\n",
       "       0.6329206 , 0.62947807, 0.62617942, 0.62614921, 0.63141726,\n",
       "       0.62776691, 0.62548743, 0.62752263, 0.62706103, 0.62329328,\n",
       "       0.62598003, 0.63133918, 0.62516998, 0.62687391, 0.63032041,\n",
       "       0.625563  , 0.62799907, 0.63267772, 0.63042264, 0.61864632,\n",
       "       0.61800678, 0.63126709, 0.63442136, 0.62392935, 0.63013697,\n",
       "       0.62917704, 0.63090356, 0.63414896, 0.63013095, 0.62489778,\n",
       "       0.62521231, 0.62402018, 0.62034974, 0.62013697, 0.6243229 ,\n",
       "       0.63109286, 0.62341447, 0.63109586, 0.6320057 , 0.62795686,\n",
       "       0.61822001, 0.62860482, 0.6331754 , 0.62556603, 0.62917704,\n",
       "       0.62507925, 0.62672599, 0.63257575, 0.62411101, 0.62916801,\n",
       "       0.62864699, 0.62286899, 0.63132116, 0.6296797 , 0.63026628,\n",
       "       0.62588637, 0.62386879, 0.62156466, 0.62886688, 0.62465577,\n",
       "       0.62958642, 0.62426236, 0.62253549, 0.6280473 , 0.62292962,\n",
       "       0.63087652, 0.62575643, 0.62881869, 0.63077434, 0.63154039,\n",
       "       0.62536046, 0.62356593, 0.62116997, 0.62465577, 0.62844815,\n",
       "       0.62338417, 0.62780913, 0.6298512 , 0.62917102, 0.63133017,\n",
       "       0.62847526, 0.6302332 , 0.6287705 , 0.63080139, 0.62837884,\n",
       "       0.62429263, 0.62520929, 0.62767946, 0.63006177, 0.62615525,\n",
       "       0.63538454, 0.62423209, 0.62991438, 0.62220188, 0.62947506,\n",
       "       0.6274804 , 0.6271425 , 0.62884881, 0.63011892, 0.6312761 ,\n",
       "       0.62550859, 0.62265678, 0.63424176, 0.62970077, 0.63283065,\n",
       "       0.63037453, 0.62919812, 0.63029335, 0.62734767, 0.61989375,\n",
       "       0.62838185, 0.62896627, 0.63093361, 0.63213174, 0.62498852,\n",
       "       0.62809855, 0.62842705, 0.63474154, 0.62380823, 0.62441369,\n",
       "       0.62795686, 0.63125508, 0.62305085, 0.62535139, 0.62389907,\n",
       "       0.62666863, 0.62930048, 0.62250517, 0.62132179, 0.6327377 ,\n",
       "       0.63065111, 0.63171453, 0.62516998, 0.63311246, 0.63322336,\n",
       "       0.62644822, 0.62289931, 0.62843609, 0.62483729, 0.62262646,\n",
       "       0.62555393, 0.62028895, 0.62041052, 0.62718776, 0.60584171,\n",
       "       0.61745828, 0.62229288, 0.61931587, 0.62693125, 0.61965048,\n",
       "       0.63093061, 0.62980908, 0.62198952, 0.62570808, 0.62757089,\n",
       "       0.62371737, 0.62314177, 0.62408073, 0.61858543, 0.62141287,\n",
       "       0.61391637, 0.62429263, 0.62969174, 0.62545418, 0.62673505,\n",
       "       0.62411101, 0.62292962, 0.62821007, 0.61767162, 0.62217154,\n",
       "       0.62299024, 0.62471628, 0.62738387, 0.62774882, 0.62614619,\n",
       "       0.62380823, 0.62405046, 0.61803724, 0.63093361, 0.62921919,\n",
       "       0.62524859, 0.62871026, 0.63040159, 0.62921016, 0.62647539,\n",
       "       0.62747738, 0.62691013, 0.62858975, 0.62975192, 0.63065111,\n",
       "       0.63293559, 0.62651163, 0.63039859, 0.62749548, 0.63085849,\n",
       "       0.62812869, 0.6251095 , 0.63085849, 0.62980607, 0.62743214,\n",
       "       0.62541488, 0.63288162, 0.62374766, 0.62220188, 0.62186815,\n",
       "       0.62586522, 0.62986023, 0.61980253, 0.63941086])"
      ]
     },
     "execution_count": 6,
     "metadata": {},
     "output_type": "execute_result"
    }
   ],
   "source": [
    "pred"
   ]
  },
  {
   "cell_type": "code",
   "execution_count": 382,
   "id": "646d6b36-8dd6-4190-8c02-8195e8c0bb27",
   "metadata": {},
   "outputs": [
    {
     "data": {
      "image/png": "[encoded data removed]",
      "text/plain": [
       "<Figure size 432x288 with 1 Axes>"
      ]
     },
     "metadata": {
      "needs_background": "light"
     },
     "output_type": "display_data"
    },
    {
     "name": "stdout",
     "output_type": "stream",
     "text": [
      "0.7277333333333333\n",
      "0.7220416468474182\n"
     ]
    }
   ],
   "source": [
    "# Compute ROC curve and ROC area for each class\n",
    "fpr = dict()\n",
    "tpr = dict()\n",
    "roc_auc = dict()\n",
    "i = 0\n",
    "fpr[i], tpr[i], _ = roc_curve(y.reshape(-1, 1), pred.reshape(-1, 1))\n",
    "roc_auc[i] = auc(fpr[i], tpr[i])\n",
    "\n",
    "# Compute micro-average ROC curve and ROC area\n",
    "fpr[\"micro\"], tpr[\"micro\"], thrs = roc_curve(y_test.ravel(), y_score.ravel())\n",
    "roc_auc[\"micro\"] = auc(fpr[\"micro\"], tpr[\"micro\"])\n",
    "\n",
    "plt.figure()\n",
    "lw = 2\n",
    "plt.plot(\n",
    "    fpr[0],\n",
    "    tpr[0],\n",
    "    color=\"darkorange\",\n",
    "    lw=lw,\n",
    "    label=\"ROC curve (area = %0.2f)\" % roc_auc[0],\n",
    ")\n",
    "plt.plot([0, 1], [0, 1], color=\"navy\", lw=lw, linestyle=\"--\")\n",
    "plt.xlim([0.0, 1.0])\n",
    "plt.ylim([0.0, 1.05])\n",
    "plt.xlabel(\"False Positive Rate\")\n",
    "plt.ylabel(\"True Positive Rate\")\n",
    "plt.title(\"Receiver operating characteristic example\")\n",
    "plt.legend(loc=\"lower right\")\n",
    "plt.show()\n",
    "\n",
    "print(roc_auc[\"micro\"])\n",
    "print(roc_auc[0])"
   ]
  },
  {
   "cell_type": "code",
   "execution_count": null,
   "id": "5c171f41-9410-440b-94b9-b744ad0c4538",
   "metadata": {},
   "outputs": [],
   "source": []
  }
 ],
 "metadata": {
  "kernelspec": {
   "display_name": "Python 3 (ipykernel)",
   "language": "python",
   "name": "python3"
  },
  "language_info": {
   "codemirror_mode": {
    "name": "ipython",
    "version": 3
   },
   "file_extension": ".py",
   "mimetype": "text/x-python",
   "name": "python",
   "nbconvert_exporter": "python",
   "pygments_lexer": "ipython3",
   "version": "3.9.6"
  }
 },
 "nbformat": 4,
 "nbformat_minor": 5
}
