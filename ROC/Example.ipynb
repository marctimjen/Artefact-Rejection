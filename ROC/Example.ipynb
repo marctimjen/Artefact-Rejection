{
 "cells": [
  {
   "cell_type": "code",
   "execution_count": 102,
   "id": "93e7a32a-1494-4f4f-9654-ea705e97d020",
   "metadata": {},
   "outputs": [],
   "source": [
    "import numpy as np\n",
    "import matplotlib.pyplot as plt\n",
    "from itertools import cycle\n",
    "\n",
    "from sklearn import svm, datasets\n",
    "from sklearn.metrics import roc_curve, auc\n",
    "from sklearn.model_selection import train_test_split\n",
    "from sklearn.preprocessing import label_binarize\n",
    "from sklearn.multiclass import OneVsRestClassifier\n",
    "\n",
    "# Import some data to play with\n",
    "iris = datasets.load_iris()\n",
    "X = iris.data\n",
    "y = iris.target\n",
    "\n",
    "# Binarize the output\n",
    "y = label_binarize(y, classes=[0, 1, 2])\n",
    "n_classes = y.shape[1]\n",
    "\n"
   ]
  },
  {
   "cell_type": "code",
   "execution_count": 103,
   "id": "e2fad712-600e-446b-a899-aee7bd93188a",
   "metadata": {},
   "outputs": [],
   "source": [
    "# Add noisy features to make the problem harder\n",
    "random_state = np.random.RandomState(0)\n",
    "n_samples, n_features = X.shape\n",
    "X = np.c_[X, random_state.randn(n_samples, 200 * n_features)]\n",
    "\n",
    "# shuffle and split training and test sets\n",
    "X_train, X_test, y_train, y_test = train_test_split(X, y, test_size=0.5, random_state=0)\n",
    "\n",
    "# Learn to predict each class against the other\n",
    "classifier = OneVsRestClassifier(\n",
    "    svm.SVC(kernel=\"linear\", probability=True, random_state=random_state)\n",
    ")\n",
    "y_score = classifier.fit(X_train, y_train).decision_function(X_test)"
   ]
  },
  {
   "cell_type": "code",
   "execution_count": 104,
   "id": "4ba9727e-33fb-4bb7-98fb-17144322a245",
   "metadata": {},
   "outputs": [
    {
     "data": {
      "text/plain": [
       "array([[-0.76301132, -0.36482547,  0.12386354],\n",
       "       [-0.20224493, -0.63144366, -0.16612302],\n",
       "       [ 0.11801481, -0.80263073, -0.32055874],\n",
       "       [-0.90780855, -0.12395478,  0.02199789],\n",
       "       [-0.01116192, -0.27913475, -0.71889214],\n",
       "       [-0.6048727 , -0.34730509, -0.05859016],\n",
       "       [ 0.02283491, -0.24506467, -0.79111998],\n",
       "       [-0.61076876,  0.18264917, -0.57199363],\n",
       "       [-0.37572754, -0.24059516, -0.38933694],\n",
       "       [-0.47017411, -0.25745136, -0.27510839],\n",
       "       [-0.42224234, -0.30270719, -0.27995197],\n",
       "       [-0.3355867 , -0.7030665 ,  0.02530178],\n",
       "       [-0.22723929, -0.64062258, -0.13456902],\n",
       "       [-0.07856729, -0.46354017, -0.45918364],\n",
       "       [-0.53383361, -0.2653183 , -0.20023832],\n",
       "       [ 0.12163662, -0.56706353, -0.56980985],\n",
       "       [-0.71356947, -0.04226738, -0.24297128],\n",
       "       [-0.55111511, -0.13784913, -0.31370595],\n",
       "       [ 0.37991331, -0.99673302, -0.39090964],\n",
       "       [-0.11107635, -0.91349462,  0.03129167],\n",
       "       [-0.70713712, -0.06436533, -0.21423788],\n",
       "       [-0.02392675, -0.45906496, -0.51922684],\n",
       "       [-0.25045747, -0.80086123,  0.04121338],\n",
       "       [ 0.12675547, -0.70985659, -0.41072849],\n",
       "       [-0.68210402, -0.20735021, -0.12051204],\n",
       "       [-0.08001795, -0.36698232, -0.57704892],\n",
       "       [-0.03259341, -0.1159895 , -0.86493066],\n",
       "       [-0.04953425, -0.73611276, -0.21682409],\n",
       "       [-0.12974835, -0.37676258, -0.49997476],\n",
       "       [-0.19299299, -0.71078341, -0.11058011],\n",
       "       [-0.3619768 , -0.41408367, -0.22759345],\n",
       "       [-0.22818639, -0.78971942,  0.02046723],\n",
       "       [-0.06196433, -0.47617037, -0.45379557],\n",
       "       [-0.52455061, -0.46507392, -0.00375631],\n",
       "       [-0.40026409, -0.71470221,  0.10106561],\n",
       "       [-0.35056585, -0.31125083, -0.34020065],\n",
       "       [-0.05770139, -0.51388968, -0.41776502],\n",
       "       [-1.11907501, -0.0074193 ,  0.12967625],\n",
       "       [ 0.19599366, -0.65773489, -0.54610377],\n",
       "       [-0.04299172, -0.60049718, -0.35901924],\n",
       "       [-0.48108269, -0.21918849, -0.30065047],\n",
       "       [ 0.1741885 , -1.0107504 , -0.181261  ],\n",
       "       [-0.41416456, -0.60044961,  0.00856393],\n",
       "       [-0.01053513, -0.7579771 , -0.2292247 ],\n",
       "       [ 0.01645355, -0.81552421, -0.2039252 ],\n",
       "       [-0.11932181, -0.84787471, -0.05831557],\n",
       "       [-0.70817199, -0.2863326 , -0.01186087],\n",
       "       [-0.77303401, -0.43228203,  0.21326435],\n",
       "       [-0.61489613, -0.15060119, -0.23302033],\n",
       "       [-0.96334774, -0.62804881,  0.58423201],\n",
       "       [-0.31037723, -0.29572764, -0.39404258],\n",
       "       [-0.31952657, -0.34638653, -0.32086131],\n",
       "       [-0.35306417, -0.66917752,  0.00767521],\n",
       "       [ 0.12127427, -0.62483455, -0.50550427],\n",
       "       [-0.6643231 , -0.11456775, -0.21298739],\n",
       "       [-0.55149778, -0.34855346, -0.10551977],\n",
       "       [-0.55695146, -0.13384038, -0.30613086],\n",
       "       [-0.41111447, -0.52487765, -0.07455313],\n",
       "       [-0.49463336, -0.23331763, -0.27802284],\n",
       "       [ 0.06910059, -0.85448531, -0.21662877],\n",
       "       [-0.23036784, -0.48759987, -0.28317657],\n",
       "       [ 0.30342285, -0.83392076, -0.47754831],\n",
       "       [ 0.17642852, -0.81597935, -0.3755452 ],\n",
       "       [-0.1906155 , -0.70826295, -0.10238744],\n",
       "       [-0.42910413, -0.39894364, -0.1693745 ],\n",
       "       [-0.67759563,  0.09194626, -0.3995789 ],\n",
       "       [-0.32958811, -0.56572577, -0.12075396],\n",
       "       [-0.97119543, -0.46484965,  0.41477557],\n",
       "       [ 0.02088168, -0.56912947, -0.44616888],\n",
       "       [-0.08177305, -0.5611945 , -0.35229343],\n",
       "       [-0.41466962, -0.63705856,  0.04838688],\n",
       "       [-0.30436228, -0.08425378, -0.61864694],\n",
       "       [ 0.18869727, -0.8879586 , -0.29713077],\n",
       "       [ 0.24966175, -0.80507517, -0.44324457],\n",
       "       [-0.39980476, -0.29016769, -0.30413406]])"
      ]
     },
     "execution_count": 104,
     "metadata": {},
     "output_type": "execute_result"
    }
   ],
   "source": [
    "y_score"
   ]
  },
  {
   "cell_type": "code",
   "execution_count": 107,
   "id": "67d108c4-a5f8-415e-a890-00436132ee2b",
   "metadata": {},
   "outputs": [
    {
     "data": {
      "text/plain": [
       "numpy.float64"
      ]
     },
     "execution_count": 107,
     "metadata": {},
     "output_type": "execute_result"
    }
   ],
   "source": [
    "type(y_score[0][0])"
   ]
  },
  {
   "cell_type": "code",
   "execution_count": 133,
   "id": "c297c663-8be8-48fe-ad1e-580f7476a7fa",
   "metadata": {},
   "outputs": [],
   "source": [
    "# Compute ROC curve and ROC area for each class\n",
    "fpr = dict()\n",
    "tpr = dict()\n",
    "roc_auc = dict()\n",
    "for i in range(n_classes):\n",
    "    fpr[i], tpr[i], _ = roc_curve(y_test[:, i], y_score[:, i])\n",
    "    roc_auc[i] = auc(fpr[i], tpr[i])\n",
    "\n",
    "# Compute micro-average ROC curve and ROC area\n",
    "fpr[\"micro\"], tpr[\"micro\"], _ = roc_curve(y_test.ravel(), y_score.ravel())\n",
    "roc_auc[\"micro\"] = auc(fpr[\"micro\"], tpr[\"micro\"])"
   ]
  },
  {
   "cell_type": "code",
   "execution_count": 143,
   "id": "2f0ba025-aeab-4050-ab17-7391e166bce6",
   "metadata": {},
   "outputs": [
    {
     "data": {
      "text/plain": [
       "array([0, 0, 1, 0, 1, 0, 1, 0, 0, 0, 0, 0, 0, 0, 0, 1, 0, 0, 1, 1, 0, 0,\n",
       "       1, 1, 0, 1, 1, 0, 0, 1, 0, 0, 1, 0, 0, 0, 1, 0, 0, 0, 0, 1, 0, 1,\n",
       "       1, 0, 0, 0, 0, 0, 0, 0, 0, 0, 0, 0, 0, 0, 0, 0, 0, 1, 0, 0, 0, 0,\n",
       "       0, 0, 1, 1, 0, 0, 1, 1, 0])"
      ]
     },
     "execution_count": 143,
     "metadata": {},
     "output_type": "execute_result"
    }
   ],
   "source": [
    "y_test[:, 0]"
   ]
  },
  {
   "cell_type": "code",
   "execution_count": 144,
   "id": "c4d58233-9833-4e5e-b3b4-3d869c0fa5ce",
   "metadata": {},
   "outputs": [
    {
     "data": {
      "text/plain": [
       "array([-0.76301132, -0.20224493,  0.11801481, -0.90780855, -0.01116192,\n",
       "       -0.6048727 ,  0.02283491, -0.61076876, -0.37572754, -0.47017411,\n",
       "       -0.42224234, -0.3355867 , -0.22723929, -0.07856729, -0.53383361,\n",
       "        0.12163662, -0.71356947, -0.55111511,  0.37991331, -0.11107635,\n",
       "       -0.70713712, -0.02392675, -0.25045747,  0.12675547, -0.68210402,\n",
       "       -0.08001795, -0.03259341, -0.04953425, -0.12974835, -0.19299299,\n",
       "       -0.3619768 , -0.22818639, -0.06196433, -0.52455061, -0.40026409,\n",
       "       -0.35056585, -0.05770139, -1.11907501,  0.19599366, -0.04299172,\n",
       "       -0.48108269,  0.1741885 , -0.41416456, -0.01053513,  0.01645355,\n",
       "       -0.11932181, -0.70817199, -0.77303401, -0.61489613, -0.96334774,\n",
       "       -0.31037723, -0.31952657, -0.35306417,  0.12127427, -0.6643231 ,\n",
       "       -0.55149778, -0.55695146, -0.41111447, -0.49463336,  0.06910059,\n",
       "       -0.23036784,  0.30342285,  0.17642852, -0.1906155 , -0.42910413,\n",
       "       -0.67759563, -0.32958811, -0.97119543,  0.02088168, -0.08177305,\n",
       "       -0.41466962, -0.30436228,  0.18869727,  0.24966175, -0.39980476])"
      ]
     },
     "execution_count": 144,
     "metadata": {},
     "output_type": "execute_result"
    }
   ],
   "source": [
    "y_score[:, 0]"
   ]
  },
  {
   "cell_type": "code",
   "execution_count": 116,
   "id": "52bfdc27-7d7a-4031-abbe-e607cb09c638",
   "metadata": {},
   "outputs": [
    {
     "data": {
      "text/plain": [
       "(array([0.        , 0.        , 0.        , 0.01851852, 0.01851852,\n",
       "        0.03703704, 0.03703704, 0.05555556, 0.05555556, 0.07407407,\n",
       "        0.07407407, 0.09259259, 0.09259259, 0.12962963, 0.12962963,\n",
       "        0.14814815, 0.14814815, 0.2037037 , 0.2037037 , 0.27777778,\n",
       "        0.27777778, 1.        ]),\n",
       " array([0.        , 0.04761905, 0.14285714, 0.14285714, 0.19047619,\n",
       "        0.19047619, 0.33333333, 0.33333333, 0.38095238, 0.38095238,\n",
       "        0.61904762, 0.61904762, 0.66666667, 0.66666667, 0.76190476,\n",
       "        0.76190476, 0.9047619 , 0.9047619 , 0.95238095, 0.95238095,\n",
       "        1.        , 1.        ]),\n",
       " array([ 1.37991331,  0.37991331,  0.24966175,  0.19599366,  0.18869727,\n",
       "         0.17642852,  0.12163662,  0.12127427,  0.11801481,  0.06910059,\n",
       "        -0.01116192, -0.02392675, -0.03259341, -0.04953425, -0.06196433,\n",
       "        -0.07856729, -0.11107635, -0.1906155 , -0.19299299, -0.23036784,\n",
       "        -0.25045747, -1.11907501]))"
      ]
     },
     "execution_count": 116,
     "metadata": {},
     "output_type": "execute_result"
    }
   ],
   "source": [
    "roc_curve(y_test[:, 0], y_score[:, 0])"
   ]
  },
  {
   "cell_type": "code",
   "execution_count": 117,
   "id": "b237293e-3518-4eeb-b108-419150db79c7",
   "metadata": {},
   "outputs": [
    {
     "data": {
      "text/plain": [
       "numpy.int32"
      ]
     },
     "execution_count": 117,
     "metadata": {},
     "output_type": "execute_result"
    }
   ],
   "source": [
    "type(y_test[0][0])"
   ]
  },
  {
   "cell_type": "code",
   "execution_count": 46,
   "id": "eaeeb49a-202e-49de-83eb-61698679b553",
   "metadata": {},
   "outputs": [
    {
     "name": "stdout",
     "output_type": "stream",
     "text": [
      "[0.         0.         0.         0.01851852 0.01851852 0.03703704\n",
      " 0.03703704 0.05555556 0.05555556 0.07407407 0.07407407 0.09259259\n",
      " 0.09259259 0.12962963 0.12962963 0.14814815 0.14814815 0.2037037\n",
      " 0.2037037  0.27777778 0.27777778 1.        ]\n",
      "\n",
      "[0.         0.04761905 0.14285714 0.14285714 0.19047619 0.19047619\n",
      " 0.33333333 0.33333333 0.38095238 0.38095238 0.61904762 0.61904762\n",
      " 0.66666667 0.66666667 0.76190476 0.76190476 0.9047619  0.9047619\n",
      " 0.95238095 0.95238095 1.         1.        ]\n",
      "\n",
      "0.9126984126984127\n"
     ]
    }
   ],
   "source": [
    "print(fpr[0])\n",
    "print()\n",
    "print(tpr[0])\n",
    "print()\n",
    "\n",
    "print(auc(fpr[0], tpr[0]))"
   ]
  },
  {
   "cell_type": "code",
   "execution_count": 47,
   "id": "1654e729-d533-434d-b42d-913d693f52c3",
   "metadata": {},
   "outputs": [
    {
     "data": {
      "text/plain": [
       "{0: array([0.        , 0.        , 0.        , 0.01851852, 0.01851852,\n",
       "        0.03703704, 0.03703704, 0.05555556, 0.05555556, 0.07407407,\n",
       "        0.07407407, 0.09259259, 0.09259259, 0.12962963, 0.12962963,\n",
       "        0.14814815, 0.14814815, 0.2037037 , 0.2037037 , 0.27777778,\n",
       "        0.27777778, 1.        ]),\n",
       " 1: array([0.        , 0.        , 0.        , 0.02222222, 0.02222222,\n",
       "        0.11111111, 0.11111111, 0.17777778, 0.17777778, 0.2       ,\n",
       "        0.2       , 0.24444444, 0.24444444, 0.26666667, 0.26666667,\n",
       "        0.37777778, 0.37777778, 0.42222222, 0.42222222, 0.48888889,\n",
       "        0.48888889, 0.55555556, 0.55555556, 0.62222222, 0.62222222,\n",
       "        0.64444444, 0.64444444, 0.66666667, 0.66666667, 0.73333333,\n",
       "        0.73333333, 0.75555556, 0.75555556, 0.88888889, 0.88888889,\n",
       "        1.        ]),\n",
       " 2: array([0.        , 0.        , 0.        , 0.01960784, 0.01960784,\n",
       "        0.07843137, 0.07843137, 0.09803922, 0.09803922, 0.11764706,\n",
       "        0.11764706, 0.1372549 , 0.1372549 , 0.15686275, 0.15686275,\n",
       "        0.17647059, 0.17647059, 0.31372549, 0.31372549, 0.33333333,\n",
       "        0.33333333, 0.35294118, 0.35294118, 0.41176471, 0.41176471,\n",
       "        0.45098039, 0.45098039, 0.47058824, 0.47058824, 0.50980392,\n",
       "        0.50980392, 0.56862745, 0.56862745, 1.        ]),\n",
       " 'micro': array([0.        , 0.        , 0.        , 0.00666667, 0.00666667,\n",
       "        0.01333333, 0.01333333, 0.02      , 0.02      , 0.02666667,\n",
       "        0.02666667, 0.03333333, 0.03333333, 0.05333333, 0.05333333,\n",
       "        0.06      , 0.06      , 0.06666667, 0.06666667, 0.07333333,\n",
       "        0.07333333, 0.08666667, 0.08666667, 0.09333333, 0.09333333,\n",
       "        0.1       , 0.1       , 0.10666667, 0.10666667, 0.11333333,\n",
       "        0.11333333, 0.12      , 0.12      , 0.14      , 0.14      ,\n",
       "        0.17333333, 0.17333333, 0.20666667, 0.20666667, 0.23333333,\n",
       "        0.23333333, 0.25333333, 0.25333333, 0.27333333, 0.27333333,\n",
       "        0.28666667, 0.28666667, 0.30666667, 0.30666667, 0.32      ,\n",
       "        0.32      , 0.32666667, 0.32666667, 0.34666667, 0.34666667,\n",
       "        0.35333333, 0.35333333, 0.37333333, 0.37333333, 0.46      ,\n",
       "        0.46      , 0.46666667, 0.46666667, 0.48666667, 0.48666667,\n",
       "        0.58666667, 0.58666667, 0.59333333, 0.59333333, 0.63333333,\n",
       "        0.63333333, 0.72      , 0.72      , 0.76      , 0.76      ,\n",
       "        0.78666667, 0.78666667, 0.79333333, 0.79333333, 0.8       ,\n",
       "        0.8       , 0.80666667, 0.80666667, 0.82      , 0.82      ,\n",
       "        0.83333333, 0.83333333, 0.86666667, 0.86666667, 0.88666667,\n",
       "        0.88666667, 0.93333333, 0.93333333, 1.        ])}"
      ]
     },
     "execution_count": 47,
     "metadata": {},
     "output_type": "execute_result"
    }
   ],
   "source": [
    "fpr"
   ]
  },
  {
   "cell_type": "code",
   "execution_count": 48,
   "id": "53a1172c-8678-48e3-82d3-1b5dabdc4c57",
   "metadata": {},
   "outputs": [
    {
     "data": {
      "image/png": "[encoded data removed]",
      "text/plain": [
       "<Figure size 432x288 with 1 Axes>"
      ]
     },
     "metadata": {
      "needs_background": "light"
     },
     "output_type": "display_data"
    }
   ],
   "source": [
    "plt.figure()\n",
    "lw = 2\n",
    "plt.plot(\n",
    "    fpr[2],\n",
    "    tpr[2],\n",
    "    color=\"darkorange\",\n",
    "    lw=lw,\n",
    "    label=\"ROC curve (area = %0.2f)\" % roc_auc[2],\n",
    ")\n",
    "plt.plot([0, 1], [0, 1], color=\"navy\", lw=lw, linestyle=\"--\")\n",
    "plt.xlim([0.0, 1.0])\n",
    "plt.ylim([0.0, 1.05])\n",
    "plt.xlabel(\"False Positive Rate\")\n",
    "plt.ylabel(\"True Positive Rate\")\n",
    "plt.title(\"Receiver operating characteristic example\")\n",
    "plt.legend(loc=\"lower right\")\n",
    "plt.show()"
   ]
  },
  {
   "cell_type": "code",
   "execution_count": null,
   "id": "813ff856-6529-4ab2-9263-07d819c72281",
   "metadata": {},
   "outputs": [],
   "source": []
  },
  {
   "cell_type": "code",
   "execution_count": null,
   "id": "473ce53c-8f2f-4aea-970c-5d63f484e683",
   "metadata": {},
   "outputs": [],
   "source": []
  },
  {
   "cell_type": "code",
   "execution_count": 7,
   "id": "738d5fe9-175a-4e63-8216-3261ef306bea",
   "metadata": {},
   "outputs": [
    {
     "data": {
      "image/png": "[encoded data removed]",
      "text/plain": [
       "<Figure size 432x288 with 1 Axes>"
      ]
     },
     "metadata": {
      "needs_background": "light"
     },
     "output_type": "display_data"
    }
   ],
   "source": [
    "# First aggregate all false positive rates\n",
    "all_fpr = np.unique(np.concatenate([fpr[i] for i in range(n_classes)]))\n",
    "\n",
    "# Then interpolate all ROC curves at this points\n",
    "mean_tpr = np.zeros_like(all_fpr)\n",
    "for i in range(n_classes):\n",
    "    mean_tpr += np.interp(all_fpr, fpr[i], tpr[i])\n",
    "\n",
    "# Finally average it and compute AUC\n",
    "mean_tpr /= n_classes\n",
    "\n",
    "fpr[\"macro\"] = all_fpr\n",
    "tpr[\"macro\"] = mean_tpr\n",
    "roc_auc[\"macro\"] = auc(fpr[\"macro\"], tpr[\"macro\"])\n",
    "\n",
    "# Plot all ROC curves\n",
    "plt.figure()\n",
    "plt.plot(\n",
    "    fpr[\"micro\"],\n",
    "    tpr[\"micro\"],\n",
    "    label=\"micro-average ROC curve (area = {0:0.2f})\".format(roc_auc[\"micro\"]),\n",
    "    color=\"deeppink\",\n",
    "    linestyle=\":\",\n",
    "    linewidth=4,\n",
    ")\n",
    "\n",
    "plt.plot(\n",
    "    fpr[\"macro\"],\n",
    "    tpr[\"macro\"],\n",
    "    label=\"macro-average ROC curve (area = {0:0.2f})\".format(roc_auc[\"macro\"]),\n",
    "    color=\"navy\",\n",
    "    linestyle=\":\",\n",
    "    linewidth=4,\n",
    ")\n",
    "\n",
    "colors = cycle([\"aqua\", \"darkorange\", \"cornflowerblue\"])\n",
    "for i, color in zip(range(n_classes), colors):\n",
    "    plt.plot(\n",
    "        fpr[i],\n",
    "        tpr[i],\n",
    "        color=color,\n",
    "        lw=lw,\n",
    "        label=\"ROC curve of class {0} (area = {1:0.2f})\".format(i, roc_auc[i]),\n",
    "    )\n",
    "\n",
    "plt.plot([0, 1], [0, 1], \"k--\", lw=lw)\n",
    "plt.xlim([0.0, 1.0])\n",
    "plt.ylim([0.0, 1.05])\n",
    "plt.xlabel(\"False Positive Rate\")\n",
    "plt.ylabel(\"True Positive Rate\")\n",
    "plt.title(\"Some extension of Receiver operating characteristic to multiclass\")\n",
    "plt.legend(loc=\"lower right\")\n",
    "plt.show()"
   ]
  },
  {
   "cell_type": "code",
   "execution_count": 145,
   "id": "455471b9-5ed5-45d1-9b59-efdffbeba9a2",
   "metadata": {},
   "outputs": [],
   "source": [
    "import csv\n",
    "import re\n",
    "import math\n",
    "import matplotlib.pyplot as plt\n",
    "import numpy as np\n",
    "import sys\n",
    "sys.path.append(\"..\") # adds higher directory to python modules path\n",
    "\n",
    "from LoaderPACK.Loader import testload_5min\n",
    "from LoaderPACK.Accuarcy_finder import Accuarcy_find_tester\n",
    "import torch\n",
    "import matplotlib.pyplot as plt\n",
    "\n",
    "device = \"cpu\"\n",
    "\n",
    "if device == \"cpu\":\n",
    "    fl = torch.FloatTensor\n",
    "    it = torch.LongTensor\n",
    "else:\n",
    "    fl = torch.cuda.FloatTensor\n",
    "    it = torch.cuda.LongTensor\n",
    "\n",
    "    # \"C:/Users/Marc/Desktop/data/val_model_data\"\n",
    "    # \"C:/Users/Marc/Desktop/data/train_model_data\"\n",
    "\n",
    "load_file = testload_5min(path = \"C:/Users/Marc/Desktop/data/val_model_data\",\n",
    "                          series_dict = 'val_series_length.pickle',\n",
    "                          size = (28, 22, 549200), #size = (195, 22, 2060000),\n",
    "                          device = device) # total val series = 2642\n",
    "                                           # total train series = 18497\n",
    "\n",
    "loader = torch.utils.data.DataLoader(load_file,\n",
    "                                     batch_size=1,\n",
    "                                     shuffle=False,\n",
    "                                     num_workers=0)\n",
    "\n",
    "it = iter(loader)\n",
    "\n",
    "ind, tar, meta = next(it)\n",
    "\n",
    "data = (ind.view(-1) - ind.view(-1).mean())/ind.view(-1).std()\n",
    "\n",
    "x = data.view(1, -1).transpose(1, 0).numpy()\n",
    "\n",
    "target = tar.view(-1)\n",
    "\n",
    "tar = torch.stack((~target.bool(), target)).view(2, -1)\n",
    "target = tar.transpose(1, 0)\n",
    "y = target.numpy()"
   ]
  },
  {
   "cell_type": "code",
   "execution_count": 123,
   "id": "582f1170-e9c6-49a9-a147-60b8e696890c",
   "metadata": {},
   "outputs": [
    {
     "data": {
      "text/plain": [
       "LSTM_net(\n",
       "  (lstm): LSTM(1, 5, proj_size=1, num_layers=2, batch_first=True, bidirectional=True)\n",
       "  (soft): Softmax(dim=1)\n",
       ")"
      ]
     },
     "execution_count": 123,
     "metadata": {},
     "output_type": "execute_result"
    }
   ],
   "source": [
    "from LoaderPACK.LSTM_net import LSTM_net\n",
    "from LoaderPACK.naive_models import thenos\n",
    "from LoaderPACK.Loader import testload_5min\n",
    "from LoaderPACK.tester import val_tester\n",
    "from LoaderPACK.Unet import Unet\n",
    "from LoaderPACK.Accuarcy_finder import Accuarcy_find\n",
    "from LoaderPACK.Accuarcy_upload import Accuarcy_upload\n",
    "from multiprocessing import Process\n",
    "\n",
    "batch_size = 1\n",
    "\n",
    "model = LSTM_net(batch_size=batch_size, device=device).to(device)\n",
    "x = torch.load(f\"C:/Users/Marc/Desktop/network/network_LSTM-510.pt\")\n",
    "x = torch.load(r\"C:\\Users\\Marc\\Desktop\\network\\networks_515\\network_LSTM-loss-epk-94.pt\")\n",
    "model.load_state_dict(x)\n",
    "model.to(device)"
   ]
  },
  {
   "cell_type": "code",
   "execution_count": 124,
   "id": "1f22f0ec-c2f6-4b24-b3a6-29f40f8c41a5",
   "metadata": {},
   "outputs": [],
   "source": [
    "with torch.no_grad():\n",
    "    y_pred = model(ind)"
   ]
  },
  {
   "cell_type": "code",
   "execution_count": null,
   "id": "ddce5c3d-cce2-4ac4-87c5-e1aa4c1519c3",
   "metadata": {},
   "outputs": [],
   "source": []
  },
  {
   "cell_type": "code",
   "execution_count": 125,
   "id": "9172721a-4a3f-4267-888d-1fad8fbbeb3f",
   "metadata": {},
   "outputs": [
    {
     "data": {
      "text/plain": [
       "torch.Size([1, 2, 60000])"
      ]
     },
     "execution_count": 125,
     "metadata": {},
     "output_type": "execute_result"
    }
   ],
   "source": [
    "y_pred.shape"
   ]
  },
  {
   "cell_type": "code",
   "execution_count": 126,
   "id": "7773a2d6-f2ef-4a58-92e7-41aff958a281",
   "metadata": {},
   "outputs": [],
   "source": [
    "pred = y_pred.view(2, -1).transpose(1, 0).numpy()"
   ]
  },
  {
   "cell_type": "code",
   "execution_count": 127,
   "id": "870da3d2-e9a0-4cd6-bba1-531db43947a3",
   "metadata": {},
   "outputs": [
    {
     "data": {
      "text/plain": [
       "(60000, 2)"
      ]
     },
     "execution_count": 127,
     "metadata": {},
     "output_type": "execute_result"
    }
   ],
   "source": [
    "pred.shape"
   ]
  },
  {
   "cell_type": "code",
   "execution_count": 128,
   "id": "2ea8cc9e-8dcc-4f18-a6da-2bf9044b99b4",
   "metadata": {},
   "outputs": [],
   "source": [
    "pred = np.float64(pred)"
   ]
  },
  {
   "cell_type": "code",
   "execution_count": 129,
   "id": "c39f5c0e-4ffa-4507-8738-65a075834f03",
   "metadata": {},
   "outputs": [
    {
     "data": {
      "text/plain": [
       "array([[4.15919785e-04, 9.99584138e-01],\n",
       "       [2.21436872e-04, 9.99778569e-01],\n",
       "       [1.95816348e-04, 9.99804199e-01],\n",
       "       ...,\n",
       "       [9.99725163e-01, 2.74768070e-04],\n",
       "       [9.99422789e-01, 5.77222614e-04],\n",
       "       [9.96798098e-01, 3.20196315e-03]])"
      ]
     },
     "execution_count": 129,
     "metadata": {},
     "output_type": "execute_result"
    }
   ],
   "source": [
    "pred"
   ]
  },
  {
   "cell_type": "code",
   "execution_count": 146,
   "id": "3550cf08-4820-499c-a12f-8c8b169b76a4",
   "metadata": {},
   "outputs": [],
   "source": [
    "y = np.int32(y)"
   ]
  },
  {
   "cell_type": "code",
   "execution_count": 147,
   "id": "98d5f5c3-1899-441d-8ebe-458b3bf6737f",
   "metadata": {},
   "outputs": [
    {
     "data": {
      "text/plain": [
       "array([[0, 1],\n",
       "       [0, 1],\n",
       "       [0, 1],\n",
       "       ...,\n",
       "       [1, 0],\n",
       "       [1, 0],\n",
       "       [1, 0]])"
      ]
     },
     "execution_count": 147,
     "metadata": {},
     "output_type": "execute_result"
    }
   ],
   "source": [
    "y"
   ]
  },
  {
   "cell_type": "code",
   "execution_count": 149,
   "id": "175943b5-3642-44d7-a205-c6aa7df83f84",
   "metadata": {},
   "outputs": [
    {
     "data": {
      "text/plain": [
       "array([0, 0, 0, ..., 1, 1, 1])"
      ]
     },
     "execution_count": 149,
     "metadata": {},
     "output_type": "execute_result"
    }
   ],
   "source": [
    "y[:, 0]"
   ]
  },
  {
   "cell_type": "code",
   "execution_count": 157,
   "id": "613409ea-a676-4de5-80b1-cd0843de9f9d",
   "metadata": {},
   "outputs": [],
   "source": [
    "# Compute ROC curve and ROC area for each class\n",
    "fpr = dict()\n",
    "tpr = dict()\n",
    "roc_auc = dict()\n",
    "for i in range(2):\n",
    "    fpr[i], tpr[i], _ = roc_curve(y[:, i], pred[:, i])\n",
    "    roc_auc[i] = auc(fpr[i], tpr[i])\n",
    "\n",
    "# Compute micro-average ROC curve and ROC area\n",
    "fpr[\"micro\"], tpr[\"micro\"], _ = roc_curve(y_test.ravel(), y_score.ravel())\n",
    "roc_auc[\"micro\"] = auc(fpr[\"micro\"], tpr[\"micro\"])"
   ]
  },
  {
   "cell_type": "code",
   "execution_count": null,
   "id": "3822aee4-041b-41bf-a16b-f22ff70a4628",
   "metadata": {},
   "outputs": [],
   "source": []
  },
  {
   "cell_type": "code",
   "execution_count": 189,
   "id": "81e71f2b-1dd0-465e-b3de-b6976cd51667",
   "metadata": {},
   "outputs": [
    {
     "data": {
      "image/png": "[encoded data removed]",
      "text/plain": [
       "<Figure size 432x288 with 1 Axes>"
      ]
     },
     "metadata": {
      "needs_background": "light"
     },
     "output_type": "display_data"
    }
   ],
   "source": [
    "plt.figure()\n",
    "lw = 2\n",
    "plt.plot(\n",
    "    fpr[1],\n",
    "    tpr[1],\n",
    "    color=\"darkorange\",\n",
    "    lw=lw,\n",
    "    label=\"ROC curve (area = %0.2f)\" % roc_auc[1],\n",
    ")\n",
    "plt.plot([0, 1], [0, 1], color=\"navy\", lw=lw, linestyle=\"--\")\n",
    "plt.xlim([0.0, 1.0])\n",
    "plt.ylim([0.0, 1.05])\n",
    "plt.xlabel(\"False Positive Rate\")\n",
    "plt.ylabel(\"True Positive Rate\")\n",
    "plt.title(\"Receiver operating characteristic example\")\n",
    "plt.legend(loc=\"lower right\")\n",
    "plt.show()"
   ]
  },
  {
   "cell_type": "code",
   "execution_count": 254,
   "id": "3464c2be-fc97-40cc-86de-cba6d33377f3",
   "metadata": {},
   "outputs": [
    {
     "data": {
      "image/png": "[encoded data removed]",
      "text/plain": [
       "<Figure size 432x288 with 1 Axes>"
      ]
     },
     "metadata": {
      "needs_background": "light"
     },
     "output_type": "display_data"
    }
   ],
   "source": [
    "# First aggregate all false positive rates\n",
    "all_fpr = np.unique(np.concatenate([fpr[i] for i in range(2)]))\n",
    "\n",
    "# Then interpolate all ROC curves at this points\n",
    "mean_tpr = np.zeros_like(all_fpr)\n",
    "for i in range(2):\n",
    "    mean_tpr += np.interp(all_fpr, fpr[i], tpr[i])\n",
    "\n",
    "# Finally average it and compute AUC\n",
    "mean_tpr /= 2\n",
    "\n",
    "fpr[\"macro\"] = all_fpr\n",
    "tpr[\"macro\"] = mean_tpr\n",
    "roc_auc[\"macro\"] = auc(fpr[\"macro\"], tpr[\"macro\"])\n",
    "\n",
    "# Plot all ROC curves\n",
    "plt.figure()\n",
    "plt.plot(\n",
    "    fpr[\"micro\"],\n",
    "    tpr[\"micro\"],\n",
    "    label=\"micro-average ROC curve (area = {0:0.2f})\".format(roc_auc[\"micro\"]),\n",
    "    color=\"deeppink\",\n",
    "    linestyle=\":\",\n",
    "    linewidth=4,\n",
    ")\n",
    "\n",
    "plt.plot(\n",
    "    fpr[\"macro\"],\n",
    "    tpr[\"macro\"],\n",
    "    label=\"macro-average ROC curve (area = {0:0.2f})\".format(roc_auc[\"macro\"]),\n",
    "    color=\"navy\",\n",
    "    linestyle=\":\",\n",
    "    linewidth=4,\n",
    ")\n",
    "\n",
    "colors = cycle([\"aqua\", \"darkorange\", \"cornflowerblue\"])\n",
    "for i, color in zip(range(2), colors):\n",
    "    plt.plot(\n",
    "        fpr[i],\n",
    "        tpr[i],\n",
    "        color=color,\n",
    "        lw=lw,\n",
    "        label=\"ROC curve of class {0} (area = {1:0.2f})\".format(i, roc_auc[i]),\n",
    "    )\n",
    "\n",
    "plt.plot([0, 1], [0, 1], \"k--\", lw=lw)\n",
    "plt.xlim([0.0, 1.0])\n",
    "plt.ylim([0.0, 1.05])\n",
    "plt.xlabel(\"False Positive Rate\")\n",
    "plt.ylabel(\"True Positive Rate\")\n",
    "plt.title(\"Some extension of Receiver operating characteristic to multiclass\")\n",
    "plt.legend(loc=\"lower right\")\n",
    "plt.show()"
   ]
  },
  {
   "cell_type": "code",
   "execution_count": null,
   "id": "abb28efa-a7bb-463c-92e8-6599c0ca530d",
   "metadata": {},
   "outputs": [],
   "source": []
  },
  {
   "cell_type": "code",
   "execution_count": 52,
   "id": "ce9c2364-b93c-455e-88fc-b98fe1c74881",
   "metadata": {},
   "outputs": [],
   "source": [
    "x_train = x[:9000]\n",
    "y_train = y[:9000]\n",
    "\n",
    "x_test = x[59000:]\n",
    "y_test = y[59000:]"
   ]
  },
  {
   "cell_type": "code",
   "execution_count": 53,
   "id": "538c5111-4635-4e56-84c2-87d5ea72ee99",
   "metadata": {},
   "outputs": [
    {
     "data": {
      "text/plain": [
       "(1000, 2)"
      ]
     },
     "execution_count": 53,
     "metadata": {},
     "output_type": "execute_result"
    }
   ],
   "source": [
    "y_test.shape"
   ]
  },
  {
   "cell_type": "code",
   "execution_count": 54,
   "id": "aa0f9682-a018-4cc6-b301-d145d15d47cd",
   "metadata": {},
   "outputs": [],
   "source": [
    "\n",
    "classifier = OneVsRestClassifier(\n",
    "    svm.SVC(kernel=\"linear\", probability=True, random_state=random_state)\n",
    ")\n",
    "\n",
    "y_score = classifier.fit(x_train, y_train).decision_function(x_test)"
   ]
  },
  {
   "cell_type": "code",
   "execution_count": 55,
   "id": "d5fce2d6-bd1a-442e-ae8d-c19ef2ace9e0",
   "metadata": {},
   "outputs": [
    {
     "data": {
      "text/plain": [
       "array([[ 1.00000042, -1.00000198],\n",
       "       [ 1.0000004 , -1.00000195],\n",
       "       [ 1.00000039, -1.00000194],\n",
       "       ...,\n",
       "       [ 1.00000073, -1.00000244],\n",
       "       [ 1.00000073, -1.00000244],\n",
       "       [ 1.00000071, -1.00000242]])"
      ]
     },
     "execution_count": 55,
     "metadata": {},
     "output_type": "execute_result"
    }
   ],
   "source": [
    "y_score"
   ]
  },
  {
   "cell_type": "code",
   "execution_count": 56,
   "id": "384c1ea1-bf4e-42d9-8571-c07d55803aca",
   "metadata": {},
   "outputs": [
    {
     "data": {
      "text/plain": [
       "(1000, 2)"
      ]
     },
     "execution_count": 56,
     "metadata": {},
     "output_type": "execute_result"
    }
   ],
   "source": [
    "y_score.shape"
   ]
  },
  {
   "cell_type": "code",
   "execution_count": 57,
   "id": "0c52ce6e-1f2a-4f4a-8aa4-60e67036116e",
   "metadata": {},
   "outputs": [
    {
     "data": {
      "text/plain": [
       "(1000, 2)"
      ]
     },
     "execution_count": 57,
     "metadata": {},
     "output_type": "execute_result"
    }
   ],
   "source": [
    "y_test.shape"
   ]
  },
  {
   "cell_type": "code",
   "execution_count": 58,
   "id": "69995ad6-59b4-4e2a-aff0-e4a66d3f7c09",
   "metadata": {},
   "outputs": [
    {
     "name": "stderr",
     "output_type": "stream",
     "text": [
      "C:\\Users\\Marc\\anaconda3\\envs\\deep\\lib\\site-packages\\sklearn\\metrics\\_ranking.py:990: UndefinedMetricWarning: No negative samples in y_true, false positive value should be meaningless\n",
      "  warnings.warn(\n",
      "C:\\Users\\Marc\\anaconda3\\envs\\deep\\lib\\site-packages\\sklearn\\metrics\\_ranking.py:999: UndefinedMetricWarning: No positive samples in y_true, true positive value should be meaningless\n",
      "  warnings.warn(\n"
     ]
    }
   ],
   "source": [
    "# Compute ROC curve and ROC area for each class\n",
    "fpr = dict()\n",
    "tpr = dict()\n",
    "roc_auc = dict()\n",
    "for i in range(2):\n",
    "    fpr[i], tpr[i], _ = roc_curve(y_test[:, i], y_score[:, i])\n",
    "    roc_auc[i] = auc(fpr[i], tpr[i])\n",
    "\n",
    "# Compute micro-average ROC curve and ROC area\n",
    "fpr[\"micro\"], tpr[\"micro\"], _ = roc_curve(y_test.ravel(), y_score.ravel())\n",
    "roc_auc[\"micro\"] = auc(fpr[\"micro\"], tpr[\"micro\"])"
   ]
  },
  {
   "cell_type": "code",
   "execution_count": 61,
   "id": "aad44ac4-1d2c-4235-94d1-3bfb66a736db",
   "metadata": {},
   "outputs": [
    {
     "name": "stderr",
     "output_type": "stream",
     "text": [
      "C:\\Users\\Marc\\anaconda3\\envs\\deep\\lib\\site-packages\\sklearn\\metrics\\_ranking.py:999: UndefinedMetricWarning: No positive samples in y_true, true positive value should be meaningless\n",
      "  warnings.warn(\n"
     ]
    },
    {
     "data": {
      "text/plain": [
       "(array([0.   , 0.001, 1.   ]),\n",
       " array([nan, nan, nan]),\n",
       " array([-1.41834515e-06, -1.00000142e+00, -1.00000265e+00]))"
      ]
     },
     "execution_count": 61,
     "metadata": {},
     "output_type": "execute_result"
    }
   ],
   "source": [
    "roc_curve(y_test[:, 1], y_score[:, 1])"
   ]
  },
  {
   "cell_type": "code",
   "execution_count": 68,
   "id": "dae9f9b0-4e85-497f-a081-e3af27e982bd",
   "metadata": {},
   "outputs": [],
   "source": [
    "fpr[\"micro\"], tpr[\"micro\"], _ = roc_curve(y_test.ravel(), y_score.ravel())\n",
    "roc_auc[\"micro\"] = auc(fpr[\"micro\"], tpr[\"micro\"])"
   ]
  },
  {
   "cell_type": "code",
   "execution_count": null,
   "id": "612b2f90-9f51-4405-9ad6-cf7f3611c803",
   "metadata": {},
   "outputs": [],
   "source": []
  },
  {
   "cell_type": "code",
   "execution_count": 153,
   "id": "548c646e-d28a-4f9f-b61e-dc8261887002",
   "metadata": {},
   "outputs": [
    {
     "data": {
      "image/png": "[encoded data removed]",
      "text/plain": [
       "<Figure size 432x288 with 1 Axes>"
      ]
     },
     "metadata": {
      "needs_background": "light"
     },
     "output_type": "display_data"
    }
   ],
   "source": []
  },
  {
   "cell_type": "code",
   "execution_count": 179,
   "id": "e44c3045-a855-4217-a912-d1a134a070e3",
   "metadata": {},
   "outputs": [],
   "source": [
    "from sklearn.datasets import load_iris\n",
    "from sklearn.linear_model import LogisticRegression\n",
    "X, y = load_iris(return_X_y=True)\n",
    "clf = LogisticRegression(random_state=0).fit(X[:, 0].reshape(-1, 1), y)\n"
   ]
  },
  {
   "cell_type": "code",
   "execution_count": 205,
   "id": "4b1470cc-5430-4692-a6c3-5dfef79b37a7",
   "metadata": {},
   "outputs": [],
   "source": [
    "#X[:, 0].reshape(-1, 1)"
   ]
  },
  {
   "cell_type": "code",
   "execution_count": 185,
   "id": "63b0c58e-707b-4ce0-9fd8-39c03c6f11cc",
   "metadata": {},
   "outputs": [
    {
     "data": {
      "text/plain": [
       "array([5.1, 3.5, 1.4, 0.2])"
      ]
     },
     "execution_count": 185,
     "metadata": {},
     "output_type": "execute_result"
    }
   ],
   "source": [
    "X[0]"
   ]
  },
  {
   "cell_type": "code",
   "execution_count": 188,
   "id": "620bc670-f2d2-4149-a348-07dc3f13d21f",
   "metadata": {},
   "outputs": [
    {
     "data": {
      "text/plain": [
       "array([0])"
      ]
     },
     "execution_count": 188,
     "metadata": {},
     "output_type": "execute_result"
    }
   ],
   "source": [
    "clf.predict([[X[0, 2]]])\n",
    "\n"
   ]
  },
  {
   "cell_type": "code",
   "execution_count": 173,
   "id": "c897f7c4-4e3d-40bc-be91-40abb2609b6b",
   "metadata": {},
   "outputs": [
    {
     "data": {
      "text/plain": [
       "array([[5.1, 4.9, 4.7, 4.6, 5. , 5.4, 4.6, 5. , 4.4, 4.9, 5.4, 4.8, 4.8,\n",
       "        4.3, 5.8, 5.7, 5.4, 5.1, 5.7, 5.1, 5.4, 5.1, 4.6, 5.1, 4.8, 5. ,\n",
       "        5. , 5.2, 5.2, 4.7, 4.8, 5.4, 5.2, 5.5, 4.9, 5. , 5.5, 4.9, 4.4,\n",
       "        5.1, 5. , 4.5, 4.4, 5. , 5.1, 4.8, 5.1, 4.6, 5.3, 5. , 7. , 6.4,\n",
       "        6.9, 5.5, 6.5, 5.7, 6.3, 4.9, 6.6, 5.2, 5. , 5.9, 6. , 6.1, 5.6,\n",
       "        6.7, 5.6, 5.8, 6.2, 5.6, 5.9, 6.1, 6.3, 6.1, 6.4, 6.6, 6.8, 6.7,\n",
       "        6. , 5.7, 5.5, 5.5, 5.8, 6. , 5.4, 6. , 6.7, 6.3, 5.6, 5.5, 5.5,\n",
       "        6.1, 5.8, 5. , 5.6, 5.7, 5.7, 6.2, 5.1, 5.7, 6.3, 5.8, 7.1, 6.3,\n",
       "        6.5, 7.6, 4.9, 7.3, 6.7, 7.2, 6.5, 6.4, 6.8, 5.7, 5.8, 6.4, 6.5,\n",
       "        7.7, 7.7, 6. , 6.9, 5.6, 7.7, 6.3, 6.7, 7.2, 6.2, 6.1, 6.4, 7.2,\n",
       "        7.4, 7.9, 6.4, 6.3, 6.1, 7.7, 6.3, 6.4, 6. , 6.9, 6.7, 6.9, 5.8,\n",
       "        6.8, 6.7, 6.7, 6.3, 6.5, 6.2, 5.9]])"
      ]
     },
     "execution_count": 173,
     "metadata": {},
     "output_type": "execute_result"
    }
   ],
   "source": [
    "X[:, 0].reshape(1, -1)"
   ]
  },
  {
   "cell_type": "code",
   "execution_count": 193,
   "id": "f28a63b9-da76-4906-95b5-d34507613e77",
   "metadata": {},
   "outputs": [
    {
     "data": {
      "text/plain": [
       "(150,)"
      ]
     },
     "execution_count": 193,
     "metadata": {},
     "output_type": "execute_result"
    }
   ],
   "source": [
    "y.shape"
   ]
  },
  {
   "cell_type": "code",
   "execution_count": null,
   "id": "9e7d2551-7275-493b-ab9e-0bce784dc37e",
   "metadata": {},
   "outputs": [],
   "source": []
  },
  {
   "cell_type": "code",
   "execution_count": null,
   "id": "09cc49a3-bf47-4f35-a62b-9613d677bb46",
   "metadata": {},
   "outputs": [],
   "source": []
  },
  {
   "cell_type": "code",
   "execution_count": null,
   "id": "e27d1912-43b6-4aed-adf1-73bfdec13517",
   "metadata": {},
   "outputs": [],
   "source": []
  },
  {
   "cell_type": "code",
   "execution_count": null,
   "id": "49a88163-5402-477d-be51-8bd68196f743",
   "metadata": {},
   "outputs": [],
   "source": []
  },
  {
   "cell_type": "code",
   "execution_count": null,
   "id": "ed940b4d-665a-427f-a220-a108dd9a1343",
   "metadata": {},
   "outputs": [],
   "source": []
  },
  {
   "cell_type": "code",
   "execution_count": 255,
   "id": "59dc3d57-b97c-48e6-b44b-3c276f4f7de3",
   "metadata": {},
   "outputs": [],
   "source": [
    "import csv\n",
    "import re\n",
    "import math\n",
    "import matplotlib.pyplot as plt\n",
    "import numpy as np\n",
    "import sys\n",
    "sys.path.append(\"..\") # adds higher directory to python modules path\n",
    "\n",
    "from LoaderPACK.Loader import testload_5min\n",
    "from LoaderPACK.Accuarcy_finder import Accuarcy_find_tester\n",
    "import torch\n",
    "import matplotlib.pyplot as plt\n",
    "\n",
    "device = \"cpu\"\n",
    "\n",
    "if device == \"cpu\":\n",
    "    fl = torch.FloatTensor\n",
    "    it = torch.LongTensor\n",
    "else:\n",
    "    fl = torch.cuda.FloatTensor\n",
    "    it = torch.cuda.LongTensor\n",
    "\n",
    "    # \"C:/Users/Marc/Desktop/data/val_model_data\"\n",
    "    # \"C:/Users/Marc/Desktop/data/train_model_data\"\n",
    "\n",
    "load_file = testload_5min(path = \"C:/Users/Marc/Desktop/data/val_model_data\",\n",
    "                          series_dict = 'val_series_length.pickle',\n",
    "                          size = (28, 22, 549200), #size = (195, 22, 2060000),\n",
    "                          device = device) # total val series = 2642\n",
    "                                           # total train series = 18497\n",
    "\n",
    "loader = torch.utils.data.DataLoader(load_file,\n",
    "                                     batch_size=1,\n",
    "                                     shuffle=False,\n",
    "                                     num_workers=0)\n",
    "\n",
    "it = iter(loader)\n",
    "\n",
    "ind, tar, meta = next(it)\n",
    "\n",
    "data = (ind.view(-1).abs()/200)\n",
    "\n",
    "data = torch.stack((1-data, data)).view(2, -1)\n",
    "\n",
    "target = tar.view(-1)\n",
    "\n",
    "tar = torch.stack((~target.bool(), target)).view(2, -1)\n",
    "target = tar.transpose(1, 0)\n",
    "y = target.numpy()\n",
    "y = np.int32(y)"
   ]
  },
  {
   "cell_type": "code",
   "execution_count": 256,
   "id": "bf65c92b-b18a-4786-9997-808a480914ab",
   "metadata": {},
   "outputs": [
    {
     "data": {
      "text/plain": [
       "tensor([[0.5715, 0.5783, 0.4013,  ..., 0.9797, 0.9795, 0.9832],\n",
       "        [0.4285, 0.4217, 0.5987,  ..., 0.0203, 0.0205, 0.0168]])"
      ]
     },
     "execution_count": 256,
     "metadata": {},
     "output_type": "execute_result"
    }
   ],
   "source": [
    "data"
   ]
  },
  {
   "cell_type": "code",
   "execution_count": 257,
   "id": "93ddac95-9c69-4f7e-b052-dfc475d79cf0",
   "metadata": {},
   "outputs": [],
   "source": [
    "pred = data.transpose(1, 0).numpy()"
   ]
  },
  {
   "cell_type": "code",
   "execution_count": 258,
   "id": "e26490b2-505a-4f0d-b54c-a16d4e0f6393",
   "metadata": {},
   "outputs": [
    {
     "data": {
      "text/plain": [
       "array([[0.5715421 , 0.42845792],\n",
       "       [0.578261  , 0.42173898],\n",
       "       [0.40133047, 0.5986695 ],\n",
       "       ...,\n",
       "       [0.9796571 , 0.0203429 ],\n",
       "       [0.97950673, 0.02049327],\n",
       "       [0.98323023, 0.01676979]], dtype=float32)"
      ]
     },
     "execution_count": 258,
     "metadata": {},
     "output_type": "execute_result"
    }
   ],
   "source": [
    "pred"
   ]
  },
  {
   "cell_type": "code",
   "execution_count": null,
   "id": "3362f17c-e2de-4b4f-9154-f5e51b1cbeb5",
   "metadata": {},
   "outputs": [],
   "source": []
  },
  {
   "cell_type": "code",
   "execution_count": 261,
   "id": "b7ff530a-1b5e-4669-afa8-465465fc9516",
   "metadata": {},
   "outputs": [],
   "source": [
    "# Compute ROC curve and ROC area for each class\n",
    "fpr = dict()\n",
    "tpr = dict()\n",
    "roc_auc = dict()\n",
    "for i in range(2):\n",
    "    fpr[i], tpr[i], _ = roc_curve(y[:, i], pred[:, i])\n",
    "    roc_auc[i] = auc(fpr[i], tpr[i])\n",
    "\n",
    "# Compute micro-average ROC curve and ROC area\n",
    "fpr[\"micro\"], tpr[\"micro\"], thrs = roc_curve(y_test.ravel(), y_score.ravel())\n",
    "roc_auc[\"micro\"] = auc(fpr[\"micro\"], tpr[\"micro\"])"
   ]
  },
  {
   "cell_type": "code",
   "execution_count": 263,
   "id": "066a25f0-509e-4532-9cdb-0e7cbb22d6e3",
   "metadata": {},
   "outputs": [
    {
     "data": {
      "text/plain": [
       "94"
      ]
     },
     "execution_count": 263,
     "metadata": {},
     "output_type": "execute_result"
    }
   ],
   "source": [
    "len(thrs)"
   ]
  },
  {
   "cell_type": "code",
   "execution_count": 284,
   "id": "aa1b7089-5da2-40e0-848b-421e6a397e49",
   "metadata": {},
   "outputs": [
    {
     "data": {
      "text/plain": [
       "0.0"
      ]
     },
     "execution_count": 284,
     "metadata": {},
     "output_type": "execute_result"
    }
   ],
   "source": [
    "fpr[1][0]"
   ]
  },
  {
   "cell_type": "code",
   "execution_count": 283,
   "id": "ab5a6298-b0ef-4dbf-a579-09134c70b230",
   "metadata": {},
   "outputs": [
    {
     "data": {
      "text/plain": [
       "-0.295727644935172"
      ]
     },
     "execution_count": 283,
     "metadata": {},
     "output_type": "execute_result"
    }
   ],
   "source": [
    "thrs[50]"
   ]
  },
  {
   "cell_type": "code",
   "execution_count": 277,
   "id": "67d3d6c5-d548-4c5c-8880-c434c4707d94",
   "metadata": {},
   "outputs": [
    {
     "data": {
      "text/plain": [
       "array([[0.5715421 , 0.42845792],\n",
       "       [0.578261  , 0.42173898],\n",
       "       [0.40133047, 0.5986695 ],\n",
       "       ...,\n",
       "       [0.9796571 , 0.0203429 ],\n",
       "       [0.97950673, 0.02049327],\n",
       "       [0.98323023, 0.01676979]], dtype=float32)"
      ]
     },
     "execution_count": 277,
     "metadata": {},
     "output_type": "execute_result"
    }
   ],
   "source": [
    "pred"
   ]
  },
  {
   "cell_type": "code",
   "execution_count": 260,
   "id": "b3cf2b68-0764-4e7f-88b2-8113d90c2ccc",
   "metadata": {},
   "outputs": [
    {
     "data": {
      "image/png": "[encoded data removed]",
      "text/plain": [
       "<Figure size 432x288 with 1 Axes>"
      ]
     },
     "metadata": {
      "needs_background": "light"
     },
     "output_type": "display_data"
    }
   ],
   "source": [
    "plt.figure()\n",
    "lw = 2\n",
    "plt.plot(\n",
    "    fpr[0],\n",
    "    tpr[0],\n",
    "    color=\"darkorange\",\n",
    "    lw=lw,\n",
    "    label=\"ROC curve (area = %0.2f)\" % roc_auc[0],\n",
    ")\n",
    "plt.plot([0, 1], [0, 1], color=\"navy\", lw=lw, linestyle=\"--\")\n",
    "plt.xlim([0.0, 1.0])\n",
    "plt.ylim([0.0, 1.05])\n",
    "plt.xlabel(\"False Positive Rate\")\n",
    "plt.ylabel(\"True Positive Rate\")\n",
    "plt.title(\"Receiver operating characteristic example\")\n",
    "plt.legend(loc=\"lower right\")\n",
    "plt.show()"
   ]
  },
  {
   "cell_type": "code",
   "execution_count": 250,
   "id": "6fff0b99-39d6-41fc-b96a-d719fade24b6",
   "metadata": {},
   "outputs": [
    {
     "data": {
      "image/png": "[encoded data removed]",
      "text/plain": [
       "<Figure size 432x288 with 1 Axes>"
      ]
     },
     "metadata": {
      "needs_background": "light"
     },
     "output_type": "display_data"
    }
   ],
   "source": [
    "# First aggregate all false positive rates\n",
    "all_fpr = np.unique(np.concatenate([fpr[i] for i in range(2)]))\n",
    "\n",
    "# Then interpolate all ROC curves at this points\n",
    "mean_tpr = np.zeros_like(all_fpr)\n",
    "for i in range(2):\n",
    "    mean_tpr += np.interp(all_fpr, fpr[i], tpr[i])\n",
    "\n",
    "# Finally average it and compute AUC\n",
    "mean_tpr /= n_classes\n",
    "\n",
    "fpr[\"macro\"] = all_fpr\n",
    "tpr[\"macro\"] = mean_tpr\n",
    "roc_auc[\"macro\"] = auc(fpr[\"macro\"], tpr[\"macro\"])\n",
    "\n",
    "# Plot all ROC curves\n",
    "plt.figure()\n",
    "plt.plot(\n",
    "    fpr[\"micro\"],\n",
    "    tpr[\"micro\"],\n",
    "    label=\"micro-average ROC curve (area = {0:0.2f})\".format(roc_auc[\"micro\"]),\n",
    "    color=\"deeppink\",\n",
    "    linestyle=\":\",\n",
    "    linewidth=4,\n",
    ")\n",
    "\n",
    "plt.plot(\n",
    "    fpr[\"macro\"],\n",
    "    tpr[\"macro\"],\n",
    "    label=\"macro-average ROC curve (area = {0:0.2f})\".format(roc_auc[\"macro\"]),\n",
    "    color=\"navy\",\n",
    "    linestyle=\":\",\n",
    "    linewidth=4,\n",
    ")\n",
    "\n",
    "colors = cycle([\"aqua\", \"darkorange\", \"cornflowerblue\"])\n",
    "for i, color in zip(range(2), colors):\n",
    "    plt.plot(\n",
    "        fpr[i],\n",
    "        tpr[i],\n",
    "        color=color,\n",
    "        lw=lw,\n",
    "        label=\"ROC curve of class {0} (area = {1:0.2f})\".format(i, roc_auc[i]),\n",
    "    )\n",
    "\n",
    "plt.plot([0, 1], [0, 1], \"k--\", lw=lw)\n",
    "plt.xlim([0.0, 1.0])\n",
    "plt.ylim([0.0, 1.05])\n",
    "plt.xlabel(\"False Positive Rate\")\n",
    "plt.ylabel(\"True Positive Rate\")\n",
    "plt.title(\"Some extension of Receiver operating characteristic to multiclass\")\n",
    "plt.legend(loc=\"lower right\")\n",
    "plt.show()"
   ]
  },
  {
   "cell_type": "code",
   "execution_count": 253,
   "id": "8a21345f-fb8f-4865-8d2a-762c9faa9b32",
   "metadata": {},
   "outputs": [
    {
     "data": {
      "text/plain": [
       "array([0.00000000e+00, 1.72413793e-05, 3.44827586e-05, ...,\n",
       "       9.96551724e-01, 9.99189655e-01, 1.00000000e+00])"
      ]
     },
     "execution_count": 253,
     "metadata": {},
     "output_type": "execute_result"
    }
   ],
   "source": [
    "all_fpr"
   ]
  },
  {
   "cell_type": "code",
   "execution_count": null,
   "id": "7bef98da-ff7f-454f-9e09-d9b2343e387e",
   "metadata": {},
   "outputs": [],
   "source": []
  }
 ],
 "metadata": {
  "kernelspec": {
   "display_name": "Python 3 (ipykernel)",
   "language": "python",
   "name": "python3"
  },
  "language_info": {
   "codemirror_mode": {
    "name": "ipython",
    "version": 3
   },
   "file_extension": ".py",
   "mimetype": "text/x-python",
   "name": "python",
   "nbconvert_exporter": "python",
   "pygments_lexer": "ipython3",
   "version": "3.9.6"
  }
 },
 "nbformat": 4,
 "nbformat_minor": 5
}
