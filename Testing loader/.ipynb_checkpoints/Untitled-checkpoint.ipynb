{
 "cells": [
  {
   "cell_type": "code",
   "execution_count": 1,
   "id": "052fb76e-8058-4cb6-bc47-5c091a118e72",
   "metadata": {},
   "outputs": [],
   "source": [
    "import csv\n",
    "import re\n",
    "import math\n",
    "import matplotlib.pyplot as plt\n",
    "import numpy as np\n",
    "import sys\n",
    "sys.path.append(\"..\") # adds higher directory to python modules path\n",
    "\n",
    "from LoaderPACK.Unet_leaky import Unet_leaky\n",
    "from LoaderPACK.Loader import load_whole_data, load_shuffle_5_min\n",
    "import torch\n"
   ]
  },
  {
   "cell_type": "code",
   "execution_count": 2,
   "id": "2384f9f8-f577-411a-a425-5eccc5a8fd49",
   "metadata": {
    "tags": []
   },
   "outputs": [],
   "source": [
    "trainload = load_whole_data(path = \"C:/Users/Marc/Desktop/model_data/train_model_data\", ind = [i for i in range(1, 195 + 1)], series_dict = 'train_series_length.pickle')\n",
    "batch_size = 1\n",
    "\n",
    "# Set up the dataloaders:\n",
    "\n",
    "trainloader = torch.utils.data.DataLoader(trainload,\n",
    "                                          batch_size=1,\n",
    "                                          shuffle=False,\n",
    "                                          num_workers=0)\n",
    "\n",
    "#for file in trainloader:\n",
    "#    print(file)"
   ]
  },
  {
   "cell_type": "code",
   "execution_count": 16,
   "id": "ea277f68-61ad-4260-bb02-ce1917838f30",
   "metadata": {},
   "outputs": [],
   "source": [
    "import pickle"
   ]
  },
  {
   "cell_type": "code",
   "execution_count": 17,
   "id": "7118d963-a133-4116-8392-d085c043db89",
   "metadata": {},
   "outputs": [],
   "source": [
    "with open('C:/Users/Marc/Desktop/model_data/train_model_data/train_series_length.pickle', 'rb') as handle:\n",
    "    s_dict = pickle.load(handle)"
   ]
  },
  {
   "cell_type": "code",
   "execution_count": 18,
   "id": "07293cdb-5c0a-4e62-9857-76e41395f682",
   "metadata": {},
   "outputs": [
    {
     "data": {
      "text/plain": [
       "{1: [290000, 1, 16, torch.Size([4, 290000])],\n",
       " 2: [565400, 3, 22, torch.Size([22, 120000])],\n",
       " 3: [565400, 3, 20, torch.Size([10, 143800])],\n",
       " 4: [565400, 3, 36, torch.Size([22, 301600])],\n",
       " 5: [285800, 1, 88, torch.Size([22, 285800])],\n",
       " 6: [241400, 1, 15, torch.Size([5, 241400])],\n",
       " 7: [280600, 1, 88, torch.Size([22, 280600])],\n",
       " 8: [561400, 3, 22, torch.Size([22, 120200])],\n",
       " 9: [561400, 3, 36, torch.Size([22, 189000])],\n",
       " 10: [561400, 3, 36, torch.Size([22, 252200])],\n",
       " 11: [250200, 1, 88, torch.Size([22, 250200])],\n",
       " 12: [159800, 1, 44, torch.Size([22, 159800])],\n",
       " 13: [120200, 1, 22, torch.Size([22, 120200])],\n",
       " 14: [270800, 1, 88, torch.Size([22, 270800])],\n",
       " 15: [494800, 2, 55, torch.Size([22, 257400])],\n",
       " 16: [494800, 2, 55, torch.Size([22, 237400])],\n",
       " 17: [238200, 1, 66, torch.Size([22, 238200])],\n",
       " 18: [298200, 1, 88, torch.Size([22, 298200])],\n",
       " 19: [534400, 2, 55, torch.Size([22, 243200])],\n",
       " 20: [534400, 2, 55, torch.Size([22, 291200])],\n",
       " 21: [243400, 1, 66, torch.Size([22, 243400])],\n",
       " 22: [241400, 1, 66, torch.Size([22, 241400])],\n",
       " 23: [331000, 2, 55, torch.Size([22, 257200])],\n",
       " 24: [331000, 2, 22, torch.Size([22, 73800])],\n",
       " 25: [282000, 1, 88, torch.Size([22, 282000])],\n",
       " 26: [1032400, 2, 55, torch.Size([22, 719000])],\n",
       " 27: [1032400, 2, 55, torch.Size([22, 313400])],\n",
       " 28: [238200, 1, 63, torch.Size([21, 238200])],\n",
       " 29: [239600, 1, 57, torch.Size([19, 239600])],\n",
       " 30: [825000, 5, 22, torch.Size([22, 344200])],\n",
       " 31: [825000, 5, 20, torch.Size([20, 120200])],\n",
       " 32: [825000, 5, 22, torch.Size([22, 120200])],\n",
       " 33: [825000, 5, 20, torch.Size([20, 120200])],\n",
       " 34: [825000, 5, 2, torch.Size([2, 120200])],\n",
       " 35: [236400, 1, 24, torch.Size([8, 236400])],\n",
       " 36: [974200, 4, 27, torch.Size([22, 242200])],\n",
       " 37: [974200, 4, 27, torch.Size([22, 246400])],\n",
       " 38: [974200, 4, 27, torch.Size([22, 241800])],\n",
       " 39: [974200, 4, 27, torch.Size([22, 243800])],\n",
       " 40: [1079000, 5, 22, torch.Size([22, 120200])],\n",
       " 41: [1079000, 5, 22, torch.Size([22, 120200])],\n",
       " 42: [1079000, 5, 10, torch.Size([10, 120200])],\n",
       " 43: [1079000, 5, 22, torch.Size([22, 240600])],\n",
       " 44: [1079000, 5, 22, torch.Size([22, 477800])],\n",
       " 45: [251000, 1, 88, torch.Size([22, 251000])],\n",
       " 46: [241000, 1, 66, torch.Size([22, 241000])],\n",
       " 47: [235600, 1, 66, torch.Size([22, 235600])],\n",
       " 48: [243000, 1, 48, torch.Size([16, 243000])],\n",
       " 49: [766000, 3, 36, torch.Size([19, 243000])],\n",
       " 50: [766000, 3, 36, torch.Size([22, 250800])],\n",
       " 51: [766000, 3, 36, torch.Size([22, 272200])],\n",
       " 52: [240200, 1, 66, torch.Size([22, 240200])],\n",
       " 53: [236000, 1, 66, torch.Size([22, 236000])],\n",
       " 54: [241600, 1, 66, torch.Size([22, 241600])],\n",
       " 55: [531600, 2, 55, torch.Size([21, 235400])],\n",
       " 56: [531600, 2, 55, torch.Size([22, 296200])],\n",
       " 57: [241600, 1, 66, torch.Size([22, 241600])],\n",
       " 58: [255000, 1, 76, torch.Size([19, 255000])],\n",
       " 59: [230400, 1, 60, torch.Size([20, 230400])],\n",
       " 60: [256800, 1, 88, torch.Size([22, 256800])],\n",
       " 61: [274200, 1, 72, torch.Size([18, 274200])],\n",
       " 62: [360800, 1, 85, torch.Size([17, 360800])],\n",
       " 63: [143000, 1, 44, torch.Size([22, 143000])],\n",
       " 64: [249200, 1, 88, torch.Size([22, 249200])],\n",
       " 65: [238200, 1, 54, torch.Size([18, 238200])],\n",
       " 66: [252600, 1, 88, torch.Size([22, 252600])],\n",
       " 67: [244400, 1, 60, torch.Size([20, 244400])],\n",
       " 68: [276800, 1, 88, torch.Size([22, 276800])],\n",
       " 69: [287400, 1, 88, torch.Size([22, 287400])],\n",
       " 70: [1673800, 2, 22, torch.Size([22, 120200])],\n",
       " 71: [1673800, 2, 55, torch.Size([22, 1553600])],\n",
       " 72: [120200, 1, 22, torch.Size([22, 120200])],\n",
       " 73: [480800, 4, 22, torch.Size([22, 120200])],\n",
       " 74: [480800, 4, 22, torch.Size([22, 120200])],\n",
       " 75: [480800, 4, 22, torch.Size([22, 120200])],\n",
       " 76: [480800, 4, 22, torch.Size([22, 120200])],\n",
       " 77: [242000, 1, 66, torch.Size([22, 242000])],\n",
       " 78: [120200, 1, 22, torch.Size([22, 120200])],\n",
       " 79: [1342000, 7, 15, torch.Size([20, 334200])],\n",
       " 80: [1342000, 7, 15, torch.Size([22, 224200])],\n",
       " 81: [1342000, 7, 15, torch.Size([22, 192000])],\n",
       " 82: [1342000, 7, 15, torch.Size([22, 120200])],\n",
       " 83: [1342000, 7, 15, torch.Size([22, 120200])],\n",
       " 84: [1342000, 7, 11, torch.Size([11, 120200])],\n",
       " 85: [1342000, 7, 15, torch.Size([22, 231000])],\n",
       " 86: [120200, 1, 22, torch.Size([22, 120200])],\n",
       " 87: [239400, 1, 66, torch.Size([22, 239400])],\n",
       " 88: [241200, 1, 66, torch.Size([22, 241200])],\n",
       " 89: [252400, 1, 88, torch.Size([22, 252400])],\n",
       " 90: [240800, 1, 57, torch.Size([19, 240800])],\n",
       " 91: [240600, 1, 66, torch.Size([22, 240600])],\n",
       " 92: [241600, 1, 66, torch.Size([22, 241600])],\n",
       " 93: [241600, 1, 63, torch.Size([21, 241600])],\n",
       " 94: [251400, 1, 36, torch.Size([9, 251400])],\n",
       " 95: [249600, 1, 88, torch.Size([22, 249600])],\n",
       " 96: [260800, 1, 88, torch.Size([22, 260800])],\n",
       " 97: [276800, 1, 84, torch.Size([21, 276800])],\n",
       " 98: [285200, 1, 88, torch.Size([22, 285200])],\n",
       " 99: [741200, 4, 27, torch.Size([22, 255400])],\n",
       " 100: [741200, 4, 27, torch.Size([22, 244000])],\n",
       " 101: [741200, 4, 16, torch.Size([16, 120200])],\n",
       " 102: [741200, 4, 22, torch.Size([22, 121600])],\n",
       " 103: [251600, 1, 88, torch.Size([22, 251600])],\n",
       " 104: [240200, 1, 66, torch.Size([22, 240200])],\n",
       " 105: [278400, 1, 72, torch.Size([18, 278400])],\n",
       " 106: [253000, 1, 88, torch.Size([22, 253000])],\n",
       " 107: [342400, 1, 110, torch.Size([22, 342400])],\n",
       " 108: [367400, 2, 22, torch.Size([22, 80400])],\n",
       " 109: [367400, 2, 55, torch.Size([22, 287000])],\n",
       " 110: [284200, 1, 88, torch.Size([22, 284200])],\n",
       " 111: [245400, 1, 66, torch.Size([22, 245400])],\n",
       " 112: [931600, 3, 36, torch.Size([22, 211200])],\n",
       " 113: [931600, 3, 36, torch.Size([22, 472400])],\n",
       " 114: [931600, 3, 36, torch.Size([22, 248000])],\n",
       " 115: [244200, 1, 45, torch.Size([15, 244200])],\n",
       " 116: [120200, 1, 22, torch.Size([22, 120200])],\n",
       " 117: [242200, 1, 57, torch.Size([19, 242200])],\n",
       " 118: [297800, 1, 88, torch.Size([22, 297800])],\n",
       " 119: [298400, 1, 88, torch.Size([22, 298400])],\n",
       " 120: [193200, 1, 63, torch.Size([21, 193200])],\n",
       " 121: [268000, 1, 88, torch.Size([22, 268000])],\n",
       " 122: [854600, 6, 18, torch.Size([22, 121000])],\n",
       " 123: [854600, 6, 18, torch.Size([20, 120200])],\n",
       " 124: [854600, 6, 18, torch.Size([22, 120200])],\n",
       " 125: [854600, 6, 18, torch.Size([22, 120200])],\n",
       " 126: [854600, 6, 18, torch.Size([22, 120200])],\n",
       " 127: [854600, 6, 18, torch.Size([22, 252800])],\n",
       " 128: [240600, 1, 24, torch.Size([8, 240600])],\n",
       " 129: [240600, 1, 66, torch.Size([22, 240600])],\n",
       " 130: [265400, 1, 64, torch.Size([16, 265400])],\n",
       " 131: [242400, 1, 66, torch.Size([22, 242400])],\n",
       " 132: [317800, 1, 110, torch.Size([22, 317800])],\n",
       " 133: [199400, 1, 42, torch.Size([14, 199400])],\n",
       " 134: [276400, 1, 88, torch.Size([22, 276400])],\n",
       " 135: [385000, 1, 110, torch.Size([20, 385000])],\n",
       " 136: [267200, 1, 88, torch.Size([22, 267200])],\n",
       " 137: [246400, 1, 88, torch.Size([22, 246400])],\n",
       " 138: [344200, 1, 110, torch.Size([22, 344200])],\n",
       " 139: [600000, 1, 110, torch.Size([22, 600000])],\n",
       " 140: [264600, 1, 88, torch.Size([22, 264600])],\n",
       " 141: [273600, 1, 88, torch.Size([22, 273600])],\n",
       " 142: [246200, 1, 64, torch.Size([16, 246200])],\n",
       " 143: [263600, 1, 76, torch.Size([19, 263600])],\n",
       " 144: [196600, 1, 66, torch.Size([22, 196600])],\n",
       " 145: [572400, 2, 55, torch.Size([22, 272200])],\n",
       " 146: [572400, 2, 55, torch.Size([22, 300200])],\n",
       " 147: [254000, 1, 36, torch.Size([9, 254000])],\n",
       " 148: [256400, 1, 88, torch.Size([22, 256400])],\n",
       " 149: [252200, 1, 88, torch.Size([22, 252200])],\n",
       " 150: [252200, 1, 88, torch.Size([22, 252200])],\n",
       " 151: [265600, 1, 88, torch.Size([22, 265600])],\n",
       " 152: [255200, 1, 88, torch.Size([22, 255200])],\n",
       " 153: [537000, 2, 44, torch.Size([22, 137400])],\n",
       " 154: [537000, 2, 55, torch.Size([22, 399600])],\n",
       " 155: [210400, 1, 66, torch.Size([22, 210400])],\n",
       " 156: [256000, 1, 88, torch.Size([22, 256000])],\n",
       " 157: [248600, 1, 72, torch.Size([18, 248600])],\n",
       " 158: [266200, 1, 88, torch.Size([22, 266200])],\n",
       " 159: [293200, 1, 88, torch.Size([22, 293200])],\n",
       " 160: [300000, 1, 88, torch.Size([22, 300000])],\n",
       " 161: [471600, 1, 110, torch.Size([22, 471600])],\n",
       " 162: [313600, 1, 110, torch.Size([22, 313600])],\n",
       " 163: [267200, 1, 88, torch.Size([22, 267200])],\n",
       " 164: [271400, 1, 88, torch.Size([22, 271400])],\n",
       " 165: [120200, 1, 22, torch.Size([22, 120200])],\n",
       " 166: [299600, 1, 88, torch.Size([22, 299600])],\n",
       " 167: [252600, 1, 88, torch.Size([22, 252600])],\n",
       " 168: [247800, 1, 88, torch.Size([22, 247800])],\n",
       " 169: [1057200, 6, 18, torch.Size([22, 304200])],\n",
       " 170: [1057200, 6, 18, torch.Size([22, 206600])],\n",
       " 171: [1057200, 6, 1, torch.Size([1, 120200])],\n",
       " 172: [1057200, 6, 18, torch.Size([14, 185800])],\n",
       " 173: [1057200, 6, 17, torch.Size([17, 120200])],\n",
       " 174: [1057200, 6, 18, torch.Size([22, 120200])],\n",
       " 175: [120200, 1, 22, torch.Size([22, 120200])],\n",
       " 176: [480600, 1, 110, torch.Size([22, 480600])],\n",
       " 177: [409400, 1, 110, torch.Size([22, 409400])],\n",
       " 178: [311800, 1, 110, torch.Size([22, 311800])],\n",
       " 179: [375800, 1, 110, torch.Size([22, 375800])],\n",
       " 180: [213800, 1, 66, torch.Size([22, 213800])],\n",
       " 181: [261600, 1, 88, torch.Size([22, 261600])],\n",
       " 182: [305000, 1, 88, torch.Size([22, 305000])],\n",
       " 183: [120200, 1, 13, torch.Size([13, 120200])],\n",
       " 184: [248400, 1, 88, torch.Size([22, 248400])],\n",
       " 185: [242200, 1, 66, torch.Size([22, 242200])],\n",
       " 186: [296400, 1, 88, torch.Size([22, 296400])],\n",
       " 187: [364200, 1, 110, torch.Size([22, 364200])],\n",
       " 188: [241600, 1, 66, torch.Size([22, 241600])],\n",
       " 189: [260800, 1, 88, torch.Size([22, 260800])],\n",
       " 190: [253000, 1, 88, torch.Size([22, 253000])],\n",
       " 191: [240800, 1, 60, torch.Size([20, 240800])],\n",
       " 192: [254800, 1, 88, torch.Size([22, 254800])],\n",
       " 193: [70800, 1, 20, torch.Size([20, 70800])],\n",
       " 194: [2060000, 1, 110, torch.Size([20, 2060000])],\n",
       " 195: [379600, 1, 110, torch.Size([20, 379600])]}"
      ]
     },
     "execution_count": 18,
     "metadata": {},
     "output_type": "execute_result"
    }
   ],
   "source": [
    "s_dict"
   ]
  },
  {
   "cell_type": "code",
   "execution_count": 5,
   "id": "fbbe79aa-9fcc-4b6e-a97c-eb45daa62114",
   "metadata": {},
   "outputs": [],
   "source": [
    "import matplotlib.pyplot as plt"
   ]
  },
  {
   "cell_type": "code",
   "execution_count": 6,
   "id": "803e27c3-49c3-48ae-bfc0-4cc7e245b511",
   "metadata": {},
   "outputs": [],
   "source": [
    "ls = []\n",
    "\n",
    "for key in s_dict.keys():\n",
    "    ls.append(s_dict[key][2])"
   ]
  },
  {
   "cell_type": "code",
   "execution_count": 7,
   "id": "8f4645b1-d61a-4a3c-a1cc-f383ea286430",
   "metadata": {},
   "outputs": [],
   "source": [
    "pp = np.array(ls)/sum(ls)"
   ]
  },
  {
   "cell_type": "code",
   "execution_count": 8,
   "id": "80ba4340-119f-40b6-afe7-a345fa8e38ac",
   "metadata": {},
   "outputs": [],
   "source": [
    "jov = np.random.choice(195, 100000, p = pp)"
   ]
  },
  {
   "cell_type": "code",
   "execution_count": 9,
   "id": "da51d901-de49-45fc-a1c9-09b496c2ba61",
   "metadata": {},
   "outputs": [
    {
     "data": {
      "text/plain": [
       "(array([ 129.,  189.,  164.,  340.,  761.,  136.,  820.,  192.,  331.,\n",
       "         291.,  798.,  393.,  190.,  808.,  467.,  494.,  602.,  781.,\n",
       "         532.,  493.,  610.,  598.,  464.,  181.,  832.,  518.,  493.,\n",
       "         582.,  484.,  210.,  193.,  207.,  150.,   17.,  236.,  273.,\n",
       "         223.,  237.,  245.,  200.,  214.,   86.,  192.,  167.,  791.,\n",
       "         602.,  609.,  424.,  321.,  321.,  334.,  616.,  593.,  627.,\n",
       "         529.,  451.,  602.,  670.,  557.,  785.,  677.,  743.,  389.,\n",
       "         795.,  449.,  781.,  534.,  814.,  779.,  199.,  506.,  188.,\n",
       "         203.,  182.,  216.,  215.,  572.,  186.,  149.,  136.,  137.,\n",
       "         158.,  122.,   98.,  126.,  196.,  542.,  557.,  758.,  513.,\n",
       "         599.,  606.,  560.,  306.,  792.,  790.,  740.,  809.,  245.,\n",
       "         249.,  155.,  229.,  771.,  635.,  675.,  784.,  939.,  206.,\n",
       "         486.,  797.,  570.,  377.,  348.,  333.,  409.,  191.,  520.,\n",
       "         826.,  829.,  590.,  780.,  163.,  169.,  148.,  180.,  168.,\n",
       "         165.,  220.,  528.,  578.,  581., 1013.,  348.,  823.,  956.,\n",
       "         760.,  840.,  998.,  993.,  774.,  732.,  537.,  676.,  560.,\n",
       "         519.,  527.,  330.,  753.,  790.,  776.,  807.,  777.,  414.,\n",
       "         511.,  573.,  797.,  682.,  775.,  767.,  793., 1008., 1021.,\n",
       "         775.,  801.,  182.,  793.,  762.,  783.,  159.,  179.,   16.,\n",
       "         157.,  136.,  137.,  200., 1025.,  983.,  987.,  925.,  627.,\n",
       "         753.,  796.,  123.,  734.,  570.,  792., 1015.,  573.,  788.,\n",
       "         778.,  521.,  839.,  186.,  941., 1013.]),\n",
       " array([  0.        ,   0.99487179,   1.98974359,   2.98461538,\n",
       "          3.97948718,   4.97435897,   5.96923077,   6.96410256,\n",
       "          7.95897436,   8.95384615,   9.94871795,  10.94358974,\n",
       "         11.93846154,  12.93333333,  13.92820513,  14.92307692,\n",
       "         15.91794872,  16.91282051,  17.90769231,  18.9025641 ,\n",
       "         19.8974359 ,  20.89230769,  21.88717949,  22.88205128,\n",
       "         23.87692308,  24.87179487,  25.86666667,  26.86153846,\n",
       "         27.85641026,  28.85128205,  29.84615385,  30.84102564,\n",
       "         31.83589744,  32.83076923,  33.82564103,  34.82051282,\n",
       "         35.81538462,  36.81025641,  37.80512821,  38.8       ,\n",
       "         39.79487179,  40.78974359,  41.78461538,  42.77948718,\n",
       "         43.77435897,  44.76923077,  45.76410256,  46.75897436,\n",
       "         47.75384615,  48.74871795,  49.74358974,  50.73846154,\n",
       "         51.73333333,  52.72820513,  53.72307692,  54.71794872,\n",
       "         55.71282051,  56.70769231,  57.7025641 ,  58.6974359 ,\n",
       "         59.69230769,  60.68717949,  61.68205128,  62.67692308,\n",
       "         63.67179487,  64.66666667,  65.66153846,  66.65641026,\n",
       "         67.65128205,  68.64615385,  69.64102564,  70.63589744,\n",
       "         71.63076923,  72.62564103,  73.62051282,  74.61538462,\n",
       "         75.61025641,  76.60512821,  77.6       ,  78.59487179,\n",
       "         79.58974359,  80.58461538,  81.57948718,  82.57435897,\n",
       "         83.56923077,  84.56410256,  85.55897436,  86.55384615,\n",
       "         87.54871795,  88.54358974,  89.53846154,  90.53333333,\n",
       "         91.52820513,  92.52307692,  93.51794872,  94.51282051,\n",
       "         95.50769231,  96.5025641 ,  97.4974359 ,  98.49230769,\n",
       "         99.48717949, 100.48205128, 101.47692308, 102.47179487,\n",
       "        103.46666667, 104.46153846, 105.45641026, 106.45128205,\n",
       "        107.44615385, 108.44102564, 109.43589744, 110.43076923,\n",
       "        111.42564103, 112.42051282, 113.41538462, 114.41025641,\n",
       "        115.40512821, 116.4       , 117.39487179, 118.38974359,\n",
       "        119.38461538, 120.37948718, 121.37435897, 122.36923077,\n",
       "        123.36410256, 124.35897436, 125.35384615, 126.34871795,\n",
       "        127.34358974, 128.33846154, 129.33333333, 130.32820513,\n",
       "        131.32307692, 132.31794872, 133.31282051, 134.30769231,\n",
       "        135.3025641 , 136.2974359 , 137.29230769, 138.28717949,\n",
       "        139.28205128, 140.27692308, 141.27179487, 142.26666667,\n",
       "        143.26153846, 144.25641026, 145.25128205, 146.24615385,\n",
       "        147.24102564, 148.23589744, 149.23076923, 150.22564103,\n",
       "        151.22051282, 152.21538462, 153.21025641, 154.20512821,\n",
       "        155.2       , 156.19487179, 157.18974359, 158.18461538,\n",
       "        159.17948718, 160.17435897, 161.16923077, 162.16410256,\n",
       "        163.15897436, 164.15384615, 165.14871795, 166.14358974,\n",
       "        167.13846154, 168.13333333, 169.12820513, 170.12307692,\n",
       "        171.11794872, 172.11282051, 173.10769231, 174.1025641 ,\n",
       "        175.0974359 , 176.09230769, 177.08717949, 178.08205128,\n",
       "        179.07692308, 180.07179487, 181.06666667, 182.06153846,\n",
       "        183.05641026, 184.05128205, 185.04615385, 186.04102564,\n",
       "        187.03589744, 188.03076923, 189.02564103, 190.02051282,\n",
       "        191.01538462, 192.01025641, 193.00512821, 194.        ]),\n",
       " <BarContainer object of 195 artists>)"
      ]
     },
     "execution_count": 9,
     "metadata": {},
     "output_type": "execute_result"
    },
    {
     "data": {
      "image/png": "[encoded data removed]",
      "text/plain": [
       "<Figure size 432x288 with 1 Axes>"
      ]
     },
     "metadata": {
      "needs_background": "light"
     },
     "output_type": "display_data"
    }
   ],
   "source": [
    "plt.hist(jov, bins = 195)"
   ]
  },
  {
   "cell_type": "code",
   "execution_count": 10,
   "id": "9d75f794-d79f-4d5b-a458-534b42019d68",
   "metadata": {},
   "outputs": [
    {
     "data": {
      "text/plain": [
       "array([1.43613679e-03, 1.97468809e-03, 1.79517099e-03, 3.23130778e-03,\n",
       "       7.89875236e-03, 1.34637824e-03, 7.89875236e-03, 1.97468809e-03,\n",
       "       3.23130778e-03, 3.23130778e-03, 7.89875236e-03, 3.94937618e-03,\n",
       "       1.97468809e-03, 7.89875236e-03, 4.93672022e-03, 4.93672022e-03,\n",
       "       5.92406427e-03, 7.89875236e-03, 4.93672022e-03, 4.93672022e-03,\n",
       "       5.92406427e-03, 5.92406427e-03, 4.93672022e-03, 1.97468809e-03,\n",
       "       7.89875236e-03, 4.93672022e-03, 4.93672022e-03, 5.65478862e-03,\n",
       "       5.11623732e-03, 1.97468809e-03, 1.79517099e-03, 1.97468809e-03,\n",
       "       1.79517099e-03, 1.79517099e-04, 2.15420519e-03, 2.42348084e-03,\n",
       "       2.42348084e-03, 2.42348084e-03, 2.42348084e-03, 1.97468809e-03,\n",
       "       1.97468809e-03, 8.97585495e-04, 1.97468809e-03, 1.97468809e-03,\n",
       "       7.89875236e-03, 5.92406427e-03, 5.92406427e-03, 4.30841038e-03,\n",
       "       3.23130778e-03, 3.23130778e-03, 3.23130778e-03, 5.92406427e-03,\n",
       "       5.92406427e-03, 5.92406427e-03, 4.93672022e-03, 4.93672022e-03,\n",
       "       5.92406427e-03, 6.82164976e-03, 5.38551297e-03, 7.89875236e-03,\n",
       "       6.46261556e-03, 7.62947671e-03, 3.94937618e-03, 7.89875236e-03,\n",
       "       4.84696167e-03, 7.89875236e-03, 5.38551297e-03, 7.89875236e-03,\n",
       "       7.89875236e-03, 1.97468809e-03, 4.93672022e-03, 1.97468809e-03,\n",
       "       1.97468809e-03, 1.97468809e-03, 1.97468809e-03, 1.97468809e-03,\n",
       "       5.92406427e-03, 1.97468809e-03, 1.34637824e-03, 1.34637824e-03,\n",
       "       1.34637824e-03, 1.34637824e-03, 1.34637824e-03, 9.87344045e-04,\n",
       "       1.34637824e-03, 1.97468809e-03, 5.92406427e-03, 5.92406427e-03,\n",
       "       7.89875236e-03, 5.11623732e-03, 5.92406427e-03, 5.92406427e-03,\n",
       "       5.65478862e-03, 3.23130778e-03, 7.89875236e-03, 7.89875236e-03,\n",
       "       7.53971816e-03, 7.89875236e-03, 2.42348084e-03, 2.42348084e-03,\n",
       "       1.43613679e-03, 1.97468809e-03, 7.89875236e-03, 5.92406427e-03,\n",
       "       6.46261556e-03, 7.89875236e-03, 9.87344045e-03, 1.97468809e-03,\n",
       "       4.93672022e-03, 7.89875236e-03, 5.92406427e-03, 3.23130778e-03,\n",
       "       3.23130778e-03, 3.23130778e-03, 4.03913473e-03, 1.97468809e-03,\n",
       "       5.11623732e-03, 7.89875236e-03, 7.89875236e-03, 5.65478862e-03,\n",
       "       7.89875236e-03, 1.61565389e-03, 1.61565389e-03, 1.61565389e-03,\n",
       "       1.61565389e-03, 1.61565389e-03, 1.61565389e-03, 2.15420519e-03,\n",
       "       5.92406427e-03, 5.74454717e-03, 5.92406427e-03, 9.87344045e-03,\n",
       "       3.76985908e-03, 7.89875236e-03, 9.87344045e-03, 7.89875236e-03,\n",
       "       7.89875236e-03, 9.87344045e-03, 9.87344045e-03, 7.89875236e-03,\n",
       "       7.89875236e-03, 5.74454717e-03, 6.82164976e-03, 5.92406427e-03,\n",
       "       4.93672022e-03, 4.93672022e-03, 3.23130778e-03, 7.89875236e-03,\n",
       "       7.89875236e-03, 7.89875236e-03, 7.89875236e-03, 7.89875236e-03,\n",
       "       3.94937618e-03, 4.93672022e-03, 5.92406427e-03, 7.89875236e-03,\n",
       "       6.46261556e-03, 7.89875236e-03, 7.89875236e-03, 7.89875236e-03,\n",
       "       9.87344045e-03, 9.87344045e-03, 7.89875236e-03, 7.89875236e-03,\n",
       "       1.97468809e-03, 7.89875236e-03, 7.89875236e-03, 7.89875236e-03,\n",
       "       1.61565389e-03, 1.61565389e-03, 8.97585495e-05, 1.61565389e-03,\n",
       "       1.52589534e-03, 1.61565389e-03, 1.97468809e-03, 9.87344045e-03,\n",
       "       9.87344045e-03, 9.87344045e-03, 9.87344045e-03, 5.92406427e-03,\n",
       "       7.89875236e-03, 7.89875236e-03, 1.16686114e-03, 7.89875236e-03,\n",
       "       5.92406427e-03, 7.89875236e-03, 9.87344045e-03, 5.92406427e-03,\n",
       "       7.89875236e-03, 7.89875236e-03, 5.38551297e-03, 7.89875236e-03,\n",
       "       1.79517099e-03, 9.87344045e-03, 9.87344045e-03])"
      ]
     },
     "execution_count": 10,
     "metadata": {},
     "output_type": "execute_result"
    }
   ],
   "source": [
    "pp"
   ]
  },
  {
   "cell_type": "code",
   "execution_count": 11,
   "id": "4e150b59-86ac-4a1d-9d2c-e9e02f209c28",
   "metadata": {},
   "outputs": [
    {
     "data": {
      "text/plain": [
       "(array([ 2.,  0.,  2.,  8., 13., 27.,  2.,  6.,  0., 11.,  0.,  4.,  2.,\n",
       "         0., 15.,  3.,  3., 28.,  0.,  3.,  2.,  0.,  1., 49.,  0.,  0.,\n",
       "         0.,  0.,  0., 14.]),\n",
       " array([  1.        ,   4.63333333,   8.26666667,  11.9       ,\n",
       "         15.53333333,  19.16666667,  22.8       ,  26.43333333,\n",
       "         30.06666667,  33.7       ,  37.33333333,  40.96666667,\n",
       "         44.6       ,  48.23333333,  51.86666667,  55.5       ,\n",
       "         59.13333333,  62.76666667,  66.4       ,  70.03333333,\n",
       "         73.66666667,  77.3       ,  80.93333333,  84.56666667,\n",
       "         88.2       ,  91.83333333,  95.46666667,  99.1       ,\n",
       "        102.73333333, 106.36666667, 110.        ]),\n",
       " <BarContainer object of 30 artists>)"
      ]
     },
     "execution_count": 11,
     "metadata": {},
     "output_type": "execute_result"
    },
    {
     "data": {
      "image/png": "[encoded data removed]",
      "text/plain": [
       "<Figure size 432x288 with 1 Axes>"
      ]
     },
     "metadata": {
      "needs_background": "light"
     },
     "output_type": "display_data"
    }
   ],
   "source": [
    "plt.hist(np.array(list(s_dict.values()))[...,2], bins = 30)"
   ]
  },
  {
   "cell_type": "code",
   "execution_count": null,
   "id": "9115259d-bbbc-41a9-bf1f-3a499c2fc448",
   "metadata": {},
   "outputs": [],
   "source": []
  },
  {
   "cell_type": "code",
   "execution_count": 14,
   "id": "bb2c5fe1-42d8-459c-8dff-1d8255aa1d99",
   "metadata": {},
   "outputs": [
    {
     "data": {
      "text/plain": [
       "memmap([[[0., 0., 0., ..., 0., 0., 0.],\n",
       "         [0., 0., 0., ..., 0., 0., 0.],\n",
       "         [0., 0., 0., ..., 0., 0., 0.],\n",
       "         ...,\n",
       "         [0., 0., 0., ..., 0., 0., 0.],\n",
       "         [0., 0., 0., ..., 0., 0., 0.],\n",
       "         [0., 0., 0., ..., 0., 0., 0.]],\n",
       "\n",
       "        [[0., 0., 0., ..., 0., 0., 0.],\n",
       "         [0., 0., 0., ..., 0., 0., 0.],\n",
       "         [0., 0., 0., ..., 0., 0., 0.],\n",
       "         ...,\n",
       "         [0., 0., 0., ..., 0., 0., 0.],\n",
       "         [0., 0., 0., ..., 0., 0., 0.],\n",
       "         [0., 0., 0., ..., 0., 0., 0.]],\n",
       "\n",
       "        [[0., 0., 0., ..., 0., 0., 0.],\n",
       "         [0., 0., 0., ..., 0., 0., 0.],\n",
       "         [0., 0., 0., ..., 0., 0., 0.],\n",
       "         ...,\n",
       "         [0., 0., 0., ..., 0., 0., 0.],\n",
       "         [0., 0., 0., ..., 0., 0., 0.],\n",
       "         [0., 0., 0., ..., 0., 0., 0.]],\n",
       "\n",
       "        ...,\n",
       "\n",
       "        [[0., 0., 0., ..., 0., 0., 0.],\n",
       "         [0., 0., 0., ..., 0., 0., 0.],\n",
       "         [0., 0., 0., ..., 0., 0., 0.],\n",
       "         ...,\n",
       "         [0., 0., 0., ..., 0., 0., 0.],\n",
       "         [0., 0., 0., ..., 0., 0., 0.],\n",
       "         [0., 0., 0., ..., 0., 0., 0.]],\n",
       "\n",
       "        [[0., 0., 0., ..., 0., 0., 0.],\n",
       "         [0., 0., 0., ..., 0., 0., 0.],\n",
       "         [0., 0., 0., ..., 0., 0., 0.],\n",
       "         ...,\n",
       "         [0., 0., 0., ..., 0., 0., 0.],\n",
       "         [0., 0., 0., ..., 0., 0., 0.],\n",
       "         [0., 0., 0., ..., 0., 0., 0.]],\n",
       "\n",
       "        [[0., 0., 0., ..., 0., 0., 0.],\n",
       "         [0., 0., 0., ..., 0., 0., 0.],\n",
       "         [0., 0., 0., ..., 0., 0., 0.],\n",
       "         ...,\n",
       "         [0., 0., 0., ..., 0., 0., 0.],\n",
       "         [0., 0., 0., ..., 0., 0., 0.],\n",
       "         [0., 0., 0., ..., 0., 0., 0.]]], dtype=float32)"
      ]
     },
     "execution_count": 14,
     "metadata": {},
     "output_type": "execute_result"
    }
   ],
   "source": [
    "from tempfile import mkdtemp\n",
    "import os.path as path\n",
    "filename = r\"C:\\Users\\Marc\\Documents\\GitHub\\Artefact-Rejection\\Testing loader\\newfile.dat\"\n",
    "#filename = path.join(mkdtemp(), 'newfile.dat')\n",
    "fp = np.memmap(filename, dtype='float32', mode='w+', shape=(195,22,2060000))\n",
    "fp"
   ]
  },
  {
   "cell_type": "code",
   "execution_count": 15,
   "id": "7ad45b89-70b3-4b06-9357-039ea354cc96",
   "metadata": {},
   "outputs": [
    {
     "data": {
      "text/plain": [
       "'C:\\\\Users\\\\Marc\\\\Documents\\\\GitHub\\\\Artefact-Rejection\\\\Testing loader\\\\newfile.dat'"
      ]
     },
     "execution_count": 15,
     "metadata": {},
     "output_type": "execute_result"
    }
   ],
   "source": [
    "filename"
   ]
  },
  {
   "cell_type": "code",
   "execution_count": null,
   "id": "1a094bd0-4196-4a05-ab73-2e39f66faf00",
   "metadata": {},
   "outputs": [],
   "source": []
  }
 ],
 "metadata": {
  "kernelspec": {
   "display_name": "Python 3 (ipykernel)",
   "language": "python",
   "name": "python3"
  },
  "language_info": {
   "codemirror_mode": {
    "name": "ipython",
    "version": 3
   },
   "file_extension": ".py",
   "mimetype": "text/x-python",
   "name": "python",
   "nbconvert_exporter": "python",
   "pygments_lexer": "ipython3",
   "version": "3.9.6"
  }
 },
 "nbformat": 4,
 "nbformat_minor": 5
}
