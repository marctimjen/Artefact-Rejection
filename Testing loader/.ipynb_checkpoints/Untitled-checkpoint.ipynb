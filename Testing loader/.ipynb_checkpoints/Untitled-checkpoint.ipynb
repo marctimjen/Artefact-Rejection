{
 "cells": [
  {
   "cell_type": "code",
   "execution_count": 30,
   "id": "052fb76e-8058-4cb6-bc47-5c091a118e72",
   "metadata": {},
   "outputs": [],
   "source": [
    "import csv\n",
    "import re\n",
    "import math\n",
    "import matplotlib.pyplot as plt\n",
    "import numpy as np\n",
    "import sys\n",
    "sys.path.append(\"..\") # adds higher directory to python modules path\n",
    "\n",
    "from LoaderPACK.Unet_leaky import Unet_leaky\n",
    "from LoaderPACK.Loader import load_whole_data, load_shuffle_5_min\n",
    "import torch\n"
   ]
  },
  {
   "cell_type": "code",
   "execution_count": 17,
   "id": "2384f9f8-f577-411a-a425-5eccc5a8fd49",
   "metadata": {
    "tags": []
   },
   "outputs": [
    {
     "ename": "NameError",
     "evalue": "name 'load_whole_data' is not defined",
     "output_type": "error",
     "traceback": [
      "\u001b[1;31m---------------------------------------------------------------------------\u001b[0m",
      "\u001b[1;31mNameError\u001b[0m                                 Traceback (most recent call last)",
      "Input \u001b[1;32mIn [17]\u001b[0m, in \u001b[0;36m<cell line: 1>\u001b[1;34m()\u001b[0m\n\u001b[1;32m----> 1\u001b[0m trainload \u001b[38;5;241m=\u001b[39m \u001b[43mload_whole_data\u001b[49m(path \u001b[38;5;241m=\u001b[39m \u001b[38;5;124m\"\u001b[39m\u001b[38;5;124mC:/Users/Marc/Desktop/model_data/train_model_data\u001b[39m\u001b[38;5;124m\"\u001b[39m, ind \u001b[38;5;241m=\u001b[39m [i \u001b[38;5;28;01mfor\u001b[39;00m i \u001b[38;5;129;01min\u001b[39;00m \u001b[38;5;28mrange\u001b[39m(\u001b[38;5;241m1\u001b[39m, \u001b[38;5;241m195\u001b[39m \u001b[38;5;241m+\u001b[39m \u001b[38;5;241m1\u001b[39m)], series_dict \u001b[38;5;241m=\u001b[39m \u001b[38;5;124m'\u001b[39m\u001b[38;5;124mtrain_series_length.pickle\u001b[39m\u001b[38;5;124m'\u001b[39m)\n\u001b[0;32m      2\u001b[0m batch_size \u001b[38;5;241m=\u001b[39m \u001b[38;5;241m1\u001b[39m\n\u001b[0;32m      4\u001b[0m \u001b[38;5;66;03m# Set up the dataloaders:\u001b[39;00m\n",
      "\u001b[1;31mNameError\u001b[0m: name 'load_whole_data' is not defined"
     ]
    }
   ],
   "source": [
    "trainload = load_whole_data(path = \"C:/Users/Marc/Desktop/model_data/train_model_data\", ind = [i for i in range(1, 195 + 1)], series_dict = 'train_series_length.pickle')\n",
    "batch_size = 1\n",
    "\n",
    "# Set up the dataloaders:\n",
    "\n",
    "trainloader = torch.utils.data.DataLoader(trainload,\n",
    "                                          batch_size=1,\n",
    "                                          shuffle=False,\n",
    "                                          num_workers=0)\n",
    "\n",
    "for file in trainloader:\n",
    "    print(file)"
   ]
  },
  {
   "cell_type": "code",
   "execution_count": 37,
   "id": "ea277f68-61ad-4260-bb02-ce1917838f30",
   "metadata": {},
   "outputs": [],
   "source": [
    "import pickle"
   ]
  },
  {
   "cell_type": "code",
   "execution_count": 38,
   "id": "7118d963-a133-4116-8392-d085c043db89",
   "metadata": {},
   "outputs": [],
   "source": [
    "with open('C:/Users/Marc/Desktop/model_data/train_model_data/train_series_length.pickle', 'rb') as handle:\n",
    "    s_dict = pickle.load(handle)"
   ]
  },
  {
   "cell_type": "code",
   "execution_count": 39,
   "id": "fbbe79aa-9fcc-4b6e-a97c-eb45daa62114",
   "metadata": {},
   "outputs": [],
   "source": [
    "import matplotlib.pyplot as plt"
   ]
  },
  {
   "cell_type": "code",
   "execution_count": null,
   "id": "803e27c3-49c3-48ae-bfc0-4cc7e245b511",
   "metadata": {},
   "outputs": [],
   "source": []
  },
  {
   "cell_type": "code",
   "execution_count": 40,
   "id": "4e150b59-86ac-4a1d-9d2c-e9e02f209c28",
   "metadata": {},
   "outputs": [
    {
     "data": {
      "text/plain": [
       "(array([ 2.,  0.,  0.,  8., 11., 14., 14.,  0.,  1., 13.,  0., 12.,  0.,\n",
       "         0., 15.,  1.,  4., 10.,  0.,  3.,  4.,  2.,  2., 62.,  0.,  0.,\n",
       "         0.,  1.,  0., 16.]),\n",
       " array([  2. ,   5.6,   9.2,  12.8,  16.4,  20. ,  23.6,  27.2,  30.8,\n",
       "         34.4,  38. ,  41.6,  45.2,  48.8,  52.4,  56. ,  59.6,  63.2,\n",
       "         66.8,  70.4,  74. ,  77.6,  81.2,  84.8,  88.4,  92. ,  95.6,\n",
       "         99.2, 102.8, 106.4, 110. ]),\n",
       " <BarContainer object of 30 artists>)"
      ]
     },
     "execution_count": 40,
     "metadata": {},
     "output_type": "execute_result"
    },
    {
     "data": {
      "image/png": "[encoded data removed]",
      "text/plain": [
       "<Figure size 432x288 with 1 Axes>"
      ]
     },
     "metadata": {
      "needs_background": "light"
     },
     "output_type": "display_data"
    }
   ],
   "source": [
    "plt.hist(np.array(list(s_dict.values()))[...,2], bins = 30)"
   ]
  },
  {
   "cell_type": "code",
   "execution_count": null,
   "id": "9115259d-bbbc-41a9-bf1f-3a499c2fc448",
   "metadata": {},
   "outputs": [],
   "source": []
  }
 ],
 "metadata": {
  "kernelspec": {
   "display_name": "Python 3 (ipykernel)",
   "language": "python",
   "name": "python3"
  },
  "language_info": {
   "codemirror_mode": {
    "name": "ipython",
    "version": 3
   },
   "file_extension": ".py",
   "mimetype": "text/x-python",
   "name": "python",
   "nbconvert_exporter": "python",
   "pygments_lexer": "ipython3",
   "version": "3.9.6"
  }
 },
 "nbformat": 4,
 "nbformat_minor": 5
}
