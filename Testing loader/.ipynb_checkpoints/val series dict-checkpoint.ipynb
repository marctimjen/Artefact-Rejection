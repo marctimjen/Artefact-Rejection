{
 "cells": [
  {
   "cell_type": "code",
   "execution_count": 4,
   "id": "66911aae-437a-4296-8921-0790ccbdbb4a",
   "metadata": {},
   "outputs": [],
   "source": [
    "import pickle\n",
    "import math"
   ]
  },
  {
   "cell_type": "code",
   "execution_count": 5,
   "id": "b979b0a8-2590-4259-ac8f-3b31866399a2",
   "metadata": {},
   "outputs": [],
   "source": [
    "with open(\"C:/Users/Bruger/Desktop\" + \"/\" + \"val_series_length.pickle\", 'rb') as handle:\n",
    "    s_dict = pickle.load(handle)"
   ]
  },
  {
   "cell_type": "code",
   "execution_count": 6,
   "id": "3a518cb8-a6c0-4809-98f9-1d5057c4a9ca",
   "metadata": {},
   "outputs": [
    {
     "name": "stdout",
     "output_type": "stream",
     "text": [
      "[537200, 2, 32, torch.Size([8, 288400])]\n",
      "[537200, 2, 55, torch.Size([22, 248800])]\n",
      "[247800, 1, 68, torch.Size([17, 247800])]\n",
      "[110000, 1, 22, torch.Size([22, 110000])]\n",
      "[240400, 1, 66, torch.Size([22, 240400])]\n",
      "[273800, 1, 88, torch.Size([22, 273800])]\n",
      "[236000, 1, 66, torch.Size([22, 236000])]\n",
      "[240600, 1, 66, torch.Size([22, 240600])]\n",
      "[246200, 1, 88, torch.Size([22, 246200])]\n",
      "[243000, 1, 66, torch.Size([22, 243000])]\n",
      "[249200, 1, 88, torch.Size([22, 249200])]\n",
      "[549200, 1, 110, torch.Size([22, 549200])]\n",
      "[238600, 1, 66, torch.Size([22, 238600])]\n",
      "[246200, 1, 44, torch.Size([11, 246200])]\n",
      "[242200, 1, 66, torch.Size([22, 242200])]\n",
      "[945800, 3, 36, torch.Size([22, 288400])]\n",
      "[945800, 3, 36, torch.Size([22, 414800])]\n",
      "[945800, 3, 36, torch.Size([12, 242600])]\n",
      "[234200, 1, 66, torch.Size([22, 234200])]\n",
      "[240800, 1, 57, torch.Size([19, 240800])]\n",
      "[239400, 1, 57, torch.Size([19, 239400])]\n",
      "[238200, 1, 66, torch.Size([22, 238200])]\n",
      "[243200, 1, 66, torch.Size([22, 243200])]\n",
      "[238000, 1, 66, torch.Size([22, 238000])]\n",
      "[446400, 2, 55, torch.Size([22, 249600])]\n",
      "[446400, 2, 55, torch.Size([22, 196800])]\n",
      "[575000, 2, 55, torch.Size([22, 351800])]\n",
      "[575000, 2, 55, torch.Size([21, 223200])]\n"
     ]
    }
   ],
   "source": [
    "for i in s_dict.values():\n",
    "    print(i)"
   ]
  },
  {
   "cell_type": "code",
   "execution_count": 18,
   "id": "e7123b2b-0fdf-4fb7-8918-874e80296d9b",
   "metadata": {},
   "outputs": [
    {
     "name": "stdout",
     "output_type": "stream",
     "text": [
      "40\n",
      "110\n",
      "85\n",
      "44\n",
      "110\n",
      "110\n",
      "88\n",
      "110\n",
      "110\n",
      "110\n",
      "110\n",
      "220\n",
      "88\n",
      "55\n",
      "110\n",
      "110\n",
      "154\n",
      "60\n",
      "88\n",
      "95\n",
      "76\n",
      "88\n",
      "110\n",
      "88\n",
      "110\n",
      "88\n",
      "132\n",
      "84\n"
     ]
    }
   ],
   "source": [
    "ss = 0\n",
    "for i in s_dict.values():\n",
    "    jj = i[3][0]*math.ceil(i[3][1] / (5*60*200))\n",
    "    print(jj)\n",
    "    ss += jj"
   ]
  },
  {
   "cell_type": "code",
   "execution_count": 19,
   "id": "36fd57f9-aeb1-4f68-9a2f-c64a8b7ccd83",
   "metadata": {},
   "outputs": [
    {
     "data": {
      "text/plain": [
       "2783"
      ]
     },
     "execution_count": 19,
     "metadata": {},
     "output_type": "execute_result"
    }
   ],
   "source": [
    "ss"
   ]
  },
  {
   "cell_type": "code",
   "execution_count": 15,
   "id": "0195f400-75d4-4ef7-af13-ef30139d501c",
   "metadata": {},
   "outputs": [
    {
     "data": {
      "text/plain": [
       "1120"
      ]
     },
     "execution_count": 15,
     "metadata": {},
     "output_type": "execute_result"
    }
   ],
   "source": [
    "math.ceil(288400 / (5*60*200))*8*28"
   ]
  },
  {
   "cell_type": "code",
   "execution_count": 28,
   "id": "8be1f876-b4c3-476b-9c50-75d9d374910d",
   "metadata": {},
   "outputs": [
    {
     "name": "stdout",
     "output_type": "stream",
     "text": [
      "6000\n",
      "66000\n",
      "126000\n",
      "186000\n",
      "246000\n",
      "306000\n",
      "366000\n",
      "426000\n",
      "486000\n",
      "546000\n",
      "606000\n"
     ]
    }
   ],
   "source": [
    "for i in range(30*200, 606001, 5*60*200):\n",
    "    print(i)"
   ]
  },
  {
   "cell_type": "code",
   "execution_count": 17,
   "id": "59cefcbd-026c-4d40-a4b0-2d9c5acdb00d",
   "metadata": {},
   "outputs": [
    {
     "data": {
      "text/plain": [
       "600000"
      ]
     },
     "execution_count": 17,
     "metadata": {},
     "output_type": "execute_result"
    }
   ],
   "source": [
    "(5*60*200)* 10"
   ]
  },
  {
   "cell_type": "code",
   "execution_count": 26,
   "id": "f28de958-e9ef-4b72-9410-6b8e8a38ea35",
   "metadata": {},
   "outputs": [
    {
     "data": {
      "text/plain": [
       "606000"
      ]
     },
     "execution_count": 26,
     "metadata": {},
     "output_type": "execute_result"
    }
   ],
   "source": [
    "546000 + (5*60*200)"
   ]
  },
  {
   "cell_type": "code",
   "execution_count": 29,
   "id": "732d22d4-722d-4c78-ade2-cca0b00af4cd",
   "metadata": {},
   "outputs": [],
   "source": [
    "import torch"
   ]
  },
  {
   "cell_type": "code",
   "execution_count": 36,
   "id": "f44f3066-422d-4358-8bb6-afa5256276f4",
   "metadata": {},
   "outputs": [],
   "source": [
    "l = torch.zeros(5*60*200)"
   ]
  },
  {
   "cell_type": "code",
   "execution_count": 37,
   "id": "c8a4d320-64c8-4dba-b658-0eb4d94b5381",
   "metadata": {},
   "outputs": [
    {
     "data": {
      "text/plain": [
       "tensor(0.)"
      ]
     },
     "execution_count": 37,
     "metadata": {},
     "output_type": "execute_result"
    }
   ],
   "source": [
    "l[10]"
   ]
  },
  {
   "cell_type": "code",
   "execution_count": 35,
   "id": "556bdbc2-4a20-427f-aeac-2eb264905e5e",
   "metadata": {},
   "outputs": [
    {
     "name": "stdout",
     "output_type": "stream",
     "text": [
      "0 tensor(100.)\n",
      "1 tensor(100.)\n",
      "2 tensor(100.)\n",
      "3 tensor(100.)\n",
      "4 tensor(100.)\n",
      "5 tensor(100.)\n",
      "6 tensor(100.)\n",
      "7 tensor(100.)\n",
      "8 tensor(100.)\n",
      "9 tensor(100.)\n",
      "10 tensor(0.)\n",
      "11 tensor(0.)\n",
      "12 tensor(0.)\n",
      "13 tensor(0.)\n",
      "14 tensor(0.)\n",
      "15 tensor(0.)\n",
      "16 tensor(0.)\n",
      "17 tensor(0.)\n",
      "18 tensor(0.)\n",
      "19 tensor(0.)\n"
     ]
    }
   ],
   "source": [
    "for i in range(20):\n",
    "    print(i, l[i])"
   ]
  },
  {
   "cell_type": "code",
   "execution_count": null,
   "id": "158547d9-1a2d-492e-9636-0367e14af943",
   "metadata": {},
   "outputs": [],
   "source": []
  }
 ],
 "metadata": {
  "kernelspec": {
   "display_name": "Python 3 (ipykernel)",
   "language": "python",
   "name": "python3"
  },
  "language_info": {
   "codemirror_mode": {
    "name": "ipython",
    "version": 3
   },
   "file_extension": ".py",
   "mimetype": "text/x-python",
   "name": "python",
   "nbconvert_exporter": "python",
   "pygments_lexer": "ipython3",
   "version": "3.9.6"
  }
 },
 "nbformat": 4,
 "nbformat_minor": 5
}
