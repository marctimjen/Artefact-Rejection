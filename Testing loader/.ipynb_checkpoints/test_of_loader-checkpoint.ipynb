{
 "cells": [
  {
   "cell_type": "code",
   "execution_count": 2,
   "id": "c93aaa85-9b12-4a1d-9de8-2c54e15dd2d2",
   "metadata": {},
   "outputs": [],
   "source": [
    "import csv\n",
    "import re\n",
    "import math\n",
    "import matplotlib.pyplot as plt\n",
    "import numpy as np\n",
    "import sys\n",
    "import pickle\n",
    "sys.path.append(\"..\") # adds higher directory to python modules path\n",
    "\n",
    "from LoaderPACK.Loader import load_whole_data, load_shuffle_5_min\n",
    "import torch"
   ]
  },
  {
   "cell_type": "markdown",
   "id": "002117df-a9e3-4662-8066-0dfeb1e5b29e",
   "metadata": {},
   "source": [
    "# Section 1: Visualize the eeg-recording and targets"
   ]
  },
  {
   "cell_type": "markdown",
   "id": "dd60c3ec-efeb-4c3f-a338-7a6820298ad9",
   "metadata": {},
   "source": [
    "In the following a whole eeg-recording will be loaded:"
   ]
  },
  {
   "cell_type": "code",
   "execution_count": 4,
   "id": "9fb6db6b-9316-4210-b218-2b5681b017bb",
   "metadata": {},
   "outputs": [
    {
     "name": "stdout",
     "output_type": "stream",
     "text": [
      "tensor([[ 0.0601, -3.4870,  ..., -0.6444, -0.1669],\n",
      "        [-0.9249,  5.6028,  ..., -0.4507, -0.1218],\n",
      "        [ 2.3317, -5.0536,  ...,  0.7382,  0.1175],\n",
      "        [ 0.9897, -7.1149,  ...,  1.3465,  0.1151]])\n",
      "\n",
      "tensor([[0., 0.,  ..., 0., 0.],\n",
      "        [0., 0.,  ..., 0., 0.],\n",
      "        [0., 0.,  ..., 0., 0.],\n",
      "        [0., 0.,  ..., 0., 0.]])\n",
      "\n",
      "torch.Size([4, 290000])\n"
     ]
    }
   ],
   "source": [
    "device = \"cpu\"\n",
    "\n",
    "# the load_whole_data laods a whole eeg-recording and targets into memory\n",
    "trainload = load_whole_data(input_path = \"C:/Users/Marc/Desktop/model_data/train_model_data\",\n",
    "                            target_path = \"C:/Users/Marc/Desktop/model_data/train_model_data\",\n",
    "                            series_dict_path = \"C:/Users/Marc/Desktop/model_data/train_model_data\",\n",
    "                            series_dict = 'train_series_length.pickle', \n",
    "                            ind = [i for i in range(1, 195 + 1)])\n",
    "\n",
    "trainloader = torch.utils.data.DataLoader(trainload,\n",
    "                                          batch_size=1,\n",
    "                                          shuffle=False,\n",
    "                                          num_workers=0)\n",
    "it = iter(trainloader)\n",
    "model_input, model_target, model_data = next(it)\n",
    "\n",
    "torch.set_printoptions(edgeitems=2)\n",
    "\n",
    "print(model_input[0])\n",
    "\n",
    "print()\n",
    "\n",
    "print(model_target[0])\n",
    "\n",
    "print()\n",
    "\n",
    "print(model_input[0].shape)"
   ]
  },
  {
   "cell_type": "markdown",
   "id": "aead8435-3b7e-4d81-8259-d09b8d7c7936",
   "metadata": {},
   "source": [
    "Thus 4 channels from this individuals recording will be used in the training process."
   ]
  },
  {
   "cell_type": "markdown",
   "id": "552b064b-8260-46bc-b2ee-6e4dc5a47613",
   "metadata": {},
   "source": [
    "The network will be trained on only 5 minutes of data. Thus the above recorded data is passed into another dataloader. This dataloader cuts the recording into 5 min. intervals:"
   ]
  },
  {
   "cell_type": "code",
   "execution_count": 6,
   "id": "5b5eebed-f661-4553-9a62-7f39016528ab",
   "metadata": {},
   "outputs": [
    {
     "name": "stdout",
     "output_type": "stream",
     "text": [
      "tensor([ -1.6839,   2.4923,  ..., -11.2255, -11.3530])\n",
      "tensor([0., 0.,  ..., 0., 0.])\n",
      "torch.Size([60000])\n"
     ]
    }
   ],
   "source": [
    "device = \"cpu\"\n",
    "\n",
    "# the load_whole_data laods a whole eeg-recording and targets into memory\n",
    "trainload = load_whole_data(input_path = \"C:/Users/Marc/Desktop/model_data/train_model_data\",\n",
    "                            target_path = \"C:/Users/Marc/Desktop/model_data/train_model_data\",\n",
    "                            series_dict_path = \"C:/Users/Marc/Desktop/model_data/train_model_data\",\n",
    "                            series_dict = 'train_series_length.pickle', \n",
    "                            ind = [i for i in range(1, 195 + 1)])\n",
    "\n",
    "trainloader = torch.utils.data.DataLoader(trainload,\n",
    "                                          batch_size=1,\n",
    "                                          shuffle=False,\n",
    "                                          num_workers=0)\n",
    "it = iter(trainloader)\n",
    "\n",
    "batch_size = 1\n",
    "\n",
    "# the load_shuffle_5_min cuts the recording and targets loaded from load_whole_data\n",
    "# into random 5 minutes intervals.\n",
    "loader2 = load_shuffle_5_min(next(it), device)\n",
    "loader2 = torch.utils.data.DataLoader(loader2,\n",
    "                                      batch_size=batch_size,\n",
    "                                      shuffle=True,\n",
    "                                      num_workers=0)\n",
    "\n",
    "it2 = iter(loader2)\n",
    "model_input, model_target, model_data = next(it2)\n",
    "\n",
    "torch.set_printoptions(edgeitems=2)\n",
    "\n",
    "print(model_input[0][0])\n",
    "\n",
    "print(model_target[0][0])\n",
    "\n",
    "print(model_input[0][0].shape)"
   ]
  },
  {
   "cell_type": "markdown",
   "id": "579b63a5-0da2-4603-a7c1-2ce78e1e893d",
   "metadata": {},
   "source": [
    "# Section 2: Equalize dataloading"
   ]
  },
  {
   "cell_type": "markdown",
   "id": "7ff2ad76-11dd-472a-a152-6f8d3e052fa6",
   "metadata": {},
   "source": [
    "The Lorenz curve will be used to visualize the equality of the data."
   ]
  },
  {
   "cell_type": "code",
   "execution_count": 7,
   "id": "143e0909-a0ae-465f-9c85-225db3c60f3e",
   "metadata": {},
   "outputs": [],
   "source": [
    "def lorenz_curve(ls: list, name: str):\n",
    "    \"\"\"\n",
    "    This function return a lorenz curve for the lenght of the patients\n",
    "    eeg recordings.\n",
    "\n",
    "    Args:\n",
    "        ls (list): list with the length of each eeg recording.\n",
    "        name (str): the name - or sting displayed in the title of the \n",
    "                    plot.\n",
    "\n",
    "    Return:\n",
    "        matplotlib plot\n",
    "    \"\"\"\n",
    "    \n",
    "    tot_sum = sum(ls) # get the total sum of intervals\n",
    "    nr_patients = len(ls) # get the number of patients\n",
    "    sorted_ls = sorted(ls) # sort the list\n",
    "    \n",
    "    res = []\n",
    "    rang = [i/100 for i in range(0, 100 + 5, 5)] # get the percentage range\n",
    "    for per in rang:\n",
    "        res.append(sum(sorted_ls[:math.floor(nr_patients * per)])/tot_sum)\n",
    "    \n",
    "    plt.title(f\"Lorenz curve of {name}\")\n",
    "    plt.xlabel(\"Cummulative % of patients\")\n",
    "    plt.ylabel(\"Cummulative % of intervals\")\n",
    "    plt.plot(rang, res)\n",
    "    plt.plot(rang, rang)\n",
    "    return plt"
   ]
  },
  {
   "cell_type": "markdown",
   "id": "a50a13e5-007e-4d31-8052-5408ce6c5784",
   "metadata": {},
   "source": [
    "For the train encoding file, each patient can be linked with his recordings:"
   ]
  },
  {
   "cell_type": "code",
   "execution_count": 8,
   "id": "2c67e8e1-b851-40cb-af88-be8afcf7ff53",
   "metadata": {},
   "outputs": [],
   "source": [
    "path = \"C:/Users/Marc/Desktop/model_data/train_model_data\"\n",
    "\n",
    "patient_samples = dict()\n",
    "\n",
    "with open(path + '/train_encoding.csv', 'r') as file:\n",
    "    ls = csv.reader(file)\n",
    "    for rows in ls:\n",
    "        m = re.match(r\".+/\\d+/(\\d+)/+.\", rows[0])\n",
    "        val_to_dict = patient_samples.get(m.group(1), [])\n",
    "        val_to_dict.append(rows[2])\n",
    "        patient_samples[m.group(1)] = val_to_dict"
   ]
  },
  {
   "cell_type": "code",
   "execution_count": 9,
   "id": "7e45c5d4-37ab-4d54-b03f-415f68f6e93a",
   "metadata": {},
   "outputs": [
    {
     "name": "stdout",
     "output_type": "stream",
     "text": [
      "{'00000297': ['1'], '00000906': ['2', '3', '4'], '00001154': ['5'], '00001402': ['6'], '00002272': ['7'], '00002348': ['8', '9', '10'], '00002508': ['11'], '00002991': ['12'], '00003363': ['13'], '00003573': ['14'], '00004526': ['15', '16'], '00004586': ['17'], '00004625': ['18'], '00005230': ['19', '20'], '00005400': ['21'], '00005457': ['22'], '00005740': ['23', '24'], '00006052': ['25'], '00006091': ['26', '27'], '00006224': ['28'], '00006319': ['29'], '00006440': ['30', '31', '32', '33', '34'], '00006510': ['35'], '00006531': ['36', '37', '38', '39'], '00006535': ['40', '41', '42', '43', '44'], '00006566': ['45'], '00006598': ['46'], '00006835': ['47'], '00006847': ['48'], '00006880': ['49', '50', '51'], '00007020': ['52'], '00007182': ['53'], '00007372': ['54'], '00007481': ['55', '56'], '00007647': ['57'], '00007679': ['58'], '00007724': ['59'], '00007755': ['60'], '00007793': ['61'], '00007823': ['62'], '00007824': ['63'], '00007852': ['64'], '00007870': ['65'], '00007920': ['66'], '00007981': ['67'], '00008004': ['68'], '00008044': ['69'], '00008092': ['70', '71'], '00008156': ['72'], '00008181': ['73', '74', '75', '76'], '00008206': ['77'], '00008210': ['78'], '00008295': ['79', '80', '81', '82', '83', '84', '85'], '00008303': ['86'], '00008444': ['87'], '00008466': ['88'], '00008476': ['89'], '00008489': ['90'], '00008527': ['91'], '00008530': ['92'], '00008563': ['93'], '00008582': ['94'], '00008615': ['95'], '00008634': ['96'], '00008723': ['97'], '00008737': ['98'], '00008738': ['99', '100', '101', '102'], '00008760': ['103'], '00008767': ['104'], '00008770': ['105'], '00008773': ['106'], '00008783': ['107'], '00008829': ['108', '109'], '00008830': ['110'], '00008959': ['111'], '00008971': ['112', '113', '114'], '00009030': ['115'], '00009050': ['116'], '00009053': ['117'], '00009089': ['118'], '00009177': ['119'], '00009195': ['120'], '00009208': ['121'], '00009232': ['122', '123', '124', '125', '126', '127'], '00009244': ['128'], '00009265': ['129'], '00009282': ['130'], '00009320': ['131'], '00009335': ['132'], '00009340': ['133'], '00009356': ['134'], '00009362': ['135'], '00009369': ['136'], '00009397': ['137'], '00009411': ['138'], '00009413': ['139'], '00009414': ['140'], '00009417': ['141'], '00009431': ['142'], '00009445': ['143'], '00009458': ['144'], '00009485': ['145', '146'], '00009498': ['147'], '00009501': ['148'], '00009514': ['149'], '00009542': ['150'], '00009574': ['151'], '00009603': ['152'], '00009630': ['153', '154'], '00009663': ['155'], '00009668': ['156'], '00009693': ['157'], '00009800': ['158'], '00009820': ['159'], '00009906': ['160'], '00009932': ['161'], '00009939': ['162'], '00010003': ['163'], '00010021': ['164'], '00010023': ['165'], '00010024': ['166'], '00010041': ['167'], '00010157': ['168'], '00010158': ['169', '170', '171', '172', '173', '174'], '00010209': ['175'], '00010212': ['176'], '00010267': ['177'], '00010340': ['178'], '00010421': ['179'], '00010423': ['180'], '00010453': ['181'], '00010467': ['182'], '00010489': ['183'], '00010586': ['184'], '00010591': ['185'], '00010748': ['186'], '00001006': ['187'], '00003849': ['188'], '00004126': ['189'], '00005672': ['190'], '00006501': ['191'], '00007952': ['192'], '00001027': ['193'], '00004671': ['194'], '00013103': ['195']}\n"
     ]
    }
   ],
   "source": [
    "print(patient_samples)"
   ]
  },
  {
   "cell_type": "markdown",
   "id": "e95c300d-daf3-47ce-8f0f-f61af875b42c",
   "metadata": {},
   "source": [
    "## Show the data with no correction"
   ]
  },
  {
   "cell_type": "code",
   "execution_count": 11,
   "id": "52586f98-f1c3-42f7-80a9-6409c75156c7",
   "metadata": {},
   "outputs": [
    {
     "name": "stdout",
     "output_type": "stream",
     "text": [
      "cpu\n",
      "time: 13.623220205307007\n"
     ]
    }
   ],
   "source": [
    "import time\n",
    "\n",
    "\n",
    "device = \"cpu\"\n",
    "print(device)\n",
    "\n",
    "# the load_whole_data laods a whole eeg-recording and targets into memory\n",
    "trainload = load_whole_data(input_path = \"C:/Users/Marc/Desktop/model_data/train_model_data\",\n",
    "                            target_path = \"C:/Users/Marc/Desktop/model_data/train_model_data\",\n",
    "                            series_dict_path = \"C:/Users/Marc/Desktop/model_data/train_model_data\",\n",
    "                            series_dict = 'train_series_length.pickle', \n",
    "                            ind = [i for i in range(1, 195 + 1)])\n",
    "\n",
    "\n",
    "trainloader = torch.utils.data.DataLoader(trainload,\n",
    "                                          batch_size=1,\n",
    "                                          shuffle=False,\n",
    "                                          num_workers=0)\n",
    "\n",
    "data_before = [] # list to save the amount of 5 min. cuts per recording\n",
    "\n",
    "start = time.time()\n",
    "\n",
    "for file in trainloader:\n",
    "    size = (file[0][0].shape[0], file[0][0].shape[1])\n",
    "    length = math.floor(((size[1]-200*30)/(200*60*5)))*size[0] \n",
    "    # the amount of total possible cuts for the recording\n",
    "    \n",
    "    data_before.append(length)\n",
    "\n",
    "print(\"time:\", time.time()-start)\n",
    "    \n"
   ]
  },
  {
   "cell_type": "markdown",
   "id": "2c05df4e-bf34-4c94-8334-f5482f79fa91",
   "metadata": {},
   "source": [
    "The amount of 5 minute intervals per recording can be displayed with a histogram"
   ]
  },
  {
   "cell_type": "code",
   "execution_count": 27,
   "id": "4d4859cb-1170-45f2-a424-b74909bfadff",
   "metadata": {},
   "outputs": [
    {
     "data": {
      "image/png": "[encoded data removed]",
      "text/plain": [
       "<Figure size 432x288 with 1 Axes>"
      ]
     },
     "metadata": {
      "needs_background": "light"
     },
     "output_type": "display_data"
    },
    {
     "name": "stdout",
     "output_type": "stream",
     "text": [
      "73.93333333333334\n",
      "66.0\n"
     ]
    }
   ],
   "source": [
    "plt.hist(data_before, bins = 30)\n",
    "plt.title(\"Histogram over intervals per recording before correction\")\n",
    "plt.xlabel(\"Intervals\")\n",
    "plt.savefig(f\"C:/Users/Marc/Desktop/BP photos/hist_exp_before.jpg\")\n",
    "\n",
    "plt.show()\n",
    "plt.close()\n",
    "\n",
    "\n",
    "print(np.mean(data_before))\n",
    "print(np.median(data_before))"
   ]
  },
  {
   "cell_type": "markdown",
   "id": "d7760ab7-7282-46d7-bc23-be45a832cc5e",
   "metadata": {},
   "source": [
    "It can be seen, that there is a few but very large samples (way larger than the mean)."
   ]
  },
  {
   "cell_type": "markdown",
   "id": "941e01fb-207b-4b3f-8d6e-ce1b299789c6",
   "metadata": {},
   "source": [
    "The above plot is for the amount of 5 min. intervals per recording. A patient might have multiple recordings. Thus in the following the amount of 5 min. intervals per patient will be found:"
   ]
  },
  {
   "cell_type": "code",
   "execution_count": 14,
   "id": "c9213b5c-2cf0-4c7f-9abb-99de004645a3",
   "metadata": {},
   "outputs": [],
   "source": [
    "patient_before = []\n",
    "\n",
    "for value in patient_samples.values(): # go though the patient indicies\n",
    "    vals = 0\n",
    "    for i in value:\n",
    "        vals += data_before[int(i)-1]\n",
    "    \n",
    "    patient_before.append(vals)"
   ]
  },
  {
   "cell_type": "code",
   "execution_count": 28,
   "id": "377067ea-2556-4bea-a48f-8b19632e0704",
   "metadata": {},
   "outputs": [
    {
     "data": {
      "image/png": "[encoded data removed]",
      "text/plain": [
       "<Figure size 432x288 with 1 Axes>"
      ]
     },
     "metadata": {
      "needs_background": "light"
     },
     "output_type": "display_data"
    },
    {
     "name": "stdout",
     "output_type": "stream",
     "text": [
      "99.42758620689655\n",
      "88.0\n"
     ]
    }
   ],
   "source": [
    "plt.hist(patient_before, bins = 30)\n",
    "plt.title(\"Histogram over intervals per patient before correction\")\n",
    "plt.xlabel(\"Intervals\")\n",
    "plt.savefig(f\"C:/Users/Marc/Desktop/BP photos/hist_patient_before.jpg\")\n",
    "\n",
    "plt.show()\n",
    "plt.close()\n",
    "\n",
    "print(np.mean(patient_before))\n",
    "print(np.median(patient_before))"
   ]
  },
  {
   "cell_type": "markdown",
   "id": "f4268a83-0b0d-4ffe-a77e-2b114af963cb",
   "metadata": {},
   "source": [
    "It can be seen from the histogram, that a few patients constitute with a lot of the 5 min. intervals in the data. Let's investigate how much data the top 25% of patients constitute with."
   ]
  },
  {
   "cell_type": "code",
   "execution_count": 16,
   "id": "4fb32f03-acb3-4d35-b01f-44c349289e77",
   "metadata": {},
   "outputs": [
    {
     "name": "stdout",
     "output_type": "stream",
     "text": [
      "Total number of patients: 145\n",
      "25% of patients amounts to: 36\n",
      "The top 25% of patients constitute with: 0.48172296594298397 of the data\n"
     ]
    }
   ],
   "source": [
    "sorted_patient_before = sorted(patient_before, reverse=True)\n",
    "print(\"Total number of patients:\", len(patient_before))\n",
    "print(\"25% of patients amounts to:\", int(0.25*len(patient_before)))\n",
    "print(\"The top 25% of patients constitute with:\",\n",
    "      sum(sorted_patient_before[:int(0.25*len(patient_before))])/sum(patient_before),\n",
    "      \"of the data\")"
   ]
  },
  {
   "cell_type": "markdown",
   "id": "ee261da8-f66b-4bb2-8543-30200ba629e9",
   "metadata": {},
   "source": [
    "This can also be seen in the plot of the Lorenz curve:"
   ]
  },
  {
   "cell_type": "code",
   "execution_count": 17,
   "id": "4698ee6b-bddf-4871-9604-7f166968ffd4",
   "metadata": {},
   "outputs": [
    {
     "data": {
      "image/png": "[encoded data removed]",
      "text/plain": [
       "<Figure size 432x288 with 1 Axes>"
      ]
     },
     "metadata": {
      "needs_background": "light"
     },
     "output_type": "display_data"
    }
   ],
   "source": [
    "m = lorenz_curve(patient_before, \"intervals before correction\")\n",
    "\n",
    "plt.savefig(f\"C:/Users/Marc/Desktop/BP photos/Lorenz_before.jpg\")\n",
    "plt.show()\n",
    "plt.close()\n"
   ]
  },
  {
   "cell_type": "markdown",
   "id": "f8e36411-a778-4964-b5b8-8568b203a54f",
   "metadata": {},
   "source": [
    "Thus it can be seen that a few patients constitute with a large amount of the data."
   ]
  },
  {
   "cell_type": "markdown",
   "id": "70a6791c-0cf8-44a8-89e9-64e51334d272",
   "metadata": {},
   "source": [
    "## Show the data with correction"
   ]
  },
  {
   "cell_type": "markdown",
   "id": "eacaf628-1fa4-429e-8028-ca7afb81bbe3",
   "metadata": {},
   "source": [
    "To try and eliminate this inequality a few steps has to be made in the dataset:"
   ]
  },
  {
   "cell_type": "code",
   "execution_count": 19,
   "id": "8ff38a8e-9ed5-425a-b059-0beb3dab7dda",
   "metadata": {},
   "outputs": [
    {
     "name": "stdout",
     "output_type": "stream",
     "text": [
      "cpu\n",
      "time: 14.005295515060425\n",
      "Number of files loaded in total: 195\n"
     ]
    }
   ],
   "source": [
    "import time\n",
    "\n",
    "\n",
    "device = \"cpu\"\n",
    "print(device)\n",
    "\n",
    "# the load_whole_data laods a whole eeg-recording and targets into memory\n",
    "trainload = load_whole_data(input_path = \"C:/Users/Marc/Desktop/model_data/train_model_data\",\n",
    "                            target_path = \"C:/Users/Marc/Desktop/model_data/train_model_data\",\n",
    "                            series_dict_path = \"C:/Users/Marc/Desktop/model_data/train_model_data\",\n",
    "                            series_dict = 'train_series_length.pickle', \n",
    "                            ind = [i for i in range(1, 195 + 1)])\n",
    "\n",
    "\n",
    "trainloader = torch.utils.data.DataLoader(trainload,\n",
    "                                          batch_size=1,\n",
    "                                          shuffle=False,\n",
    "                                          num_workers=0)\n",
    "\n",
    "data_after = []\n",
    "\n",
    "nr_of_files_loaded = 0\n",
    "\n",
    "batch_size = 1\n",
    "\n",
    "start = time.time()\n",
    "\n",
    "for file in trainloader:\n",
    "    # instead of loading the total amount of 5 min. intervals possible\n",
    "    # this dataloader tries to weight the recordings\n",
    "    # thus short recordings will be represented as much as longer recordings\n",
    "    loader2 = load_shuffle_5_min(file, device)\n",
    "    loader2 = torch.utils.data.DataLoader(loader2,\n",
    "                                          batch_size=batch_size,\n",
    "                                          shuffle=True,\n",
    "                                          num_workers=0)\n",
    "    nr_of_files_loaded += 1\n",
    "    j = 0\n",
    "    for i in loader2:\n",
    "        j += 1\n",
    "    data_after.append(j) # append the amount of series loaded \n",
    "\n",
    "print(\"time:\", time.time()-start)\n",
    "    \n",
    "print(\"Number of files loaded in total:\", nr_of_files_loaded)\n"
   ]
  },
  {
   "cell_type": "markdown",
   "id": "228bac5e-1ad2-4d72-8fff-daea1c91ba39",
   "metadata": {},
   "source": [
    "This data can now be plotted with a histogram:"
   ]
  },
  {
   "cell_type": "code",
   "execution_count": 29,
   "id": "141f9ded-8bc6-4e01-8814-328e02c13e49",
   "metadata": {},
   "outputs": [
    {
     "data": {
      "image/png": "[encoded data removed]",
      "text/plain": [
       "<Figure size 432x288 with 1 Axes>"
      ]
     },
     "metadata": {
      "needs_background": "light"
     },
     "output_type": "display_data"
    },
    {
     "name": "stdout",
     "output_type": "stream",
     "text": [
      "57.11282051282051\n",
      "60.0\n"
     ]
    }
   ],
   "source": [
    "plt.title(\"Histogram over intervals per recording after correction\")\n",
    "plt.hist(data_after, bins = 30)\n",
    "plt.xlabel(\"Intervals\")\n",
    "plt.savefig(f\"C:/Users/Marc/Desktop/BP photos/hist_exp_after.jpg\")\n",
    "\n",
    "plt.show()\n",
    "plt.close()\n",
    "\n",
    "print(np.mean(data_after))\n",
    "print(np.median(data_after))"
   ]
  },
  {
   "cell_type": "markdown",
   "id": "571683c1-345c-4bf8-9950-dcf102459c22",
   "metadata": {},
   "source": [
    "Now it can be seen, that there are no longer any extreme cases."
   ]
  },
  {
   "cell_type": "markdown",
   "id": "b32cc605-0ecf-4304-93ae-14bd4ca3bd0e",
   "metadata": {},
   "source": [
    "The amount of 5 min. intevals per patient will be found:"
   ]
  },
  {
   "cell_type": "code",
   "execution_count": 30,
   "id": "135b8e01-4808-420e-92ed-2e17f72a4d8e",
   "metadata": {},
   "outputs": [],
   "source": [
    "patient_after = []\n",
    "\n",
    "for value in patient_samples.values():\n",
    "    vals = 0\n",
    "    for i in value:\n",
    "        vals += data_after[int(i)-1]\n",
    "    \n",
    "    patient_after.append(vals)"
   ]
  },
  {
   "cell_type": "code",
   "execution_count": 31,
   "id": "f74d0138-fd81-4276-a6a8-b620a14b44bb",
   "metadata": {},
   "outputs": [
    {
     "data": {
      "image/png": "[encoded data removed]",
      "text/plain": [
       "<Figure size 432x288 with 1 Axes>"
      ]
     },
     "metadata": {
      "needs_background": "light"
     },
     "output_type": "display_data"
    },
    {
     "name": "stdout",
     "output_type": "stream",
     "text": [
      "76.80689655172414\n",
      "88.0\n"
     ]
    }
   ],
   "source": [
    "plt.title(\"Histogram over intervals per patient after correction\")\n",
    "plt.hist(patient_after, bins = 30)\n",
    "plt.xlabel(\"Intervals\")\n",
    "plt.savefig(f\"C:/Users/Marc/Desktop/BP photos/hist_patient_after.jpg\")\n",
    "plt.show()\n",
    "plt.close()\n",
    "\n",
    "\n",
    "\n",
    "print(np.mean(patient_after))\n",
    "print(np.median(patient_after))"
   ]
  },
  {
   "cell_type": "markdown",
   "id": "e4e01679-3635-4a68-9984-39fe0368065e",
   "metadata": {},
   "source": [
    "This again show, that a more fair distribution has been achived."
   ]
  },
  {
   "cell_type": "markdown",
   "id": "15f38d85-9d8c-47ae-a8a4-b190cc97a48e",
   "metadata": {},
   "source": [
    "After the correction the amount of data that the top 25% of patients constitute with is:"
   ]
  },
  {
   "cell_type": "code",
   "execution_count": 23,
   "id": "e2f060fc-3ec7-44d9-a9bd-edb1495de443",
   "metadata": {},
   "outputs": [
    {
     "name": "stdout",
     "output_type": "stream",
     "text": [
      "Total number of patients: 145\n",
      "25% of patients amounts to: 36\n",
      "The top 25% of patients constitute with: 0.3331238214959145 of the data\n"
     ]
    }
   ],
   "source": [
    "sorted_patient_after = sorted(patient_after, reverse=True)\n",
    "print(\"Total number of patients:\", len(patient_after))\n",
    "print(\"25% of patients amounts to:\", int(0.25*len(patient_after)))\n",
    "print(\"The top 25% of patients constitute with:\",\n",
    "      sum(sorted_patient_after[:int(0.25*len(patient_after))])/sum(patient_after),\n",
    "      \"of the data\")"
   ]
  },
  {
   "cell_type": "markdown",
   "id": "fcba5d74-3e58-41c1-84b2-2e46a423c52c",
   "metadata": {},
   "source": [
    "This more fair distribution can also be seen in the following Lorenz curve:"
   ]
  },
  {
   "cell_type": "code",
   "execution_count": 24,
   "id": "b52538a4-3e8a-4e42-99d0-ca6aaba8f89d",
   "metadata": {},
   "outputs": [
    {
     "data": {
      "image/png": "[encoded data removed]",
      "text/plain": [
       "<Figure size 432x288 with 1 Axes>"
      ]
     },
     "metadata": {
      "needs_background": "light"
     },
     "output_type": "display_data"
    }
   ],
   "source": [
    "m = lorenz_curve(patient_after, \"intervals after correction\")\n",
    "\n",
    "plt.savefig(f\"C:/Users/Marc/Desktop/BP photos/Lorenz_after.jpg\")\n",
    "plt.show()\n",
    "plt.close()"
   ]
  },
  {
   "cell_type": "markdown",
   "id": "274f3190-ef80-416d-9541-17e4a4c4c015",
   "metadata": {},
   "source": [
    "## Show the data with extreme correction"
   ]
  },
  {
   "cell_type": "code",
   "execution_count": 19,
   "id": "da8a9aed-52a5-4370-a62f-4a5ca740b58e",
   "metadata": {},
   "outputs": [
    {
     "name": "stdout",
     "output_type": "stream",
     "text": [
      "cpu\n",
      "time: 12.610124826431274\n",
      "Number of files loaded in total: 195\n"
     ]
    }
   ],
   "source": [
    "import time\n",
    "\n",
    "\n",
    "device = \"cpu\"\n",
    "print(device)\n",
    "\n",
    "# the load_whole_data laods a whole eeg-recording and targets into memory\n",
    "trainload = load_whole_data(path = \"C:/Users/Marc/Desktop/model_data/train_model_data\", \n",
    "                            series_dict = 'train_series_length.pickle', \n",
    "                            ind = [i for i in range(1, 195 + 1)])\n",
    "\n",
    "\n",
    "trainloader = torch.utils.data.DataLoader(trainload,\n",
    "                                          batch_size=1,\n",
    "                                          shuffle=False,\n",
    "                                          num_workers=0)\n",
    "\n",
    "data_ex = []\n",
    "\n",
    "nr_of_files_loaded = 0\n",
    "\n",
    "batch_size = 1\n",
    "\n",
    "start = time.time()\n",
    "\n",
    "for file in trainloader:\n",
    "    # the load_shuffle_5_min will now load the data with extreme correction\n",
    "    loader2 = load_shuffle_5_min(file, device, ex = True)\n",
    "    loader2 = torch.utils.data.DataLoader(loader2,\n",
    "                                          batch_size=batch_size,\n",
    "                                          shuffle=True,\n",
    "                                          num_workers=0)\n",
    "    nr_of_files_loaded += 1\n",
    "    j = 0\n",
    "    for i in loader2:\n",
    "        j += 1\n",
    "    \n",
    "    data_ex.append(j)\n",
    "\n",
    "print(\"time:\", time.time()-start)\n",
    "    \n",
    "print(\"Number of files loaded in total:\", nr_of_files_loaded)\n",
    "\n",
    "\n"
   ]
  },
  {
   "cell_type": "markdown",
   "id": "4fbfa258-2ae2-4011-93a1-498e5af0c17a",
   "metadata": {},
   "source": [
    "Find how many intervals each patient consitute with:"
   ]
  },
  {
   "cell_type": "code",
   "execution_count": 20,
   "id": "84582772-b369-409c-a56a-cbcde006562d",
   "metadata": {},
   "outputs": [],
   "source": [
    "patient_ex = []\n",
    "\n",
    "for value in patient_samples.values():\n",
    "    vals = 0\n",
    "    for i in value:\n",
    "        vals += data_ex[int(i)-1]\n",
    "    \n",
    "    patient_ex.append(vals)"
   ]
  },
  {
   "cell_type": "markdown",
   "id": "99d4e9e0-cc07-4865-bcf7-8eb6a1f24013",
   "metadata": {},
   "source": [
    "The following shows that extreme equality has been achived:"
   ]
  },
  {
   "cell_type": "code",
   "execution_count": 21,
   "id": "9cff4f08-f0aa-4913-92bd-d2a7f4290f34",
   "metadata": {},
   "outputs": [
    {
     "name": "stdout",
     "output_type": "stream",
     "text": [
      "Total number of patients: 145\n",
      "25% of patients amounts to: 36\n",
      "The top 25% of patients constitute with: 0.25192442267319803 of the data\n"
     ]
    }
   ],
   "source": [
    "sorted_patient_ex = sorted(patient_ex, reverse=True)\n",
    "print(\"Total number of patients:\", len(patient_ex))\n",
    "print(\"25% of patients amounts to:\", int(0.25*len(patient_ex)))\n",
    "print(\"The top 25% of patients constitute with:\",\n",
    "      sum(sorted_patient_ex[:int(0.25*len(patient_ex))])/sum(patient_ex),\n",
    "      \"of the data\")"
   ]
  },
  {
   "cell_type": "markdown",
   "id": "4db626a2-62de-4b31-ba0b-60af358b5e28",
   "metadata": {},
   "source": [
    "Now the Lorenz plot can be created:"
   ]
  },
  {
   "cell_type": "code",
   "execution_count": 22,
   "id": "773ee2ad-c791-413f-a134-72cc5999a4b6",
   "metadata": {},
   "outputs": [
    {
     "data": {
      "image/png": "[encoded data removed]",
      "text/plain": [
       "<Figure size 432x288 with 1 Axes>"
      ]
     },
     "metadata": {
      "needs_background": "light"
     },
     "output_type": "display_data"
    }
   ],
   "source": [
    "m = lorenz_curve(patient_ex, \"intervals with extreme correction\")\n",
    "\n",
    "plt.savefig(f\"C:/Users/Marc/Desktop/BP photos/Lorenz_low.jpg\")\n",
    "plt.show()\n",
    "plt.close()"
   ]
  },
  {
   "cell_type": "markdown",
   "id": "ffee426c-3891-4b6b-99eb-3e7b56177df4",
   "metadata": {},
   "source": [
    "# Section 3: How the dataloading is equalized:"
   ]
  },
  {
   "cell_type": "markdown",
   "id": "b9b8f10f-b897-46a5-ac22-1ccfb76a0f01",
   "metadata": {},
   "source": [
    "To make sure that data is distributed in the way that is intented, a pickle file with meta data of each recording is used. In the following code, this file will be looked at.\n",
    "Files of this type is created by the script: \"2 series_dict.py\" found in the preprocess folder on git."
   ]
  },
  {
   "cell_type": "code",
   "execution_count": 23,
   "id": "cca36372-45eb-4bbe-a279-68202f80cb00",
   "metadata": {},
   "outputs": [],
   "source": [
    "import pickle\n",
    "\n",
    "# load the file:\n",
    "with open('C:/Users/Marc/Desktop/model_data/train_model_data/train_series_length.pickle', 'rb') as handle:\n",
    "    s_dict = pickle.load(handle)"
   ]
  },
  {
   "cell_type": "markdown",
   "id": "182af455-f559-4825-b163-fbfe17675131",
   "metadata": {},
   "source": [
    "Print the content for the first recording:"
   ]
  },
  {
   "cell_type": "code",
   "execution_count": 35,
   "id": "a7795fe0-f5f2-4a99-a8f9-d4fba14b79ed",
   "metadata": {},
   "outputs": [
    {
     "name": "stdout",
     "output_type": "stream",
     "text": [
      "[290000, 1, 16, torch.Size([4, 290000])]\n"
     ]
    }
   ],
   "source": [
    "print(s_dict[1])"
   ]
  },
  {
   "cell_type": "markdown",
   "id": "8a4f2845-295f-435f-bae6-aa4a31a2fb3b",
   "metadata": {},
   "source": [
    "The first number is how many samples the patient delivered (in all of the recorded eeg-sessions).  \n",
    "The second number is how many different times the patient has been recorded.  \n",
    "The third number is how many intervals should be sampled from the recording in total. If a patient has a short recording, this will not be over sampled.  \n",
    "The fourth value return the size of the given recording: (number of usefull channels, the length of the channels)."
   ]
  },
  {
   "cell_type": "code",
   "execution_count": 25,
   "id": "be9868da-48d1-4b59-8537-599c504352b8",
   "metadata": {},
   "outputs": [
    {
     "name": "stderr",
     "output_type": "stream",
     "text": [
      "C:\\Users\\Marc\\AppData\\Local\\Temp\\ipykernel_32388\\2994339141.py:1: VisibleDeprecationWarning: Creating an ndarray from ragged nested sequences (which is a list-or-tuple of lists-or-tuples-or ndarrays with different lengths or shapes) is deprecated. If you meant to do this, you must specify 'dtype=object' when creating the ndarray.\n",
      "  new_p = list(i for i in np.array(list(s_dict.values()))[...,2])\n"
     ]
    }
   ],
   "source": [
    "new_p = list(i for i in np.array(list(s_dict.values()))[...,2])\n",
    "\n",
    "patient_after = []\n",
    "\n",
    "for value in patient_samples.values():\n",
    "    vals = 0\n",
    "    for i in value:\n",
    "        vals += new_p[int(i)-1]\n",
    "    \n",
    "    patient_after.append(vals)"
   ]
  },
  {
   "cell_type": "markdown",
   "id": "804683c0-0c42-4861-89da-9a724f2e41bb",
   "metadata": {},
   "source": [
    "The following is the histogram and lorenz curve achived earlier"
   ]
  },
  {
   "cell_type": "code",
   "execution_count": 26,
   "id": "28d1883d-4d6d-466a-bd08-687795218c5d",
   "metadata": {},
   "outputs": [
    {
     "data": {
      "image/png": "[encoded data removed]",
      "text/plain": [
       "<Figure size 432x288 with 1 Axes>"
      ]
     },
     "metadata": {
      "needs_background": "light"
     },
     "output_type": "display_data"
    },
    {
     "name": "stdout",
     "output_type": "stream",
     "text": [
      "76.8344827586207\n",
      "88.0\n"
     ]
    }
   ],
   "source": [
    "plt.title(\"Histogram over intervals per experiment after correction\")\n",
    "plt.hist(patient_after, bins = 30)\n",
    "plt.show()\n",
    "\n",
    "print(np.mean(patient_after))\n",
    "print(np.median(patient_after))"
   ]
  },
  {
   "cell_type": "code",
   "execution_count": 41,
   "id": "b17cb17e-45e6-4a78-82cf-2a623696781e",
   "metadata": {},
   "outputs": [
    {
     "data": {
      "image/png": "[encoded data removed]",
      "text/plain": [
       "<Figure size 432x288 with 1 Axes>"
      ]
     },
     "metadata": {
      "needs_background": "light"
     },
     "output_type": "display_data"
    }
   ],
   "source": [
    "m = lorenz_curve(patient_after, \"intervals after correction\")\n",
    "\n",
    "#plt.savefig(f\"C:/Users/Marc/Desktop/BP photos/Lorenz_after.jpg\")\n",
    "plt.show()\n",
    "#plt.close()"
   ]
  }
 ],
 "metadata": {
  "kernelspec": {
   "display_name": "Python 3 (ipykernel)",
   "language": "python",
   "name": "python3"
  },
  "language_info": {
   "codemirror_mode": {
    "name": "ipython",
    "version": 3
   },
   "file_extension": ".py",
   "mimetype": "text/x-python",
   "name": "python",
   "nbconvert_exporter": "python",
   "pygments_lexer": "ipython3",
   "version": "3.9.6"
  }
 },
 "nbformat": 4,
 "nbformat_minor": 5
}
