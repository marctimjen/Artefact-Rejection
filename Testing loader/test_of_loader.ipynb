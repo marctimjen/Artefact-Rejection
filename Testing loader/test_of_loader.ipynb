{
 "cells": [
  {
   "cell_type": "code",
   "execution_count": 7,
   "id": "c93aaa85-9b12-4a1d-9de8-2c54e15dd2d2",
   "metadata": {},
   "outputs": [],
   "source": [
    "import csv\n",
    "import re\n",
    "import math\n",
    "import matplotlib.pyplot as plt\n",
    "import numpy as np\n",
    "import sys\n",
    "sys.path.append(\"..\") # adds higher directory to python modules path\n",
    "\n",
    "from LoaderPACK.Unet_leaky import Unet_leaky\n",
    "from LoaderPACK.Loader import load_whole_data, load_shuffle_5_min\n",
    "import torch"
   ]
  },
  {
   "cell_type": "code",
   "execution_count": 8,
   "id": "143e0909-a0ae-465f-9c85-225db3c60f3e",
   "metadata": {},
   "outputs": [],
   "source": [
    "def lorenz_curve(ls: list, name: str):\n",
    "    tot_sum = sum(ls) # get the total sum of intervals\n",
    "    nr_patients = len(ls)\n",
    "    sorted_ls = sorted(ls)\n",
    "    \n",
    "    res = []\n",
    "    rang = [i/100 for i in range(0, 100 + 5, 5)]\n",
    "    for per in rang:\n",
    "        res.append(sum(sorted_ls[:math.floor(nr_patients * per)])/tot_sum)\n",
    "    \n",
    "    plt.title(f\"Lorenz Curve of {name}\")\n",
    "    plt.xlabel(\"Cummulative % of patients\")\n",
    "    plt.ylabel(\"Cummulative % of intervals\")\n",
    "    plt.plot(rang, res)\n",
    "    plt.plot(rang, rang)\n",
    "    return plt"
   ]
  },
  {
   "cell_type": "code",
   "execution_count": 9,
   "id": "2c67e8e1-b851-40cb-af88-be8afcf7ff53",
   "metadata": {},
   "outputs": [],
   "source": [
    "path = \"C:/Users/Marc/Desktop/model_data/train_model_data\"\n",
    "\n",
    "patient_samples = dict()\n",
    "\n",
    "with open(path + '/train_encoding.csv', 'r') as file:\n",
    "    ls = csv.reader(file)\n",
    "    for rows in ls:\n",
    "        m = re.match(r\".+/\\d+/(\\d+)/+.\", rows[0])\n",
    "        val_to_dict = patient_samples.get(m.group(1), [])\n",
    "        val_to_dict.append(rows[2])\n",
    "        patient_samples[m.group(1)] = val_to_dict"
   ]
  },
  {
   "cell_type": "code",
   "execution_count": 10,
   "id": "7e45c5d4-37ab-4d54-b03f-415f68f6e93a",
   "metadata": {},
   "outputs": [
    {
     "name": "stdout",
     "output_type": "stream",
     "text": [
      "{'00000297': ['1'], '00000906': ['2', '3', '4'], '00001154': ['5'], '00001402': ['6'], '00002272': ['7'], '00002348': ['8', '9', '10'], '00002508': ['11'], '00002991': ['12'], '00003363': ['13'], '00003573': ['14'], '00004526': ['15', '16'], '00004586': ['17'], '00004625': ['18'], '00005230': ['19', '20'], '00005400': ['21'], '00005457': ['22'], '00005740': ['23', '24'], '00006052': ['25'], '00006091': ['26', '27'], '00006224': ['28'], '00006319': ['29'], '00006440': ['30', '31', '32', '33', '34'], '00006510': ['35'], '00006531': ['36', '37', '38', '39'], '00006535': ['40', '41', '42', '43', '44'], '00006566': ['45'], '00006598': ['46'], '00006835': ['47'], '00006847': ['48'], '00006880': ['49', '50', '51'], '00007020': ['52'], '00007182': ['53'], '00007372': ['54'], '00007481': ['55', '56'], '00007647': ['57'], '00007679': ['58'], '00007724': ['59'], '00007755': ['60'], '00007793': ['61'], '00007823': ['62'], '00007824': ['63'], '00007852': ['64'], '00007870': ['65'], '00007920': ['66'], '00007981': ['67'], '00008004': ['68'], '00008044': ['69'], '00008092': ['70', '71'], '00008156': ['72'], '00008181': ['73', '74', '75', '76'], '00008206': ['77'], '00008210': ['78'], '00008295': ['79', '80', '81', '82', '83', '84', '85'], '00008303': ['86'], '00008444': ['87'], '00008466': ['88'], '00008476': ['89'], '00008489': ['90'], '00008527': ['91'], '00008530': ['92'], '00008563': ['93'], '00008582': ['94'], '00008615': ['95'], '00008634': ['96'], '00008723': ['97'], '00008737': ['98'], '00008738': ['99', '100', '101', '102'], '00008760': ['103'], '00008767': ['104'], '00008770': ['105'], '00008773': ['106'], '00008783': ['107'], '00008829': ['108', '109'], '00008830': ['110'], '00008959': ['111'], '00008971': ['112', '113', '114'], '00009030': ['115'], '00009050': ['116'], '00009053': ['117'], '00009089': ['118'], '00009177': ['119'], '00009195': ['120'], '00009208': ['121'], '00009232': ['122', '123', '124', '125', '126', '127'], '00009244': ['128'], '00009265': ['129'], '00009282': ['130'], '00009320': ['131'], '00009335': ['132'], '00009340': ['133'], '00009356': ['134'], '00009362': ['135'], '00009369': ['136'], '00009397': ['137'], '00009411': ['138'], '00009413': ['139'], '00009414': ['140'], '00009417': ['141'], '00009431': ['142'], '00009445': ['143'], '00009458': ['144'], '00009485': ['145', '146'], '00009498': ['147'], '00009501': ['148'], '00009514': ['149'], '00009542': ['150'], '00009574': ['151'], '00009603': ['152'], '00009630': ['153', '154'], '00009663': ['155'], '00009668': ['156'], '00009693': ['157'], '00009800': ['158'], '00009820': ['159'], '00009906': ['160'], '00009932': ['161'], '00009939': ['162'], '00010003': ['163'], '00010021': ['164'], '00010023': ['165'], '00010024': ['166'], '00010041': ['167'], '00010157': ['168'], '00010158': ['169', '170', '171', '172', '173', '174'], '00010209': ['175'], '00010212': ['176'], '00010267': ['177'], '00010340': ['178'], '00010421': ['179'], '00010423': ['180'], '00010453': ['181'], '00010467': ['182'], '00010489': ['183'], '00010586': ['184'], '00010591': ['185'], '00010748': ['186'], '00001006': ['187'], '00003849': ['188'], '00004126': ['189'], '00005672': ['190'], '00006501': ['191'], '00007952': ['192'], '00001027': ['193'], '00004671': ['194'], '00013103': ['195']}\n"
     ]
    }
   ],
   "source": [
    "print(patient_samples)"
   ]
  },
  {
   "cell_type": "markdown",
   "id": "7cad4c0a-2851-4490-b2e8-37f36289eb8c",
   "metadata": {},
   "source": [
    " "
   ]
  },
  {
   "cell_type": "markdown",
   "id": "7b3b0108-cf7a-4745-b4ad-58357ee6dc6e",
   "metadata": {},
   "source": [
    "Plot the experiment from a patient:"
   ]
  },
  {
   "cell_type": "code",
   "execution_count": 11,
   "id": "9fb6db6b-9316-4210-b218-2b5681b017bb",
   "metadata": {},
   "outputs": [
    {
     "name": "stdout",
     "output_type": "stream",
     "text": [
      "tensor([[ 0.0601, -3.4870,  ..., -0.6444, -0.1669],\n",
      "        [-0.9249,  5.6028,  ..., -0.4507, -0.1218],\n",
      "        [ 2.3317, -5.0536,  ...,  0.7382,  0.1175],\n",
      "        [ 0.9897, -7.1149,  ...,  1.3465,  0.1151]])\n",
      "\n",
      "tensor([[0., 0.,  ..., 0., 0.],\n",
      "        [0., 0.,  ..., 0., 0.],\n",
      "        [0., 0.,  ..., 0., 0.],\n",
      "        [0., 0.,  ..., 0., 0.]])\n"
     ]
    }
   ],
   "source": [
    "device = \"cpu\"\n",
    "\n",
    "trainload = load_whole_data(path = \"C:/Users/Marc/Desktop/model_data/train_model_data\", series_dict = 'train_series_length.pickle', ind = [i for i in range(1, 195 + 1)])\n",
    "\n",
    "# Set up the dataloaders:\n",
    "\n",
    "trainloader = torch.utils.data.DataLoader(trainload,\n",
    "                                          batch_size=1,\n",
    "                                          shuffle=False,\n",
    "                                          num_workers=0)\n",
    "it = iter(trainloader)\n",
    "model_input, model_target, model_data = next(it)\n",
    "\n",
    "torch.set_printoptions(edgeitems=2)\n",
    "\n",
    "print(model_input[0])\n",
    "\n",
    "print()\n",
    "\n",
    "print(model_target[0])"
   ]
  },
  {
   "cell_type": "markdown",
   "id": "f9a973b8-f55d-4832-80a2-efee54f84d36",
   "metadata": {},
   "source": [
    " "
   ]
  },
  {
   "cell_type": "markdown",
   "id": "552b064b-8260-46bc-b2ee-6e4dc5a47613",
   "metadata": {},
   "source": [
    "The data that is fed into the model, can be seen below:"
   ]
  },
  {
   "cell_type": "code",
   "execution_count": 12,
   "id": "5b5eebed-f661-4553-9a62-7f39016528ab",
   "metadata": {},
   "outputs": [
    {
     "name": "stdout",
     "output_type": "stream",
     "text": [
      "tensor([  3.2498,   4.5258,  ...,   6.9581, -11.2944])\n",
      "tensor([0., 0.,  ..., 0., 0.])\n"
     ]
    }
   ],
   "source": [
    "device = \"cpu\"\n",
    "\n",
    "trainload = load_whole_data(path = \"C:/Users/Marc/Desktop/model_data/train_model_data\", series_dict = 'train_series_length.pickle', ind = [i for i in range(1, 195 + 1)])\n",
    "\n",
    "trainloader = torch.utils.data.DataLoader(trainload,\n",
    "                                          batch_size=1,\n",
    "                                          shuffle=False,\n",
    "                                          num_workers=0)\n",
    "it = iter(trainloader)\n",
    "\n",
    "batch_size = 1\n",
    "loader2 = load_shuffle_5_min(next(it), device)\n",
    "loader2 = torch.utils.data.DataLoader(loader2,\n",
    "                                      batch_size=batch_size,\n",
    "                                      shuffle=True,\n",
    "                                      num_workers=0)\n",
    "\n",
    "it2 = iter(loader2)\n",
    "model_input, model_target, model_data = next(it2)\n",
    "\n",
    "torch.set_printoptions(edgeitems=2)\n",
    "\n",
    "print(model_input[0][0])\n",
    "\n",
    "print(model_target[0][0])"
   ]
  },
  {
   "cell_type": "code",
   "execution_count": null,
   "id": "e2cb8c61-e367-4850-9a09-a5cce83551a0",
   "metadata": {},
   "outputs": [],
   "source": []
  },
  {
   "cell_type": "code",
   "execution_count": 13,
   "id": "52586f98-f1c3-42f7-80a9-6409c75156c7",
   "metadata": {},
   "outputs": [
    {
     "name": "stdout",
     "output_type": "stream",
     "text": [
      "cpu\n",
      "time: 14.21156620979309\n",
      "Number of files loaded in total: 0\n"
     ]
    }
   ],
   "source": [
    "import time\n",
    "\n",
    "\n",
    "device = \"cpu\"\n",
    "print(device)\n",
    "\n",
    "trainload = load_whole_data(path = \"C:/Users/Marc/Desktop/model_data/train_model_data\", series_dict = 'train_series_length.pickle', ind = [i for i in range(1, 195 + 1)])\n",
    "\n",
    "# Set up the dataloaders:\n",
    "\n",
    "trainloader = torch.utils.data.DataLoader(trainload,\n",
    "                                          batch_size=1,\n",
    "                                          shuffle=False,\n",
    "                                          num_workers=0)\n",
    "\n",
    "data_before = []\n",
    "\n",
    "nr_of_files_loaded = 0\n",
    "\n",
    "batch_size = 1\n",
    "\n",
    "start = time.time()\n",
    "\n",
    "for file in trainloader:\n",
    "    size = (file[0][0].shape[0], file[0][0].shape[1])\n",
    "    length = math.floor(((size[1]-200*30)/(200*60*5)))*size[0] # the amount of total possible cuts\n",
    "    \n",
    "    data_before.append(length)\n",
    "\n",
    "print(\"time:\", time.time()-start)\n",
    "    \n",
    "print(\"Number of files loaded in total:\", nr_of_files_loaded)\n",
    "\n"
   ]
  },
  {
   "cell_type": "code",
   "execution_count": 14,
   "id": "4d4859cb-1170-45f2-a424-b74909bfadff",
   "metadata": {},
   "outputs": [
    {
     "data": {
      "image/png": "[encoded data removed]",
      "text/plain": [
       "<Figure size 432x288 with 1 Axes>"
      ]
     },
     "metadata": {
      "needs_background": "light"
     },
     "output_type": "display_data"
    },
    {
     "name": "stdout",
     "output_type": "stream",
     "text": [
      "74.35384615384615\n",
      "66.0\n"
     ]
    }
   ],
   "source": [
    "plt.hist(data_before, bins = 30)\n",
    "plt.title(\"Histogram over intervals per experiment before correction\")\n",
    "plt.savefig(f\"C:/Users/Marc/Desktop/BP photos/hist_exp_before.jpg\")\n",
    "plt.show()\n",
    "plt.close()\n",
    "\n",
    "\n",
    "print(np.mean(data_before))\n",
    "print(np.median(data_before))"
   ]
  },
  {
   "cell_type": "code",
   "execution_count": 15,
   "id": "c9213b5c-2cf0-4c7f-9abb-99de004645a3",
   "metadata": {},
   "outputs": [],
   "source": [
    "patient_before = []\n",
    "\n",
    "for value in patient_samples.values():\n",
    "    vals = 0\n",
    "    for i in value:\n",
    "        vals += data_before[int(i)-1]\n",
    "    \n",
    "    patient_before.append(vals)"
   ]
  },
  {
   "cell_type": "code",
   "execution_count": 16,
   "id": "377067ea-2556-4bea-a48f-8b19632e0704",
   "metadata": {},
   "outputs": [
    {
     "data": {
      "image/png": "[encoded data removed]",
      "text/plain": [
       "<Figure size 432x288 with 1 Axes>"
      ]
     },
     "metadata": {
      "needs_background": "light"
     },
     "output_type": "display_data"
    },
    {
     "name": "stdout",
     "output_type": "stream",
     "text": [
      "99.99310344827586\n",
      "88.0\n"
     ]
    }
   ],
   "source": [
    "plt.hist(patient_before, bins = 30)\n",
    "plt.title(\"Histogram over intervals per patients before correction\")\n",
    "plt.savefig(f\"C:/Users/Marc/Desktop/BP photos/hist_patient_before.jpg\")\n",
    "plt.show()\n",
    "plt.close()\n",
    "\n",
    "print(np.mean(patient_before))\n",
    "print(np.median(patient_before))"
   ]
  },
  {
   "cell_type": "code",
   "execution_count": 17,
   "id": "4fb32f03-acb3-4d35-b01f-44c349289e77",
   "metadata": {},
   "outputs": [
    {
     "name": "stdout",
     "output_type": "stream",
     "text": [
      "number of patients: 145\n",
      "36\n"
     ]
    },
    {
     "data": {
      "text/plain": [
       "0.4845161735292089"
      ]
     },
     "execution_count": 17,
     "metadata": {},
     "output_type": "execute_result"
    }
   ],
   "source": [
    "sorted_patient_before = sorted(patient_before, reverse=True)\n",
    "print(\"number of patients:\", len(patient_before))\n",
    "print(int(0.25*len(patient_before)))\n",
    "sum(sorted_patient_before[:int(0.25*len(patient_before))])/sum(patient_before)"
   ]
  },
  {
   "cell_type": "code",
   "execution_count": 18,
   "id": "4698ee6b-bddf-4871-9604-7f166968ffd4",
   "metadata": {},
   "outputs": [
    {
     "data": {
      "image/png": "[encoded data removed]",
      "text/plain": [
       "<Figure size 432x288 with 1 Axes>"
      ]
     },
     "metadata": {
      "needs_background": "light"
     },
     "output_type": "display_data"
    }
   ],
   "source": [
    "m = lorenz_curve(patient_before, \"intervals before correction\")\n",
    "\n",
    "plt.savefig(f\"C:/Users/Marc/Desktop/BP photos/Lorenz_before.jpg\")\n",
    "plt.show()\n",
    "plt.close()\n"
   ]
  },
  {
   "cell_type": "code",
   "execution_count": 20,
   "id": "8ff38a8e-9ed5-425a-b059-0beb3dab7dda",
   "metadata": {},
   "outputs": [
    {
     "name": "stdout",
     "output_type": "stream",
     "text": [
      "cpu\n",
      "time: 15.824683666229248\n",
      "Number of files loaded in total: 195\n"
     ]
    }
   ],
   "source": [
    "import time\n",
    "\n",
    "\n",
    "device = \"cpu\"\n",
    "print(device)\n",
    "\n",
    "trainload = load_whole_data(path = \"C:/Users/Marc/Desktop/model_data/train_model_data\", series_dict = 'train_series_length.pickle', ind = [i for i in range(1, 195 + 1)])\n",
    "\n",
    "# Set up the dataloaders:\n",
    "\n",
    "trainloader = torch.utils.data.DataLoader(trainload,\n",
    "                                          batch_size=1,\n",
    "                                          shuffle=False,\n",
    "                                          num_workers=0)\n",
    "\n",
    "data_after = []\n",
    "\n",
    "nr_of_files_loaded = 0\n",
    "\n",
    "batch_size = 1\n",
    "\n",
    "start = time.time()\n",
    "\n",
    "for file in trainloader:\n",
    "    loader2 = load_shuffle_5_min(file, device)\n",
    "    loader2 = torch.utils.data.DataLoader(loader2,\n",
    "                                              batch_size=batch_size,\n",
    "                                              shuffle=True,\n",
    "                                              num_workers=0)\n",
    "    nr_of_files_loaded += 1\n",
    "    j = 0\n",
    "    for i in loader2:\n",
    "        j += 1\n",
    "    \n",
    "    data_after.append(j)\n",
    "\n",
    "print(\"time:\", time.time()-start)\n",
    "    \n",
    "print(\"Number of files loaded in total:\", nr_of_files_loaded)\n"
   ]
  },
  {
   "cell_type": "code",
   "execution_count": null,
   "id": "678e37ae-fc38-4cf8-9b07-a1f7a659bd26",
   "metadata": {},
   "outputs": [],
   "source": []
  },
  {
   "cell_type": "code",
   "execution_count": 32,
   "id": "135b8e01-4808-420e-92ed-2e17f72a4d8e",
   "metadata": {},
   "outputs": [],
   "source": [
    "patient_after = []\n",
    "\n",
    "for value in patient_samples.values():\n",
    "    vals = 0\n",
    "    for i in value:\n",
    "        vals += data_after[int(i)-1]\n",
    "    \n",
    "    patient_after.append(vals)"
   ]
  },
  {
   "cell_type": "code",
   "execution_count": 33,
   "id": "34033edf-8036-4118-be79-c3eb9c3a0129",
   "metadata": {},
   "outputs": [
    {
     "data": {
      "image/png": "[encoded data removed]",
      "text/plain": [
       "<Figure size 432x288 with 1 Axes>"
      ]
     },
     "metadata": {
      "needs_background": "light"
     },
     "output_type": "display_data"
    },
    {
     "name": "stdout",
     "output_type": "stream",
     "text": [
      "61.3948717948718\n",
      "64.0\n"
     ]
    }
   ],
   "source": [
    "plt.title(\"Histogram over intervals per experiment after correction\")\n",
    "plt.hist(data_after, bins = 30)\n",
    "plt.savefig(f\"C:/Users/Marc/Desktop/BP photos/hist_exp_after.jpg\")\n",
    "plt.show()\n",
    "plt.close()\n",
    "\n",
    "print(np.mean(data_after))\n",
    "print(np.median(data_after))"
   ]
  },
  {
   "cell_type": "code",
   "execution_count": 34,
   "id": "f74d0138-fd81-4276-a6a8-b620a14b44bb",
   "metadata": {},
   "outputs": [
    {
     "data": {
      "image/png": "[encoded data removed]",
      "text/plain": [
       "<Figure size 432x288 with 1 Axes>"
      ]
     },
     "metadata": {
      "needs_background": "light"
     },
     "output_type": "display_data"
    },
    {
     "name": "stdout",
     "output_type": "stream",
     "text": [
      "82.56551724137931\n",
      "88.0\n"
     ]
    }
   ],
   "source": [
    "plt.title(\"Histogram over intervals per patient after correction\")\n",
    "plt.hist(patient_after, bins = 30)\n",
    "plt.savefig(f\"C:/Users/Marc/Desktop/BP photos/hist_patient_after.jpg\")\n",
    "plt.show()\n",
    "plt.close()\n",
    "\n",
    "\n",
    "\n",
    "print(np.mean(patient_after))\n",
    "print(np.median(patient_after))"
   ]
  },
  {
   "cell_type": "code",
   "execution_count": 29,
   "id": "19861096-f33e-4d2c-bfad-1ee6b4d434f6",
   "metadata": {},
   "outputs": [
    {
     "name": "stdout",
     "output_type": "stream",
     "text": [
      "number of patients: 145\n"
     ]
    }
   ],
   "source": [
    "sorted_patient_after = sorted(patient_after, reverse=True)\n",
    "print(\"number of patients:\", len(patient_after))"
   ]
  },
  {
   "cell_type": "code",
   "execution_count": 30,
   "id": "a3026af9-5f71-4b6d-aed6-2fa61d4b9c15",
   "metadata": {},
   "outputs": [
    {
     "data": {
      "text/plain": [
       "36"
      ]
     },
     "execution_count": 30,
     "metadata": {},
     "output_type": "execute_result"
    }
   ],
   "source": [
    "int(0.25*len(patient_after))"
   ]
  },
  {
   "cell_type": "code",
   "execution_count": 31,
   "id": "064e895e-66b3-4a37-b865-fc0060081a3e",
   "metadata": {},
   "outputs": [
    {
     "data": {
      "text/plain": [
       "0.3220013364517207"
      ]
     },
     "execution_count": 31,
     "metadata": {},
     "output_type": "execute_result"
    }
   ],
   "source": [
    "sum(sorted_patient_after[:int(0.25*len(patient_after))])/sum(patient_after)"
   ]
  },
  {
   "cell_type": "code",
   "execution_count": 27,
   "id": "b52538a4-3e8a-4e42-99d0-ca6aaba8f89d",
   "metadata": {},
   "outputs": [
    {
     "data": {
      "image/png": "[encoded data removed]",
      "text/plain": [
       "<Figure size 432x288 with 1 Axes>"
      ]
     },
     "metadata": {
      "needs_background": "light"
     },
     "output_type": "display_data"
    }
   ],
   "source": [
    "m = lorenz_curve(patient_after, \"intervals after correction\")\n",
    "\n",
    "plt.savefig(f\"C:/Users/Marc/Desktop/BP photos/Lorenz_after.jpg\")\n",
    "plt.show()\n",
    "plt.close()"
   ]
  },
  {
   "cell_type": "code",
   "execution_count": null,
   "id": "cca36372-45eb-4bbe-a279-68202f80cb00",
   "metadata": {},
   "outputs": [],
   "source": []
  },
  {
   "cell_type": "code",
   "execution_count": null,
   "id": "89c2b9ad-a9d1-4b99-9f0b-6c9a12dc947e",
   "metadata": {},
   "outputs": [],
   "source": []
  },
  {
   "cell_type": "code",
   "execution_count": null,
   "id": "1e1e63b1-cb7a-4fea-b0da-3ea8df31f2d9",
   "metadata": {},
   "outputs": [],
   "source": [
    "from torch.utils.data import Dataset, DataLoader\n",
    "import torch\n",
    "import torch.nn.functional as F\n",
    "import numpy as np\n",
    "import math\n",
    "import pickle\n",
    "\n",
    "class load_shuffle_5_min(Dataset):\n",
    "    \"\"\"\n",
    "    This dataloader loads the tensor input and target in whole\n",
    "    \"\"\"\n",
    "    def __init__(self, ls: list, device):\n",
    "        \"\"\"\n",
    "        Args:\n",
    "            path (str): path to the input & target folder.\n",
    "            ind (list): list of indices for which pictures to load.\n",
    "            device (class 'torch.device'): which pytorch device the data should\n",
    "            be sent to.\n",
    "        \"\"\"\n",
    "\n",
    "        self.device = device\n",
    "        self.ls = ls # list with the input and target data\n",
    "        self.size = (ls[0][0].shape[0], ls[0][0].shape[1])\n",
    "            # size of target and input\n",
    "\n",
    "        self.s_len = ls[2][0]\n",
    "        self.s_num = ls[2][1]\n",
    "\n",
    "        length = math.floor((self.size[1]/(200*60*5)))*self.size[0]\n",
    "            # the amount of total possible cuts\n",
    "\n",
    "        self.length = int(min(torch.div(10, self.s_num,\n",
    "                                        rounding_mode='trunc'), length))\n",
    "            # make sure that no more than 75 samples is taken from the same\n",
    "            # individual\n",
    "\n",
    "        self.gen = iter(self.create_data(self.length))\n",
    "\n",
    "\n",
    "    def create_data(self, nr_of_cuts):\n",
    "        cut_point = np.random.randint(low = 200*30, #remove the first 30 secs\n",
    "                            high = self.size[1] - 5*200*60, size = nr_of_cuts)\n",
    "                            # choose the place to cut\n",
    "\n",
    "        cuts_pr_chan = nr_of_cuts/self.ls[0][0].shape[0]\n",
    "            # the amount of cuts pr channel\n",
    "\n",
    "        for i in range(nr_of_cuts):\n",
    "            chan = int(i//cuts_pr_chan) # the given channel\n",
    "            inp = self.ls[0][0][chan][cut_point[i]:cut_point[i]+60*5*200].view(1, 60*5*200)\n",
    "            tar = self.ls[1][0][chan][cut_point[i]:cut_point[i]+60*5*200].view(1, 60*5*200)\n",
    "            #inp = self.ls[0][0][chan][cut_point[i]:cut_point[i]+60*5*200]\n",
    "            #tar = self.ls[1][0][chan][cut_point[i]:cut_point[i]+60*5*200]\n",
    "\n",
    "\n",
    "            #tar = torch.cat((tar[0], -1*(tar[0] - 1))).view(2, 60*5*200)\n",
    "            yield (inp, tar, chan)\n",
    "\n",
    "    def __len__(self):\n",
    "        return self.length\n",
    "\n",
    "    def __getitem__(self, idx):\n",
    "        inp, tar, chan = next(self.gen)\n",
    "        inp = inp.to(self.device)\n",
    "        tar = tar.to(self.device)\n",
    "        return inp, tar, chan"
   ]
  },
  {
   "cell_type": "code",
   "execution_count": null,
   "id": "da8a9aed-52a5-4370-a62f-4a5ca740b58e",
   "metadata": {},
   "outputs": [],
   "source": [
    "import time\n",
    "\n",
    "\n",
    "device = \"cpu\"\n",
    "print(device)\n",
    "\n",
    "trainload = load_whole_data(path = \"C:/Users/Marc/Desktop/model_data/train_model_data\", series_dict = 'train_series_length.pickle', ind = [i for i in range(1, 195 + 1)])\n",
    "\n",
    "# Set up the dataloaders:\n",
    "\n",
    "trainloader = torch.utils.data.DataLoader(trainload,\n",
    "                                          batch_size=1,\n",
    "                                          shuffle=False,\n",
    "                                          num_workers=0)\n",
    "\n",
    "data_very_low = []\n",
    "\n",
    "nr_of_files_loaded = 0\n",
    "\n",
    "batch_size = 1\n",
    "\n",
    "start = time.time()\n",
    "\n",
    "for file in trainloader:\n",
    "    loader2 = load_shuffle_5_min(file, device)\n",
    "    loader2 = torch.utils.data.DataLoader(loader2,\n",
    "                                              batch_size=batch_size,\n",
    "                                              shuffle=True,\n",
    "                                              num_workers=0)\n",
    "    nr_of_files_loaded += 1\n",
    "    j = 0\n",
    "    for i in loader2:\n",
    "        j += 1\n",
    "    \n",
    "    data_very_low.append(j)\n",
    "\n",
    "print(\"time:\", time.time()-start)\n",
    "    \n",
    "print(\"Number of files loaded in total:\", nr_of_files_loaded)\n",
    "\n",
    "\n"
   ]
  },
  {
   "cell_type": "code",
   "execution_count": null,
   "id": "84582772-b369-409c-a56a-cbcde006562d",
   "metadata": {},
   "outputs": [],
   "source": [
    "patient_low = []\n",
    "\n",
    "for value in patient_samples.values():\n",
    "    vals = 0\n",
    "    for i in value:\n",
    "        vals += data_very_low[int(i)-1]\n",
    "    \n",
    "    patient_low.append(vals)"
   ]
  },
  {
   "cell_type": "code",
   "execution_count": null,
   "id": "773ee2ad-c791-413f-a134-72cc5999a4b6",
   "metadata": {},
   "outputs": [],
   "source": [
    "m = lorenz_curve(patient_low, \"intervals with extreme correction\")\n",
    "\n",
    "plt.savefig(f\"C:/Users/Marc/Desktop/BP photos/Lorenz_low.jpg\")\n",
    "plt.show()\n",
    "plt.close()"
   ]
  },
  {
   "cell_type": "code",
   "execution_count": null,
   "id": "34161e9f-6105-48ff-9ae8-2c09207baf18",
   "metadata": {},
   "outputs": [],
   "source": []
  },
  {
   "cell_type": "code",
   "execution_count": null,
   "id": "8e55abdb-0ced-446b-9b93-4c7fd08e1a47",
   "metadata": {},
   "outputs": [],
   "source": [
    "from torch.utils.data import Dataset, DataLoader\n",
    "import torch\n",
    "import torch.nn.functional as F\n",
    "import numpy as np\n",
    "import math\n",
    "import pickle\n",
    "\n",
    "class load_whole_data(Dataset): # Dataset\n",
    "    \"\"\"\n",
    "    This dataloader loads the tensor input and target in whole\n",
    "    \"\"\"\n",
    "    def __init__(self, path: str, ind: list, series_dict = None):\n",
    "        \"\"\"\n",
    "        Args:\n",
    "            path (str): path to the input & target folder.\n",
    "            ind (list): list of indices for which pictures to load.\n",
    "            device (class 'torch.device'): which pytorch device the data should\n",
    "            be sent to.\n",
    "        \"\"\"\n",
    "\n",
    "        self.device = \"cpu\"\n",
    "        self.imgs_path = path\n",
    "\n",
    "        if series_dict:\n",
    "            with open(path + \"/\" + series_dict, 'rb') as handle:\n",
    "                self.s_dict = pickle.load(handle)\n",
    "        else:\n",
    "            self.s_dict = False\n",
    "\n",
    "        self.data = []\n",
    "        for i in ind:\n",
    "            self.data.append([self.imgs_path + f\"/model_input ({i}).pt\",\n",
    "                        self.imgs_path + f\"/model_target ({i}).pt\",\n",
    "                        self.s_dict[i] if self.s_dict else 0])\n",
    "\n",
    "    def __len__(self):\n",
    "        return len(self.data)\n",
    "\n",
    "    def __getitem__(self, idx):\n",
    "        input_path, target_path, s_len_ls = self.data[idx]\n",
    "                                # path for target + input + lenght of series\n",
    "\n",
    "        inp = torch.load(input_path) # load the input data\n",
    "        inp = inp.type(torch.float).to(self.device)\n",
    "\n",
    "        tar = torch.load(target_path) # load the target data\n",
    "        tar = tar.type(torch.float).to(self.device)\n",
    "\n",
    "        return inp, tar, s_len_ls\n",
    "    \n",
    "        def yeet(self):\n",
    "            return iter(self.data)\n",
    "\n",
    "\n",
    "    \n",
    "class train_loader(Dataset):\n",
    "    \"\"\"\n",
    "    This dataloader loads the tensor input and target in whole\n",
    "    \"\"\"\n",
    "    def __init__(self, device, path: str, ind: list, series_dict = None):\n",
    "\n",
    "        self.imgs_path = path\n",
    "        self.device = device\n",
    "\n",
    "        if series_dict:\n",
    "            with open(path + \"/\" + series_dict, 'rb') as handle:\n",
    "                self.s_dict = pickle.load(handle)\n",
    "        else:\n",
    "            self.s_dict = False\n",
    "\n",
    "        self.data = []\n",
    "        for i in ind:\n",
    "            self.data.append([self.imgs_path + f\"/model_input ({i}).pt\",\n",
    "                        self.imgs_path + f\"/model_target ({i}).pt\",\n",
    "                        self.s_dict[i] if self.s_dict else 0])\n",
    "        \n",
    "        self.infin_it = self.infin_iter()\n",
    "        \n",
    "        self.read = self.reader()\n",
    "        \n",
    "            \n",
    "    def infin_iter(self):\n",
    "        it = iter(self.data)\n",
    "        while True:\n",
    "            try:\n",
    "                yield next(it)\n",
    "            except KeyboardInterrupt:\n",
    "                print('Interrupted')\n",
    "                try:\n",
    "                    sys.exit(0)\n",
    "                except SystemExit:\n",
    "                    os._exit(0)\n",
    "\n",
    "            except:\n",
    "                it = iter(self.data)\n",
    "        \n",
    "    def reader(self):\n",
    "        while True:\n",
    "            input_path, target_path, s_len_ls = next(self.infin_it)\n",
    "            print(input_path)\n",
    "                                    # path for target + input + lenght of series\n",
    "\n",
    "            inp = torch.load(input_path) # load the input data\n",
    "            inp = inp.type(torch.float).to(\"cpu\")\n",
    "\n",
    "            tar = torch.load(target_path) # load the target data\n",
    "            tar = tar.type(torch.float).to(\"cpu\")\n",
    "            self.ls = (inp, tar, s_len_ls)\n",
    "\n",
    "\n",
    "            self.size = (self.ls[0].shape[0], self.ls[0].shape[1])\n",
    "                # size of target and input\n",
    "\n",
    "            self.s_len = self.ls[2][0]\n",
    "            self.s_num = self.ls[2][1]\n",
    "\n",
    "            length = math.floor((self.size[1]/(200*60*5)))*self.size[0]\n",
    "                # the amount of total possible cuts\n",
    "\n",
    "            # self.length = int(min(torch.div(110, self.s_num,\n",
    "            #                                 rounding_mode='trunc'), length))\n",
    "\n",
    "\n",
    "            gen = self.create_data(3)\n",
    "\n",
    "            for g in gen:\n",
    "                print(g)\n",
    "                yield g\n",
    "\n",
    "\n",
    "    def create_data(self, nr_of_cuts):\n",
    "        cut_point = np.random.randint(low = 200*30, #remove the first 30 secs\n",
    "                            high = self.size[1] - 5*200*60, size = nr_of_cuts)\n",
    "                            # choose the place to cut\n",
    "\n",
    "        cuts_pr_chan = nr_of_cuts/self.ls[0].shape[0]\n",
    "        \n",
    "            # the amount of cuts pr channel\n",
    "        \n",
    "        \n",
    "        for i in range(nr_of_cuts):\n",
    "            chan = int(i//cuts_pr_chan) # the given channel\n",
    "            \n",
    "            inp = self.ls[0][chan][cut_point[i]:cut_point[i]+60*5*200].view(1, 60*5*200)\n",
    "            tar = self.ls[1][chan][cut_point[i]:cut_point[i]+60*5*200].view(1, 60*5*200)\n",
    "\n",
    "            yield (inp, tar, chan)\n",
    "            \n",
    "    def __getitem__(self, idx):\n",
    "        inp, tar, chan = next(self.read)\n",
    "        inp = inp.to(self.device)\n",
    "        tar = tar.to(self.device)\n",
    "        return inp, tar, chan\n",
    "    \n",
    "    def __len__(self):\n",
    "        return 7\n",
    "\n",
    "\n",
    "\n",
    "    \n",
    "\n",
    "                "
   ]
  },
  {
   "cell_type": "code",
   "execution_count": null,
   "id": "4bd2277b-5979-4a8c-baa9-1d7d8bcfe297",
   "metadata": {},
   "outputs": [],
   "source": [
    "import time\n",
    "\n",
    "\n",
    "device = \"cpu\"\n",
    "print(device)\n",
    "\n",
    "trainload = train_loader(path = \"C:/Users/Marc/Desktop/model_data/train_model_data\", series_dict = 'train_series_length.pickle', ind = [i for i in range(1, 3 + 1)], device = device)\n",
    "\n",
    "# Set up the dataloaders:\n",
    "\n",
    "\n",
    "batch_size = 4\n",
    "\n",
    "trainloader = torch.utils.data.DataLoader(trainload,\n",
    "                                          batch_size=batch_size,\n",
    "                                          drop_last = True,\n",
    "                                          num_workers=0)\n",
    "\n",
    "data_after = []\n",
    "\n",
    "nr_of_files_loaded = 0\n",
    "\n",
    "\n",
    "start = time.time()\n",
    "\n",
    "for file in trainloader:\n",
    "    print(file[0].shape)\n",
    "    print(file)\n",
    "\n",
    "print(\"time:\", time.time()-start)\n",
    "    "
   ]
  },
  {
   "cell_type": "code",
   "execution_count": null,
   "id": "37aae9a9-f9af-4139-b033-129df970e277",
   "metadata": {},
   "outputs": [],
   "source": []
  },
  {
   "cell_type": "code",
   "execution_count": null,
   "id": "c1da7314-51f2-466c-9931-45ddcbb05ae3",
   "metadata": {},
   "outputs": [],
   "source": []
  },
  {
   "cell_type": "code",
   "execution_count": null,
   "id": "7f7b785b-0eae-4ff4-9979-25f7c54e9e8d",
   "metadata": {},
   "outputs": [],
   "source": [
    "class A:\n",
    "    def __init__(self):\n",
    "        self.r = range(10)\n",
    "        self.it = iter(self.r)\n",
    "\n",
    "    def __getitem__(self, idx):\n",
    "        return next(self.it)\n",
    "\n",
    "        \n",
    "    \n",
    "    def __iter__(self):\n",
    "        return iter(self.it)\n",
    "    "
   ]
  },
  {
   "cell_type": "code",
   "execution_count": null,
   "id": "e5236769-c213-4b49-837e-d4a71a02c3d2",
   "metadata": {},
   "outputs": [],
   "source": [
    "a = A()\n",
    "b = iter(a)"
   ]
  },
  {
   "cell_type": "code",
   "execution_count": null,
   "id": "9cb941a5-1edb-41f3-9b12-c4e739286bac",
   "metadata": {},
   "outputs": [],
   "source": [
    "class B(A):\n",
    "    def __init__(self): #, ls: list, \n",
    "        super().__init__()\n",
    "        for i in self.__iter__():\n",
    "            print(i)"
   ]
  },
  {
   "cell_type": "code",
   "execution_count": null,
   "id": "e639e154-02eb-4995-942f-bf7723006b67",
   "metadata": {},
   "outputs": [],
   "source": [
    "b = B()"
   ]
  },
  {
   "cell_type": "code",
   "execution_count": null,
   "id": "63acec36-1545-42c8-9718-576e729abe5c",
   "metadata": {},
   "outputs": [],
   "source": [
    "kk = iter([1, 2, 3, 4, 5])"
   ]
  },
  {
   "cell_type": "code",
   "execution_count": null,
   "id": "770271ff-a58d-4770-b83a-eb561494f593",
   "metadata": {},
   "outputs": [],
   "source": [
    "next(kk)"
   ]
  },
  {
   "cell_type": "code",
   "execution_count": null,
   "id": "d9b24c8b-cd4d-4c5f-81ab-79d44a04ce61",
   "metadata": {},
   "outputs": [],
   "source": []
  },
  {
   "cell_type": "code",
   "execution_count": null,
   "id": "558bae02-18c0-4269-ac1e-eb90b658fa0b",
   "metadata": {},
   "outputs": [],
   "source": []
  },
  {
   "cell_type": "code",
   "execution_count": null,
   "id": "c4ff6af7-96c3-4ca0-892a-46479fde4583",
   "metadata": {},
   "outputs": [],
   "source": [
    "import time\n",
    "\n",
    "\n",
    "device = \"cpu\"\n",
    "print(device)\n",
    "\n",
    "trainload = load_whole_data(path = \"C:/Users/Marc/Desktop/model_data/train_model_data\", series_dict = 'train_series_length.pickle', ind = [i for i in range(1, 195 + 1)])\n",
    "\n",
    "# Set up the dataloaders:\n",
    "\n",
    "trainloader = torch.utils.data.DataLoader(trainload,\n",
    "                                          batch_size=1,\n",
    "                                          shuffle=False,\n",
    "                                          num_workers=0)\n",
    "\n",
    "data_after = []\n",
    "\n",
    "nr_of_files_loaded = 0\n",
    "\n",
    "batch_size = 20\n",
    "\n",
    "start = time.time()\n",
    "\n",
    "for file in trainloader:\n",
    "    loader2 = load_shuffle_5_min(file, device)\n",
    "    loader2 = torch.utils.data.DataLoader(loader2,\n",
    "                                              batch_size=batch_size,\n",
    "                                              shuffle=True,\n",
    "                                              num_workers=0)\n",
    "    nr_of_files_loaded += 1\n",
    "    j = 0\n",
    "    for i in loader2:\n",
    "        print(i[0].shape)\n",
    "    \n",
    "    data_after.append(j)\n",
    "\n",
    "print(\"time:\", time.time()-start)\n",
    "    \n",
    "\n"
   ]
  },
  {
   "cell_type": "code",
   "execution_count": null,
   "id": "a3462810-de14-4ca7-a7b8-ce3a2de323d9",
   "metadata": {},
   "outputs": [],
   "source": []
  }
 ],
 "metadata": {
  "kernelspec": {
   "display_name": "Python 3 (ipykernel)",
   "language": "python",
   "name": "python3"
  },
  "language_info": {
   "codemirror_mode": {
    "name": "ipython",
    "version": 3
   },
   "file_extension": ".py",
   "mimetype": "text/x-python",
   "name": "python",
   "nbconvert_exporter": "python",
   "pygments_lexer": "ipython3",
   "version": "3.9.6"
  }
 },
 "nbformat": 4,
 "nbformat_minor": 5
}
