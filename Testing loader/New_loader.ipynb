{
 "cells": [
  {
   "cell_type": "code",
   "execution_count": 1,
   "id": "d58db25b-fad2-40e8-b925-9d17e47dbb0e",
   "metadata": {},
   "outputs": [],
   "source": [
    "import numpy as np\n",
    "import pickle\n",
    "from tempfile import mkdtemp\n",
    "import torch"
   ]
  },
  {
   "cell_type": "code",
   "execution_count": 2,
   "id": "8ba3d381-bb36-4e62-b27f-491f7baadd01",
   "metadata": {},
   "outputs": [],
   "source": [
    "with open('C:/Users/Marc/Desktop/model_data/train_model_data/train_series_length.pickle', 'rb') as handle:\n",
    "    s_dict = pickle.load(handle)"
   ]
  },
  {
   "cell_type": "code",
   "execution_count": 3,
   "id": "c31aaa6c-8fc1-4525-be01-0c3658dad654",
   "metadata": {},
   "outputs": [
    {
     "name": "stdout",
     "output_type": "stream",
     "text": [
      "11141\n"
     ]
    }
   ],
   "source": [
    "ss = 0\n",
    "for val in s_dict.values():\n",
    "    ss += val[2]\n",
    "print(ss)"
   ]
  },
  {
   "cell_type": "code",
   "execution_count": 4,
   "id": "eeced9a0-7ad2-4a26-9696-1864db9c7904",
   "metadata": {},
   "outputs": [],
   "source": [
    "# most_chan = 0\n",
    "# longest = 0\n",
    "\n",
    "# for val in s_dict.values():\n",
    "#     if val[3][0] > most_chan:\n",
    "#         most_chan = val[3][0]\n",
    "    \n",
    "#     if val[3][1] > longest:\n",
    "#         longest = val[3][1]\n",
    "\n",
    "# print(\"Most channels:\", most_chan)\n",
    "# print(\"Longest series:\", longest)\n",
    "\n",
    "\n",
    "# ind_file = r\"C:\\Users\\Marc\\Documents\\GitHub\\Artefact-Rejection\\Testing loader\\model_indput.dat\"\n",
    "# tar_file = r\"C:\\Users\\Marc\\Documents\\GitHub\\Artefact-Rejection\\Testing loader\\model_target.dat\"\n",
    "# #filename = path.join(mkdtemp(), 'newfile.dat')\n",
    "# ind = np.memmap(ind_file, dtype='float32', mode='w+', shape=(len(s_dict), most_chan, longest))\n",
    "# tar = np.memmap(tar_file, dtype='float32', mode='w+', shape=(len(s_dict), most_chan, longest))"
   ]
  },
  {
   "cell_type": "code",
   "execution_count": 5,
   "id": "db2e4b13-5005-4a75-bc24-2994aea38f23",
   "metadata": {},
   "outputs": [],
   "source": [
    "path = \"C:/Users/Marc/Desktop/model_data/train_model_data\""
   ]
  },
  {
   "cell_type": "code",
   "execution_count": 6,
   "id": "d986339d-3602-44ec-9f0f-820f8cdab953",
   "metadata": {},
   "outputs": [],
   "source": [
    "# input_ls = []\n",
    "# target_ls = []\n",
    "# for i in range(1, 195 + 1):\n",
    "#     input_ls.append(torch.load(path + f\"/model_input ({i}).pt\"))\n",
    "#     target_ls.append(torch.load(path + f\"/model_target ({i}).pt\"))"
   ]
  },
  {
   "cell_type": "code",
   "execution_count": 7,
   "id": "db0c7b57-8b84-4d02-84ff-9db7e395755e",
   "metadata": {},
   "outputs": [],
   "source": [
    "# for i in range(0, 195):\n",
    "#     s = input_ls[i].shape\n",
    "#     ind[i, 0:s[0], 0:s[1]] = input_ls[i]\n",
    "#     tar[i, 0:s[0], 0:s[1]] = target_ls[i]"
   ]
  },
  {
   "cell_type": "code",
   "execution_count": null,
   "id": "42331855-28ed-4294-ba12-1c64154a65ea",
   "metadata": {},
   "outputs": [],
   "source": []
  },
  {
   "cell_type": "code",
   "execution_count": 8,
   "id": "82da906a-3cb4-4e54-9425-866c44cc231b",
   "metadata": {},
   "outputs": [],
   "source": [
    "from torch.utils.data import Dataset, DataLoader\n",
    "import torch\n",
    "import torch.nn.functional as F\n",
    "import numpy as np\n",
    "import math\n",
    "import pickle"
   ]
  },
  {
   "cell_type": "code",
   "execution_count": 9,
   "id": "71380cb5-b689-48ea-8970-0c18993a28dc",
   "metadata": {},
   "outputs": [],
   "source": [
    "class shuffle_5min(Dataset):\n",
    "    \"\"\"\n",
    "    This dataloader loads random 5 minute intervals from a random patient.\n",
    "    \"\"\"\n",
    "    def __init__(self, path: str, series_dict: str, size: tuple, device):\n",
    "        \"\"\"\n",
    "        Args:\n",
    "            path (str): path to the input & target folder.\n",
    "            series_dict (list): name of dict for data.\n",
    "            size : (number of experiments, number of max. channels, longest series)\n",
    "            device (class 'torch.device'): which pytorch device the data should\n",
    "            be sent to.\n",
    "        \"\"\"\n",
    "\n",
    "        self.device = device\n",
    "        self.size = size\n",
    "        \n",
    "        with open(path + \"/\" + series_dict, 'rb') as handle:\n",
    "            self.s_dict = pickle.load(handle)\n",
    "        \n",
    "        self.input_data = np.memmap(path + \"/model_input.dat\", dtype='float32', mode='r', shape=size)\n",
    "        self.target_data = np.memmap(path + \"/model_target.dat\", dtype='float32', mode='r', shape=size)\n",
    "        \n",
    "        prop = [] # list with probabilities\n",
    "        \n",
    "        ss = 0 # sum over all the batches\n",
    "        for val in self.s_dict.values():\n",
    "            prop.append(val[2])\n",
    "            ss += val[2]\n",
    "            \n",
    "        self.prop = np.array(prop) / ss\n",
    "        self.length = ss        \n",
    "        \n",
    "        self.gen = iter(self.create_data(self.s_dict))\n",
    "        \n",
    "\n",
    "\n",
    "    def create_data(self, s_dict):\n",
    "        while True:\n",
    "            ind = np.random.choice(self.size[0], 1, p = self.prop)\n",
    "            shp = s_dict[ind[0] + 1][3] # shape of experiment \n",
    "\n",
    "            cut_point = np.random.randint(low = 200*30, #remove the first 30 secs\n",
    "                                high = shp[1] - 5*200*60, size = 1)\n",
    "                                # choose the place to cut\n",
    "\n",
    "            chan = np.random.choice(shp[0], 1)\n",
    "\n",
    "            inp = self.input_data[ind[0], chan[0], cut_point[0]:cut_point[0]+60*5*200]\n",
    "            inp = torch.tensor(inp).view(1, 60*5*200)\n",
    "            tar = self.target_data[ind[0], chan[0], cut_point[0]:cut_point[0]+60*5*200]\n",
    "            tar = torch.tensor(tar).view(1, 60*5*200)\n",
    "            # #inp = self.ls[0][0][chan][cut_point[i]:cut_point[i]+60*5*200]\n",
    "            # #tar = self.ls[1][0][chan][cut_point[i]:cut_point[i]+60*5*200]\n",
    "\n",
    "            #tar = torch.cat((tar[0], -1*(tar[0] - 1))).view(2, 60*5*200)\n",
    "            yield inp, tar, (ind[0], chan[0], cut_point[0])\n",
    "\n",
    "    def __len__(self):\n",
    "        return self.length\n",
    "\n",
    "    def __getitem__(self, idx):\n",
    "        inp, tar, chan = next(self.gen)\n",
    "        inp = inp.to(self.device)\n",
    "        tar = tar.to(self.device)\n",
    "        return inp, tar, chan"
   ]
  },
  {
   "cell_type": "code",
   "execution_count": 606,
   "id": "135d9960-19ae-4540-bc5d-72f7336ec9ea",
   "metadata": {},
   "outputs": [
    {
     "data": {
      "text/plain": [
       "[tensor([[[ 23.2218,   4.0522,  11.0397,  ...,  43.4882,  83.1455, 115.6397]]]),\n",
       " tensor([[[0., 0., 0.,  ..., 1., 1., 1.]]]),\n",
       " [tensor([178], dtype=torch.int32),\n",
       "  tensor([9], dtype=torch.int32),\n",
       "  tensor([119258], dtype=torch.int32)]]"
      ]
     },
     "execution_count": 606,
     "metadata": {},
     "output_type": "execute_result"
    }
   ],
   "source": [
    "train_load_file = shuffle_5min(path = \"C:/Users/Marc/Desktop/model_data/train_model_data\",\n",
    "                                     series_dict = 'train_series_length.pickle',\n",
    "                                     size = (195, 22, 2060000),\n",
    "                                     device = \"cpu\")\n",
    "\n",
    "\n",
    "train_file_loader = torch.utils.data.DataLoader(train_load_file,\n",
    "                                                batch_size=1,\n",
    "                                                shuffle=True,\n",
    "                                                num_workers=0)\n",
    "\n",
    "it = iter(train_file_loader)\n",
    "next(it)"
   ]
  },
  {
   "cell_type": "code",
   "execution_count": 11,
   "id": "414102bc-fba1-4f83-ad74-212b2001d4bb",
   "metadata": {},
   "outputs": [],
   "source": []
  },
  {
   "cell_type": "code",
   "execution_count": 608,
   "id": "48faf35c-4742-448a-a289-f433da067422",
   "metadata": {},
   "outputs": [],
   "source": [
    "train_load_file = shuffle_5min(path = \"C:/Users/Marc/Desktop/model_data/val_model_data\",\n",
    "                                     series_dict = 'val_series_length.pickle',\n",
    "                                     size = (28, 22, 549200),\n",
    "                                     device = \"cpu\")\n",
    "\n",
    "\n",
    "train_file_loader = torch.utils.data.DataLoader(train_load_file,\n",
    "                                                batch_size=1,\n",
    "                                                shuffle=True,\n",
    "                                                num_workers=0)\n",
    "\n"
   ]
  },
  {
   "cell_type": "code",
   "execution_count": 607,
   "id": "4de2b380-2cc8-43aa-b530-6ccd1255b9d1",
   "metadata": {},
   "outputs": [
    {
     "name": "stdout",
     "output_type": "stream",
     "text": [
      "11141\n"
     ]
    }
   ],
   "source": [
    "j= 0\n",
    "for i in train_file_loader:\n",
    "    j += 1\n",
    "print(j)"
   ]
  },
  {
   "cell_type": "code",
   "execution_count": 609,
   "id": "d2ef0748-b5f7-427f-8739-529166a369b9",
   "metadata": {},
   "outputs": [
    {
     "name": "stdout",
     "output_type": "stream",
     "text": [
      "1697\n"
     ]
    }
   ],
   "source": [
    "j= 0\n",
    "for i in train_file_loader:\n",
    "    j += 1\n",
    "print(j)"
   ]
  },
  {
   "cell_type": "code",
   "execution_count": null,
   "id": "aa6700cc-a6fb-4525-ab1e-19f6f8ea86a2",
   "metadata": {},
   "outputs": [],
   "source": []
  }
 ],
 "metadata": {
  "kernelspec": {
   "display_name": "Python 3 (ipykernel)",
   "language": "python",
   "name": "python3"
  },
  "language_info": {
   "codemirror_mode": {
    "name": "ipython",
    "version": 3
   },
   "file_extension": ".py",
   "mimetype": "text/x-python",
   "name": "python",
   "nbconvert_exporter": "python",
   "pygments_lexer": "ipython3",
   "version": "3.9.6"
  }
 },
 "nbformat": 4,
 "nbformat_minor": 5
}
