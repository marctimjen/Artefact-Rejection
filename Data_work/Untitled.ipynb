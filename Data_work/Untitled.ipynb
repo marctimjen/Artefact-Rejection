{
 "cells": [
  {
   "cell_type": "code",
   "execution_count": null,
   "id": "7c3c97cf-ddf2-4e88-ac62-364fa340cedb",
   "metadata": {
    "tags": []
   },
   "outputs": [
    {
     "data": {
      "image/png": "[encoded data removed]",
      "text/plain": [
       "<Figure size 432x288 with 2 Axes>"
      ]
     },
     "metadata": {
      "needs_background": "light"
     },
     "output_type": "display_data"
    },
    {
     "name": "stdin",
     "output_type": "stream",
     "text": [
      "ind: \n"
     ]
    },
    {
     "data": {
      "image/png": "[encoded data removed]",
      "text/plain": [
       "<Figure size 432x288 with 2 Axes>"
      ]
     },
     "metadata": {
      "needs_background": "light"
     },
     "output_type": "display_data"
    }
   ],
   "source": [
    "import neptune.new as neptune\n",
    "import os\n",
    "import torch.nn as nn\n",
    "import torch\n",
    "import torch.nn.functional as F\n",
    "from torch.optim import SGD, Adam\n",
    "from torch.utils.data import DataLoader, random_split\n",
    "from torch.optim.lr_scheduler import CyclicLR\n",
    "import torch.multiprocessing as mp\n",
    "import numpy as np\n",
    "import random\n",
    "\n",
    "import sys\n",
    "sys.path.append(\"..\") # adds higher directory to python modules path\n",
    "\n",
    "from LoaderPACK.Unet import Unet\n",
    "from LoaderPACK.Loader import load_whole_data, load_5_min_intervals, load_shuffle_5_min\n",
    "from LoaderPACK.Accuarcy_finder import Accuarcy_find_tester\n",
    "from multiprocessing import Process\n",
    "from LoaderPACK.trainer import net_train\n",
    "import matplotlib.pyplot as plt\n",
    "import csv\n",
    "\n",
    "\n",
    "load_file = load_whole_data(path = \"C:/Users/Marc/Desktop/model_data\",\n",
    "                                  ind = range(1, 226 + 1))\n",
    "\n",
    "file_loader = torch.utils.data.DataLoader(load_file,\n",
    "                                          batch_size=1,\n",
    "                                          shuffle=False,\n",
    "                                          num_workers=0)\n",
    "\n",
    "\n",
    "for file in file_loader:\n",
    "    #figure, axis = plt.subplots(2, 1)\n",
    "\n",
    "    ## The artifacts on channel: FP1-F7\n",
    "    #axis[0].plot(file[0][0][0])\n",
    "    #axis[0].axes.xaxis.set_visible(False) # remove digits on x-axis\n",
    "    #\n",
    "    ## The artifacts on channel: F7-T3\n",
    "    #axis[1].plot(file[1][0][0], \"b\")\n",
    "    #axis[1].axes.xaxis.set_visible(False) # remove digits on x-axis\n",
    "    #\n",
    "    #plt.show()\n",
    "    \n",
    "    ##input(\"ind:\")\n",
    "    \n",
    "    for i in range(file[0].shape[1]):\n",
    "        figure, axis = plt.subplots(2, 1)\n",
    "        # The artifacts on channel: FP1-F7\n",
    "        axis[0].plot(file[0][0][0])\n",
    "        axis[0].axes.xaxis.set_visible(False) # remove digits on x-axis\n",
    "        # The artifacts on channel: F7-T3\n",
    "        axis[1].plot(file[1][0][0], \"b\")\n",
    "        axis[1].axes.xaxis.set_visible(False) # remove digits on x-axis\n",
    "        \n",
    "        plt.show()\n",
    "        \n",
    "        input(\"ind:\")\n",
    "    \n",
    "    \n"
   ]
  },
  {
   "cell_type": "code",
   "execution_count": null,
   "id": "6509e0c3-83c5-4075-acb3-86e3a89346d6",
   "metadata": {},
   "outputs": [],
   "source": [
    "for file in file_loader:\n",
    "    if False:\n",
    "        figure, axis = plt.subplots(8, 1)\n",
    "\n",
    "        # The artifacts on channel: FP1-F7\n",
    "        axis[0].plot(file[0][0][0])\n",
    "        axis[0].axes.xaxis.set_visible(False) # remove digits on x-axis\n",
    "\n",
    "        # The artifacts on channel: F7-T3\n",
    "        axis[1].plot(file[1][0][0], \"b\")\n",
    "        axis[1].axes.xaxis.set_visible(False) # remove digits on x-axis\n",
    "\n",
    "        axis[2].plot(file[0][0][1])\n",
    "        axis[2].axes.xaxis.set_visible(False) # remove digits on x-axis\n",
    "\n",
    "        # The artifacts on channel: F7-T3\n",
    "        axis[3].plot(file[1][0][1], \"b\")\n",
    "        axis[3].axes.xaxis.set_visible(False) # remove digits on x-axis\n",
    "\n",
    "\n",
    "        axis[4].plot(file[0][0][2])\n",
    "        axis[4].axes.xaxis.set_visible(False) # remove digits on x-axis\n",
    "\n",
    "        # The artifacts on channel: F7-T3\n",
    "        axis[5].plot(file[1][0][2], \"b\")\n",
    "        axis[5].axes.xaxis.set_visible(False) # remove digits on x-axis\n",
    "\n",
    "        axis[6].plot(file[0][0][3])\n",
    "        axis[6].axes.xaxis.set_visible(False) # remove digits on x-axis\n",
    "\n",
    "        # The artifacts on channel: F7-T3\n",
    "        axis[7].plot(file[1][0][3], \"b\")\n",
    "        axis[7].axes.xaxis.set_visible(False) # remove digits on x-axis\n",
    "\n",
    "        plt.show()"
   ]
  }
 ],
 "metadata": {
  "kernelspec": {
   "display_name": "Python 3 (ipykernel)",
   "language": "python",
   "name": "python3"
  },
  "language_info": {
   "codemirror_mode": {
    "name": "ipython",
    "version": 3
   },
   "file_extension": ".py",
   "mimetype": "text/x-python",
   "name": "python",
   "nbconvert_exporter": "python",
   "pygments_lexer": "ipython3",
   "version": "3.9.6"
  }
 },
 "nbformat": 4,
 "nbformat_minor": 5
}
