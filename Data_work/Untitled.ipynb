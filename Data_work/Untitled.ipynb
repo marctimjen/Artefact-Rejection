{
 "cells": [
  {
   "cell_type": "code",
   "execution_count": 10,
   "id": "7c3c97cf-ddf2-4e88-ac62-364fa340cedb",
   "metadata": {
    "tags": []
   },
   "outputs": [],
   "source": [
    "import neptune.new as neptune\n",
    "import os\n",
    "import torch.nn as nn\n",
    "import torch\n",
    "import torch.nn.functional as F\n",
    "from torch.optim import SGD, Adam\n",
    "from torch.utils.data import DataLoader, random_split\n",
    "from torch.optim.lr_scheduler import CyclicLR\n",
    "import torch.multiprocessing as mp\n",
    "import numpy as np\n",
    "import random\n",
    "\n",
    "import sys\n",
    "sys.path.append(\"..\") # adds higher directory to python modules path\n",
    "\n",
    "from LoaderPACK.Unet import Unet\n",
    "from LoaderPACK.Loader import load_whole_data, load_5_min_intervals, load_shuffle_5_min\n",
    "from LoaderPACK.Accuarcy_finder import Accuarcy_find_tester\n",
    "from multiprocessing import Process\n",
    "from LoaderPACK.trainer import net_train\n",
    "\n",
    "\n",
    "import matplotlib.pyplot as plt\n",
    "import csv\n",
    "\n",
    "\n",
    "\n",
    "    \n",
    "    \n"
   ]
  },
  {
   "cell_type": "code",
   "execution_count": 11,
   "id": "4f442ea1-d0aa-4ce1-af73-df9a6b07e6e0",
   "metadata": {
    "tags": []
   },
   "outputs": [
    {
     "name": "stdout",
     "output_type": "stream",
     "text": [
      "1\n",
      "2\n",
      "3\n",
      "4\n",
      "5\n",
      "6\n",
      "7\n",
      "8\n",
      "9\n",
      "10\n",
      "11\n",
      "12\n",
      "13\n",
      "14\n",
      "15\n",
      "16\n",
      "17\n",
      "18\n",
      "19\n",
      "20\n",
      "21\n",
      "22\n",
      "23\n",
      "24\n",
      "25\n",
      "26\n",
      "27\n",
      "28\n",
      "29\n",
      "30\n",
      "31\n",
      "32\n",
      "33\n",
      "34\n",
      "35\n",
      "36\n",
      "37\n",
      "38\n"
     ]
    },
    {
     "ename": "KeyboardInterrupt",
     "evalue": "",
     "output_type": "error",
     "traceback": [
      "\u001b[1;31m---------------------------------------------------------------------------\u001b[0m",
      "\u001b[1;31mKeyboardInterrupt\u001b[0m                         Traceback (most recent call last)",
      "Input \u001b[1;32mIn [11]\u001b[0m, in \u001b[0;36m<cell line: 13>\u001b[1;34m()\u001b[0m\n\u001b[0;32m     18\u001b[0m axis[\u001b[38;5;241m0\u001b[39m]\u001b[38;5;241m.\u001b[39mplot(file[\u001b[38;5;241m0\u001b[39m][\u001b[38;5;241m0\u001b[39m][i])\n\u001b[0;32m     19\u001b[0m axis[\u001b[38;5;241m0\u001b[39m]\u001b[38;5;241m.\u001b[39mset_title(\u001b[38;5;124mf\u001b[39m\u001b[38;5;124m\"\u001b[39m\u001b[38;5;124mfile_nr: \u001b[39m\u001b[38;5;132;01m{\u001b[39;00mf_nr\u001b[38;5;132;01m}\u001b[39;00m\u001b[38;5;124m with channel: \u001b[39m\u001b[38;5;132;01m{\u001b[39;00msr_nr\u001b[38;5;132;01m}\u001b[39;00m\u001b[38;5;124m\"\u001b[39m)\n\u001b[1;32m---> 20\u001b[0m \u001b[43maxis\u001b[49m\u001b[43m[\u001b[49m\u001b[38;5;241;43m1\u001b[39;49m\u001b[43m]\u001b[49m\u001b[38;5;241;43m.\u001b[39;49m\u001b[43mplot\u001b[49m\u001b[43m(\u001b[49m\u001b[43mfile\u001b[49m\u001b[43m[\u001b[49m\u001b[38;5;241;43m1\u001b[39;49m\u001b[43m]\u001b[49m\u001b[43m[\u001b[49m\u001b[38;5;241;43m0\u001b[39;49m\u001b[43m]\u001b[49m\u001b[43m[\u001b[49m\u001b[43mi\u001b[49m\u001b[43m]\u001b[49m\u001b[43m,\u001b[49m\u001b[43m \u001b[49m\u001b[38;5;124;43m\"\u001b[39;49m\u001b[38;5;124;43mb\u001b[39;49m\u001b[38;5;124;43m\"\u001b[39;49m\u001b[43m)\u001b[49m\n\u001b[0;32m     22\u001b[0m plt\u001b[38;5;241m.\u001b[39msavefig(\u001b[38;5;124mf\u001b[39m\u001b[38;5;124m\"\u001b[39m\u001b[38;5;124mC:/Users/Marc/Desktop/plots/graf (\u001b[39m\u001b[38;5;132;01m{\u001b[39;00mtot_sr_nr\u001b[38;5;132;01m}\u001b[39;00m\u001b[38;5;124m).jpg\u001b[39m\u001b[38;5;124m\"\u001b[39m)\n\u001b[0;32m     23\u001b[0m plt\u001b[38;5;241m.\u001b[39mclose()\n",
      "File \u001b[1;32m~\\anaconda3\\envs\\deep\\lib\\site-packages\\matplotlib\\axes\\_axes.py:1634\u001b[0m, in \u001b[0;36mAxes.plot\u001b[1;34m(self, scalex, scaley, data, *args, **kwargs)\u001b[0m\n\u001b[0;32m   1632\u001b[0m lines \u001b[38;5;241m=\u001b[39m [\u001b[38;5;241m*\u001b[39m\u001b[38;5;28mself\u001b[39m\u001b[38;5;241m.\u001b[39m_get_lines(\u001b[38;5;241m*\u001b[39margs, data\u001b[38;5;241m=\u001b[39mdata, \u001b[38;5;241m*\u001b[39m\u001b[38;5;241m*\u001b[39mkwargs)]\n\u001b[0;32m   1633\u001b[0m \u001b[38;5;28;01mfor\u001b[39;00m line \u001b[38;5;129;01min\u001b[39;00m lines:\n\u001b[1;32m-> 1634\u001b[0m     \u001b[38;5;28;43mself\u001b[39;49m\u001b[38;5;241;43m.\u001b[39;49m\u001b[43madd_line\u001b[49m\u001b[43m(\u001b[49m\u001b[43mline\u001b[49m\u001b[43m)\u001b[49m\n\u001b[0;32m   1635\u001b[0m \u001b[38;5;28mself\u001b[39m\u001b[38;5;241m.\u001b[39m_request_autoscale_view(scalex\u001b[38;5;241m=\u001b[39mscalex, scaley\u001b[38;5;241m=\u001b[39mscaley)\n\u001b[0;32m   1636\u001b[0m \u001b[38;5;28;01mreturn\u001b[39;00m lines\n",
      "File \u001b[1;32m~\\anaconda3\\envs\\deep\\lib\\site-packages\\matplotlib\\axes\\_base.py:2283\u001b[0m, in \u001b[0;36m_AxesBase.add_line\u001b[1;34m(self, line)\u001b[0m\n\u001b[0;32m   2280\u001b[0m \u001b[38;5;28;01mif\u001b[39;00m line\u001b[38;5;241m.\u001b[39mget_clip_path() \u001b[38;5;129;01mis\u001b[39;00m \u001b[38;5;28;01mNone\u001b[39;00m:\n\u001b[0;32m   2281\u001b[0m     line\u001b[38;5;241m.\u001b[39mset_clip_path(\u001b[38;5;28mself\u001b[39m\u001b[38;5;241m.\u001b[39mpatch)\n\u001b[1;32m-> 2283\u001b[0m \u001b[38;5;28;43mself\u001b[39;49m\u001b[38;5;241;43m.\u001b[39;49m\u001b[43m_update_line_limits\u001b[49m\u001b[43m(\u001b[49m\u001b[43mline\u001b[49m\u001b[43m)\u001b[49m\n\u001b[0;32m   2284\u001b[0m \u001b[38;5;28;01mif\u001b[39;00m \u001b[38;5;129;01mnot\u001b[39;00m line\u001b[38;5;241m.\u001b[39mget_label():\n\u001b[0;32m   2285\u001b[0m     line\u001b[38;5;241m.\u001b[39mset_label(\u001b[38;5;124mf\u001b[39m\u001b[38;5;124m'\u001b[39m\u001b[38;5;124m_child\u001b[39m\u001b[38;5;132;01m{\u001b[39;00m\u001b[38;5;28mlen\u001b[39m(\u001b[38;5;28mself\u001b[39m\u001b[38;5;241m.\u001b[39m_children)\u001b[38;5;132;01m}\u001b[39;00m\u001b[38;5;124m'\u001b[39m)\n",
      "File \u001b[1;32m~\\anaconda3\\envs\\deep\\lib\\site-packages\\matplotlib\\axes\\_base.py:2306\u001b[0m, in \u001b[0;36m_AxesBase._update_line_limits\u001b[1;34m(self, line)\u001b[0m\n\u001b[0;32m   2302\u001b[0m \u001b[38;5;28;01mdef\u001b[39;00m \u001b[38;5;21m_update_line_limits\u001b[39m(\u001b[38;5;28mself\u001b[39m, line):\n\u001b[0;32m   2303\u001b[0m     \u001b[38;5;124;03m\"\"\"\u001b[39;00m\n\u001b[0;32m   2304\u001b[0m \u001b[38;5;124;03m    Figures out the data limit of the given line, updating self.dataLim.\u001b[39;00m\n\u001b[0;32m   2305\u001b[0m \u001b[38;5;124;03m    \"\"\"\u001b[39;00m\n\u001b[1;32m-> 2306\u001b[0m     path \u001b[38;5;241m=\u001b[39m \u001b[43mline\u001b[49m\u001b[38;5;241;43m.\u001b[39;49m\u001b[43mget_path\u001b[49m\u001b[43m(\u001b[49m\u001b[43m)\u001b[49m\n\u001b[0;32m   2307\u001b[0m     \u001b[38;5;28;01mif\u001b[39;00m path\u001b[38;5;241m.\u001b[39mvertices\u001b[38;5;241m.\u001b[39msize \u001b[38;5;241m==\u001b[39m \u001b[38;5;241m0\u001b[39m:\n\u001b[0;32m   2308\u001b[0m         \u001b[38;5;28;01mreturn\u001b[39;00m\n",
      "File \u001b[1;32m~\\anaconda3\\envs\\deep\\lib\\site-packages\\matplotlib\\lines.py:997\u001b[0m, in \u001b[0;36mLine2D.get_path\u001b[1;34m(self)\u001b[0m\n\u001b[0;32m    995\u001b[0m \u001b[38;5;124;03m\"\"\"Return the `~matplotlib.path.Path` associated with this line.\"\"\"\u001b[39;00m\n\u001b[0;32m    996\u001b[0m \u001b[38;5;28;01mif\u001b[39;00m \u001b[38;5;28mself\u001b[39m\u001b[38;5;241m.\u001b[39m_invalidy \u001b[38;5;129;01mor\u001b[39;00m \u001b[38;5;28mself\u001b[39m\u001b[38;5;241m.\u001b[39m_invalidx:\n\u001b[1;32m--> 997\u001b[0m     \u001b[38;5;28;43mself\u001b[39;49m\u001b[38;5;241;43m.\u001b[39;49m\u001b[43mrecache\u001b[49m\u001b[43m(\u001b[49m\u001b[43m)\u001b[49m\n\u001b[0;32m    998\u001b[0m \u001b[38;5;28;01mreturn\u001b[39;00m \u001b[38;5;28mself\u001b[39m\u001b[38;5;241m.\u001b[39m_path\n",
      "File \u001b[1;32m~\\anaconda3\\envs\\deep\\lib\\site-packages\\matplotlib\\lines.py:654\u001b[0m, in \u001b[0;36mLine2D.recache\u001b[1;34m(self, always)\u001b[0m\n\u001b[0;32m    652\u001b[0m     x \u001b[38;5;241m=\u001b[39m \u001b[38;5;28mself\u001b[39m\u001b[38;5;241m.\u001b[39m_x\n\u001b[0;32m    653\u001b[0m \u001b[38;5;28;01mif\u001b[39;00m always \u001b[38;5;129;01mor\u001b[39;00m \u001b[38;5;28mself\u001b[39m\u001b[38;5;241m.\u001b[39m_invalidy:\n\u001b[1;32m--> 654\u001b[0m     yconv \u001b[38;5;241m=\u001b[39m \u001b[38;5;28;43mself\u001b[39;49m\u001b[38;5;241;43m.\u001b[39;49m\u001b[43mconvert_yunits\u001b[49m\u001b[43m(\u001b[49m\u001b[38;5;28;43mself\u001b[39;49m\u001b[38;5;241;43m.\u001b[39;49m\u001b[43m_yorig\u001b[49m\u001b[43m)\u001b[49m\n\u001b[0;32m    655\u001b[0m     y \u001b[38;5;241m=\u001b[39m _to_unmasked_float_array(yconv)\u001b[38;5;241m.\u001b[39mravel()\n\u001b[0;32m    656\u001b[0m \u001b[38;5;28;01melse\u001b[39;00m:\n",
      "File \u001b[1;32m~\\anaconda3\\envs\\deep\\lib\\site-packages\\matplotlib\\artist.py:264\u001b[0m, in \u001b[0;36mArtist.convert_yunits\u001b[1;34m(self, y)\u001b[0m\n\u001b[0;32m    262\u001b[0m \u001b[38;5;28;01mif\u001b[39;00m ax \u001b[38;5;129;01mis\u001b[39;00m \u001b[38;5;28;01mNone\u001b[39;00m \u001b[38;5;129;01mor\u001b[39;00m ax\u001b[38;5;241m.\u001b[39myaxis \u001b[38;5;129;01mis\u001b[39;00m \u001b[38;5;28;01mNone\u001b[39;00m:\n\u001b[0;32m    263\u001b[0m     \u001b[38;5;28;01mreturn\u001b[39;00m y\n\u001b[1;32m--> 264\u001b[0m \u001b[38;5;28;01mreturn\u001b[39;00m \u001b[43max\u001b[49m\u001b[38;5;241;43m.\u001b[39;49m\u001b[43myaxis\u001b[49m\u001b[38;5;241;43m.\u001b[39;49m\u001b[43mconvert_units\u001b[49m\u001b[43m(\u001b[49m\u001b[43my\u001b[49m\u001b[43m)\u001b[49m\n",
      "File \u001b[1;32m~\\anaconda3\\envs\\deep\\lib\\site-packages\\matplotlib\\axis.py:1497\u001b[0m, in \u001b[0;36mAxis.convert_units\u001b[1;34m(self, x)\u001b[0m\n\u001b[0;32m   1495\u001b[0m \u001b[38;5;28;01mdef\u001b[39;00m \u001b[38;5;21mconvert_units\u001b[39m(\u001b[38;5;28mself\u001b[39m, x):\n\u001b[0;32m   1496\u001b[0m     \u001b[38;5;66;03m# If x is natively supported by Matplotlib, doesn't need converting\u001b[39;00m\n\u001b[1;32m-> 1497\u001b[0m     \u001b[38;5;28;01mif\u001b[39;00m \u001b[43mmunits\u001b[49m\u001b[38;5;241;43m.\u001b[39;49m\u001b[43m_is_natively_supported\u001b[49m\u001b[43m(\u001b[49m\u001b[43mx\u001b[49m\u001b[43m)\u001b[49m:\n\u001b[0;32m   1498\u001b[0m         \u001b[38;5;28;01mreturn\u001b[39;00m x\n\u001b[0;32m   1500\u001b[0m     \u001b[38;5;28;01mif\u001b[39;00m \u001b[38;5;28mself\u001b[39m\u001b[38;5;241m.\u001b[39mconverter \u001b[38;5;129;01mis\u001b[39;00m \u001b[38;5;28;01mNone\u001b[39;00m:\n",
      "File \u001b[1;32m~\\anaconda3\\envs\\deep\\lib\\site-packages\\matplotlib\\units.py:64\u001b[0m, in \u001b[0;36m_is_natively_supported\u001b[1;34m(x)\u001b[0m\n\u001b[0;32m     61\u001b[0m \u001b[38;5;66;03m# Matplotlib natively supports all number types except Decimal.\u001b[39;00m\n\u001b[0;32m     62\u001b[0m \u001b[38;5;28;01mif\u001b[39;00m np\u001b[38;5;241m.\u001b[39miterable(x):\n\u001b[0;32m     63\u001b[0m     \u001b[38;5;66;03m# Assume lists are homogeneous as other functions in unit system.\u001b[39;00m\n\u001b[1;32m---> 64\u001b[0m     \u001b[38;5;28;01mfor\u001b[39;00m thisx \u001b[38;5;129;01min\u001b[39;00m x:\n\u001b[0;32m     65\u001b[0m         \u001b[38;5;28;01mif\u001b[39;00m thisx \u001b[38;5;129;01mis\u001b[39;00m ma\u001b[38;5;241m.\u001b[39mmasked:\n\u001b[0;32m     66\u001b[0m             \u001b[38;5;28;01mcontinue\u001b[39;00m\n",
      "File \u001b[1;32m~\\anaconda3\\envs\\deep\\lib\\site-packages\\torch\\_tensor.py:648\u001b[0m, in \u001b[0;36mTensor.__iter__\u001b[1;34m(self)\u001b[0m\n\u001b[0;32m    643\u001b[0m \u001b[38;5;28;01mif\u001b[39;00m torch\u001b[38;5;241m.\u001b[39m_C\u001b[38;5;241m.\u001b[39m_get_tracing_state():\n\u001b[0;32m    644\u001b[0m     warnings\u001b[38;5;241m.\u001b[39mwarn(\u001b[38;5;124m'\u001b[39m\u001b[38;5;124mIterating over a tensor might cause the trace to be incorrect. \u001b[39m\u001b[38;5;124m'\u001b[39m\n\u001b[0;32m    645\u001b[0m                   \u001b[38;5;124m'\u001b[39m\u001b[38;5;124mPassing a tensor of different shape won\u001b[39m\u001b[38;5;130;01m\\'\u001b[39;00m\u001b[38;5;124mt change the number of \u001b[39m\u001b[38;5;124m'\u001b[39m\n\u001b[0;32m    646\u001b[0m                   \u001b[38;5;124m'\u001b[39m\u001b[38;5;124miterations executed (and might lead to errors or silently give \u001b[39m\u001b[38;5;124m'\u001b[39m\n\u001b[0;32m    647\u001b[0m                   \u001b[38;5;124m'\u001b[39m\u001b[38;5;124mincorrect results).\u001b[39m\u001b[38;5;124m'\u001b[39m, category\u001b[38;5;241m=\u001b[39mtorch\u001b[38;5;241m.\u001b[39mjit\u001b[38;5;241m.\u001b[39mTracerWarning, stacklevel\u001b[38;5;241m=\u001b[39m\u001b[38;5;241m2\u001b[39m)\n\u001b[1;32m--> 648\u001b[0m \u001b[38;5;28;01mreturn\u001b[39;00m \u001b[38;5;28;43miter\u001b[39;49m\u001b[43m(\u001b[49m\u001b[38;5;28;43mself\u001b[39;49m\u001b[38;5;241;43m.\u001b[39;49m\u001b[43munbind\u001b[49m\u001b[43m(\u001b[49m\u001b[38;5;241;43m0\u001b[39;49m\u001b[43m)\u001b[49m\u001b[43m)\u001b[49m\n",
      "\u001b[1;31mKeyboardInterrupt\u001b[0m: "
     ]
    },
    {
     "data": {
      "image/png": "[encoded data removed]",
      "text/plain": [
       "<Figure size 432x288 with 2 Axes>"
      ]
     },
     "metadata": {
      "needs_background": "light"
     },
     "output_type": "display_data"
    }
   ],
   "source": [
    "import matplotlib\n",
    "matplotlib.use('Agg')\n",
    "load_file = load_whole_data(path = \"C:/Users/Marc/Desktop/model_data\",\n",
    "                                  ind = range(1, 226 + 1))\n",
    "\n",
    "file_loader = torch.utils.data.DataLoader(load_file,\n",
    "                                          batch_size=1,\n",
    "                                          shuffle=False,\n",
    "                                          num_workers=0)\n",
    "\n",
    "f_nr = 1\n",
    "tot_sr_nr = 1\n",
    "for file in file_loader:\n",
    "    print(f_nr)\n",
    "    sr_nr = 1\n",
    "    for i in range(file[0].shape[1]):\n",
    "        figure, axis = plt.subplots(2, 1)\n",
    "        axis[0].plot(file[0][0][i])\n",
    "        axis[0].set_title(f\"file_nr: {f_nr} with channel: {sr_nr}\")\n",
    "        axis[1].plot(file[1][0][i], \"b\")\n",
    "        \n",
    "        plt.savefig(f\"C:/Users/Marc/Desktop/plots/graf ({tot_sr_nr}).jpg\")\n",
    "        plt.close()\n",
    "        tot_sr_nr += 1\n",
    "        sr_nr += 1\n",
    "    f_nr += 1"
   ]
  },
  {
   "cell_type": "code",
   "execution_count": 9,
   "id": "6584ac94-737b-449c-8663-51fb5da85781",
   "metadata": {},
   "outputs": [
    {
     "name": "stdout",
     "output_type": "stream",
     "text": [
      "False\n"
     ]
    },
    {
     "data": {
      "image/png": "[encoded data removed]",
      "text/plain": [
       "<Figure size 432x288 with 2 Axes>"
      ]
     },
     "metadata": {
      "needs_background": "light"
     },
     "output_type": "display_data"
    }
   ],
   "source": [
    "load_file = load_whole_data(path = \"C:/Users/Marc/Desktop/model_data\",\n",
    "                                  ind = range(3, 226 + 1))\n",
    "\n",
    "file_loader = torch.utils.data.DataLoader(load_file,\n",
    "                                          batch_size=1,\n",
    "                                          shuffle=False,\n",
    "                                          num_workers=0)\n",
    "\n",
    "for file in file_loader:\n",
    "    figure, axis = plt.subplots(2, 1)\n",
    "\n",
    "    # The artifacts on channel: FP1-F7\n",
    "    axis[0].plot(file[0][0][0])\n",
    "    axis[0].axes.xaxis.set_visible(False) # remove digits on x-axis\n",
    "    \n",
    "    # The artifacts on channel: F7-T3\n",
    "    axis[1].plot(file[1][0][0], \"b\")\n",
    "    axis[1].axes.xaxis.set_visible(False) # remove digits on x-axis\n",
    "    \n",
    "    ls = []\n",
    "    \n",
    "    for i in range(1, 4):\n",
    "    \n",
    "        ls.append(all(file[1][0][0] == file[1][0][i]))\n",
    "    \n",
    "    print(all(ls))\n",
    "    plt.show()\n",
    "    break"
   ]
  },
  {
   "cell_type": "code",
   "execution_count": null,
   "id": "058cd52f-0c03-4f94-a553-1df11dc87ce4",
   "metadata": {},
   "outputs": [],
   "source": [
    "load_file = load_whole_data(path = \"C:/Users/Marc/Desktop/model_data\",\n",
    "                                  ind = range(1, 226 + 1))\n",
    "\n",
    "file_loader = torch.utils.data.DataLoader(load_file,\n",
    "                                          batch_size=1,\n",
    "                                          shuffle=False,\n",
    "                                          num_workers=0)\n",
    "\n",
    "i = 1\n",
    "for file in file_loader:\n",
    "    print(i)\n",
    "    figure, axis = plt.subplots(2, 1)\n",
    "\n",
    "    # The artifacts on channel: FP1-F7\n",
    "    axis[0].plot(file[0][0][0])\n",
    "    axis[0].axes.xaxis.set_visible(False) # remove digits on x-axis\n",
    "    \n",
    "    # The artifacts on channel: F7-T3\n",
    "    axis[1].plot(file[1][0][0], \"b\")\n",
    "    axis[1].axes.xaxis.set_visible(False) # remove digits on x-axis\n",
    "    \n",
    "    plt.show()\n",
    "    \n",
    "    i += 1\n",
    "\n",
    "    #input(\"ind:\")\n",
    "\n",
    "    #for i in range(file[0].shape[1]):\n",
    "    #    figure, axis = plt.subplots(2, 1)\n",
    "    #    # The artifacts on channel: FP1-F7\n",
    "    #    axis[0].plot(file[0][0][0])\n",
    "    #    axis[0].axes.xaxis.set_visible(False) # remove digits on x-axis\n",
    "    #    # The artifacts on channel: F7-T3\n",
    "    #    axis[1].plot(file[1][0][0], \"b\")\n",
    "    #    axis[1].axes.xaxis.set_visible(False) # remove digits on x-axis\n",
    "    #    \n",
    "    #    plt.show()\n",
    "    #    \n",
    "    #    input(\"ind:\")"
   ]
  },
  {
   "cell_type": "code",
   "execution_count": null,
   "id": "6509e0c3-83c5-4075-acb3-86e3a89346d6",
   "metadata": {},
   "outputs": [],
   "source": [
    "for file in file_loader:\n",
    "    if False:\n",
    "        figure, axis = plt.subplots(8, 1)\n",
    "\n",
    "        # The artifacts on channel: FP1-F7\n",
    "        axis[0].plot(file[0][0][0])\n",
    "        axis[0].axes.xaxis.set_visible(False) # remove digits on x-axis\n",
    "\n",
    "        # The artifacts on channel: F7-T3\n",
    "        axis[1].plot(file[1][0][0], \"b\")\n",
    "        axis[1].axes.xaxis.set_visible(False) # remove digits on x-axis\n",
    "\n",
    "        axis[2].plot(file[0][0][1])\n",
    "        axis[2].axes.xaxis.set_visible(False) # remove digits on x-axis\n",
    "\n",
    "        # The artifacts on channel: F7-T3\n",
    "        axis[3].plot(file[1][0][1], \"b\")\n",
    "        axis[3].axes.xaxis.set_visible(False) # remove digits on x-axis\n",
    "\n",
    "\n",
    "        axis[4].plot(file[0][0][2])\n",
    "        axis[4].axes.xaxis.set_visible(False) # remove digits on x-axis\n",
    "\n",
    "        # The artifacts on channel: F7-T3\n",
    "        axis[5].plot(file[1][0][2], \"b\")\n",
    "        axis[5].axes.xaxis.set_visible(False) # remove digits on x-axis\n",
    "\n",
    "        axis[6].plot(file[0][0][3])\n",
    "        axis[6].axes.xaxis.set_visible(False) # remove digits on x-axis\n",
    "\n",
    "        # The artifacts on channel: F7-T3\n",
    "        axis[7].plot(file[1][0][3], \"b\")\n",
    "        axis[7].axes.xaxis.set_visible(False) # remove digits on x-axis\n",
    "\n",
    "        plt.show()"
   ]
  },
  {
   "cell_type": "code",
   "execution_count": null,
   "id": "2f73a877-1310-4524-8e6c-07b5dd8bc1b9",
   "metadata": {},
   "outputs": [],
   "source": []
  },
  {
   "cell_type": "code",
   "execution_count": null,
   "id": "92cf6bf2-c915-49ae-b2a3-1f9e7cd88b3c",
   "metadata": {},
   "outputs": [],
   "source": []
  }
 ],
 "metadata": {
  "kernelspec": {
   "display_name": "Python 3 (ipykernel)",
   "language": "python",
   "name": "python3"
  },
  "language_info": {
   "codemirror_mode": {
    "name": "ipython",
    "version": 3
   },
   "file_extension": ".py",
   "mimetype": "text/x-python",
   "name": "python",
   "nbconvert_exporter": "python",
   "pygments_lexer": "ipython3",
   "version": "3.9.6"
  }
 },
 "nbformat": 4,
 "nbformat_minor": 5
}
